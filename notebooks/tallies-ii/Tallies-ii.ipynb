{
 "cells": [
  {
   "cell_type": "markdown",
   "id": "f19a3dc7-f423-4e8c-9673-b79a2de4ca37",
   "metadata": {},
   "source": [
    "# Advanced Tallies in OpenMC"
   ]
  },
  {
   "cell_type": "code",
   "execution_count": null,
   "id": "5b9969e1-ebbc-4d29-bd26-96ead5926fe0",
   "metadata": {},
   "outputs": [],
   "source": [
    "import openmc\n",
    "import openmc.lib\n",
    "import numpy as np \n",
    "from matplotlib import pyplot as plt"
   ]
  },
  {
   "cell_type": "markdown",
   "id": "bcbfb574-540d-44a8-948a-cc15a785f2eb",
   "metadata": {},
   "source": [
    "# Model Setup"
   ]
  },
  {
   "cell_type": "markdown",
   "id": "4f72ba30-11cc-4842-a83b-58eb717dfdc9",
   "metadata": {},
   "source": [
    "In this section we'll look at constructing more advanced tallies with OpenMC. A model that warrants advanced tallies is necessarily more complex than a pincell, so we're going to use the built-in PWR assembly model in OpenMC."
   ]
  },
  {
   "cell_type": "code",
   "execution_count": null,
   "id": "dd77bd70-85f5-4e14-b6dd-00548acc759a",
   "metadata": {},
   "outputs": [],
   "source": [
    "assembly_model = openmc.examples.pwr_assembly()"
   ]
  },
  {
   "cell_type": "markdown",
   "id": "3e2ef5a5-3e98-4324-8fb0-99e74070e614",
   "metadata": {},
   "source": [
    "# Mesh Tallies"
   ]
  },
  {
   "cell_type": "markdown",
   "id": "bb3a2175-3fee-4351-805a-ceafa1f59636",
   "metadata": {},
   "source": [
    "OpenMC can tally results onto regular, rectilinear, cylindrical, spherical, and unstructured meshes. Here we'll look at how to setup a regular mesh tally and visualize it for this assembly model. Again, it will be useful to have the bounding box of this model to setup the mesh."
   ]
  },
  {
   "cell_type": "code",
   "execution_count": null,
   "id": "09c2192b-1373-4677-bacf-a82eb339d81b",
   "metadata": {},
   "outputs": [],
   "source": []
  },
  {
   "cell_type": "markdown",
   "id": "ef437155-241b-4279-8704-9a0676dcf9b5",
   "metadata": {},
   "source": [
    "## Tally Triggers"
   ]
  },
  {
   "cell_type": "markdown",
   "id": "1da5d4db-134d-4f92-bd2c-a020284beae6",
   "metadata": {},
   "source": [
    "\n",
    "OpenMC has the ability to halt a simulation when a certain condition on the tally is met. These conditions can be set using the variance, standardn deviation, or relative error. Here we'll tell the simulation to stop when the our heating value has converged to a relative error of less than 20%."
   ]
  },
  {
   "cell_type": "code",
   "execution_count": null,
   "id": "109e1428-5887-481b-a19a-38a511ac489a",
   "metadata": {},
   "outputs": [],
   "source": []
  },
  {
   "cell_type": "markdown",
   "id": "9590ff9f-f69a-49d0-a15f-ef6d3ee7957e",
   "metadata": {},
   "source": [
    "## Distribcells"
   ]
  },
  {
   "cell_type": "markdown",
   "id": "fa9ccfeb-b493-4c03-b2cd-5b0964b01682",
   "metadata": {},
   "source": [
    "So this gives us a fairly good idea of what the flux and power distributions look like in this model, but we often want to know the per-pin power generation rate -- something that is hard to post-process with the tallies above. We can use a distribcell tally to produce this information easily.\n",
    "\n",
    "First, we'll want to create a distribcell tally for the cell containing our fuel material. Based on the list above, our fuel material has the name \"Fuel\". We'll use that to identify the cell we want to setup a distribcell tally for."
   ]
  },
  {
   "cell_type": "code",
   "execution_count": null,
   "id": "508586c7-da6f-468e-a694-7f889e005624",
   "metadata": {},
   "outputs": [],
   "source": []
  },
  {
   "cell_type": "markdown",
   "id": "2e489d5b-ed66-4707-a1f3-7ad885f62db5",
   "metadata": {},
   "source": [
    "# Tally Arithmetic"
   ]
  },
  {
   "cell_type": "markdown",
   "id": "7f97e9c1-d814-45ef-acde-40f81763df36",
   "metadata": {},
   "source": [
    "There are many cases in which it is useful to combine the results from different tallies. We've already seen this when computing normalization factors for tallies. OpenMC has the ability to combine (add, subtract, multiply, etc.) tallies using the Python API in order to create _derived tallies_. Since no covariance information is obtained in OpenMC, it is assumed that tallies are completely independent of one another when propagating uncertainties."
   ]
  },
  {
   "cell_type": "code",
   "execution_count": null,
   "id": "531e1c72-cdf3-4cdf-bf47-f06925a5dcef",
   "metadata": {},
   "outputs": [],
   "source": []
  }
 ],
 "metadata": {
  "kernelspec": {
   "display_name": "Python 3 (ipykernel)",
   "language": "python",
   "name": "python3"
  },
  "language_info": {
   "codemirror_mode": {
    "name": "ipython",
    "version": 3
   },
   "file_extension": ".py",
   "mimetype": "text/x-python",
   "name": "python",
   "nbconvert_exporter": "python",
   "pygments_lexer": "ipython3",
   "version": "3.10.6"
  }
 },
 "nbformat": 4,
 "nbformat_minor": 5
}
