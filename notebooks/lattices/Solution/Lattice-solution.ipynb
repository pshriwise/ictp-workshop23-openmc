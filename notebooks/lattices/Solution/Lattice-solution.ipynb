{
 "cells": [
  {
   "cell_type": "markdown",
   "metadata": {},
   "source": [
    "# Universes\n",
    "\n",
    "A universe is a collection of cells that can be used as a repeatable unit in the geometry. At a minimum, there must be one \"root\" universe (say, named `root`), which gets passed to `openmc.Geometry(root)`. But you can also use universes to repeat a collection of cells multiple times throughout a geometry. Here, we will explore some basic features of universes.\n",
    "\n",
    "We'll start by making a universe which looks similar to the pincell we built earlier - say, a cylinder of UO2 enclosed by an infinite region of water. First, we set up our materials and create our geometry."
   ]
  },
  {
   "cell_type": "code",
   "execution_count": null,
   "metadata": {},
   "outputs": [],
   "source": [
    "import openmc"
   ]
  },
  {
   "cell_type": "code",
   "execution_count": null,
   "metadata": {},
   "outputs": [],
   "source": [
    "uo2 = openmc.Material()\n",
    "uo2.add_element('U', 1.0, enrichment=4.0)\n",
    "uo2.add_element('O', 2.0)\n",
    "uo2.set_density('g/cc', 11.0)\n",
    "\n",
    "water = openmc.Material()\n",
    "water.add_element('H', 2.0)\n",
    "water.add_element('O', 1.0)\n",
    "water.set_density('g/cc', 1.0)\n",
    "\n",
    "materials = openmc.Materials()\n",
    "materials.append(uo2)\n",
    "materials.append(water)\n",
    "materials.export_to_xml()"
   ]
  },
  {
   "cell_type": "code",
   "execution_count": null,
   "metadata": {},
   "outputs": [],
   "source": [
    "pin_surface = openmc.ZCylinder(x0=0.0, y0=0.0, r=1.0)\n",
    "inside_pin = -pin_surface\n",
    "\n",
    "pin_cell = openmc.Cell(region=inside_pin, fill=uo2)\n",
    "outside_cell = openmc.Cell(region=~inside_pin, fill=water)"
   ]
  },
  {
   "cell_type": "code",
   "execution_count": null,
   "metadata": {},
   "outputs": [],
   "source": [
    "universe = openmc.Universe()\n",
    "universe.add_cells([pin_cell, outside_cell])"
   ]
  },
  {
   "cell_type": "markdown",
   "metadata": {},
   "source": [
    "We have created a universe containing a pin, enclosed in an infinite medium of water. Now let's suppose that I want to fill this universe into an enclosing cell, a cylinder of radius 5 cm. Let's first create this cylinder, and then we will fill it with our `universe`."
   ]
  },
  {
   "cell_type": "code",
   "execution_count": null,
   "metadata": {},
   "outputs": [],
   "source": [
    "big_cylinder = openmc.ZCylinder(x0=0.0, y0=0.0,r=5.0)\n",
    "big_cell = openmc.Cell()\n",
    "big_cell.region = -big_cylinder\n",
    "big_cell.fill = universe"
   ]
  },
  {
   "cell_type": "markdown",
   "metadata": {},
   "source": [
    "Let's take a look at our geometry. In order to visualize at this stage, we need to create a universe from our `big_cell`."
   ]
  },
  {
   "cell_type": "code",
   "execution_count": null,
   "metadata": {},
   "outputs": [],
   "source": [
    "big_universe = openmc.Universe(cells=[big_cell])\n",
    "\n",
    "big_universe.plot(width=(10.0, 10.0))"
   ]
  },
  {
   "cell_type": "markdown",
   "metadata": {},
   "source": [
    "We can see that our `big_cell`, the large cylinder, has been filled with the `universe` we declared earlier. Let's increase the complexity a bit to understand how this filling works. What if the cylinder of UO2 in our `universe` is not located at the origin, but is instead shifted to a different position?"
   ]
  },
  {
   "cell_type": "code",
   "execution_count": null,
   "metadata": {},
   "outputs": [],
   "source": [
    "pin_surface.x0 = 1.0\n",
    "pin_surface.y0 = 1.5\n",
    "\n",
    "big_universe.plot(width=(10.0, 10.0))"
   ]
  },
  {
   "cell_type": "markdown",
   "metadata": {},
   "source": [
    "We see that when we fill a universe inside of another cell, that there's (by default) no transformation of coordinates. You can shift the position of the universe filling a cell with the `Cell.translation` attribute. There are similar adjustments you can make, like rotations."
   ]
  },
  {
   "cell_type": "code",
   "execution_count": null,
   "metadata": {},
   "outputs": [],
   "source": [
    "big_cell.translation = [-1.0, 0.0, 0.0]\n",
    "big_universe.plot(width=(10.0, 10.0))"
   ]
  },
  {
   "cell_type": "markdown",
   "metadata": {},
   "source": [
    "# Lattices\n",
    "\n",
    "Lattices are a convenient way to (i) repeat a universe multiple times in space, while (ii) automatically translating that universe's origin to different positions in space."
   ]
  },
  {
   "cell_type": "code",
   "execution_count": null,
   "metadata": {
    "jupyter": {
     "outputs_hidden": false
    }
   },
   "outputs": [],
   "source": [
    "import openmc\n",
    "import numpy as np\n",
    "from IPython.display import Image"
   ]
  },
  {
   "cell_type": "markdown",
   "metadata": {},
   "source": [
    "In this section, we will build one of the assemblies from the BEAVRS benchmark.  This is a PWR assembly with fuel pins, guide tubes, and borosilicate glass burnable poisons.  A diagram of the assembly is plotted below."
   ]
  },
  {
   "cell_type": "code",
   "execution_count": null,
   "metadata": {
    "jupyter": {
     "outputs_hidden": false
    }
   },
   "outputs": [],
   "source": [
    "Image('assembly_diagram.png')"
   ]
  },
  {
   "cell_type": "markdown",
   "metadata": {},
   "source": [
    "## Materials\n",
    "\n",
    "Again we have UO<sub>2</sub>, Zr, and H<sub>2</sub>O.  We also have borosilicate glass (pyrex).  This time we'll use the shortcut for defining enriched uranium."
   ]
  },
  {
   "cell_type": "code",
   "execution_count": null,
   "metadata": {
    "jupyter": {
     "outputs_hidden": false
    }
   },
   "outputs": [],
   "source": [
    "uo2 = openmc.Material(name='uo2')\n",
    "uo2.add_element('U', 1.0, enrichment=3.0)\n",
    "uo2.add_nuclide('O16', 2.0)\n",
    "uo2.set_density('g/cm3', 10.0)\n",
    "\n",
    "zirconium = openmc.Material(name='zirconium')\n",
    "zirconium.add_element('Zr', 1.0)\n",
    "zirconium.set_density('g/cm3', 6.6)\n",
    "\n",
    "water = openmc.Material(name='water')\n",
    "water.add_nuclide('H1', 2)\n",
    "water.add_nuclide('O16', 1)\n",
    "water.set_density('g/cm3', 0.7)\n",
    "water.add_s_alpha_beta('c_H_in_H2O')\n",
    "\n",
    "pyrex = openmc.Material(name='pyrex')\n",
    "pyrex.add_element('B', 0.49)\n",
    "pyrex.add_element('O', 4.7)\n",
    "pyrex.add_element('Al', 0.17)\n",
    "pyrex.add_element('Si', 1.8)\n",
    "pyrex.set_density('g/cm3', 2.26)"
   ]
  },
  {
   "cell_type": "code",
   "execution_count": null,
   "metadata": {
    "jupyter": {
     "outputs_hidden": false
    }
   },
   "outputs": [],
   "source": [
    "materials = openmc.Materials((uo2, zirconium, water, pyrex))\n",
    "materials.export_to_xml()"
   ]
  },
  {
   "cell_type": "markdown",
   "metadata": {},
   "source": [
    "Later in this example, we will make a bunch of geometry plots.  By default, every region is colored randomly and the results are Now that we know our materials, let's define a \"color specification\" to use when plotting our geometry."
   ]
  },
  {
   "cell_type": "code",
   "execution_count": null,
   "metadata": {
    "tags": []
   },
   "outputs": [],
   "source": [
    "colors = {\n",
    "    water: 'lightblue',\n",
    "    zirconium: 'gray',\n",
    "    pyrex: 'green',\n",
    "    uo2: 'red'\n",
    "}"
   ]
  },
  {
   "cell_type": "markdown",
   "metadata": {},
   "source": [
    "## Fuel pin\n",
    "\n",
    "This is similar to the pincell example, but we don't have boundary conditions.  This `fuel_pin` universe extends to infinity"
   ]
  },
  {
   "cell_type": "code",
   "execution_count": null,
   "metadata": {
    "jupyter": {
     "outputs_hidden": false
    }
   },
   "outputs": [],
   "source": [
    "pitch = 1.26\n",
    "fuel_or = openmc.ZCylinder(r=0.39)\n",
    "clad_ir = openmc.ZCylinder(r=0.40)\n",
    "clad_or = openmc.ZCylinder(r=0.46)\n",
    "\n",
    "fuel = openmc.Cell(name='fuel', fill=uo2, region=-fuel_or)\n",
    "gap = openmc.Cell(name='air gap', region=+fuel_or & -clad_ir)\n",
    "clad = openmc.Cell(name='clad', fill=zirconium, region=+clad_ir & -clad_or)\n",
    "moderator = openmc.Cell(name='moderator', fill=water, region=+clad_or)\n",
    "\n",
    "fuel_pin = openmc.Universe(cells=(fuel, gap, clad, moderator))"
   ]
  },
  {
   "cell_type": "markdown",
   "metadata": {},
   "source": [
    "When building a complex geometry, it is helpful to plot each universe as you go along.  Let's plot this pincell now"
   ]
  },
  {
   "cell_type": "code",
   "execution_count": null,
   "metadata": {
    "jupyter": {
     "outputs_hidden": false
    }
   },
   "outputs": [],
   "source": [
    "fuel_pin.plot(width=(pitch, pitch), color_by='material', colors=colors)"
   ]
  },
  {
   "cell_type": "markdown",
   "metadata": {},
   "source": [
    "## Guide tube"
   ]
  },
  {
   "cell_type": "markdown",
   "metadata": {},
   "source": [
    "The guide tube has the following specs:\n",
    "\n",
    "- Clad IR = 0.56 cm\n",
    "- Clad OR = 0.60 cm\n",
    "- Inside the clad is water\n",
    "- The clad is zirconium\n",
    "- Outside the clad is water"
   ]
  },
  {
   "cell_type": "code",
   "execution_count": null,
   "metadata": {
    "jupyter": {
     "outputs_hidden": false
    }
   },
   "outputs": [],
   "source": [
    "guide_clad_ir = openmc.ZCylinder(r=0.56)\n",
    "guide_clad_or = openmc.ZCylinder(r=0.60)\n",
    "\n",
    "guide_inner = openmc.Cell(fill=water, region=-guide_clad_ir)\n",
    "guide_clad = openmc.Cell(fill=zirconium, region=+guide_clad_ir & -guide_clad_or)\n",
    "guide_outer = openmc.Cell(fill=water, region=+guide_clad_or)\n",
    "\n",
    "guide_tube = openmc.Universe(cells=(guide_inner, guide_clad, guide_outer))"
   ]
  },
  {
   "cell_type": "code",
   "execution_count": null,
   "metadata": {
    "jupyter": {
     "outputs_hidden": false
    }
   },
   "outputs": [],
   "source": [
    "guide_tube.plot(width=(pitch, pitch), color_by='material', colors=colors)"
   ]
  },
  {
   "cell_type": "markdown",
   "metadata": {},
   "source": [
    "## Pyrex burnable poison"
   ]
  },
  {
   "cell_type": "markdown",
   "metadata": {},
   "source": [
    "Now you need to model the burnable poison pin. It has the following specs:\n",
    "\n",
    "- R < 0.21 cm, void\n",
    "- 0.21 cm < R < 0.23 cm, zirconium\n",
    "- 0.23 cm < R < 0.24 cm, void\n",
    "- 0.24 cm < R < 0.43 cm, pyrex\n",
    "- 0.43 cm < R < 0.44 cm, void\n",
    "- 0.44 cm < R < 0.48 cm, zirconium\n",
    "- 0.48 cm < R < 0.56 cm, water\n",
    "- 0.56 cm < R < 0.60 cm, zirconium\n",
    "- 0.60 cm < R, water\n",
    "\n",
    "For this, we're going to use some advanced features. First, we'll use a [list comprehension](https://docs.python.org/3/tutorial/datastructures.html#list-comprehensions), which is a way of creating a list in Python that embeds a `for` loop."
   ]
  },
  {
   "cell_type": "code",
   "execution_count": null,
   "metadata": {
    "jupyter": {
     "outputs_hidden": false
    }
   },
   "outputs": [],
   "source": [
    "# Define the cylinders which bound each radial zone.\n",
    "radii = [0.21, 0.23, 0.24, 0.43, 0.44, 0.48, 0.56, 0.60]\n",
    "cyls = [openmc.ZCylinder(r=r) for r in radii]"
   ]
  },
  {
   "cell_type": "markdown",
   "metadata": {},
   "source": [
    "To create this pin, we're going to use a function provided by OpenMC specifically for this purpose, `openmc.model.pin`."
   ]
  },
  {
   "cell_type": "code",
   "execution_count": null,
   "metadata": {
    "jupyter": {
     "outputs_hidden": false
    }
   },
   "outputs": [],
   "source": [
    "# Define materials from inner to outer\n",
    "mats = [None, zirconium, None, pyrex, None, zirconium, water, zirconium, water]\n",
    "\n",
    "# Create burnable pin universe given list of surfaces and list of materials\n",
    "burn = openmc.model.pin(cyls, mats)"
   ]
  },
  {
   "cell_type": "code",
   "execution_count": null,
   "metadata": {
    "jupyter": {
     "outputs_hidden": false
    }
   },
   "outputs": [],
   "source": [
    "burn.plot(width=(pitch, pitch), color_by='material', colors=colors)"
   ]
  },
  {
   "cell_type": "markdown",
   "metadata": {},
   "source": [
    "## Lattices in OpenMC\n",
    "\n",
    "OpenMC has `RectLattice` and `HexLattice` objects.  For our fuel assembly, we need to use `RectLattice`. Let's look at a simple one before we do the full assembly.\n",
    "\n",
    "First, we also need to define a universe that is all water."
   ]
  },
  {
   "cell_type": "code",
   "execution_count": null,
   "metadata": {
    "tags": []
   },
   "outputs": [],
   "source": [
    "moderator = openmc.Cell(fill=water)\n",
    "all_water = openmc.Universe(cells=[moderator])"
   ]
  },
  {
   "cell_type": "markdown",
   "metadata": {},
   "source": [
    "When creating a rectangular lattice, we need to define:\n",
    "\n",
    "1. The lower-left coordinates of the lattice (`.lower_left`)\n",
    "2. The size of each lattice element (`.pitch`)\n",
    "3. The 2D arrangement of universes (`.universes`)\n",
    "4. (_optionally_) A universe that is used outside of the defined region (`.outer`)"
   ]
  },
  {
   "cell_type": "code",
   "execution_count": null,
   "metadata": {
    "jupyter": {
     "outputs_hidden": false
    }
   },
   "outputs": [],
   "source": [
    "lattice = openmc.RectLattice()\n",
    "\n",
    "# Define the lower-left coordinates and size of lattice elements\n",
    "lattice.lower_left = (0., 0.)\n",
    "lattice.pitch = (pitch, pitch)\n",
    "\n",
    "# Now we specify what is actually inside the lattice.  This 2D lattice will be a\n",
    "# list of lists like\n",
    "# lattice.universes = [ [a1, a2, ...], [b1, b2, ...], ...]\n",
    "# The inner lists specify columns from left to right.  The outer lists specify\n",
    "# rows from top to bottom.\n",
    "lattice.universes = [\n",
    "    [fuel_pin,   fuel_pin],\n",
    "    [guide_tube, fuel_pin]\n",
    "]\n",
    "\n",
    "# We also should specify what is outside of the lattice.  In this case, it is\n",
    "# the infinite water universe.\n",
    "lattice.outer = all_water"
   ]
  },
  {
   "cell_type": "markdown",
   "metadata": {},
   "source": [
    "To plot the lattice, we need to put it in a universe. For this, we'll create a single cell filled with the lattice, and then put that single cell inside a universe to plot:"
   ]
  },
  {
   "cell_type": "code",
   "execution_count": null,
   "metadata": {
    "jupyter": {
     "outputs_hidden": false
    }
   },
   "outputs": [],
   "source": [
    "example_univ = openmc.Universe(cells=[openmc.Cell(fill=lattice)])\n",
    "\n",
    "plot_args = {\n",
    "    'width': (3*pitch, 3*pitch),\n",
    "    'origin': (pitch, pitch, 0),\n",
    "    'color_by': 'material',\n",
    "    'colors': colors\n",
    "}\n",
    "example_univ.plot(**plot_args)"
   ]
  },
  {
   "cell_type": "markdown",
   "metadata": {},
   "source": [
    "## What exactly does `outer` mean?\n",
    "\n",
    "In the previous section, we set the lattice outer universe to a universe containing a single cell with only water in it. To get a better sense of what the outer universe does, let's change the outer universe to the guide tube universe:"
   ]
  },
  {
   "cell_type": "code",
   "execution_count": null,
   "metadata": {
    "jupyter": {
     "outputs_hidden": false
    }
   },
   "outputs": [],
   "source": [
    "lattice.outer = guide_tube\n",
    "example_univ.plot(**plot_args)"
   ]
  },
  {
   "cell_type": "markdown",
   "metadata": {},
   "source": [
    "## The BEAVRS assembly"
   ]
  },
  {
   "cell_type": "code",
   "execution_count": null,
   "metadata": {
    "jupyter": {
     "outputs_hidden": false
    }
   },
   "outputs": [],
   "source": [
    "Image('assembly_diagram.png')"
   ]
  },
  {
   "cell_type": "markdown",
   "metadata": {},
   "source": [
    "To make things a little easier, we'll create lists of (row, column) positions for the guide tubes and burnable poison rods:"
   ]
  },
  {
   "cell_type": "code",
   "execution_count": null,
   "metadata": {},
   "outputs": [],
   "source": [
    "guide_tube_positions = [\n",
    "    (2, 5), (2, 8), (2, 11),\n",
    "    (5, 2), (5, 5), (5, 8), (5, 11), (5, 14),\n",
    "    (8, 2), (8, 5), (8, 8), (8, 11), (8, 14),\n",
    "    (11, 2), (11, 5), (11, 8), (11, 11), (11, 14),\n",
    "    (14, 5), (14, 8), (14, 11)\n",
    "]\n",
    "\n",
    "burn_positions = [(3, 3), (3, 13), (13, 3), (13, 13)]    "
   ]
  },
  {
   "cell_type": "code",
   "execution_count": null,
   "metadata": {
    "jupyter": {
     "outputs_hidden": false
    }
   },
   "outputs": [],
   "source": [
    "lattice = openmc.RectLattice()\n",
    "\n",
    "lattice.pitch = (pitch, pitch)\n",
    "lattice.outer = all_water\n",
    "\n",
    "# I want (x0, y0) = (0, 0) to be the center of the instrument tube so that means\n",
    "# the lower-left will be -half a pin pitch in x and y.\n",
    "assembly_pitch = 17*pitch\n",
    "lattice.lower_left = (-assembly_pitch/2, -assembly_pitch/2)\n",
    "\n",
    "# Most of the lattice positions are fuel pins so rather than type all of those\n",
    "# out, we use a list comprehension to start with a 9x9 array of fuel.\n",
    "lattice.universes = [[fuel_pin] * 17] * 17\n",
    "\n",
    "# Or we can take advantage of numpy!\n",
    "lattice.universes = np.tile(fuel_pin, (17, 17))\n",
    "\n",
    "# Replace the fuel pins with guide tubes in appropriate places\n",
    "for row, col in guide_tube_positions:\n",
    "    lattice.universes[row, col] = guide_tube\n",
    "    \n",
    "# Replace the fuel pins with burnable absorber pins in appropriate places\n",
    "for row, col in burn_positions:\n",
    "    lattice.universes[row, col] = burn"
   ]
  },
  {
   "cell_type": "markdown",
   "metadata": {},
   "source": [
    "Now we just have to add the boundary conditions and root universe to finish the geometry. To create a box containing the lattice, we'll use the `rectangular_prism` function:"
   ]
  },
  {
   "cell_type": "code",
   "execution_count": null,
   "metadata": {
    "jupyter": {
     "outputs_hidden": false
    }
   },
   "outputs": [],
   "source": [
    "box = openmc.rectangular_prism(assembly_pitch, assembly_pitch, boundary_type='reflective')\n",
    "main_cell = openmc.Cell(fill=lattice, region=box)"
   ]
  },
  {
   "cell_type": "code",
   "execution_count": null,
   "metadata": {
    "jupyter": {
     "outputs_hidden": false
    }
   },
   "outputs": [],
   "source": [
    "main_univ = openmc.Universe(cells=(main_cell,))\n",
    "main_univ.plot(\n",
    "    width=(assembly_pitch, assembly_pitch),\n",
    "    pixels=(500, 500),\n",
    "    color_by='material',\n",
    "    colors=colors\n",
    ")"
   ]
  },
  {
   "cell_type": "code",
   "execution_count": null,
   "metadata": {
    "tags": []
   },
   "outputs": [],
   "source": [
    "geom = openmc.Geometry(main_univ)\n",
    "geom.export_to_xml()"
   ]
  },
  {
   "cell_type": "code",
   "execution_count": null,
   "metadata": {
    "jupyter": {
     "outputs_hidden": false
    }
   },
   "outputs": [],
   "source": [
    "settings = openmc.Settings()\n",
    "\n",
    "spatial_dist = openmc.stats.Box(\n",
    "    (-assembly_pitch/2, -assembly_pitch/2, 0.0),\n",
    "    (assembly_pitch/2, assembly_pitch/2, 0.0)\n",
    ")\n",
    "settings.source = openmc.Source(space=spatial_dist)\n",
    "settings.batches = 50\n",
    "settings.inactive = 10\n",
    "settings.particles = 1000\n",
    "settings.export_to_xml()"
   ]
  },
  {
   "cell_type": "code",
   "execution_count": null,
   "metadata": {
    "jupyter": {
     "outputs_hidden": false
    },
    "scrolled": true
   },
   "outputs": [],
   "source": [
    "openmc.run()"
   ]
  },
  {
   "cell_type": "markdown",
   "metadata": {},
   "source": [
    "## Hexagonal Lattices\n",
    "\n",
    "OpenMC also allows you to define hexagonal lattices. They are a little trickier, but as we'll see there are some helper methods that demystify how to assign universes."
   ]
  },
  {
   "cell_type": "code",
   "execution_count": null,
   "metadata": {
    "jupyter": {
     "outputs_hidden": false
    }
   },
   "outputs": [],
   "source": [
    "hex_lat = openmc.HexLattice()"
   ]
  },
  {
   "cell_type": "markdown",
   "metadata": {},
   "source": [
    "We need to set the `center` of the lattice, the `pitch`, an `outer` universe (which is applied to all lattice elements outside of those that are defined), and a list of `universes`. Let's start with the easy ones first. Note that for a 2D lattice, we only need to specify a single number for the pitch."
   ]
  },
  {
   "cell_type": "code",
   "execution_count": null,
   "metadata": {
    "jupyter": {
     "outputs_hidden": false
    }
   },
   "outputs": [],
   "source": [
    "hex_lat.center = (0., 0.)\n",
    "hex_lat.pitch = [pitch]\n",
    "hex_lat.outer = all_water"
   ]
  },
  {
   "cell_type": "markdown",
   "metadata": {},
   "source": [
    "Now we need to set the `universes` property on our lattice. It needs to be set to a list of lists of Universes, where each list of Universes corresponds to a ring of the lattice. The rings are ordered from outermost to innermost, and within each ring the indexing starts at the \"top\". To help visualize the proper indices, we can use the `show_indices()` helper method."
   ]
  },
  {
   "cell_type": "code",
   "execution_count": null,
   "metadata": {
    "jupyter": {
     "outputs_hidden": false
    }
   },
   "outputs": [],
   "source": [
    "print(hex_lat.show_indices(num_rings=3))"
   ]
  },
  {
   "cell_type": "markdown",
   "metadata": {},
   "source": [
    "Let's set up a lattice where the first element in each ring is the guide tube universe and all other elements are regular fuel pin universes. From the diagram above, we see that the outer ring has 12 elements, the middle ring has 6, and the innermost degenerate ring has a single element."
   ]
  },
  {
   "cell_type": "code",
   "execution_count": null,
   "metadata": {
    "jupyter": {
     "outputs_hidden": false
    }
   },
   "outputs": [],
   "source": [
    "# Reset material for fuel pin\n",
    "fuel.fill = uo2\n",
    "\n",
    "outer_ring = [guide_tube] + [fuel_pin]*11\n",
    "middle_ring = [guide_tube] + [fuel_pin]*5\n",
    "inner_ring = [guide_tube]\n",
    "hex_lat.universes = [outer_ring, middle_ring, inner_ring]\n",
    "print(hex_lat)"
   ]
  },
  {
   "cell_type": "markdown",
   "metadata": {},
   "source": [
    "Now let's put our lattice inside a circular cell."
   ]
  },
  {
   "cell_type": "code",
   "execution_count": null,
   "metadata": {},
   "outputs": [],
   "source": [
    "outer_radius = 4.0\n",
    "outer_surface = openmc.ZCylinder(r=outer_radius, boundary_type='vacuum')\n",
    "main_cell = openmc.Cell(fill=hex_lat, region=-outer_surface)\n",
    "root = openmc.Universe(cells=(main_cell,))"
   ]
  },
  {
   "cell_type": "code",
   "execution_count": null,
   "metadata": {
    "jupyter": {
     "outputs_hidden": false
    }
   },
   "outputs": [],
   "source": [
    "root.plot(width=(2*outer_radius, 2*outer_radius), pixels=(300, 300),\n",
    "          color_by='material', colors=colors)"
   ]
  },
  {
   "cell_type": "markdown",
   "metadata": {},
   "source": [
    "### Rotating the lattice\n",
    "\n",
    "Now let's say we want our hexagonal lattice orientated such that flat sides are parallel to the y-axis instead of the x-axis. This can be achieved by changing the orientation of the lattice from `'y'` to `'x'`:"
   ]
  },
  {
   "cell_type": "code",
   "execution_count": null,
   "metadata": {},
   "outputs": [],
   "source": [
    "hex_lat.orientation = 'x'"
   ]
  },
  {
   "cell_type": "markdown",
   "metadata": {},
   "source": [
    "Again, we can use the `show_indices` method to see the ordering of universes within each ring:"
   ]
  },
  {
   "cell_type": "code",
   "execution_count": null,
   "metadata": {},
   "outputs": [],
   "source": [
    "print(hex_lat.show_indices(3, orientation='x'))"
   ]
  },
  {
   "cell_type": "code",
   "execution_count": null,
   "metadata": {
    "jupyter": {
     "outputs_hidden": false
    }
   },
   "outputs": [],
   "source": [
    "root.plot(width=(2*outer_radius, 2*outer_radius), pixels=(300, 300),\n",
    "          color_by='material', colors=colors)"
   ]
  }
 ],
 "metadata": {
  "anaconda-cloud": {},
  "celltoolbar": "Raw Cell Format",
  "kernelspec": {
   "display_name": "Python 3 (ipykernel)",
   "language": "python",
   "name": "python3"
  },
  "language_info": {
   "codemirror_mode": {
    "name": "ipython",
    "version": 3
   },
   "file_extension": ".py",
   "mimetype": "text/x-python",
   "name": "python",
   "nbconvert_exporter": "python",
   "pygments_lexer": "ipython3",
   "version": "3.10.8"
  }
 },
 "nbformat": 4,
 "nbformat_minor": 4
}
