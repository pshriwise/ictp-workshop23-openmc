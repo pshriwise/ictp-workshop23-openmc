{
 "cells": [
  {
   "cell_type": "markdown",
   "id": "87d52f49-f915-4ef9-8174-dff4e4abc4c3",
   "metadata": {},
   "source": [
    "# OpenMC Tallies"
   ]
  },
  {
   "cell_type": "markdown",
   "id": "886ae4d1-1a57-4bff-a372-4398de06b25a",
   "metadata": {},
   "source": [
    "**Learning Objectives:**\n",
    "\n",
    "  - Understand application of filters and scores to create tallies\n",
    "  - Apply tallies to an OpenMC simulation\n",
    "  - Extract information from OpenMC statepoint files\n",
    "  - Understand tally units and normalization\n",
    "  - Plot tally results"
   ]
  },
  {
   "cell_type": "code",
   "execution_count": 1,
   "id": "11dc05ba-523c-4379-b293-a7a8e059312a",
   "metadata": {},
   "outputs": [],
   "source": [
    "import openmc\n",
    "import numpy as np\n",
    "from matplotlib import pyplot as plt"
   ]
  },
  {
   "cell_type": "markdown",
   "id": "bb1c4298-3506-4350-a690-d96a30a157e4",
   "metadata": {},
   "source": [
    "In this section, we'll be looking at how to extract custom information from an OpenMC simulation in what is known as a tally. A tally accumulates statistical information during the simulation about particles when they eneter regions of phase space specified on the tally. The limits of these regions are set by filters applied to the tally. Scores and nuclides can also be applied to tallies to indicate what type of information is kept about the particle (e.g. reaction types, flux, heat, etc.)."
   ]
  },
  {
   "cell_type": "markdown",
   "id": "42c30480-d8c6-4ccf-b735-f72ca9cbeef1",
   "metadata": {},
   "source": [
    "Any tally in OpenMC can be described with the following form:\n",
    "\n",
    "$$ \n",
    " X = \\underbrace{\\int d\\mathbf{r} \\int d\\mathbf{\\Omega} \\int\n",
    "    dE}_{\\text{filters}} \\underbrace{f(\\mathbf{r}, \\mathbf{\\Omega},\n",
    "    E)}_{\\text{scores}} \\psi (\\mathbf{r}, \\mathbf{\\Omega}, E)\n",
    "$$\n",
    "\n",
    "where filters set the limits of integration and the scoring function, $f$ is convolved with particle information (e.g. reaction type, current material, etc.)."
   ]
  },
  {
   "cell_type": "markdown",
   "id": "31f3c102-bbdf-4b64-a7a3-7188aa97333a",
   "metadata": {},
   "source": [
    "## Pincell Model\n",
    "\n",
    "First we'll need a model to examine. OpenMC has a few basic models that we can use to look at tally setup. The function below generates a 2-D PWR pincell model with reflective boundary conditions on the X-Y planes. This function provides an `openmc.Model` object, which ties together materials, geometry, tallies, and settings in a single Python object with a full problem description."
   ]
  },
  {
   "cell_type": "code",
   "execution_count": null,
   "id": "478c167d-67fc-4ab1-b4d2-dd16a7f56598",
   "metadata": {},
   "outputs": [],
   "source": []
  },
  {
   "cell_type": "markdown",
   "id": "e189175b-e2d5-46a8-91da-efccbdfcd396",
   "metadata": {},
   "source": [
    "To get a better idea of what this model looks like, we'll start by generating a plot and examining the materials used."
   ]
  },
  {
   "cell_type": "code",
   "execution_count": null,
   "id": "445a6951-cb06-407a-b3a2-0ef93f15e2c5",
   "metadata": {},
   "outputs": [],
   "source": []
  },
  {
   "cell_type": "markdown",
   "id": "da00ed28-db4a-4cd6-b611-d041a4817716",
   "metadata": {},
   "source": [
    "If we look at the tallies object on our pincell model, we'll see there aren't currently any custom tallies applied."
   ]
  },
  {
   "cell_type": "code",
   "execution_count": null,
   "id": "9df355a3-98e0-4880-9678-d059e319c49a",
   "metadata": {},
   "outputs": [],
   "source": []
  },
  {
   "cell_type": "markdown",
   "id": "7b73d0d7-51d6-4c1d-8c44-e4848cc08ab3",
   "metadata": {},
   "source": [
    "In this exercise we'll be adding tallies to perform a few different tasks:\n",
    "\n",
    "\n",
    "  **1. Determine the energy and heat produced per fission** \\\n",
    "  **2. Plot the flux spectrum of the pincell** \\\n",
    "  **3. Plot reaction types based on material**\n",
    "  \n",
    "To do this we'll use a variety of different filters applied to different tallies. "
   ]
  },
  {
   "cell_type": "markdown",
   "id": "50cb5506-e6f1-454f-9ef6-8415dd79efa2",
   "metadata": {},
   "source": [
    "## Task 1: Energy released per fission"
   ]
  },
  {
   "cell_type": "markdown",
   "id": "ef4698fe-3681-4708-bf70-d3112bdf0d1f",
   "metadata": {},
   "source": [
    "First, to determine the recoverable energy produced per fission we'll create a tally without filters to gather information on the fission reaction rate (\"`fission`\") and recoverable fission energy (\"`kappa-fission`\"). Because we want this information talllied throughout the model, a \"global\" tally, no filters need to be applied.\n",
    "\n"
   ]
  },
  {
   "cell_type": "markdown",
   "id": "2be29691-17a2-411d-a235-aa79c4ef0b21",
   "metadata": {},
   "source": [
    "<div class=\"alert alert-block alert-info\">\n",
    "A full list of scores and their meanings can be found <a href=https://docs.openmc.org/en/stable/usersguide/tallies.html#scores >here</a>.\n",
    "</div>"
   ]
  },
  {
   "cell_type": "code",
   "execution_count": null,
   "id": "2824048b-c114-414d-bfb9-789f934677b3",
   "metadata": {},
   "outputs": [],
   "source": []
  },
  {
   "cell_type": "markdown",
   "id": "6f7f618b-0406-49be-a6ad-13ed784e05c0",
   "metadata": {},
   "source": [
    "\n",
    "After adjusting the default settings for number of particles and batches on the model we'll run it and examine the data."
   ]
  },
  {
   "cell_type": "markdown",
   "id": "038ed849-0495-4fa4-9f85-51c9683d8526",
   "metadata": {},
   "source": [
    "If we list our current directory, we see that several new files have been created as a result of this run: `summary.h5`, `tallies.out`, and `statepoint.50.h5`. The summary file contains information about the simulation's setup (geometry, materials, meshes, etc.) in an HDF5 format. The `tallies.out` file contains a text output of all user-specified tallies for the simulation."
   ]
  },
  {
   "cell_type": "code",
   "execution_count": null,
   "id": "550e3f8a-48c2-4628-8452-9598c70822d8",
   "metadata": {},
   "outputs": [],
   "source": []
  },
  {
   "cell_type": "markdown",
   "id": "1ff60bff-aeb0-496c-b656-d712c5778045",
   "metadata": {},
   "source": [
    "This can be useful to quickly look at simple tally results, but isn't a great format to post-process simulation data. For that we'll look to the statepoint file."
   ]
  },
  {
   "cell_type": "markdown",
   "id": "37c313ed-71d9-40cf-8e6b-ab4bd337d518",
   "metadata": {},
   "source": [
    "The statepoint file contains information about simulation results including tally specifications and data. The location of this statepoint file was provided to us by the `pincell_model.run()` command."
   ]
  },
  {
   "cell_type": "code",
   "execution_count": null,
   "id": "125b43c0-89b8-4987-ae95-beda6ea97fde",
   "metadata": {},
   "outputs": [],
   "source": []
  },
  {
   "cell_type": "markdown",
   "id": "99eed91b-5e91-4320-8e7a-51c68c28f4a6",
   "metadata": {},
   "source": [
    "To extract information from the statepoint file we'll create an `openmc.StatePoint` object. The `statepoint.get_tally` function will search for tallies by scores, filters, nuclides, ids, and return the closest match. Exact matches can be speficied as well."
   ]
  },
  {
   "cell_type": "code",
   "execution_count": null,
   "id": "4f013162-e763-4ec1-94b3-0c7f87af97b0",
   "metadata": {},
   "outputs": [],
   "source": []
  },
  {
   "cell_type": "markdown",
   "id": "de12a615-a9d1-4917-a80b-c75a1226797f",
   "metadata": {},
   "source": [
    "If we print the tally objects returned, we see that they indeed match the tally specification we generated above."
   ]
  },
  {
   "cell_type": "markdown",
   "id": "2e102428-a43f-4dd7-8f27-84abf9f7ea67",
   "metadata": {
    "tags": []
   },
   "source": [
    "<div class=\"alert alert-block alert-info\">\n",
    "<b>A quick aside on how statepoint objects interact with summary files:</b>\n",
    "\n",
    "\n",
    "The `openmc.statepoint` object will read information from the `summary.h5` file if one is present, keeping that file open in the Python interpreter. The open `summary.h5` file can interfere with the initialization of subsequent OpenMC simulations. It is recommended that information be extracted from statepoints within a [context manager](https://book.pythontips.com/en/latest/context_managers.html) as we do here. Alternatively, making sure to call the `openmc.StatePoint.close` method will work also. For more details please look to the [relevant section in the user's guide](https://docs.openmc.org/en/stable/usersguide/troubleshoot.html#runtimeerror-failed-to-open-hdf5-file-with-mode-w-summary-h5).   \n",
    "</div>\n",
    "\n"
   ]
  },
  {
   "cell_type": "markdown",
   "id": "eade3a16-86ce-4717-a0ef-c403e9bce2fe",
   "metadata": {},
   "source": [
    "To compute the energy released per fission event, we can simply take the tallied energy released per fission and divide it by the fission rate."
   ]
  },
  {
   "cell_type": "code",
   "execution_count": null,
   "id": "915366a5-733b-4781-ae7e-85f6aa448247",
   "metadata": {},
   "outputs": [],
   "source": []
  },
  {
   "cell_type": "markdown",
   "id": "ccb90061-c037-4fb6-ad1d-25056f679813",
   "metadata": {},
   "source": [
    "For a water reactor with U235 as the only fissioning isotope this is about what we would expect: ~193.4 MeV! Okay, on to some new tallies with filters.\n",
    "\n",
    " As with most values coming out of an MC code, these values are per source-particle. In this case these units cancel out, but this will not be the case in our next example."
   ]
  },
  {
   "cell_type": "markdown",
   "id": "0fa947ba-b916-4f6e-bad1-c2d7e8f72da6",
   "metadata": {},
   "source": [
    "## Task 2: Plot the neutron flux spectrum\n"
   ]
  },
  {
   "cell_type": "markdown",
   "id": "09db31d5-08c6-49d3-be36-97db7ef98cd1",
   "metadata": {},
   "source": [
    "To perform this task, we'll be applying a tally with an energy filter and a score. OpenMC's data module contains different group structures. For this problem we'll use the CASMO-70 group structure. An energy filter can easily be created from a pre-defined group structure in OpenMC as follows:"
   ]
  },
  {
   "cell_type": "code",
   "execution_count": null,
   "id": "671ade9d-df12-4813-bee3-028713ad24e3",
   "metadata": {},
   "outputs": [],
   "source": []
  },
  {
   "cell_type": "markdown",
   "id": "190b2aa0-bc1c-499d-a8e0-f9e531a33b8e",
   "metadata": {},
   "source": [
    "Now we'll apply this tally and re-run the problem"
   ]
  },
  {
   "cell_type": "code",
   "execution_count": null,
   "id": "928d9b7c-6648-48c5-a9bb-7148996e978d",
   "metadata": {},
   "outputs": [],
   "source": []
  },
  {
   "cell_type": "markdown",
   "id": "b0796bc9-60a9-4499-8765-939fd1376ba3",
   "metadata": {},
   "source": [
    "Now to plot the spectrum"
   ]
  },
  {
   "cell_type": "markdown",
   "id": "79d7963e-cc07-4df4-8299-0871f327da9f",
   "metadata": {},
   "source": [
    "## Normalizing Tallies"
   ]
  },
  {
   "cell_type": "markdown",
   "id": "c2283976-8e63-4f88-a65c-40c8a041db47",
   "metadata": {},
   "source": [
    "Note that the units of flux in the above plot are in $\\frac{particle-cm}{source-particle}$. As is the case with many values tallied by Monte Carlo codes, the value of the flux does not account for volume and is in terms of the number of source particles emitted. To generate this same plot in terms of absolute flux units ($\\frac{particle}{cm^{2}-s}$) we'll need to normalize this tally by:\n",
    "\n",
    "  - the volume of the region the tally covers\n",
    "  - the number of source particle emitted\n",
    "\n",
    "In this case, the volume of the region is the volume of the entire pincell. Because we're working with a 2-D model, we'll get units that give us the flux per unit length of the pincell in the axial direction. For simplicity, we'll assume that our pincell is 1 cm in height to make life easier. OpenMC's geometry object allows for computation of a bounding box for geometries like this that will help make this more straight forward."
   ]
  },
  {
   "cell_type": "code",
   "execution_count": null,
   "id": "2754f10a-2ea7-4b1b-9b3d-68bb3d4c9260",
   "metadata": {},
   "outputs": [],
   "source": []
  },
  {
   "cell_type": "markdown",
   "id": "6de0b475-9fb5-42da-987c-f13c7182f1e6",
   "metadata": {},
   "source": [
    "Determining the number of source particles per second is more complicated, however. This means computing the energy produced per fission reaction. To get this value we'll need the following pieces of information:\n",
    "\n",
    "  1. the total power produced in the tally region (known a priori)\n",
    "  2. the heat produced by fission power\n",
    "\n",
    "\n",
    "For fixed-source simulations, the source emission rate(s) are provided directly as a normalization factor, most often in units of $\\frac{source-particles}{s}$. For our eigenvalue simuoation, we'll need to get the additional information needed in another tally."
   ]
  },
  {
   "cell_type": "code",
   "execution_count": null,
   "id": "1749a283-23e5-48b6-a1e5-79e638231503",
   "metadata": {},
   "outputs": [],
   "source": []
  },
  {
   "cell_type": "markdown",
   "id": "d625313e-f4e7-41d9-a07e-795e57f47686",
   "metadata": {},
   "source": [
    "The combination of the following tally values and power provide us with the source normalization needed as follows:\n",
    "\n",
    "\n",
    "$$ \\text{neutron source} [\\frac{n}{s}] = \\text{power} [\\frac{J}{s}] \\times \\frac{1}{1.6\\times 10^{-19}} [\\frac{eV}{J}] \\times \\frac{1}{\\text{fission heat} [\\frac{eV}{source}]} $$ "
   ]
  },
  {
   "cell_type": "code",
   "execution_count": null,
   "id": "fd06c774-a892-444d-86ca-d43f690d8850",
   "metadata": {},
   "outputs": [],
   "source": []
  },
  {
   "cell_type": "markdown",
   "id": "394d3cf1-d913-4b84-a9be-30319916b5ef",
   "metadata": {},
   "source": [
    "We can now use this information to normalize our flux values and reproduce our plot in more standard units."
   ]
  },
  {
   "cell_type": "code",
   "execution_count": null,
   "id": "3df57a4a-ae77-40dd-aef7-76d431bf9ba7",
   "metadata": {},
   "outputs": [],
   "source": []
  },
  {
   "cell_type": "markdown",
   "id": "00c2f4af-3370-4f4d-9d1b-4b7278bc55e0",
   "metadata": {},
   "source": [
    "## Task 3: Reaction Types by Material"
   ]
  },
  {
   "cell_type": "markdown",
   "id": "2889624c-c7bb-4224-b2cb-e13204da10f1",
   "metadata": {},
   "source": [
    "Looking at the different reaction types by material will require a material filter and the set of reaction types we want to score. For this example, we'll be scoring absorption, scattering and fission in each material.\n",
    "\n",
    "To start, we'll create a material filter."
   ]
  },
  {
   "cell_type": "code",
   "execution_count": null,
   "id": "b6d2a220-be7f-44ba-b11e-9a176d733b0a",
   "metadata": {},
   "outputs": [],
   "source": []
  },
  {
   "cell_type": "markdown",
   "id": "a26a49e4-8d30-4362-b897-6c6263e5592a",
   "metadata": {},
   "source": [
    "Now we'll gather information from the statepoint file about each score we applied to the tally. With multiple scores and materials, we'll use a Pandas data frame to view the results in a more coherent manner."
   ]
  },
  {
   "cell_type": "code",
   "execution_count": null,
   "id": "f9378d80-5524-4d6b-bbe3-78b4d28d81fa",
   "metadata": {},
   "outputs": [],
   "source": []
  },
  {
   "cell_type": "markdown",
   "id": "0fa5d495-d3ac-46bf-aabe-2aa5c6ac72c7",
   "metadata": {},
   "source": [
    "Each score has three values -- one for each material in the model."
   ]
  },
  {
   "cell_type": "code",
   "execution_count": null,
   "id": "fd4f0172-48d8-4a39-9abd-886cd8c023b0",
   "metadata": {},
   "outputs": [],
   "source": []
  },
  {
   "cell_type": "markdown",
   "id": "44e26c58-107f-4a37-a170-534a410459aa",
   "metadata": {},
   "source": [
    "First, we'll add a new column to the data frame with normalized results."
   ]
  },
  {
   "cell_type": "code",
   "execution_count": null,
   "id": "9d7eb4cf-e517-4274-9dac-dc05281ac952",
   "metadata": {},
   "outputs": [],
   "source": []
  },
  {
   "cell_type": "markdown",
   "id": "4104a62e-7039-4acb-b6d9-19513611ed23",
   "metadata": {},
   "source": [
    "We'll add a new entry in the dataframe for our material names to make plotting easier."
   ]
  },
  {
   "cell_type": "code",
   "execution_count": null,
   "id": "d5b7ee5b-ab75-438a-92e6-3940a0808013",
   "metadata": {},
   "outputs": [],
   "source": []
  }
 ],
 "metadata": {
  "kernelspec": {
   "display_name": "Python 3 (ipykernel)",
   "language": "python",
   "name": "python3"
  },
  "language_info": {
   "codemirror_mode": {
    "name": "ipython",
    "version": 3
   },
   "file_extension": ".py",
   "mimetype": "text/x-python",
   "name": "python",
   "nbconvert_exporter": "python",
   "pygments_lexer": "ipython3",
   "version": "3.9.1"
  }
 },
 "nbformat": 4,
 "nbformat_minor": 5
}
