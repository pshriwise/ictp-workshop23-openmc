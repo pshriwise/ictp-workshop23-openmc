{
 "cells": [
  {
   "cell_type": "markdown",
   "id": "87d52f49-f915-4ef9-8174-dff4e4abc4c3",
   "metadata": {},
   "source": [
    "# OpenMC Tallies"
   ]
  },
  {
   "cell_type": "markdown",
   "id": "886ae4d1-1a57-4bff-a372-4398de06b25a",
   "metadata": {},
   "source": [
    "**Learning Objectives:**\n",
    "\n",
    "  - Understand application of filters and scores to create tallies\n",
    "  - Apply tallies to an OpenMC simulation\n",
    "  - Extract information from OpenMC statepoint files\n",
    "  - Understand tally units and normalization\n",
    "  - Plot tally results"
   ]
  },
  {
   "cell_type": "code",
   "execution_count": 1,
   "id": "11dc05ba-523c-4379-b293-a7a8e059312a",
   "metadata": {},
   "outputs": [],
   "source": [
    "import openmc\n",
    "import numpy as np\n",
    "from matplotlib import pyplot as plt"
   ]
  },
  {
   "cell_type": "markdown",
   "id": "bb1c4298-3506-4350-a690-d96a30a157e4",
   "metadata": {},
   "source": [
    "In this section, we'll be looking at how to extract custom information from an OpenMC simulation in what is known as a tally. A tally accumulates statistical information during the simulation about particles when they eneter regions of phase space specified on the tally. The limits of these regions are set by filters applied to the tally. Scores and nuclides can also be applied to tallies to indicate what type of information is kept about the particle (e.g. reaction types, flux, heat, etc.)."
   ]
  },
  {
   "cell_type": "markdown",
   "id": "42c30480-d8c6-4ccf-b735-f72ca9cbeef1",
   "metadata": {},
   "source": [
    "Any tally in OpenMC can be described with the following form:\n",
    "\n",
    "$$ \n",
    " X = \\underbrace{\\int d\\mathbf{r} \\int d\\mathbf{\\Omega} \\int\n",
    "    dE}_{\\text{filters}} \\underbrace{f(\\mathbf{r}, \\mathbf{\\Omega},\n",
    "    E)}_{\\text{scores}} \\psi (\\mathbf{r}, \\mathbf{\\Omega}, E)\n",
    "$$\n",
    "\n",
    "where filters set the limits of the integrals and the scoring function is convolved with particle information (e.g. reaction type, current material, etc.)."
   ]
  },
  {
   "cell_type": "markdown",
   "id": "31f3c102-bbdf-4b64-a7a3-7188aa97333a",
   "metadata": {},
   "source": [
    "## Pincell Model\n",
    "\n",
    "First we'll need a model to examine. OpenMC has a few basic models that we can use to look at tally setup. The function below generates a 2-D PWR pincell model with reflective boundary conditions on the X-Y planes. This function provides an `openmc.Model` object, which ties together materials, geometry, tallies, and settings in a single Python object with a full problem description."
   ]
  },
  {
   "cell_type": "code",
   "execution_count": 2,
   "id": "951705d5-4db5-4c27-9595-4b87c31d1fc1",
   "metadata": {},
   "outputs": [],
   "source": [
    "pincell_model = openmc.examples.pwr_pin_cell()"
   ]
  },
  {
   "cell_type": "markdown",
   "id": "e189175b-e2d5-46a8-91da-efccbdfcd396",
   "metadata": {},
   "source": [
    "To get a better idea of what this model looks like, we'll start by generating a plot and examining the materials used."
   ]
  },
  {
   "cell_type": "code",
   "execution_count": null,
   "id": "13e90150-a82d-412f-a844-8c21a9c75682",
   "metadata": {},
   "outputs": [],
   "source": [
    "pincell_model.geometry.root_universe.plot()"
   ]
  },
  {
   "cell_type": "code",
   "execution_count": null,
   "id": "cc51643c-87bc-43d4-a74e-4d864b108473",
   "metadata": {},
   "outputs": [],
   "source": [
    "pincell_model.geometry.get_all_materials()"
   ]
  },
  {
   "cell_type": "markdown",
   "id": "da00ed28-db4a-4cd6-b611-d041a4817716",
   "metadata": {},
   "source": [
    "If we look at the tallies object on our pincell model, we'll see there aren't currently any custom tallies applied."
   ]
  },
  {
   "cell_type": "code",
   "execution_count": null,
   "id": "4da56f67-e5cc-4cfe-aec6-3d08dd67a99e",
   "metadata": {},
   "outputs": [],
   "source": [
    "pincell_model.tallies"
   ]
  },
  {
   "cell_type": "markdown",
   "id": "7b73d0d7-51d6-4c1d-8c44-e4848cc08ab3",
   "metadata": {},
   "source": [
    "In this exercise we'll be adding tallies to perform a few different tasks:\n",
    "\n",
    "\n",
    "  **1. Determine the energy and heat produced per fission** \\\n",
    "  **2. Plot the flux spectrum of the pincell** \\\n",
    "  **3. Plot reaction types based on material**\n",
    "  \n",
    "To do this we'll use a variety of different filters applied to different tallies. "
   ]
  },
  {
   "cell_type": "markdown",
   "id": "ef4698fe-3681-4708-bf70-d3112bdf0d1f",
   "metadata": {},
   "source": [
    "First, to determine the recoverable energy produced per fission we'll create a tally without filters to gather information on the fission reaction rate (\"`fission`\") and recoverable fission energy (\"`kappa-fission`\"). Because we want this information talllied throughout the model, a \"global\" tally, no filters need to be applied.\n",
    "\n"
   ]
  },
  {
   "cell_type": "markdown",
   "id": "2be29691-17a2-411d-a235-aa79c4ef0b21",
   "metadata": {},
   "source": [
    "<div class=\"alert alert-block alert-info\">\n",
    "A full list of scores and their meanings can be found <a href=https://docs.openmc.org/en/stable/usersguide/tallies.html#scores >here</a>.\n",
    "</div>"
   ]
  },
  {
   "cell_type": "markdown",
   "id": "15966abd-127d-4608-a732-0f5d7ecbcc6e",
   "metadata": {},
   "source": [
    "## Task 1: Energy released per fission"
   ]
  },
  {
   "cell_type": "code",
   "execution_count": null,
   "id": "edfd4a42-4fcf-4191-94ae-00890d0e45b6",
   "metadata": {},
   "outputs": [],
   "source": [
    "fission_tally = openmc.Tally()\n",
    "fission_tally.scores = ['fission', 'kappa-fission']\n",
    "print(fission_tally)"
   ]
  },
  {
   "cell_type": "markdown",
   "id": "8badc7e8-42a7-473a-8da8-8c0e386a1aeb",
   "metadata": {},
   "source": [
    "Similar to the `openmc.Materials` object, the `openmc.Tallies` object is a sub-class of Python's built-in `list` and is used to collect tallies for appliction to the model."
   ]
  },
  {
   "cell_type": "code",
   "execution_count": null,
   "id": "418f543a-5705-483a-ac0b-0e66fd76a6cf",
   "metadata": {},
   "outputs": [],
   "source": [
    "pincell_model.tallies = openmc.Tallies([fission_tally])"
   ]
  },
  {
   "cell_type": "markdown",
   "id": "6f7f618b-0406-49be-a6ad-13ed784e05c0",
   "metadata": {},
   "source": [
    "\n",
    "After adjusting the default settings for number of particles and batches on the model we'll run it and examine the data."
   ]
  },
  {
   "cell_type": "code",
   "execution_count": null,
   "id": "ae72a8ed-8680-431d-b51a-3df11d3960aa",
   "metadata": {},
   "outputs": [],
   "source": [
    "pincell_model.settings.batches = 50\n",
    "pincell_model.settings.inactive = 10\n",
    "pincell_model.settings.particles = 10000\n",
    "statepoint = pincell_model.run()"
   ]
  },
  {
   "cell_type": "markdown",
   "id": "038ed849-0495-4fa4-9f85-51c9683d8526",
   "metadata": {},
   "source": [
    "If we list our current directory, we see that several new files have been created as a result of this run: `summary.h5`, `tallies.out`, and `statepoint.50.h5`. The summary file contains information about the simulation's setup (geometry, materials, meshes, etc.) in an HDF5 format. The `tallies.out` file contains a text output of all user-specified tallies for the simulation."
   ]
  },
  {
   "cell_type": "code",
   "execution_count": null,
   "id": "b4a6d2aa-148c-4217-9682-c56758093d00",
   "metadata": {},
   "outputs": [],
   "source": [
    "!cat tallies.out"
   ]
  },
  {
   "cell_type": "markdown",
   "id": "1ff60bff-aeb0-496c-b656-d712c5778045",
   "metadata": {},
   "source": [
    "This can be useful to quickly look at simple tally results, but isn't a great format to post-process simulation data. For that we'll look to the statepoint file."
   ]
  },
  {
   "cell_type": "markdown",
   "id": "37c313ed-71d9-40cf-8e6b-ab4bd337d518",
   "metadata": {},
   "source": [
    "The statepoint file contains information about simulation results including tally specifications and data. The location of this statepoint file was provided to us by the `pincell_model.run()` command."
   ]
  },
  {
   "cell_type": "code",
   "execution_count": null,
   "id": "c76b62d6-af9c-4204-b219-91a4b1fdc61b",
   "metadata": {},
   "outputs": [],
   "source": [
    "!ls\n",
    "print(f'Statepoint: {statepoint}')"
   ]
  },
  {
   "cell_type": "markdown",
   "id": "99eed91b-5e91-4320-8e7a-51c68c28f4a6",
   "metadata": {},
   "source": [
    "To extract information from the statepoint file we'll create an `openmc.StatePoint` object. The `statepoint.get_tally` function will search for tallies by scores, filters, nuclides, ids, and return the closest match. Exact matches can be speficied as well."
   ]
  },
  {
   "cell_type": "code",
   "execution_count": null,
   "id": "687cd96d-6035-4f01-b493-e42f0834fff3",
   "metadata": {
    "tags": []
   },
   "outputs": [],
   "source": [
    "with openmc.StatePoint('statepoint.50.h5') as sp:\n",
    "    tally_by_scores = sp.get_tally(scores=['fission', 'kappa-fission'])\n",
    "    tally_by_id = sp.get_tally(id=fission_tally.id)"
   ]
  },
  {
   "cell_type": "markdown",
   "id": "de12a615-a9d1-4917-a80b-c75a1226797f",
   "metadata": {},
   "source": [
    "If we print the tally objects returned, we see that they indeed match the tally specification we generated above."
   ]
  },
  {
   "cell_type": "code",
   "execution_count": null,
   "id": "4338ff09-ac43-4896-bef6-9d0bdee19145",
   "metadata": {},
   "outputs": [],
   "source": [
    "print(tally_by_scores)\n",
    "print(tally_by_id)\n",
    "# shorten variable name f\n",
    "tally = tally_by_id "
   ]
  },
  {
   "cell_type": "markdown",
   "id": "2e102428-a43f-4dd7-8f27-84abf9f7ea67",
   "metadata": {
    "tags": []
   },
   "source": [
    "<div class=\"alert alert-block alert-info\">\n",
    "<b>A quick aside on how statepoint objects interact with summary files:</b>\n",
    "\n",
    "\n",
    "The `openmc.statepoint` object will read information from the `summary.h5` file if one is present, keeping that file open in the Python interpreter. The open `summary.h5` file can interfere with the initialization of subsequent OpenMC simulations. It is recommended that information be extracted from statepoints within a [context manager](https://book.pythontips.com/en/latest/context_managers.html) as we do here. Alternatively, making sure to call the `openmc.StatePoint.close` method will work also. For more details please look to the [relevant section in the user's guide](https://docs.openmc.org/en/stable/usersguide/troubleshoot.html#runtimeerror-failed-to-open-hdf5-file-with-mode-w-summary-h5).   \n",
    "</div>\n",
    "\n"
   ]
  },
  {
   "cell_type": "markdown",
   "id": "eade3a16-86ce-4717-a0ef-c403e9bce2fe",
   "metadata": {},
   "source": [
    "To compute the energy released per fission event, we can simply take the tallied energy released per fission and divide it by the fission rate."
   ]
  },
  {
   "cell_type": "code",
   "execution_count": null,
   "id": "b1e3ccf3-736a-4d2f-bfeb-08d425fa0e5d",
   "metadata": {},
   "outputs": [],
   "source": [
    "f = tally.get_values(scores=['fission', 'kappa-fission'])\n",
    "print(f.shape)"
   ]
  },
  {
   "cell_type": "code",
   "execution_count": null,
   "id": "bd52f720-0905-49c6-937a-20920d178fe1",
   "metadata": {},
   "outputs": [],
   "source": [
    "fission_rate = tally.get_values(scores=['fission']).flatten()[0]\n",
    "kappa_fission = tally.get_values(scores=['kappa-fission']).flatten()[0]\n",
    "ev_per_fission = kappa_fission / fission_rate\n",
    "mev_per_fission = ev_per_fission * 1e-6\n",
    "print(f'MeV per fission: {mev_per_fission:.2f}')"
   ]
  },
  {
   "cell_type": "markdown",
   "id": "ccb90061-c037-4fb6-ad1d-25056f679813",
   "metadata": {},
   "source": [
    "For a water reactor with U235 as the only fissioning isotope this is about what we would expect: ~193.4 MeV! Okay, on to some new tallies with filters.\n",
    "\n",
    " As with most values coming out of an MC code, these values are per source-particle. In this case these units cancel out, but this will not be the case in our next example."
   ]
  },
  {
   "cell_type": "markdown",
   "id": "0fa947ba-b916-4f6e-bad1-c2d7e8f72da6",
   "metadata": {},
   "source": [
    "## Task 2: Plot the neutron flux spectrum\n"
   ]
  },
  {
   "cell_type": "markdown",
   "id": "09db31d5-08c6-49d3-be36-97db7ef98cd1",
   "metadata": {},
   "source": [
    "To perform this task, we'll be applying a tally with an energy filter and a score. OpenMC's data module contains different group structures. For this problem we'll use the CASMO-70 group structure. An energy filter can easily be created from a pre-defined group structure in OpenMC as follows:"
   ]
  },
  {
   "cell_type": "code",
   "execution_count": null,
   "id": "a9aaae47-c6b5-42e0-8be5-a1fdf84180c2",
   "metadata": {},
   "outputs": [],
   "source": [
    "energy_filter = openmc.EnergyFilter.from_group_structure('CASMO-70')\n",
    "len(energy_filter.bins)"
   ]
  },
  {
   "cell_type": "code",
   "execution_count": null,
   "id": "5f7b3f68-19d6-4928-962a-ce7032a38c14",
   "metadata": {},
   "outputs": [],
   "source": [
    "spectrum_tally = openmc.Tally()\n",
    "spectrum_tally.filters = [energy_filter]\n",
    "spectrum_tally.scores = ['flux']\n",
    "print(spectrum_tally)"
   ]
  },
  {
   "cell_type": "markdown",
   "id": "190b2aa0-bc1c-499d-a8e0-f9e531a33b8e",
   "metadata": {},
   "source": [
    "Now we'll apply this tally and re-run the problem"
   ]
  },
  {
   "cell_type": "code",
   "execution_count": null,
   "id": "8e8e5be2-3055-4027-9ee2-e9eb19fccaa2",
   "metadata": {},
   "outputs": [],
   "source": [
    "pincell_model.tallies = [spectrum_tally]\n",
    "statepoint = pincell_model.run()"
   ]
  },
  {
   "cell_type": "code",
   "execution_count": null,
   "id": "00fb7c45-1e73-44e7-8f3f-0dee18cb381e",
   "metadata": {},
   "outputs": [],
   "source": [
    "with openmc.StatePoint('statepoint.50.h5') as sp:\n",
    "    tally = sp.get_tally(id=spectrum_tally.id)\n",
    "    sp.get_tally(scores=['flux'])\n",
    "    sp.get_tally(filters=spectrum_tally.filters)"
   ]
  },
  {
   "cell_type": "code",
   "execution_count": null,
   "id": "0f754d3d-fce3-43d7-bae1-36a3a700962c",
   "metadata": {},
   "outputs": [],
   "source": [
    "spectrum = tally.mean"
   ]
  },
  {
   "cell_type": "markdown",
   "id": "b0796bc9-60a9-4499-8765-939fd1376ba3",
   "metadata": {},
   "source": [
    "Now to plot the spectrum"
   ]
  },
  {
   "cell_type": "code",
   "execution_count": null,
   "id": "90a02970-3251-4713-a3ff-85cd14a71c8e",
   "metadata": {},
   "outputs": [],
   "source": [
    "plt.figure(figsize=(16, 9))\n",
    "\n",
    "bin_boundaries = energy_filter.lethargy_bin_width\n",
    "\n",
    "plt.step(np.unique(energy_filter.bins)[:-1], spectrum.flatten() / bin_boundaries)\n",
    "plt.xscale('log')\n",
    "plt.rcParams['text.usetex'] = False\n",
    "plt.xlabel(r'Energy (eV)')\n",
    "plt.ylabel(r'Flux ($\\frac{particle-cm}{source-particle}$)')\n",
    "plt.show()"
   ]
  },
  {
   "cell_type": "markdown",
   "id": "79d7963e-cc07-4df4-8299-0871f327da9f",
   "metadata": {},
   "source": [
    "## Normalizing Tallies"
   ]
  },
  {
   "cell_type": "markdown",
   "id": "c2283976-8e63-4f88-a65c-40c8a041db47",
   "metadata": {},
   "source": [
    "Note that the units of flux in the above plot are in $\\frac{particle-cm}{source-particle}$. As is the case with many values tallied by Monte Carlo codes, the value of the flux does not account for volume and is in terms of the number of source particles emitted. To generate this same plot in terms of absolute flux units ($\\frac{particle}{cm^{2}-s}$) we'll need to normalize this tally by:\n",
    "\n",
    "  - the volume of the region the tally covers\n",
    "  - the number of source particle emitted\n",
    "\n",
    "In this case, the volume of the region is the volume of the entire pincell. Because we're working with a 2-D model, we'll get units that give us the flux per unit length of the pincell in the axial direction. For simplicity, we'll assume that our pincell is 1 cm in height to make life easier. OpenMC's geometry object allows for computation of a bounding box for geometries like this that will help make this more straight forward."
   ]
  },
  {
   "cell_type": "code",
   "execution_count": null,
   "id": "db2002fd-7734-4b10-b2e7-bcf26c29805b",
   "metadata": {},
   "outputs": [],
   "source": [
    "# get bounding box\n",
    "lower_left, upper_right = pincell_model.geometry.bounding_box\n",
    "print(lower_left, upper_right)\n",
    "lower_left[-1] = 0.0\n",
    "upper_right[-1] = 1.0\n",
    "# compute volume\n",
    "volume = np.prod(upper_right - lower_left)\n",
    "print(volume)"
   ]
  },
  {
   "cell_type": "markdown",
   "id": "6de0b475-9fb5-42da-987c-f13c7182f1e6",
   "metadata": {},
   "source": [
    "Determining the number of source particles per second is more complicated, however. This means computing the eV/source particle due to fission. To get the source rate, we'll need the following pieces of information:\n",
    "\n",
    "  1. the total power produced in the tally region (known a priori)\n",
    "  2. the heat produced by fission power, per source particle\n",
    "  \n",
    " To get this information we'll need to construct another tally to get additional information from the simulation."
   ]
  },
  {
   "cell_type": "code",
   "execution_count": 76,
   "id": "38246dd3-b34a-4058-a516-ea25f502169f",
   "metadata": {},
   "outputs": [],
   "source": [
    "pincell_power = 60.0e3 / 300 # in Watts\n",
    "source_tally = openmc.Tally()\n",
    "source_tally.scores = ['kappa-fission']\n",
    "pincell_model.tallies = [source_tally]\n",
    "pincell_model.export_to_xml()"
   ]
  },
  {
   "cell_type": "code",
   "execution_count": null,
   "id": "cec60994-b188-4fc4-9a3d-3b4a3f208e28",
   "metadata": {},
   "outputs": [],
   "source": [
    "sp_file = pincell_model.run(output=False)"
   ]
  },
  {
   "cell_type": "code",
   "execution_count": null,
   "id": "cba5a3fc-1941-49bb-9c35-8a314d114bad",
   "metadata": {},
   "outputs": [],
   "source": [
    "with openmc.StatePoint(sp_file) as sp:\n",
    "    source_tally_out = sp.get_tally(id=source_tally.id)\n",
    "    heating = source_tally_out.get_values(scores=['kappa-fission']).flatten()[0]"
   ]
  },
  {
   "cell_type": "markdown",
   "id": "d625313e-f4e7-41d9-a07e-795e57f47686",
   "metadata": {},
   "source": [
    "The combination of the following tally values and power provide us with the source normalization needed as follows:\n",
    "\n",
    "\n",
    "$$ \\text{neutron source} [\\frac{n}{s}] = \\text{power} [\\frac{J}{s}] \\times \\frac{1}{1.6\\times 10^{-19}} [\\frac{eV}{J}] \\times \\frac{1}{\\text{heat per fission} [\\frac{eV}{source}]} $$ "
   ]
  },
  {
   "cell_type": "code",
   "execution_count": 78,
   "id": "b90636e8-b154-4ba9-98f9-08c644077920",
   "metadata": {},
   "outputs": [
    {
     "name": "stdout",
     "output_type": "stream",
     "text": [
      "Neutron source: 1.33e+13 n/s\n"
     ]
    }
   ],
   "source": [
    "J_to_eV = 1 / 1.6e-19\n",
    "neutron_source = pincell_power * J_to_eV * (1 / heating)\n",
    "print(f'Neutron source: {neutron_source:.2e} n/s')"
   ]
  },
  {
   "cell_type": "markdown",
   "id": "394d3cf1-d913-4b84-a9be-30319916b5ef",
   "metadata": {},
   "source": [
    "We can now use this information to normalize our flux values and reproduce our plot in more standard units."
   ]
  },
  {
   "cell_type": "code",
   "execution_count": null,
   "id": "b55565bb-736e-4f98-a4dc-5accedba6ca8",
   "metadata": {},
   "outputs": [],
   "source": [
    "normalized_spectrum = neutron_source * spectrum.flatten() / volume"
   ]
  },
  {
   "cell_type": "code",
   "execution_count": null,
   "id": "408bf824-47ef-4413-b2b8-778615cc75f6",
   "metadata": {},
   "outputs": [],
   "source": [
    "#plt.figure(figsize=(16, 9))\n",
    "plt.step(np.unique(energy_filter.bins)[:-1], normalized_spectrum / bin_boundaries)\n",
    "plt.xscale('log')\n",
    "plt.rcParams['text.usetex'] = False\n",
    "plt.xlabel(r'Energy (eV)')\n",
    "plt.ylabel(r'Flux ($\\frac{particle}{cm^{-2} s}$)')\n",
    "plt.show()"
   ]
  },
  {
   "cell_type": "markdown",
   "id": "00c2f4af-3370-4f4d-9d1b-4b7278bc55e0",
   "metadata": {},
   "source": [
    "## Task 3: Reaction Types by Material"
   ]
  },
  {
   "cell_type": "markdown",
   "id": "2889624c-c7bb-4224-b2cb-e13204da10f1",
   "metadata": {},
   "source": [
    "Looking at the different reaction types by material will require a material filter and the set of reaction types we want to score. For this example, we'll be scoring absorption, scattering and fission in each material.\n",
    "\n",
    "To start, we'll create a material filter."
   ]
  },
  {
   "cell_type": "code",
   "execution_count": null,
   "id": "b270ef21-84d1-4ec7-9b7e-f83ae1813687",
   "metadata": {},
   "outputs": [],
   "source": [
    "pincell_model.materials"
   ]
  },
  {
   "cell_type": "code",
   "execution_count": null,
   "id": "7a8b416a-4183-4266-880a-fb32f85d6508",
   "metadata": {},
   "outputs": [],
   "source": [
    "material_filter = openmc.MaterialFilter(pincell_model.materials)"
   ]
  },
  {
   "cell_type": "code",
   "execution_count": null,
   "id": "e7a1e5b4-1851-4042-80da-cfbd7df66dca",
   "metadata": {},
   "outputs": [],
   "source": [
    "material_tally = openmc.Tally()\n",
    "material_tally.filters = [material_filter]\n",
    "material_tally.scores = ['absorption', 'scatter', 'fission']"
   ]
  },
  {
   "cell_type": "code",
   "execution_count": null,
   "id": "15c27cc5-0dd8-48d9-8115-08f57c4447c0",
   "metadata": {},
   "outputs": [],
   "source": [
    "pincell_model.tallies = [material_tally]"
   ]
  },
  {
   "cell_type": "code",
   "execution_count": null,
   "id": "49b068fc-9bdc-4bdc-9567-5f55ec16bf7d",
   "metadata": {},
   "outputs": [],
   "source": [
    "pincell_model.run()"
   ]
  },
  {
   "cell_type": "markdown",
   "id": "a26a49e4-8d30-4362-b897-6c6263e5592a",
   "metadata": {},
   "source": [
    "Now we'll gather information from the statepoint file about each score we applied to the tally. With multiple scores and materials, we'll use a Pandas data frame to view the results in a more coherent manner."
   ]
  },
  {
   "cell_type": "code",
   "execution_count": null,
   "id": "a191ffb7-5349-4522-bc0f-8a6405295606",
   "metadata": {},
   "outputs": [],
   "source": [
    "with openmc.StatePoint('statepoint.50.h5') as sp:\n",
    "    tally = list(sp.tallies.values())[0]\n",
    "    absorption = tally.get_values(scores=['absorption']).flatten()\n",
    "    scatter = tally.get_values(scores=['scatter']).flatten()\n",
    "    fission = tally.get_values(scores=['fission']).flatten()\n",
    "    df = tally.get_pandas_dataframe()"
   ]
  },
  {
   "cell_type": "markdown",
   "id": "0fa5d495-d3ac-46bf-aabe-2aa5c6ac72c7",
   "metadata": {},
   "source": [
    "Each score has three values -- one for each material in the model."
   ]
  },
  {
   "cell_type": "code",
   "execution_count": null,
   "id": "7c1ebec5-aa76-484c-9470-c06018eb2b07",
   "metadata": {},
   "outputs": [],
   "source": [
    "df"
   ]
  },
  {
   "cell_type": "markdown",
   "id": "44e26c58-107f-4a37-a170-534a410459aa",
   "metadata": {},
   "source": [
    "First, we'll add a new column to the data frame with normalized results."
   ]
  },
  {
   "cell_type": "code",
   "execution_count": null,
   "id": "06f78164-f9c4-41f4-8070-535656e0f66e",
   "metadata": {},
   "outputs": [],
   "source": [
    "df['normalized-mean (rxn/s)'] = neutron_source * df['mean']\n",
    "df"
   ]
  },
  {
   "cell_type": "markdown",
   "id": "4104a62e-7039-4acb-b6d9-19513611ed23",
   "metadata": {},
   "source": [
    "We'll add a new entry in the dataframe for our material names to make plotting easier."
   ]
  },
  {
   "cell_type": "code",
   "execution_count": null,
   "id": "65f57455-efee-4fc5-b8af-67b4c6ebff89",
   "metadata": {},
   "outputs": [],
   "source": [
    "# get all materials from the geometry\n",
    "materials = pincell_model.geometry.get_all_materials()\n",
    "\n",
    "# set names based on matching material IDs\n",
    "for mat_id, material in materials.items():\n",
    "    df.loc[df['material'] == mat_id, 'mat_name'] = material.name\n",
    "df"
   ]
  },
  {
   "cell_type": "code",
   "execution_count": null,
   "id": "c9f4f3ff-62ff-4859-b098-6e53ba7f931f",
   "metadata": {},
   "outputs": [],
   "source": [
    "type(materials)"
   ]
  },
  {
   "cell_type": "code",
   "execution_count": null,
   "id": "80b6655d-c5a9-4104-8c9c-6539a883ccbd",
   "metadata": {},
   "outputs": [],
   "source": [
    "fission_df = df[df['score'] == 'fission']\n",
    "fission_df"
   ]
  },
  {
   "cell_type": "code",
   "execution_count": null,
   "id": "83127c2a-3fcd-480c-9868-895124159238",
   "metadata": {},
   "outputs": [],
   "source": [
    "fission_df.plot('mat_name', 'normalized-mean', kind='bar', ylabel='fissions / s')\n",
    "_ = plt.xticks(rotation=30, ha='right')"
   ]
  },
  {
   "cell_type": "code",
   "execution_count": null,
   "id": "93ce1de1-f9d2-4df9-882a-e25181dea02a",
   "metadata": {},
   "outputs": [],
   "source": [
    "scatter_df = df[df['score'] == 'scatter']\n",
    "scatter_df.plot('mat_name', 'mean', kind='bar', ylabel='scatters / s')\n",
    "_ = plt.xticks(rotation=30, ha='right')\n",
    "\n",
    "absorption_df = df[df['score'] == 'absorption']\n",
    "absorption_df.plot('mat_name', 'mean', kind='bar', ylabel='absorptions / s')\n",
    "_ = plt.xticks(rotation=30, ha='right')"
   ]
  }
 ],
 "metadata": {
  "kernelspec": {
   "display_name": "Python 3 (ipykernel)",
   "language": "python",
   "name": "python3"
  },
  "language_info": {
   "codemirror_mode": {
    "name": "ipython",
    "version": 3
   },
   "file_extension": ".py",
   "mimetype": "text/x-python",
   "name": "python",
   "nbconvert_exporter": "python",
   "pygments_lexer": "ipython3",
   "version": "3.9.1"
  }
 },
 "nbformat": 4,
 "nbformat_minor": 5
}
