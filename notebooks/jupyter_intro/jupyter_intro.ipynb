{
 "cells": [
  {
   "cell_type": "markdown",
   "id": "674c0ddc-d4b5-4ceb-a328-b168f1cc99a3",
   "metadata": {},
   "source": [
    "# Working with Jupyter Notebooks"
   ]
  },
  {
   "cell_type": "markdown",
   "id": "8840f532-42b0-4a83-bdfe-46a28d3af027",
   "metadata": {},
   "source": [
    "Jupyter notebooks are a great environment for learning and prototyping code. They also allow one to combine writen material with code in a visually rich environmment. Jupyter notebooks differ from a typical Python interpreter in a few ways:\n",
    "\n",
    "  - code is stored in cells (blocks of code) that can be re-evaluated easily\n",
    "  - the state of the interpreter is dependent on the order in which cells are executed\n",
    "\n",
    " Some key things to remember when working with Jupyter notebooks:\n",
    "\n",
    "   - objects persist after cell evaluation\n",
    "   - re-evaluating cells may result in the replacement of existing objects"
   ]
  },
  {
   "cell_type": "code",
   "execution_count": 3,
   "id": "fd6ff8a6-cb99-45f9-931f-fbec3b82d1fb",
   "metadata": {},
   "outputs": [
    {
     "name": "stdout",
     "output_type": "stream",
     "text": [
      "[1, 2, 3, 4]\n"
     ]
    }
   ],
   "source": [
    "a = [1, 2, 3, 4]\n",
    "print(a)"
   ]
  },
  {
   "cell_type": "code",
   "execution_count": 4,
   "id": "b19f09ef-0b84-4ec2-8ce4-ba78d0f0977f",
   "metadata": {},
   "outputs": [
    {
     "name": "stdout",
     "output_type": "stream",
     "text": [
      "[1, 2, 3, 4, 5, 6, 7, 8]\n"
     ]
    }
   ],
   "source": [
    "a += [5, 6, 7, 8]\n",
    "print(a)"
   ]
  },
  {
   "cell_type": "markdown",
   "id": "2e4792b8-79ee-4d18-8a24-4f5079e15738",
   "metadata": {},
   "source": [
    "## Useful tricks"
   ]
  },
  {
   "cell_type": "markdown",
   "id": "2a5af8b7-755b-476f-a97b-78feef50cf60",
   "metadata": {},
   "source": [
    "For various unintended reasons, the Python kernel behind the notebook can crash. This causes any objects in memory to be dumped. But not to worry! All of the cells of a notebook can be re-evaluated somewhat easily using the \"`Restart Kernel and Run up to Selected Cells...`\" or \"`Restart Kernel and Run All Cells...`\" commands in the \"Kernel\" menu above."
   ]
  },
  {
   "cell_type": "code",
   "execution_count": null,
   "id": "7a5d9b12-aa84-41d5-a164-49a02d4b0c0a",
   "metadata": {},
   "outputs": [],
   "source": []
  }
 ],
 "metadata": {
  "kernelspec": {
   "display_name": "Python 3 (ipykernel)",
   "language": "python",
   "name": "python3"
  },
  "language_info": {
   "codemirror_mode": {
    "name": "ipython",
    "version": 3
   },
   "file_extension": ".py",
   "mimetype": "text/x-python",
   "name": "python",
   "nbconvert_exporter": "python",
   "pygments_lexer": "ipython3",
   "version": "3.10.1"
  }
 },
 "nbformat": 4,
 "nbformat_minor": 5
}
