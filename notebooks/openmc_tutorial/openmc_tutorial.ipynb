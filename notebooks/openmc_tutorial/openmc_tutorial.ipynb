{
 "cells": [
  {
   "cell_type": "markdown",
   "id": "7a5208ed-e2a0-46c6-9767-944348a8faa7",
   "metadata": {},
   "source": [
    "# Modeling a Pin-Cell\n",
    "In this module, we'll demonstrate the basic features of the Python API for constructing input files and running OpenMC. In it, we will show how to create a basic reflective pin-cell model that is equivalent to modeling an infinite array of fuel pins. We highly recommend having a copy of the [Python API reference documentation](https://docs.openmc.org/en/stable/pythonapi/index.html) open in another browser tab that you can refer to."
   ]
  },
  {
   "cell_type": "markdown",
   "id": "9e144077-cc50-47ca-9074-bf94aa201f90",
   "metadata": {},
   "source": [
    "For this example, we'll create a pin-cell of the CEFR fuel assembly with simplified material compositions. More accurate material compositions will be applied as part of the exercise at the end of the day.\n",
    "\n",
    "- UO<sub>2</sub>\n",
    "- Helium\n",
    "- Sodium\n",
    "- Stainless Steel\n",
    "\n",
    "all at a temperature of 523.15 K.\n",
    "\n",
    "The dimensions of our fuel pin will be as follows:\n",
    "- Fuel pin center hold radius = 0.08020 cm\n",
    "- Fuel outer radius = 0.0.25565 cm\n",
    "- Clad inner radius = 0.27112 cm\n",
    "- Clad outer radius = 0.30499 cm\n",
    "- Fuel pin pitch = 0.695 cm"
   ]
  },
  {
   "cell_type": "code",
   "execution_count": null,
   "id": "1764c9a3-3c64-4534-bf6e-923f0a0121f3",
   "metadata": {},
   "outputs": [],
   "source": [
    "import openmc"
   ]
  },
  {
   "cell_type": "code",
   "execution_count": null,
   "id": "1c1ace72-54f6-4d02-adf0-5780dcf3f8fb",
   "metadata": {},
   "outputs": [],
   "source": [
    "# remote any existing OpenMC input XMl files and output HDF5 files\n",
    "!rm *.xml *.h5"
   ]
  },
  {
   "cell_type": "markdown",
   "id": "0e182649-5603-43e3-aa9b-f3236016bc00",
   "metadata": {},
   "source": [
    "## Naming Conventions\n",
    "\n",
    "Before we start working with the Python API, it's helpful to understand the naming convention of objects so that you can conceptualize what is a function, what is a class, etc. OpenMC's Python interface follows the same naming convention that is adopted by many/most Python projects:\n",
    "\n",
    "- Module names are `lowercase`\n",
    "- Functions are `lowercase_with_underscores`\n",
    "- Classes are `CamelCase`\n",
    "- Class attributes/variables are `lowercase_with_underscores`\n",
    "- Top-level (global) variables are `UPPERCASE_WITH_UNDERSCORES`\n",
    "\n",
    "To give a few specific examples:\n",
    "\n",
    "- `openmc.deplete` is the depletion _module_\n",
    "- `openmc.run` is a _function_\n",
    "- `openmc.Material` is a _class_\n",
    "- `openmc.data.ATOMIC_NUMBER` is a _top-level variable_"
   ]
  },
  {
   "cell_type": "markdown",
   "id": "00efae75-0c00-47ec-90b7-ee63b6c28154",
   "metadata": {},
   "source": [
    "## Setting Attributes\n",
    "\n",
    "When building OpenMC models, we will work with many different classes. Each class typically has _attributes_, a variable belonging to the class. When creating a class, you can often set those attributes directly when you instantiate the object, like this:"
   ]
  },
  {
   "cell_type": "code",
   "execution_count": null,
   "id": "ce6059cd-bd1d-432d-8853-4684cb4684f0",
   "metadata": {},
   "outputs": [],
   "source": []
  },
  {
   "cell_type": "markdown",
   "id": "c4302201-524a-466d-8755-63ba6a990c71",
   "metadata": {},
   "source": [
    "Or, you can assign values to attributes after you have already created the object. For example, the following is equivalent to the above:"
   ]
  },
  {
   "cell_type": "code",
   "execution_count": null,
   "id": "61897de2-1afe-443c-a5ba-670c83288b35",
   "metadata": {},
   "outputs": [],
   "source": []
  },
  {
   "cell_type": "markdown",
   "id": "170948c6-2ed2-454b-941e-b6ac8c098cc7",
   "metadata": {},
   "source": [
    "You can in general also mix-and-match, setting some attributes when you instantiate the object, and others at a later point."
   ]
  },
  {
   "cell_type": "code",
   "execution_count": null,
   "id": "5090e24d-3b20-4775-bfe8-6c5f87db3fe2",
   "metadata": {},
   "outputs": [],
   "source": []
  },
  {
   "cell_type": "markdown",
   "id": "ec5600e4-d512-4667-afb6-12a885ec239c",
   "metadata": {},
   "source": [
    "\n",
    "## How to Get Help/Learn More\n",
    "\n",
    "When building OpenMC models, we recommend having a copy of the Python API documentation (linked earlier) open. You can also query information about classes and methods directly from Jupyter. For example, we can use `help` to get documentation on all of the valid attributes for functions and classes."
   ]
  },
  {
   "cell_type": "code",
   "execution_count": null,
   "id": "4e76b0e4-8ee9-48fe-b02d-6e66452b2371",
   "metadata": {
    "scrolled": true
   },
   "outputs": [],
   "source": [
    "help(openmc.Cell)"
   ]
  },
  {
   "cell_type": "markdown",
   "id": "920085d7-2266-49d5-83fd-5fbe76831c54",
   "metadata": {},
   "source": [
    "Attributes which have a default value will appear as `<attribute>=<the default value>` in the class/function definition. For classes, all of the member functions you can access will then be defined further down, with their associated documentation. To see documentation for just one specific function, you can use syntax like:"
   ]
  },
  {
   "cell_type": "code",
   "execution_count": null,
   "id": "160049db-1fdc-4b92-9488-613dd976ed03",
   "metadata": {},
   "outputs": [],
   "source": [
    "my_cell = openmc.Cell()\n",
    "help(my_cell.from_xml_element)"
   ]
  },
  {
   "cell_type": "markdown",
   "id": "b32b84f7-1892-4302-b58b-d823a4be9820",
   "metadata": {},
   "source": [
    "You can also query the type of a particular object using `type`. Note that we can also display the attributes for a particular object using `print`."
   ]
  },
  {
   "cell_type": "code",
   "execution_count": null,
   "id": "a86f40fb-ee47-448e-87a2-b199df72eb94",
   "metadata": {},
   "outputs": [],
   "source": [
    "type(my_cell)\n",
    "print(my_cell)"
   ]
  },
  {
   "cell_type": "markdown",
   "id": "d1f297c8-6e30-4dc8-b5ff-9833793646e7",
   "metadata": {},
   "source": [
    "## Defining Materials\n",
    "\n",
    "Materials in OpenMC are defined as a set of nuclides with specified atom/weight fractions. To begin, we will create a material by making an instance of the `Material` class. In OpenMC, many objects, including materials, are identified by a \"unique ID\" that is simply just a positive integer. These IDs are used when exporting XML files that the solver reads in. They also appear in the output and can be used for identification. Since an integer ID is not very useful by itself, you can also give a material a `name` as well."
   ]
  },
  {
   "cell_type": "code",
   "execution_count": null,
   "id": "01c4b27f-623a-4676-a8e9-98770c3f995c",
   "metadata": {},
   "outputs": [],
   "source": []
  },
  {
   "cell_type": "markdown",
   "id": "0b758190-1223-41b6-b47a-10cf5a20502c",
   "metadata": {},
   "source": [
    "If you don't give an ID, one will be automatically generated for you:"
   ]
  },
  {
   "cell_type": "code",
   "execution_count": null,
   "id": "9e06a1e2-fbaf-47a8-96a2-e09afe83d1f3",
   "metadata": {},
   "outputs": [],
   "source": []
  },
  {
   "cell_type": "markdown",
   "id": "fb6be1c5-f556-4fc3-b458-c724c3f7f902",
   "metadata": {},
   "source": [
    "We see that an ID of 2 was automatically assigned. Let's now move on to adding nuclides to our `uo2` material. The `Material` object has a method `add_nuclide()` whose first argument is the name of the nuclide and second argument is the atom or weight fraction."
   ]
  },
  {
   "cell_type": "code",
   "execution_count": null,
   "id": "ec4ab716-9f75-47c7-8f8b-a00ad6fe742e",
   "metadata": {},
   "outputs": [],
   "source": [
    "help(uo2.add_nuclide)"
   ]
  },
  {
   "cell_type": "markdown",
   "id": "400730d6-439b-4a27-a701-02cea3c2e248",
   "metadata": {},
   "source": [
    "We see that by default it assumes we want an atom fraction."
   ]
  },
  {
   "cell_type": "markdown",
   "id": "9c7b6a11-f282-4876-96bd-6eec8a63e11f",
   "metadata": {},
   "source": [
    "Now we need to assign a total density to the material. We'll use the `set_density` for this."
   ]
  },
  {
   "cell_type": "code",
   "execution_count": null,
   "id": "53d4a6be-d75c-478a-b0bc-1273b0b8d3e0",
   "metadata": {},
   "outputs": [],
   "source": []
  },
  {
   "cell_type": "markdown",
   "id": "1ff83a98-bd6f-46be-ab79-1d1069b03e5b",
   "metadata": {},
   "source": [
    "You may sometimes be given a material specification where all the nuclide densities are in units of atom/b-cm. In this case, you just want the density to be the sum of the constituents. In that case, you can simply run `mat.set_density('sum')`.\n",
    "\n",
    "With UO2 finished, let's now create materials for the clad and coolant. Note the use of `add_element()` for zirconium."
   ]
  },
  {
   "cell_type": "code",
   "execution_count": null,
   "id": "08205a74-b789-45e7-ba6b-4b96eee82e4a",
   "metadata": {},
   "outputs": [],
   "source": []
  },
  {
   "cell_type": "markdown",
   "id": "79200544-6932-4ca1-9e60-ccb28c01c8bc",
   "metadata": {},
   "source": [
    "### Element Expansion\n",
    "\n",
    "Did you notice something really cool that happened to our Fe and C elements? OpenMC automatically turned it into a list of nuclides when it exported it! The way this feature works is as follows:\n",
    "\n",
    "- First, it checks whether `Materials.cross_sections` has been set, indicating the path to a `cross_sections.xml` file.\n",
    "- If `Materials.cross_sections` isn't set, it looks for the `OPENMC_CROSS_SECTIONS` environment variable.\n",
    "- If either of these is found, it scans the file to see what nuclides are actually available and will expand elements accordingly."
   ]
  },
  {
   "cell_type": "code",
   "execution_count": null,
   "id": "f2622774-9e36-4c9d-9fe3-00609957b725",
   "metadata": {},
   "outputs": [],
   "source": []
  },
  {
   "cell_type": "markdown",
   "id": "57b0b3e5-c25a-421f-9f30-40c25bb76fd5",
   "metadata": {},
   "source": [
    "---\n",
    "## An aside on S($\\alpha$, $\\beta$) tables\n",
    "\n",
    "For systems with a significant thermal component to the neutron flux, it is important to augment the free atom cross sections we've used up to this point when possible. This can be done by using an $S(\\alpha,\\beta)$ table so that the bound atom cross section is used at thermal energies. To do this, there's an `add_s_alpha_beta()` method. Note the use of the GND-style name \"c_H_in_H2O\".\n",
    "\n",
    "```python\n",
    "water.add_s_alpha_beta('c_H_in_H2O')\n",
    "```\n",
    "\n",
    "---"
   ]
  },
  {
   "cell_type": "markdown",
   "id": "4fcebbf4-d648-45a9-8b47-9c192ac21aca",
   "metadata": {},
   "source": [
    "When we go to run the transport solver in OpenMC, it is going to look for a `materials.xml` file. Thus far, we have only created objects in memory. To actually create a `materials.xml` file, we need to instantiate a `Materials` collection and export it to XML."
   ]
  },
  {
   "cell_type": "code",
   "execution_count": null,
   "id": "4df7628a-a432-4cea-8aaa-426e21e04153",
   "metadata": {},
   "outputs": [],
   "source": []
  },
  {
   "cell_type": "markdown",
   "id": "1b56df00-a34c-4121-b7c1-eea3bc23671a",
   "metadata": {},
   "source": [
    "Note that `Materials` is actually a subclass of Python's built-in `list`, so we can use methods like `append()`, `insert()`, `pop()`, etc."
   ]
  },
  {
   "cell_type": "code",
   "execution_count": null,
   "id": "75161eaf-f7ef-474c-92e6-7c9706d2505e",
   "metadata": {},
   "outputs": [],
   "source": []
  },
  {
   "cell_type": "markdown",
   "id": "bb4fd6d4-caea-4a61-8280-b2474c864fca",
   "metadata": {},
   "source": [
    "Finally, we can create the XML file with the `export_to_xml()` method. In a Jupyter notebook, we can run a shell command by putting `!` before it, so in this case we are going to display the `materials.xml` file that we created."
   ]
  },
  {
   "cell_type": "code",
   "execution_count": null,
   "id": "592795fb-a6e0-467d-be94-ec8f4393edc6",
   "metadata": {},
   "outputs": [],
   "source": []
  },
  {
   "cell_type": "markdown",
   "id": "e65e8532-510d-4a71-94a6-12fbeb8287c1",
   "metadata": {},
   "source": [
    "We see that now He3 and He4 were automatically added. Other isotopes are missing because our cross sections file (which is based on ENDF/B-VII.1) doesn't contain data for them. If OpenMC didn't know about the cross sections file, it would have assumed that all isotopes exist."
   ]
  },
  {
   "cell_type": "markdown",
   "id": "78a3ea4c-215c-4e03-880c-ee185722b7d4",
   "metadata": {},
   "source": [
    "### Materials from a chemical formula"
   ]
  },
  {
   "cell_type": "code",
   "execution_count": null,
   "id": "6d121adf-635d-4448-8c2a-8969c408d945",
   "metadata": {},
   "outputs": [],
   "source": []
  },
  {
   "cell_type": "markdown",
   "id": "d8e0d80b-b154-4f37-b95b-a4e2cd5b68a6",
   "metadata": {},
   "source": [
    "### Material mixtures"
   ]
  },
  {
   "cell_type": "code",
   "execution_count": null,
   "id": "d68a34d8-46e5-4700-9a19-9c8903434e04",
   "metadata": {},
   "outputs": [],
   "source": []
  },
  {
   "cell_type": "markdown",
   "id": "66feda56-9b5f-417e-b4e4-0ec47e322fb9",
   "metadata": {},
   "source": [
    "### The `cross_sections.xml` file\n",
    "\n",
    "The `cross_sections.xml` tells OpenMC where it can find nuclide cross sections and $S(\\alpha,\\beta)$ tables. It serves the same purpose as MCNP's `xsdir` file and Serpent's `xsdata` file. As we mentioned, this can be set either by the `OPENMC_CROSS_SECTIONS` environment variable or the `Materials.cross_sections` attribute.\n",
    "\n",
    "Let's have a look at what's inside this file:"
   ]
  },
  {
   "cell_type": "code",
   "execution_count": null,
   "id": "d068ca2f-1acf-431a-89f5-b196417b6f19",
   "metadata": {},
   "outputs": [],
   "source": []
  },
  {
   "cell_type": "markdown",
   "id": "94a4c113-2a43-4845-a9d1-46816b8e7a27",
   "metadata": {},
   "source": [
    "The cross section dataset used by OpenMC can also be configured using the `openmc.config` property of the `openmc` module. Setting this property inside a Python interpreter session is equivalent to updating the cross sections environment variable discussed above."
   ]
  },
  {
   "cell_type": "code",
   "execution_count": null,
   "id": "8dfaf793-32c4-4b28-927d-1c146c55eccd",
   "metadata": {},
   "outputs": [],
   "source": [
    "# openmc.config['cross_sections'] = /path/to/my/xs/data/cross_sections.xml"
   ]
  },
  {
   "cell_type": "markdown",
   "id": "7c4bcae5-a336-4883-80bf-b4cd47171fa7",
   "metadata": {},
   "source": [
    "### Enrichment\n",
    "\n",
    "Note that the `add_element()` method has a special argument `enrichment` that can be used for Uranium. For example, if we know that we want to create 3% enriched UO2, the following would work:"
   ]
  },
  {
   "cell_type": "code",
   "execution_count": null,
   "id": "65116bc1-27ff-4330-abc7-46c99ac0f39c",
   "metadata": {},
   "outputs": [],
   "source": []
  },
  {
   "cell_type": "markdown",
   "id": "29f9d2be-6f78-4f14-90bb-28dc5fdebbd4",
   "metadata": {},
   "source": [
    "---"
   ]
  },
  {
   "cell_type": "markdown",
   "id": "85b0c3be-0866-4ef2-b32b-ea968244fedc",
   "metadata": {},
   "source": [
    "## Defining Geometry\n",
    "\n",
    "At this point, we have three materials defined, exported to XML, and ready to be used in our model. To finish our model, we need to define the geometric arrangement of materials. OpenMC represents physical volumes using constructive solid geometry (CSG), also known as combinatorial geometry. The object that allows us to assign a material to a region of space is called a `Cell` (same concept in MCNP, for those familiar). There are four major stages in building a cell:\n",
    "\n",
    "### Surfaces\n",
    "In order to define a region that we can assign to a cell, we must first define surfaces which bound the region. A *surface* is a locus of zeros of a function of Cartesian coordinates $x$, $y$, and $z$, e.g.\n",
    "\n",
    "- A plane perpendicular to the x axis: $x - x_0 = 0$\n",
    "- A cylinder parallel to the z axis: $(x - x_0)^2 + (y - y_0)^2 - R^2 = 0$\n",
    "- A sphere: $(x - x_0)^2 + (y - y_0)^2 + (z - z_0)^2 - R^2 = 0$\n",
    "\n",
    "Between those three classes of surfaces (planes, cylinders, spheres), one can construct a wide variety of models. It is also possible to define cones and general second-order surfaces.\n",
    "\n",
    "### Half-Spaces\n",
    "Note that defining a surface is not sufficient to specify a volume -- in order to define an actual volume, one must reference the half-space of a surface. A surface *half-space* is the region whose points satisfy a positive or negative inequality of the surface equation. For example, for a sphere of radius one centered at the origin, the surface equation is $f(x,y,z) = x^2 + y^2 + z^2 - 1 = 0$. Thus, we say that the negative half-space of the sphere, is defined as the collection of points satisfying $f(x,y,z) < 0$, which one can reason is the inside of the sphere. Conversely, the positive half-space of the sphere would correspond to all points outside of the sphere.\n",
    "\n",
    "### Regions\n",
    "A region is then a combination (or just one) half-space.\n",
    "\n",
    "### Cells\n",
    "\n",
    "A Cell ties a region together with a \"fill\" (see below). Cells can be grouped together into `Universes` to produce replicated geometry (discussed in more detail later).\n",
    "\n",
    "### Fills\n",
    "Finally, a cell is complete once we have defined what is _filling_ the cell, which may be one of:\n",
    "\n",
    "- material\n",
    "- nothing (`None`), or vacuum/void\n",
    "- universe\n",
    "- lattice"
   ]
  },
  {
   "cell_type": "code",
   "execution_count": null,
   "id": "68920615-38dd-4acb-a2de-a0226eb1e00d",
   "metadata": {},
   "outputs": [],
   "source": []
  },
  {
   "cell_type": "markdown",
   "id": "e915259c-13d9-4169-8850-a6db98ce93f0",
   "metadata": {},
   "source": [
    "Note that by default the sphere is centered at the origin so we didn't have to supply `x0`, `y0`, or `z0` arguments. Strictly speaking, we could have omitted `r` as well since it defaults to one. To get the negative or positive half-space, we simply need to apply the `-` or `+` unary operators, respectively.\n",
    "\n",
    "(NOTE: Those unary operators are defined by special methods: `__pos__` and `__neg__` in this case)."
   ]
  },
  {
   "cell_type": "code",
   "execution_count": null,
   "id": "618d262a-6b43-4786-932d-a173d65fc2e1",
   "metadata": {},
   "outputs": [],
   "source": []
  },
  {
   "cell_type": "markdown",
   "id": "7ff5d01e-c958-48b1-a95e-c8f6cacaff06",
   "metadata": {},
   "source": [
    "Now let's see if `inside_sphere` actually contains points inside the sphere:"
   ]
  },
  {
   "cell_type": "code",
   "execution_count": null,
   "id": "8563ac21-925a-47a3-b5e7-a34cc6454f83",
   "metadata": {},
   "outputs": [],
   "source": []
  },
  {
   "cell_type": "markdown",
   "id": "b630b160-60d7-4250-a7cc-508548ddb57a",
   "metadata": {},
   "source": [
    "Everything works as expected! Now that we understand how to create half-spaces, we can create more complex volumes by combining half-spaces using Boolean operators: `&` (intersection), `|` (union), and `~` (complement):\n",
    "\n",
    "- `&`: logical AND\n",
    "- `|`: logical OR\n",
    "- `~`: logical NOT\n",
    "\n",
    "For example, let's say we want to define a region that is the top part of the sphere (all points inside the sphere that have $z > 0$."
   ]
  },
  {
   "cell_type": "code",
   "execution_count": null,
   "id": "55d67e6e-8ab0-47e0-87ac-ca121d62ee49",
   "metadata": {},
   "outputs": [],
   "source": []
  },
  {
   "cell_type": "markdown",
   "id": "c01ea08f-ac50-486d-b8f9-4c3c82e82943",
   "metadata": {},
   "source": [
    "For many regions, OpenMC can automatically determine a bounding box. To get the bounding box, we use the `bounding_box` property of a region, which returns a tuple of the lower-left and upper-right Cartesian coordinates for the bounding box:"
   ]
  },
  {
   "cell_type": "code",
   "execution_count": null,
   "id": "c93009b2-92f3-48d0-9360-89514d08b07f",
   "metadata": {},
   "outputs": [],
   "source": []
  },
  {
   "cell_type": "markdown",
   "id": "ada93a32-5ddf-44eb-b508-9d8dd4723a15",
   "metadata": {},
   "source": [
    "Now that we see how to create volumes, we can use them to create a cell."
   ]
  },
  {
   "cell_type": "markdown",
   "id": "2bf87911-baae-4e31-81c8-bfa868b3458d",
   "metadata": {},
   "source": [
    "The full [list of available surfaces](https://docs.openmc.org/en/stable/pythonapi/base.html#building-geometry) is as follows.\n",
    "\n",
    "Planes:\n",
    "\n",
    "- `openmc.Plane` — An arbitrary plane of the form $Ax + By + Cz = D$\n",
    "- `openmc.XPlane` — A plane perpendicular to the x axis of the form $x - x_0 = 0$\n",
    "- `openmc.YPlane` — A plane perpendicular to the y axis of the form $y - y_0 = 0$\n",
    "- `openmc.ZPlane` — A plane perpendicular to the z axis of the form $z - z_0 = 0$\n",
    "\n",
    "Quadrics:\n",
    "\n",
    "- `openmc.XCylinder` — An infinite cylinder whose length is parallel to the x-axis of the form $(y - y_0)^2 + (z - z_0)^2 = r^2$\n",
    "- `openmc.YCylinder` — An infinite cylinder whose length is parallel to the x-axis of the form $(x - x_0)^2 + (z - z_0)^2 = r^2$\n",
    "- `openmc.ZCylinder` — An infinite cylinder whose length is parallel to the x-axis of the form $(x - x_0)^2 + (y - y_0)^2 = r^2$\n",
    "- `openmc.Sphere` — A sphere of the form $(x - x_0)^2 + (y - y_0)^2 + (z - z_0)^2 = r^2$\n",
    "- `openmc.XCone` — A cone parallel to the x-axis of the form $(y - y_0)^2 + (z - z_0)^2 = r^2 (x - x_0)^2$\n",
    "- `openmc.YCone` — A cone parallel to the y-axis of the form $(x - x_0)^2 + (z - z_0)^2 = r^2 (y - y_0)^2$\n",
    "- `openmc.ZCone` — A cone parallel to the z-axis of the form $(x - x_0)^2 + (y - y_0)^2 = r^2 (z - z_0)^2$\n",
    "- `openmc.Quadric` — A generic quadric surface\n",
    "\n",
    "Torii:\n",
    "\n",
    "- `openmc.XTorus` — A torus of the form $(x - x_0)^2/B^2 + (\\sqrt{(y - y_0)^2 + (z - z_0)^2} - A)^2/C^2 - 1 = 0$\n",
    "- `openmc.YTorus` — A torus of the form $(y - y_0)^2/B^2 + (\\sqrt{(x - x_0)^2 + (z - z_0)^2} - A)^2/C^2 - 1 = 0$\n",
    "- `openmc.ZTorus` — A torus of the form $(z - z_0)^2/B^2 + (\\sqrt{(x - x_0)^2 + (y - y_0)^2} - A)^2/C^2 - 1 = 0$"
   ]
  },
  {
   "cell_type": "markdown",
   "id": "76c66cd0-2fa7-40c9-a0e5-f443dc6958de",
   "metadata": {},
   "source": [
    "### Boundary Conditions\n",
    "\n",
    "When you create a surface, by default particles that pass through the surface will consider it to be transmissive, i.e. they pass through the surface freely. To specify boundary conditions, you simply need to set the `Surface.boundary_type` to one of:\n",
    "\n",
    "- `vacuum`\n",
    "- `reflective`\n",
    "- `periodic` (either rotational or translational)\n",
    "- `white`"
   ]
  },
  {
   "cell_type": "code",
   "execution_count": null,
   "id": "42ed665a-aa50-4765-88ba-4dc2aee47281",
   "metadata": {},
   "outputs": [],
   "source": []
  },
  {
   "cell_type": "markdown",
   "id": "ccde801f-0dd4-4341-afb4-c74ead263d24",
   "metadata": {},
   "source": [
    "By default, the cell is not filled by any material (void). In order to assign a material, we set the `fill` property of a `Cell`."
   ]
  },
  {
   "cell_type": "code",
   "execution_count": null,
   "id": "e909abe4-ca4f-4d40-8c4e-972528a8be77",
   "metadata": {},
   "outputs": [],
   "source": []
  },
  {
   "cell_type": "markdown",
   "id": "1af95209-5de3-4899-aff8-a0c75b2dbd5e",
   "metadata": {},
   "source": [
    "## Universes and in-line plotting"
   ]
  },
  {
   "cell_type": "markdown",
   "id": "4ee8e5bc-dccc-4dcc-9ad5-8e12055679c8",
   "metadata": {},
   "source": [
    "A collection of cells is known as a universe (again, this will be familiar to MCNP/Serpent users) and can be used as a repeatable unit when creating a model. Although we don't need it yet, the benefit of creating a universe is that we can visualize our geometry while we're creating it."
   ]
  },
  {
   "cell_type": "code",
   "execution_count": null,
   "id": "9a68fb0b-e8a5-4e96-affc-1c176e5be7de",
   "metadata": {},
   "outputs": [],
   "source": []
  },
  {
   "cell_type": "markdown",
   "id": "d058f7cf-887c-458a-a6b3-0c46aa40a217",
   "metadata": {},
   "source": [
    "The `Universe` object has a `plot` method that will display our the universe as current constructed:"
   ]
  },
  {
   "cell_type": "code",
   "execution_count": null,
   "id": "414dd3c0-aac2-4fec-85e4-de2a38bca081",
   "metadata": {},
   "outputs": [],
   "source": []
  },
  {
   "cell_type": "markdown",
   "id": "9e966c31-65e0-42e1-8d06-23c06cf63280",
   "metadata": {},
   "source": [
    "By default, the plot will appear in the $x$-$y$ plane. We can change that with the `basis` argument."
   ]
  },
  {
   "cell_type": "code",
   "execution_count": null,
   "id": "db9229bc-3739-4359-9f07-7520497e3d6d",
   "metadata": {},
   "outputs": [],
   "source": []
  },
  {
   "cell_type": "markdown",
   "id": "ea046942-af74-4e7c-9529-6a031a79be0f",
   "metadata": {},
   "source": [
    "If we have particular fondness for, say, fuchsia, we can tell the `plot()` method to make our cell that color."
   ]
  },
  {
   "cell_type": "code",
   "execution_count": null,
   "id": "dfafbbc2-68b9-4da9-8f30-cc1789229790",
   "metadata": {},
   "outputs": [],
   "source": []
  },
  {
   "cell_type": "markdown",
   "id": "6f06cec8-e798-4a27-baf4-523561eee599",
   "metadata": {},
   "source": [
    "---"
   ]
  },
  {
   "cell_type": "markdown",
   "id": "a14a88d8-af4c-4ea6-903b-b52b4d294ed5",
   "metadata": {},
   "source": [
    "## The CEFR pincell geometry\n",
    "\n",
    "We now have enough knowledge to create our pin-cell. For CEFR, we need four surfaces to define the fuel and clad:\n",
    "\n",
    "1. The inner surface of the fuel hole -- a cylinder parallel to the z axis\n",
    "2. The outer surface of the fuel -- same as above\n",
    "3. The inner surface of the cladding -- same as above\n",
    "4. The outer surface of the cladding -- same as above\n",
    "\n",
    "These four surfaces will all be instances of `openmc.ZCylinder`, each with a different radius according to the specification."
   ]
  },
  {
   "cell_type": "code",
   "execution_count": null,
   "id": "73459515-773d-4c8f-9e8e-4b9029487dfb",
   "metadata": {},
   "outputs": [],
   "source": []
  },
  {
   "cell_type": "markdown",
   "id": "68f2773b-2422-451b-a144-e103c54bffa3",
   "metadata": {},
   "source": [
    "Finally, we need to handle the coolant outside of our fuel pin. To do this, we create x- and y-planes that bound the geometry."
   ]
  },
  {
   "cell_type": "code",
   "execution_count": null,
   "id": "1eb35760-c7e5-4645-a5b6-b292c4dc7bb4",
   "metadata": {},
   "outputs": [],
   "source": []
  },
  {
   "cell_type": "markdown",
   "id": "c21ab607-ca9f-428d-86e6-59795611e4c7",
   "metadata": {},
   "source": [
    "The sodium region is going to be everything outside of the clad outer radius and within the box formed as the intersection of four half-spaces."
   ]
  },
  {
   "cell_type": "code",
   "execution_count": null,
   "id": "8e6a57a6-f6e0-423d-a64c-d9b7963b07df",
   "metadata": {},
   "outputs": [],
   "source": []
  },
  {
   "cell_type": "markdown",
   "id": "6e7c740f-bed5-49e2-80f6-3c1ea0e3f57a",
   "metadata": {},
   "source": [
    "The final step is to assign the cells we created to a universe and tell OpenMC that this universe is the \"root\" universe in our geometry. The `Geometry` is the final object that is actually exported to XML."
   ]
  },
  {
   "cell_type": "code",
   "execution_count": null,
   "id": "ea6ef5c7-0d33-49de-b7f8-5e850b6583fb",
   "metadata": {},
   "outputs": [],
   "source": []
  },
  {
   "cell_type": "markdown",
   "id": "4ad9256d-5ea3-49cd-8a6b-86303e1d873d",
   "metadata": {},
   "source": [
    "# Starting source and settings\n",
    "\n",
    "The Python API has a module `openmc.stats` with various univariate and multivariate probability distributions. We can use these distributions to create a starting source using the `openmc.Source` object. One can independently specify the spatial distribution (`space`), the angular distribution (`angle`), the energy distribution (`energy`), and the time distribution (`time`). For this example, we'll only specify the spatial distribution as a single point."
   ]
  },
  {
   "cell_type": "code",
   "execution_count": null,
   "id": "1f2220d5-60bf-4b48-a980-07042b687d41",
   "metadata": {},
   "outputs": [],
   "source": []
  },
  {
   "cell_type": "markdown",
   "id": "96277744-e66f-42f9-9a3c-6bb841b61d8e",
   "metadata": {},
   "source": [
    "Now let's create a `Settings` object and give it the source we created along with specifying how many batches and particles we want to run."
   ]
  },
  {
   "cell_type": "code",
   "execution_count": null,
   "id": "36899932-8c80-4c8c-aa16-aa57b7923c28",
   "metadata": {},
   "outputs": [],
   "source": []
  },
  {
   "cell_type": "markdown",
   "id": "a302e2cc-7b16-4723-ad6c-3bcc1ebb0d8b",
   "metadata": {},
   "source": [
    "---"
   ]
  },
  {
   "cell_type": "markdown",
   "id": "6838fead-34c0-4c50-a858-9ecd4c622f89",
   "metadata": {},
   "source": [
    "## Temperature Treatment\n",
    "\n",
    "Generally, cross section data in OpenMC is specified at specific temperature values. Material or cell temperatures between these values can be used, however. OpenMC can model the temperature using a few different techniques:\n",
    "\n",
    "  - **nearest**: OpenMC will use the nearest temperature cross section data available within some tolerance\n",
    "  - **interpolate**: OpenMC will interpolate between the two nearest temperatures\n",
    "\n",
    "[temperature treatment documentation](https://ec2-44-193-2-67.compute-1.amazonaws.com/)"
   ]
  },
  {
   "cell_type": "markdown",
   "id": "14d4cf81-98b0-487c-a4c7-6763dfdca59f",
   "metadata": {},
   "source": [
    "For the CEFR model, we'll treat all of our materials as if they were at 523.15 K."
   ]
  },
  {
   "cell_type": "code",
   "execution_count": null,
   "id": "f7353004-269e-4126-8b80-aaf60aad720c",
   "metadata": {},
   "outputs": [],
   "source": []
  },
  {
   "cell_type": "markdown",
   "id": "35308369-64da-4d69-b6ea-ad9dc0da6fd0",
   "metadata": {},
   "source": [
    "---"
   ]
  },
  {
   "cell_type": "markdown",
   "id": "77906082-02cf-4417-a398-d21af3f4d7cd",
   "metadata": {},
   "source": [
    "# Running OpenMC\n",
    "\n",
    "Running OpenMC from Python can be done using the `openmc.run()` function. This function allows you to set the number of MPI processes and OpenMP threads, if need be."
   ]
  },
  {
   "cell_type": "code",
   "execution_count": null,
   "id": "25c0bb01-f4d7-4d09-9a60-fa6b21dfa9e4",
   "metadata": {},
   "outputs": [],
   "source": []
  },
  {
   "cell_type": "markdown",
   "id": "3ba48093-1af6-48ce-824f-d8ea127b8a12",
   "metadata": {},
   "source": [
    "Great! OpenMC already told us our k-effective."
   ]
  },
  {
   "cell_type": "markdown",
   "id": "877de87c-03fd-4231-840f-ca036ecfe771",
   "metadata": {},
   "source": [
    "# Geometry plotting\n",
    "\n",
    "We saw before that we could call the `Universe.plot()` method to show a universe while we were creating our geometry. There is also a built-in plotter in the codebase that is much faster than the Python plotter and has more options. The interface looks somewhat similar to the `Universe.plot()` method. Instead though, we create `Plot` instances, assign them to a `Plots` collection, export it to XML, and then run OpenMC in geometry plotting mode. As an example, let's specify that we want the plot to be colored by material (rather than by cell) and we assign yellow to fuel and blue to water."
   ]
  },
  {
   "cell_type": "code",
   "execution_count": null,
   "id": "a890e5e9-0b86-47a0-9b1b-28109c5d9afa",
   "metadata": {},
   "outputs": [],
   "source": []
  },
  {
   "cell_type": "markdown",
   "id": "132e781a-b80e-4df5-88c4-eddc61101e4a",
   "metadata": {},
   "source": [
    "With our plot created, we need to add it to a `Plots` collection which can be exported to XML."
   ]
  },
  {
   "cell_type": "code",
   "execution_count": null,
   "id": "75b3ab5e-4ba3-4d16-aea8-3471edae54c4",
   "metadata": {},
   "outputs": [],
   "source": []
  },
  {
   "cell_type": "markdown",
   "id": "df1bd125-ab83-41d2-ad1e-4a67778fa7dd",
   "metadata": {},
   "source": [
    "Now, we can use functionality from IPython to display the `.png` image inline in our notebook:"
   ]
  },
  {
   "cell_type": "code",
   "execution_count": null,
   "id": "87e8ad92-efb6-4269-8273-d0da50601fef",
   "metadata": {},
   "outputs": [],
   "source": []
  },
  {
   "cell_type": "markdown",
   "id": "467c3cd0-a78e-4906-a914-32ef73784468",
   "metadata": {},
   "source": [
    "OpenMC also provides us with a method on the `Plot` class that simplifies the workflow."
   ]
  },
  {
   "cell_type": "code",
   "execution_count": null,
   "id": "faac29b2-4525-49f9-ba56-0b183d0a59ca",
   "metadata": {},
   "outputs": [],
   "source": []
  },
  {
   "cell_type": "markdown",
   "id": "e98df967-d742-4e6c-8dca-dcdf17032aa4",
   "metadata": {},
   "source": [
    "# The `Model` class\n",
    "\n",
    "So far, we've seen that to create and simulate a model, we had to create an instance of `Geometry`, `Materials`, and `Settings` and call the `export_to_xml` method on each of them. OpenMC also provides a `Model` class that aggregates these classes together an provides a single `export_to_xml` method that will export all files."
   ]
  },
  {
   "cell_type": "code",
   "execution_count": null,
   "id": "8b452e7b-8a4c-48bb-92fa-e29119c84d8c",
   "metadata": {},
   "outputs": [],
   "source": []
  },
  {
   "cell_type": "markdown",
   "id": "f27f59f2-d369-4f7b-8d89-c54ffa2cb2ea",
   "metadata": {},
   "source": [
    "The `Model` class also has `run` method that will both export single XML file (`model.xml`) *and* run a simulation, returning the name of the last statepoint file that was written:"
   ]
  },
  {
   "cell_type": "markdown",
   "id": "4481035b-8d3b-41bd-9930-579581454e04",
   "metadata": {},
   "source": [
    "<div class=\"alert alert-block alert-info\">\n",
    "Note: If both separate XML inputs (`materials.xml`, `geometry.xml`, `settings.xml`, ...) and a `model.xml` file are both present in OpenMC's run directory, the `model.xml` fill will be used instead of the separate XML inputs.    \n",
    "</div>"
   ]
  },
  {
   "cell_type": "code",
   "execution_count": null,
   "id": "2798e7da-587c-4b6e-a657-d2cd0aad16ee",
   "metadata": {},
   "outputs": [],
   "source": []
  },
  {
   "cell_type": "markdown",
   "id": "eaacd3ac-4c13-4bcd-a06c-70ad56b63f8b",
   "metadata": {},
   "source": [
    "As we'll see later, the `Model` class has other useful features and can be very useful for postprocessing work."
   ]
  },
  {
   "cell_type": "markdown",
   "id": "856a3443-3605-416e-8216-09f574a70db8",
   "metadata": {},
   "source": [
    "---"
   ]
  },
  {
   "cell_type": "markdown",
   "id": "5ae2241e-7272-485b-b3b8-95fb48ee2edf",
   "metadata": {},
   "source": [
    "# Basic Tallies in OpenMC"
   ]
  },
  {
   "cell_type": "markdown",
   "id": "96c50839-f62b-43b2-9c34-7af7a51f6423",
   "metadata": {},
   "source": [
    "**Learning Objectives:**\n",
    "\n",
    "  - Understand application of filters and scores to create tallies\n",
    "  - Apply tallies to an OpenMC simulation\n",
    "  - Extract information from OpenMC statepoint files\n",
    "  - Understand tally units and normalization\n",
    "  - Plot tally results"
   ]
  },
  {
   "cell_type": "markdown",
   "id": "079fb3ee-dd13-4fdc-96a7-ccb88db6caf8",
   "metadata": {},
   "source": [
    "In this section, we'll be looking at how to extract custom information from an OpenMC simulation in what is known as a tally. A tally accumulates statistical information during the simulation about particles when they eneter regions of phase space specified on the tally. The limits of these regions are set by filters applied to the tally. Scores and nuclides can also be applied to tallies to indicate what type of information is kept about the particle (e.g. reaction types, flux, heat, etc.)."
   ]
  },
  {
   "cell_type": "markdown",
   "id": "17638a7c-e919-4f5c-ad28-1758a5f9ada7",
   "metadata": {},
   "source": [
    "Any tally in OpenMC can be described with the following form:\n",
    "\n",
    "$$ \n",
    " X = \\underbrace{\\int d\\mathbf{r} \\int d\\mathbf{\\Omega} \\int\n",
    "    dE}_{\\text{filters}} \\underbrace{f(\\mathbf{r}, \\mathbf{\\Omega},\n",
    "    E)}_{\\text{scores}} \\psi (\\mathbf{r}, \\mathbf{\\Omega}, E)\n",
    "$$\n",
    "\n",
    "where filters set the limits of the integrals and the scoring function is convolved with particle information (e.g. reaction type, current material, etc.)."
   ]
  },
  {
   "cell_type": "markdown",
   "id": "1935048f-4a6e-4af8-a507-6fabe92f6d9b",
   "metadata": {},
   "source": [
    "First, we'll import a few additional packages to help manage data and visualize results."
   ]
  },
  {
   "cell_type": "code",
   "execution_count": null,
   "id": "3466ba31-8d1b-47e1-9c90-750cfa29fbb5",
   "metadata": {},
   "outputs": [],
   "source": []
  },
  {
   "cell_type": "markdown",
   "id": "8653bdb0-9456-4fd7-94f8-4f9fb6e827d4",
   "metadata": {},
   "source": [
    "We'll continue to work with the CEFR pincell model we've developed thus far. Let's explore that model further."
   ]
  },
  {
   "cell_type": "code",
   "execution_count": null,
   "id": "7b59e171-126d-4dd4-8e2c-0734200c4c6e",
   "metadata": {},
   "outputs": [],
   "source": []
  },
  {
   "cell_type": "markdown",
   "id": "42ad4cc8-3260-4037-a3cc-d8a045e8af9e",
   "metadata": {},
   "source": [
    "In this exercise we'll be adding tallies to perform a few different tasks:\n",
    "\n",
    "\n",
    "  **1. Determine the energy and heat produced per fission** \\\n",
    "  **2. Plot the flux spectrum of the pincell** \\\n",
    "  **3. Plot reaction types based on material**\n",
    "  \n",
    "To do this we'll use a variety of different filters applied to different tallies. "
   ]
  },
  {
   "cell_type": "markdown",
   "id": "97edb404-462d-4683-b4d4-4966b9461479",
   "metadata": {},
   "source": [
    "First, to determine the recoverable energy produced per fission we'll create a tally without filters to gather information on the fission reaction rate (\"`fission`\") and recoverable fission energy (\"`kappa-fission`\"). Because we want this information talllied throughout the model, a \"global\" tally, no filters need to be applied.\n",
    "\n"
   ]
  },
  {
   "cell_type": "markdown",
   "id": "756c12af-7898-49d9-8048-99fbc4df5725",
   "metadata": {},
   "source": [
    "<div class=\"alert alert-block alert-info\">\n",
    "A full list of scores and their meanings can be found <a href=https://docs.openmc.org/en/stable/usersguide/tallies.html#scores >here</a>.\n",
    "</div>"
   ]
  },
  {
   "cell_type": "markdown",
   "id": "2deed201-881e-4189-9a28-2436ad551467",
   "metadata": {},
   "source": [
    "## Task 1: Energy released per fission"
   ]
  },
  {
   "cell_type": "markdown",
   "id": "dcb39bd1-def0-4073-8717-05c795f833eb",
   "metadata": {},
   "source": [
    "## [Link to tally score descriptions](https://docs.openmc.org/en/stable/usersguide/tallies.html#scores)"
   ]
  },
  {
   "cell_type": "code",
   "execution_count": null,
   "id": "8667d158-2543-44f6-8369-2e885d0e5bf4",
   "metadata": {},
   "outputs": [],
   "source": []
  },
  {
   "cell_type": "markdown",
   "id": "87f39814-257c-40d2-bcff-c24de5b44a79",
   "metadata": {},
   "source": [
    "Similar to the `openmc.Materials` object, the `openmc.Tallies` object is a sub-class of Python's built-in `list` and is used to collect tallies for appliction to the model."
   ]
  },
  {
   "cell_type": "code",
   "execution_count": null,
   "id": "807e3ea6-67d5-452e-b04f-7210af2d503f",
   "metadata": {},
   "outputs": [],
   "source": []
  },
  {
   "cell_type": "markdown",
   "id": "b4c5744f-781d-41ab-bdc2-592af80837bd",
   "metadata": {},
   "source": [
    "If we list our current directory, we see that several new files have been created as a result of this run: `summary.h5`, `tallies.out`, and `statepoint.50.h5`. The summary file contains information about the simulation's setup (geometry, materials, meshes, etc.) in an HDF5 format. The `tallies.out` file contains a text output of all user-specified tallies for the simulation."
   ]
  },
  {
   "cell_type": "code",
   "execution_count": null,
   "id": "b7f4ef75-fdd4-4881-af87-b4f793a61201",
   "metadata": {},
   "outputs": [],
   "source": []
  },
  {
   "cell_type": "markdown",
   "id": "61c132dd-46c7-4452-af39-8b8a37ec31ba",
   "metadata": {},
   "source": [
    "This can be useful to quickly look at simple tally results, but isn't a great format to post-process simulation data. For that we'll look to the statepoint file."
   ]
  },
  {
   "cell_type": "code",
   "execution_count": null,
   "id": "8ed48215-6c86-46aa-ab4f-6ee4c268b345",
   "metadata": {},
   "outputs": [],
   "source": []
  },
  {
   "cell_type": "markdown",
   "id": "084e771a-4f43-456c-8c76-74cfb3ee08a1",
   "metadata": {},
   "source": [
    "To extract information from the statepoint file we'll create an `openmc.StatePoint` object. The `statepoint.get_tally` function will search for tallies by scores, filters, nuclides, ids, and return the closest match. Exact matches can be speficied as well."
   ]
  },
  {
   "cell_type": "code",
   "execution_count": null,
   "id": "029d41f5-6dfd-4045-8f58-92455b3402ec",
   "metadata": {},
   "outputs": [],
   "source": []
  },
  {
   "cell_type": "markdown",
   "id": "40a25dc0-1ea6-4d9f-a3c6-752040a0045b",
   "metadata": {},
   "source": [
    "If we print the tally objects returned, we see that they indeed match the tally specification we generated above."
   ]
  },
  {
   "cell_type": "code",
   "execution_count": null,
   "id": "eaf78d77-3cf5-4152-abaa-3b848d3b4db1",
   "metadata": {},
   "outputs": [],
   "source": []
  },
  {
   "cell_type": "markdown",
   "id": "01680e7c-d6aa-4f45-9ac9-258452dc8362",
   "metadata": {
    "tags": []
   },
   "source": [
    "<div class=\"alert alert-block alert-info\">\n",
    "<b>A quick aside on how statepoint objects interact with summary files:</b>\n",
    "\n",
    "\n",
    "The `openmc.statepoint` object will read information from the `summary.h5` file if one is present, keeping that file open in the Python interpreter. The open `summary.h5` file can interfere with the initialization of subsequent OpenMC simulations. It is recommended that information be extracted from statepoints within a [context manager](https://book.pythontips.com/en/latest/context_managers.html) as we do here. Alternatively, making sure to call the `openmc.StatePoint.close` method will work also. For more details please look to the [relevant section in the user's guide](https://docs.openmc.org/en/stable/usersguide/troubleshoot.html#runtimeerror-failed-to-open-hdf5-file-with-mode-w-summary-h5).   \n",
    "</div>\n",
    "\n"
   ]
  },
  {
   "cell_type": "markdown",
   "id": "9e8422e5-b42d-41f9-95a8-675cb55ec418",
   "metadata": {},
   "source": [
    "To compute the energy released per fission event, we can simply take the tallied energy released per fission and divide it by the fission rate."
   ]
  },
  {
   "cell_type": "code",
   "execution_count": null,
   "id": "83fb1459-f5b5-45de-920a-90bbc1bb6763",
   "metadata": {},
   "outputs": [],
   "source": []
  },
  {
   "cell_type": "markdown",
   "id": "7563089a-a924-48b6-ba94-30e0b7ed20cf",
   "metadata": {},
   "source": [
    "The array of results returned from the `Tally.get_values` method returns an array with 3 dimensions: one for filter bins, one for nuclides, and one for the scores requested."
   ]
  },
  {
   "cell_type": "code",
   "execution_count": null,
   "id": "8adb218e-26d1-4011-8e51-789842f53478",
   "metadata": {},
   "outputs": [],
   "source": [
    "help(openmc.Tally.get_values)"
   ]
  },
  {
   "cell_type": "code",
   "execution_count": null,
   "id": "74a2b6f7-adea-4347-9963-9c49ffd6fe68",
   "metadata": {},
   "outputs": [],
   "source": []
  },
  {
   "cell_type": "markdown",
   "id": "2e2ebdb6-d4d0-48ee-8c5a-502cae0ad20f",
   "metadata": {},
   "source": [
    "For a water reactor with U235 as the only fissioning isotope this is about what we would expect: ~193-194 MeV! Okay, on to some new tallies with filters.\n",
    "\n",
    "As with most values coming out of an MC code, the tally values in the statepoint file are per source-particle. In this case, these units cancel out, but this will not be the case in our next example."
   ]
  },
  {
   "cell_type": "markdown",
   "id": "db92b393-1417-48a1-bb51-4f87dd7f3c28",
   "metadata": {},
   "source": [
    "---"
   ]
  },
  {
   "cell_type": "markdown",
   "id": "5fe0f7f9-6e08-4f57-977b-16e1f8221b50",
   "metadata": {},
   "source": [
    "## Task 2: Plot the neutron flux spectrum\n"
   ]
  },
  {
   "cell_type": "markdown",
   "id": "cd46ea8f-7073-4e1e-a9a7-06e30e219b53",
   "metadata": {},
   "source": [
    "To perform this task, we'll be applying a tally with an energy filter and a score. OpenMC's data module contains different group structures. For this problem we'll use the CASMO-70 group structure. An energy filter can easily be created from a pre-defined group structure in OpenMC as follows:"
   ]
  },
  {
   "cell_type": "code",
   "execution_count": null,
   "id": "df82557c-1d1e-4876-8574-7e1d2d2492c2",
   "metadata": {},
   "outputs": [],
   "source": []
  },
  {
   "cell_type": "markdown",
   "id": "84eed2e3-bb18-49ce-b174-e714e003a612",
   "metadata": {},
   "source": [
    "Now we'll apply this tally and re-run the problem"
   ]
  },
  {
   "cell_type": "code",
   "execution_count": null,
   "id": "071b169d-fc52-443d-82dc-9972705e9ac4",
   "metadata": {},
   "outputs": [],
   "source": []
  },
  {
   "cell_type": "markdown",
   "id": "32e3864d-cbec-4dc7-b97e-991908548880",
   "metadata": {},
   "source": [
    "Now to plot the spectrum"
   ]
  },
  {
   "cell_type": "code",
   "execution_count": null,
   "id": "88a982d5-80b3-4c56-a775-9cb67bcfd1ad",
   "metadata": {},
   "outputs": [],
   "source": []
  },
  {
   "cell_type": "markdown",
   "id": "b99d47d4-0ae6-40f4-ab66-1bd6efa29f0f",
   "metadata": {},
   "source": [
    "## Normalizing Tallies"
   ]
  },
  {
   "cell_type": "markdown",
   "id": "d7ce43d7-4358-4e56-8394-03f9df1adf0e",
   "metadata": {},
   "source": [
    "Note that the units of flux in the above plot are in $\\frac{particle-cm}{source-particle}$. As is the case with many values tallied by Monte Carlo codes, the value of the flux does not account for volume and is in terms of the number of source particles emitted. To generate this same plot in terms of absolute flux units ($\\frac{particle}{cm^{2}-s}$) we'll need to normalize this tally by:\n",
    "\n",
    "  - the volume of the region the tally covers\n",
    "  - the number of source particle emitted\n",
    "\n",
    "In this case, the volume of the region is the volume of the entire pincell. Because we're working with a 2-D model, we'll get units that give us the flux per unit length of the pincell in the axial direction. For simplicity, we'll assume that our pincell is 1 cm in height to make life easier. OpenMC's geometry object allows for computation of a bounding box for geometries like this that will help make this more straight forward."
   ]
  },
  {
   "cell_type": "code",
   "execution_count": null,
   "id": "8860671a-20f7-444f-bf03-6fd1a13ae39f",
   "metadata": {},
   "outputs": [],
   "source": []
  },
  {
   "cell_type": "markdown",
   "id": "ac50e797-098f-430b-8b93-a43164ee12af",
   "metadata": {},
   "source": [
    "Determining the number of source particles per second is more complicated, however. This means computing the eV/source particle due to fission. To get the source rate, we'll need the following pieces of information:\n",
    "\n",
    "  1. the total power produced in the tally region (known a priori)\n",
    "  2. the heat produced by fission power, per source particle\n",
    "  \n",
    " To get this information we'll need to construct another tally to get additional information from the simulation."
   ]
  },
  {
   "cell_type": "code",
   "execution_count": null,
   "id": "49dbc200-1df9-42c4-8b72-b5f0958b498b",
   "metadata": {},
   "outputs": [],
   "source": []
  },
  {
   "cell_type": "markdown",
   "id": "0330130f-af46-4158-a750-13d8be2b91ad",
   "metadata": {},
   "source": [
    "The combination of the following tally values and power provide us with the source normalization needed as follows:\n",
    "\n",
    "\n",
    "$$ \\text{neutron source} [\\frac{n}{s}] = \\frac{1}{\\text{heat per fission} [\\frac{eV}{source}]} [\\frac{source}{eV}]\\times \\frac{1}{1.6\\times 10^{-19}} [\\frac{eV}{J}] \\times \\text{power} [\\frac{J}{s}]$$ "
   ]
  },
  {
   "cell_type": "code",
   "execution_count": null,
   "id": "5adf481f-c808-4abf-a842-a8fbef9c7e57",
   "metadata": {},
   "outputs": [],
   "source": []
  },
  {
   "cell_type": "markdown",
   "id": "2f3aa839-02b6-4f62-8e2d-fc85a2890b7e",
   "metadata": {},
   "source": [
    "We can now use this information to normalize our flux values and reproduce our plot in more standard units."
   ]
  },
  {
   "cell_type": "code",
   "execution_count": null,
   "id": "c10c9d9e-8ba0-4e5d-9704-1395183fddf2",
   "metadata": {},
   "outputs": [],
   "source": []
  },
  {
   "cell_type": "markdown",
   "id": "631eec61-2ebe-42bc-b96d-d0cc7e28c437",
   "metadata": {},
   "source": [
    "---"
   ]
  },
  {
   "cell_type": "markdown",
   "id": "6b2d29eb-3cf3-4b6e-87ab-dc7e8b76c93b",
   "metadata": {},
   "source": [
    "## Task 3: Reaction Types by Material"
   ]
  },
  {
   "cell_type": "markdown",
   "id": "2630c1c7-1957-45f4-8af9-89cbd5be30a8",
   "metadata": {},
   "source": [
    "Looking at the different reaction types by material will require a material filter and the set of reaction types we want to score. For this example, we'll be scoring absorption, scattering and fission in each material.\n",
    "\n",
    "To start, we'll create a material filter."
   ]
  },
  {
   "cell_type": "code",
   "execution_count": null,
   "id": "8b4e2493-a04e-461b-9907-13cc14699935",
   "metadata": {},
   "outputs": [],
   "source": []
  },
  {
   "cell_type": "markdown",
   "id": "24c45ea6-dc6c-4bc0-bbd9-9b29f8754389",
   "metadata": {},
   "source": [
    "Now we'll gather information from the statepoint file about each score we applied to the tally. With multiple scores and materials, we'll use a Pandas data frame to view the results in a more coherent manner."
   ]
  },
  {
   "cell_type": "code",
   "execution_count": null,
   "id": "de96b3de-ce74-461c-a9fe-7f99146bcbef",
   "metadata": {},
   "outputs": [],
   "source": []
  },
  {
   "cell_type": "markdown",
   "id": "159a649f-13ea-4ba7-ac0f-a4d6a02af4e7",
   "metadata": {},
   "source": [
    "Each score has three values -- one for each material in the model."
   ]
  },
  {
   "cell_type": "code",
   "execution_count": null,
   "id": "ec5ef4bf-c3ba-44ec-82d9-a2fefe3f7d5e",
   "metadata": {},
   "outputs": [],
   "source": []
  },
  {
   "cell_type": "markdown",
   "id": "37be1638-d09e-4625-a9c2-40b6a5c813c7",
   "metadata": {},
   "source": [
    "First, we'll add a new column to the data frame with normalized results."
   ]
  },
  {
   "cell_type": "code",
   "execution_count": null,
   "id": "eb59895b-6988-4aba-b3f1-295226172aec",
   "metadata": {},
   "outputs": [],
   "source": []
  },
  {
   "cell_type": "markdown",
   "id": "dad16d92-4c2c-48da-8e0a-dd0f1d3e83ae",
   "metadata": {},
   "source": [
    "We'll add a new entry in the dataframe for our material names to make plotting easier."
   ]
  },
  {
   "cell_type": "code",
   "execution_count": null,
   "id": "eb79cc84-fae4-44b1-92c3-9b6cf605ba93",
   "metadata": {},
   "outputs": [],
   "source": []
  },
  {
   "cell_type": "markdown",
   "id": "fcc9de35-ad94-4344-a0c3-b8ecccf5da5c",
   "metadata": {},
   "source": [
    "---"
   ]
  },
  {
   "cell_type": "markdown",
   "id": "2abb7ee1-ecbb-484d-984a-7a19d5a7cc4b",
   "metadata": {},
   "source": [
    "# Universes\n",
    "\n",
    "A universe is a collection of cells that can be used as a repeatable unit in the geometry. At a minimum, there must be one \"root\" universe (say, named `root`), which gets passed to `openmc.Geometry(root)`. But you can also use universes to repeat a collection of cells multiple times throughout a geometry. Here, we will explore some basic features of universes.\n",
    "\n",
    "We'll start by making a universe which looks similar to the pincell we built earlier - say, a cylinder of UO2 enclosed by an infinite region of water. First, we set up our materials and create our geometry."
   ]
  },
  {
   "cell_type": "markdown",
   "id": "14d5fa36-7449-47b2-9352-217c120ade4b",
   "metadata": {},
   "source": [
    "First, let's make a simplified pincell model to explore how universes work."
   ]
  },
  {
   "cell_type": "code",
   "execution_count": null,
   "id": "acbd993a-13d6-4ef1-9d8d-dd5f994246da",
   "metadata": {},
   "outputs": [],
   "source": []
  },
  {
   "cell_type": "markdown",
   "id": "8e6bb4b6-56fc-479c-97a4-511ff6541228",
   "metadata": {},
   "source": [
    "We have created a universe containing a pin, enclosed in an infinite medium of water. Now let's suppose that I want to fill this universe into an enclosing cell, a cylinder of radius 5 cm. Let's first create this cylinder, and then we will fill it with our `universe`."
   ]
  },
  {
   "cell_type": "code",
   "execution_count": null,
   "id": "383e3426-e503-4281-82c5-ef205f98dd12",
   "metadata": {},
   "outputs": [],
   "source": []
  },
  {
   "cell_type": "markdown",
   "id": "062777d8-3d0b-4ebb-972b-f58045d89f30",
   "metadata": {},
   "source": [
    "Let's take a look at our geometry. In order to visualize at this stage, we need to create a universe from our `big_cell`."
   ]
  },
  {
   "cell_type": "code",
   "execution_count": null,
   "id": "9bdd1733-2b11-486a-9e98-befeb0ac6c23",
   "metadata": {},
   "outputs": [],
   "source": []
  },
  {
   "cell_type": "markdown",
   "id": "8256ba98-f7d1-489d-8459-50240a7c9d5b",
   "metadata": {},
   "source": [
    "We can see that our `big_cell`, the large cylinder, has been filled with the `universe` we declared earlier. Let's increase the complexity a bit to understand how this filling works. What if the cylinder of UO2 in our `universe` is not located at the origin, but is instead shifted to a different position?"
   ]
  },
  {
   "cell_type": "code",
   "execution_count": null,
   "id": "d7e95aed-d4a0-4342-85d2-9e6f52f05828",
   "metadata": {},
   "outputs": [],
   "source": []
  },
  {
   "cell_type": "markdown",
   "id": "cdd198c1-1cc3-4aba-a1b2-4cf5532c2d5c",
   "metadata": {},
   "source": [
    "We see that when we fill a universe inside of another cell, that there's (by default) no transformation of coordinates. You can shift the position of the universe filling a cell with the `Cell.translation` attribute. There are similar adjustments you can make, like rotations."
   ]
  },
  {
   "cell_type": "code",
   "execution_count": null,
   "id": "d29f4198-20a4-4a1f-b103-19951cb41842",
   "metadata": {},
   "outputs": [],
   "source": []
  },
  {
   "cell_type": "markdown",
   "id": "b391650f-c531-42ef-b320-a0ea50149961",
   "metadata": {},
   "source": [
    "# Lattices\n",
    "\n",
    "Lattices are a convenient way to (i) repeat a universe multiple times in space, while (ii) automatically translating that universe's origin to different positions in space."
   ]
  },
  {
   "cell_type": "markdown",
   "id": "b400801a-b505-4a37-9442-1490a95fe11b",
   "metadata": {},
   "source": [
    "In this exercise, we'll build two lattices, one rectangular and one hexagonal, using the CEFR pincell."
   ]
  },
  {
   "cell_type": "markdown",
   "id": "c28128f8-9962-4549-81fe-48421f070e00",
   "metadata": {},
   "source": [
    "Later in this example, we will make a bunch of geometry plots.  By default, every region is colored randomly and the results are Now that we know our materials, let's define a \"color specification\" to use when plotting our geometry."
   ]
  },
  {
   "cell_type": "code",
   "execution_count": null,
   "id": "20a49253-a6e7-4919-b44a-dfe1d33a6662",
   "metadata": {},
   "outputs": [],
   "source": []
  },
  {
   "cell_type": "markdown",
   "id": "a0347fb7-b33d-421b-bc7e-6f4c93a7904e",
   "metadata": {},
   "source": [
    "### An alternative approach to building a pincell universe\n",
    "\n",
    "Initally, we built the CEFR pincell model by specifying each surface manually. There are many convenience functions in OpenMC that make this process even easier."
   ]
  },
  {
   "cell_type": "code",
   "execution_count": null,
   "id": "502847d7-06a6-483c-b99b-c1774aa5fb90",
   "metadata": {},
   "outputs": [],
   "source": []
  },
  {
   "cell_type": "markdown",
   "id": "88f18c45-2d3f-4dbf-8797-703f64b375f7",
   "metadata": {},
   "source": [
    "---"
   ]
  },
  {
   "cell_type": "markdown",
   "id": "9a8d4935-0e57-469b-8247-7bddda8b50c6",
   "metadata": {},
   "source": [
    "## Lattices in OpenMC\n",
    "\n",
    "OpenMC has `RectLattice` and `HexLattice` objects.  For our fuel assembly, we need to use `RectLattice`. Let's look at a simple one before we do the full assembly.\n",
    "\n",
    "First, we also need to define a universe that is all water."
   ]
  },
  {
   "cell_type": "code",
   "execution_count": null,
   "id": "61f1b52c-0a92-4277-b1e6-1587ec768f69",
   "metadata": {},
   "outputs": [],
   "source": []
  },
  {
   "cell_type": "markdown",
   "id": "a617b392-24ef-4861-aa0b-0c083ab48c28",
   "metadata": {},
   "source": [
    "When creating a rectangular lattice, we need to define:\n",
    "\n",
    "1. The lower-left coordinates of the lattice (`.lower_left`)\n",
    "2. The size of each lattice element (`.pitch`)\n",
    "3. The 2D arrangement of universes (`.universes`)\n",
    "4. (_optionally_) A universe that is used outside of the defined region (`.outer`)"
   ]
  },
  {
   "cell_type": "markdown",
   "id": "3253b9f8-5ef9-4d21-a7c2-86530aa1ee21",
   "metadata": {},
   "source": [
    "## Rectangular Lattices"
   ]
  },
  {
   "cell_type": "code",
   "execution_count": null,
   "id": "d6474eb4-980e-4317-ba5f-c495cd556a92",
   "metadata": {},
   "outputs": [],
   "source": []
  },
  {
   "cell_type": "markdown",
   "id": "69a76ff5-5664-44ab-8cca-49bbc256e514",
   "metadata": {},
   "source": [
    "To plot the lattice, we need to put it in a universe. For this, we'll create a single cell filled with the lattice, and then put that single cell inside a universe to plot:"
   ]
  },
  {
   "cell_type": "code",
   "execution_count": null,
   "id": "e0cdb27f-1a67-4926-9938-ff9ad7c3f08a",
   "metadata": {},
   "outputs": [],
   "source": []
  },
  {
   "cell_type": "markdown",
   "id": "a6394c05-f973-4215-8063-37167f3da982",
   "metadata": {},
   "source": [
    "**What exactly does `outer` mean?**\n",
    "\n",
    "In the previous section, we set the lattice outer universe to a universe containing a single cell with only water in it. To get a better sense of what the outer universe does, let's change the outer universe to the guide tube universe:"
   ]
  },
  {
   "cell_type": "code",
   "execution_count": null,
   "id": "a4eb569c-6d6b-4cb1-905d-613058a93ec2",
   "metadata": {},
   "outputs": [],
   "source": []
  },
  {
   "cell_type": "markdown",
   "id": "f2552154-5a1b-4d7e-b1f7-54d08ddc3fd0",
   "metadata": {},
   "source": [
    "## Hexagonal Lattices\n",
    "\n",
    "OpenMC also allows you to define hexagonal lattices. They are a little trickier, but as we'll see there are some helper methods that demystify how to assign universes."
   ]
  },
  {
   "cell_type": "code",
   "execution_count": null,
   "id": "f1ffbb35-6f49-4dfb-b5e3-e0813f45f888",
   "metadata": {},
   "outputs": [],
   "source": []
  },
  {
   "cell_type": "markdown",
   "id": "0c2eca35-3d88-41ec-a059-648ff999068d",
   "metadata": {},
   "source": [
    "We need to set the `center` of the lattice, the `pitch`, an `outer` universe (which is applied to all lattice elements outside of those that are defined), and a list of `universes`. Let's start with the easy ones first. Note that for a 2D lattice, we only need to specify a single number for the pitch."
   ]
  },
  {
   "cell_type": "code",
   "execution_count": null,
   "id": "352bf3c8-8158-4405-b96c-255572f8d649",
   "metadata": {},
   "outputs": [],
   "source": []
  },
  {
   "cell_type": "markdown",
   "id": "c57fe51b-440c-4a32-98a2-511544467834",
   "metadata": {},
   "source": [
    "Now we need to set the `universes` property on our lattice. It needs to be set to a list of lists of Universes, where each list of Universes corresponds to a ring of the lattice. The rings are ordered from outermost to innermost, and within each ring the indexing starts at the \"top\". To help visualize the proper indices, we can use the `show_indices()` helper method."
   ]
  },
  {
   "cell_type": "code",
   "execution_count": null,
   "id": "e5f0ad00-0fca-462f-a4a8-df5ad3b9b0b1",
   "metadata": {},
   "outputs": [],
   "source": []
  },
  {
   "cell_type": "markdown",
   "id": "12d3f6a2-4de0-433c-b4d6-dd0014661e2a",
   "metadata": {},
   "source": [
    "Let's setup a hexagonal lattice assembly like the one in the CEFR benchmark model."
   ]
  },
  {
   "cell_type": "code",
   "execution_count": null,
   "id": "b21ebb03-6059-4d6e-af2b-6b7ab96af3a5",
   "metadata": {},
   "outputs": [],
   "source": []
  },
  {
   "cell_type": "markdown",
   "id": "64d965f0-0052-4aef-b8fb-0346acaf6213",
   "metadata": {},
   "source": [
    "Now let's put our lattice inside a circular cell."
   ]
  },
  {
   "cell_type": "code",
   "execution_count": null,
   "id": "f4604c72-59f7-45bb-bf70-4d568cabfa16",
   "metadata": {},
   "outputs": [],
   "source": []
  },
  {
   "cell_type": "markdown",
   "id": "a570938c-a9bb-44e1-af8d-7b7a36063641",
   "metadata": {},
   "source": [
    "### Rotating the lattice\n",
    "\n",
    "Now let's say we want our hexagonal lattice orientated such that flat sides are parallel to the y-axis instead of the x-axis. This can be achieved by changing the orientation of the lattice from `'y'` to `'x'`:"
   ]
  },
  {
   "cell_type": "code",
   "execution_count": null,
   "id": "2923482f-4c05-4d45-8957-fb3721ebc558",
   "metadata": {},
   "outputs": [],
   "source": []
  },
  {
   "cell_type": "markdown",
   "id": "91327cd5-9fa9-4e4a-bd13-909dd334fe94",
   "metadata": {},
   "source": [
    "Again, we can use the `show_indices` method to see the ordering of universes within each ring:"
   ]
  },
  {
   "cell_type": "code",
   "execution_count": null,
   "id": "30988d54-5a09-4879-b4f3-909257a9b849",
   "metadata": {},
   "outputs": [],
   "source": []
  },
  {
   "cell_type": "markdown",
   "id": "47ff72bc-7844-4b7f-a8d6-2ed52cf37309",
   "metadata": {},
   "source": [
    "# Final CEFR Assembly Modeling Steps\n",
    "\n",
    "The circular boundary is nice for some initial visualization, but in reality the CEFR assemblies are bounded by stainless steel ducts. Let's add those to the model now."
   ]
  },
  {
   "cell_type": "markdown",
   "id": "3abb56b2-6474-4b4b-95a7-0101f54345a7",
   "metadata": {},
   "source": [
    "In the image of the CEFR assembly above, the steel duct is a hexagonal shape matching that of the hex lattice boundary. OpenMC has the ability to represent arbitrarily oriented planes to model this duct."
   ]
  },
  {
   "cell_type": "code",
   "execution_count": null,
   "id": "9b01fccb-7e79-4035-b2c3-f8732201d839",
   "metadata": {},
   "outputs": [],
   "source": [
    "help(openmc.Plane)"
   ]
  },
  {
   "cell_type": "markdown",
   "id": "3125b0c3-3833-49e1-a924-e6b96ccc903f",
   "metadata": {},
   "source": [
    "However, a hexagonal shape is a common feature in reactor design and as such there is a convenience function in OpenMC for generating a hexagonal prism region."
   ]
  },
  {
   "cell_type": "code",
   "execution_count": null,
   "id": "be37792c-0f99-430e-bb43-e4de287b0dfd",
   "metadata": {},
   "outputs": [],
   "source": [
    "help(openmc.hexagonal_prism)"
   ]
  },
  {
   "cell_type": "code",
   "execution_count": null,
   "id": "8fa7744d-cb94-47fd-83d9-cc7014834359",
   "metadata": {},
   "outputs": [],
   "source": []
  },
  {
   "cell_type": "markdown",
   "id": "19783b9b-2474-44be-8a01-f521c0210f2f",
   "metadata": {},
   "source": [
    "Now we can create the external duct and outer cells"
   ]
  },
  {
   "cell_type": "code",
   "execution_count": null,
   "id": "b81916a1-e32a-41c3-97de-a105ec58a63a",
   "metadata": {},
   "outputs": [],
   "source": []
  },
  {
   "cell_type": "markdown",
   "id": "c4bdaeef-691a-4242-8a17-895b92a66fad",
   "metadata": {},
   "source": [
    "Finally, we need an outer cell representing the space between assembly ducts."
   ]
  },
  {
   "cell_type": "code",
   "execution_count": null,
   "id": "fefcf7dd-2aa9-430f-b785-9acf7002143c",
   "metadata": {},
   "outputs": [],
   "source": []
  },
  {
   "cell_type": "markdown",
   "id": "b43719a3-ff35-4c53-abe0-fbb7cd3bd585",
   "metadata": {},
   "source": [
    "Finally, let's make this a 3D model by adding upper and lower bounding planes."
   ]
  },
  {
   "cell_type": "code",
   "execution_count": null,
   "id": "c67c7ed9-8507-46e2-9785-b113852fa091",
   "metadata": {},
   "outputs": [],
   "source": []
  },
  {
   "cell_type": "markdown",
   "id": "c9a6f8e7-aa8f-40fd-be2f-fbd4b89b65ae",
   "metadata": {},
   "source": [
    "We should now be able to use this as our geometry in the model and run it successfully."
   ]
  },
  {
   "cell_type": "code",
   "execution_count": null,
   "id": "b53a8a8e-81cf-4973-943a-0f340fc22009",
   "metadata": {},
   "outputs": [],
   "source": []
  },
  {
   "cell_type": "markdown",
   "id": "11981ac4-d73d-437a-8edc-9ff80ba314e4",
   "metadata": {},
   "source": [
    "---"
   ]
  },
  {
   "cell_type": "markdown",
   "id": "33113872-36ed-4867-a173-0883510ddda4",
   "metadata": {},
   "source": [
    "# Advanced Tallies in OpenMC: Pincell Power Distributions\n",
    "\n"
   ]
  },
  {
   "cell_type": "markdown",
   "id": "2c8a723f-1253-4a55-be18-c6bd16b05f49",
   "metadata": {},
   "source": [
    "For this part of the exercise we're going to setup tallies that will provide us the pincell powers in the assembly we've created."
   ]
  },
  {
   "cell_type": "code",
   "execution_count": null,
   "id": "70f98db4-f1d0-4fdf-804f-ed29ff797da6",
   "metadata": {},
   "outputs": [],
   "source": [
    "# define ANL 33 group structure\n",
    "ANL_33 = \\\n",
    "[1.000000E-05, \n",
    "4.174600E-01,\n",
    "5.315800E-01,\n",
    "3.927900E+00,\n",
    "8.315300E+00,\n",
    "1.371000E+01,\n",
    "2.260300E+01,\n",
    "3.726700E+01,\n",
    "6.144200E+01,\n",
    "1.013000E+02,\n",
    "1.670200E+02,\n",
    "2.753600E+02,\n",
    "4.540000E+02,\n",
    "7.485200E+02,\n",
    "1.234100E+03,\n",
    "2.034700E+03,\n",
    "3.354600E+03,\n",
    "5.530800E+03,\n",
    "9.118800E+03,\n",
    "1.503400E+04,\n",
    "2.478700E+04,\n",
    "4.086800E+04,\n",
    "6.737900E+04,\n",
    "1.110900E+05,\n",
    "1.831600E+05,\n",
    "3.019700E+05,\n",
    "4.978700E+05,\n",
    "8.208500E+05,\n",
    "1.353400E+06,\n",
    "2.231300E+06,\n",
    "3.678800E+06,\n",
    "6.065300E+06,\n",
    "1.000000E+07,\n",
    "1.419100E+07]"
   ]
  },
  {
   "cell_type": "code",
   "execution_count": null,
   "id": "20e8ca52-8c9c-4feb-8642-b2ee9b51d098",
   "metadata": {},
   "outputs": [],
   "source": [
    "import openmc.lib\n",
    "def display_pin_powers(statepoint_file, pincell_tally, global_tally, origin):\n",
    "\n",
    "    assembly_power = 65 / 79 * 1e6 # [W] (zero power test)\n",
    "\n",
    "    with openmc.StatePoint(statepoint_file, autolink=False) as sp:\n",
    "        pincell_tally = sp.get_tally(name=pincell_tally.name)\n",
    "        tally_global_out = sp.get_tally(name=global_tally.name)\n",
    "    \n",
    "    total_kappa_fission = tally_global_out.get_values(scores=['kappa-fission']).flatten()[0]\n",
    "\n",
    "    pincell_powers = pincell_tally.get_values(scores=['kappa-fission']).flatten()\n",
    "    pincell_powers *= assembly_power / total_kappa_fission\n",
    "    dcell_filter = pincell_tally.find_filter(openmc.DistribcellFilter)\n",
    "    dcell = dcell_filter.bins[0]\n",
    "    \n",
    "    try:\n",
    "        print('Initializing OpenMC...')\n",
    "        openmc.lib.init(['-c'])\n",
    "        print('Done')\n",
    "        p = openmc.lib.plot._PlotBase()\n",
    "        p.origin = origin\n",
    "        p.width = 7\n",
    "        p.height = 7\n",
    "        p.h_res = 400\n",
    "        p.v_res = 400\n",
    "        p.colorby = 'cell'\n",
    "        p.basis = 'xy'\n",
    "        print('Generating id map...')\n",
    "        id_mapping = openmc.lib.id_map(p)\n",
    "        print('Done')\n",
    "    finally:\n",
    "        print('Shutting down OpenMC...')\n",
    "        openmc.lib.finalize()\n",
    "        print('Done')\n",
    "\n",
    "    cell_map = id_mapping[:, :, 0]\n",
    "    instance_map = id_mapping[:, :, 1]\n",
    "    fuel_mask = cell_map == dcell\n",
    "    power_mapping = np.zeros_like(cell_map, dtype=float)\n",
    "    \n",
    "    for i, h in enumerate(pincell_powers.flatten()):\n",
    "        instance_mask = instance_map == i\n",
    "        power_mapping[np.logical_and(fuel_mask, instance_mask)] = h\n",
    "\n",
    "    power_mapping[power_mapping == 0.0] = np.nan\n",
    "    \n",
    "    plt.figure(figsize=(10,10))\n",
    "    img = plt.imshow(power_mapping, extent=[-3.5, 3.5, -3.5, 3.5])\n",
    "    plt.ylabel('Y')\n",
    "    plt.xlabel('X')\n",
    "    plt.colorbar(img, label='Power (W)')\n",
    "    plt.show()"
   ]
  },
  {
   "cell_type": "code",
   "execution_count": null,
   "id": "6a034eea-9564-4a59-a4b3-f4da88a75537",
   "metadata": {
    "scrolled": true
   },
   "outputs": [],
   "source": [
    "display_pin_powers(statepoint, tally_pin_power, tally_global, (0.0, 0.0, 0.0))"
   ]
  },
  {
   "cell_type": "code",
   "execution_count": null,
   "id": "ca8b9502-b837-426f-a2ba-53dac4da516d",
   "metadata": {},
   "outputs": [],
   "source": [
    "import random\n",
    "random.choice(list(root_cell.region.get_surfaces().values())).boundary_type = 'vacuum'"
   ]
  },
  {
   "cell_type": "code",
   "execution_count": null,
   "id": "b48a929b-956a-4010-844d-cf8b420b9cd8",
   "metadata": {},
   "outputs": [],
   "source": []
  }
 ],
 "metadata": {
  "kernelspec": {
   "display_name": "Python 3 (ipykernel)",
   "language": "python",
   "name": "python3"
  },
  "language_info": {
   "codemirror_mode": {
    "name": "ipython",
    "version": 3
   },
   "file_extension": ".py",
   "mimetype": "text/x-python",
   "name": "python",
   "nbconvert_exporter": "python",
   "pygments_lexer": "ipython3",
   "version": "3.8.10"
  }
 },
 "nbformat": 4,
 "nbformat_minor": 5
}
