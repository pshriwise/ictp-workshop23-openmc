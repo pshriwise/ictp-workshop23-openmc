{
 "cells": [
  {
   "cell_type": "markdown",
   "id": "7a5208ed-e2a0-46c6-9767-944348a8faa7",
   "metadata": {},
   "source": [
    "# Modeling a Pin-Cell\n",
    "In this module, we'll demonstrate the basic features of the Python API for constructing input files and running OpenMC. In it, we will show how to create a basic reflective pin-cell model that is equivalent to modeling an infinite array of fuel pins. We highly recommend having a copy of the [Python API reference documentation](https://docs.openmc.org/en/stable/pythonapi/index.html) open in another browser tab that you can refer to."
   ]
  },
  {
   "cell_type": "markdown",
   "id": "9e144077-cc50-47ca-9074-bf94aa201f90",
   "metadata": {},
   "source": [
    "For this example, we'll create a pin-cell of the CEFR fuel assembly with simplified material compositions. More accurate material compositions will be applied as part of the exercise at the end of the day.\n",
    "\n",
    "- UO<sub>2</sub>\n",
    "- Helium\n",
    "- Sodium\n",
    "- Stainless Steel\n",
    "\n",
    "all at a temperature of 523.15 K.\n",
    "\n",
    "The dimensions of our fuel pin will be as follows:\n",
    "- Fuel pin center hold radius = 0.08020 cm\n",
    "- Fuel outer radius = 0.0.25565 cm\n",
    "- Clad inner radius = 0.27112 cm\n",
    "- Clad outer radius = 0.30499 cm\n",
    "- Fuel pin pitch = 0.695 cm"
   ]
  },
  {
   "cell_type": "code",
   "execution_count": 1,
   "id": "1764c9a3-3c64-4534-bf6e-923f0a0121f3",
   "metadata": {},
   "outputs": [],
   "source": [
    "import openmc"
   ]
  },
  {
   "cell_type": "markdown",
   "id": "0e182649-5603-43e3-aa9b-f3236016bc00",
   "metadata": {},
   "source": [
    "## Naming Conventions\n",
    "\n",
    "Before we start working with the Python API, it's helpful to understand the naming convention of objects so that you can conceptualize what is a function, what is a class, etc. OpenMC's Python interface follows the same naming convention that is adopted by many/most Python projects:\n",
    "\n",
    "- Module names are `lowercase`\n",
    "- Functions are `lowercase_with_underscores`\n",
    "- Classes are `CamelCase`\n",
    "- Class attributes/variables are `lowercase_with_underscores`\n",
    "- Top-level (global) variables are `UPPERCASE_WITH_UNDERSCORES`\n",
    "\n",
    "To give a few specific examples:\n",
    "\n",
    "- `openmc.deplete` is the depletion _module_\n",
    "- `openmc.run` is a _function_\n",
    "- `openmc.Material` is a _class_\n",
    "- `openmc.data.ATOMIC_NUMBER` is a _top-level variable_"
   ]
  },
  {
   "cell_type": "markdown",
   "id": "00efae75-0c00-47ec-90b7-ee63b6c28154",
   "metadata": {},
   "source": [
    "## Setting Attributes\n",
    "\n",
    "When building OpenMC models, we will work with many different classes. Each class typically has _attributes_, a variable belonging to the class. When creating a class, you can often set those attributes directly when you instantiate the object, like this:"
   ]
  },
  {
   "cell_type": "code",
   "execution_count": 2,
   "id": "6a4ad5ab-90bd-477b-9a94-f06fdfeb5511",
   "metadata": {},
   "outputs": [],
   "source": [
    "my_cell = openmc.Cell(name=\"box\")"
   ]
  },
  {
   "cell_type": "markdown",
   "id": "c4302201-524a-466d-8755-63ba6a990c71",
   "metadata": {},
   "source": [
    "Or, you can assign values to attributes after you have already created the object. For example, the following is equivalent to the above:"
   ]
  },
  {
   "cell_type": "code",
   "execution_count": 3,
   "id": "fb182c44-ae83-400a-aac2-f9a9ea027449",
   "metadata": {},
   "outputs": [],
   "source": [
    "my_other_cell = openmc.Cell()\n",
    "my_other_cell.name = \"box2\""
   ]
  },
  {
   "cell_type": "markdown",
   "id": "170948c6-2ed2-454b-941e-b6ac8c098cc7",
   "metadata": {},
   "source": [
    "You can in general also mix-and-match, setting some attributes when you instantiate the object, and others at a later point."
   ]
  },
  {
   "cell_type": "code",
   "execution_count": 4,
   "id": "f65c27e2-64a2-45f7-979d-6e4a74f6cb8d",
   "metadata": {},
   "outputs": [],
   "source": [
    "new_cell = openmc.Cell(name=\"box3\")\n",
    "new_cell.temperature = 500"
   ]
  },
  {
   "cell_type": "markdown",
   "id": "ec5600e4-d512-4667-afb6-12a885ec239c",
   "metadata": {},
   "source": [
    "\n",
    "## How to Get Help/Learn More\n",
    "\n",
    "When building OpenMC models, we recommend having a copy of the Python API documentation (linked earlier) open. You can also query information about classes and methods directly from Jupyter. For example, we can use `help` to get documentation on all of the valid attributes for functions and classes."
   ]
  },
  {
   "cell_type": "code",
   "execution_count": 5,
   "id": "4e76b0e4-8ee9-48fe-b02d-6e66452b2371",
   "metadata": {
    "scrolled": true
   },
   "outputs": [
    {
     "name": "stdout",
     "output_type": "stream",
     "text": [
      "Help on class Cell in module openmc.cell:\n",
      "\n",
      "class Cell(openmc.mixin.IDManagerMixin)\n",
      " |  Cell(cell_id=None, name='', fill=None, region=None)\n",
      " |  \n",
      " |  A region of space defined as the intersection of half-space created by\n",
      " |  quadric surfaces.\n",
      " |  \n",
      " |  Parameters\n",
      " |  ----------\n",
      " |  cell_id : int, optional\n",
      " |      Unique identifier for the cell. If not specified, an identifier will\n",
      " |      automatically be assigned.\n",
      " |  name : str, optional\n",
      " |      Name of the cell. If not specified, the name is the empty string.\n",
      " |  fill : openmc.Material or openmc.UniverseBase or openmc.Lattice or None or iterable of openmc.Material, optional\n",
      " |      Indicates what the region of space is filled with\n",
      " |  region : openmc.Region, optional\n",
      " |      Region of space that is assigned to the cell.\n",
      " |  \n",
      " |  Attributes\n",
      " |  ----------\n",
      " |  id : int\n",
      " |      Unique identifier for the cell\n",
      " |  name : str\n",
      " |      Name of the cell\n",
      " |  fill : openmc.Material or openmc.UniverseBase or openmc.Lattice or None or iterable of openmc.Material\n",
      " |      Indicates what the region of space is filled with. If None, the cell is\n",
      " |      treated as a void. An iterable of materials is used to fill repeated\n",
      " |      instances of a cell with different materials.\n",
      " |  fill_type : {'material', 'universe', 'lattice', 'distribmat', 'void'}\n",
      " |      Indicates what the cell is filled with.\n",
      " |  region : openmc.Region or None\n",
      " |      Region of space that is assigned to the cell.\n",
      " |  rotation : Iterable of float\n",
      " |      If the cell is filled with a universe, this array specifies the angles\n",
      " |      in degrees about the x, y, and z axes that the filled universe should be\n",
      " |      rotated. The rotation applied is an intrinsic rotation with specified\n",
      " |      Tait-Bryan angles. That is to say, if the angles are :math:`(\\phi,\n",
      " |      \\theta, \\psi)`, then the rotation matrix applied is :math:`R_z(\\psi)\n",
      " |      R_y(\\theta) R_x(\\phi)` or\n",
      " |  \n",
      " |      .. math::\n",
      " |  \n",
      " |         \\left [ \\begin{array}{ccc} \\cos\\theta \\cos\\psi & -\\cos\\phi \\sin\\psi\n",
      " |         + \\sin\\phi \\sin\\theta \\cos\\psi & \\sin\\phi \\sin\\psi + \\cos\\phi\n",
      " |         \\sin\\theta \\cos\\psi \\\\ \\cos\\theta \\sin\\psi & \\cos\\phi \\cos\\psi +\n",
      " |         \\sin\\phi \\sin\\theta \\sin\\psi & -\\sin\\phi \\cos\\psi + \\cos\\phi\n",
      " |         \\sin\\theta \\sin\\psi \\\\ -\\sin\\theta & \\sin\\phi \\cos\\theta & \\cos\\phi\n",
      " |         \\cos\\theta \\end{array} \\right ]\n",
      " |  \n",
      " |      A rotation matrix can also be specified directly by setting this\n",
      " |      attribute to a nested list (or 2D numpy array) that specifies each\n",
      " |      element of the matrix.\n",
      " |  rotation_matrix : numpy.ndarray\n",
      " |      The rotation matrix defined by the angles specified in the\n",
      " |      :attr:`Cell.rotation` property.\n",
      " |  temperature : float or iterable of float\n",
      " |      Temperature of the cell in Kelvin.  Multiple temperatures can be given\n",
      " |      to give each distributed cell instance a unique temperature.\n",
      " |  translation : Iterable of float\n",
      " |      If the cell is filled with a universe, this array specifies a vector\n",
      " |      that is used to translate (shift) the universe.\n",
      " |  paths : list of str\n",
      " |      The paths traversed through the CSG tree to reach each cell\n",
      " |      instance. This property is initialized by calling the\n",
      " |      :meth:`Geometry.determine_paths` method.\n",
      " |  num_instances : int\n",
      " |      The number of instances of this cell throughout the geometry.\n",
      " |  volume : float\n",
      " |      Volume of the cell in cm^3. This can either be set manually or\n",
      " |      calculated in a stochastic volume calculation and added via the\n",
      " |      :meth:`Cell.add_volume_information` method. For 'distribmat' cells\n",
      " |      it is the total volume of all instances.\n",
      " |  atoms : collections.OrderedDict\n",
      " |      Mapping of nuclides to the total number of atoms for each nuclide\n",
      " |      present in the cell, or in all of its instances for a 'distribmat'\n",
      " |      fill. For example, {'U235': 1.0e22, 'U238': 5.0e22, ...}.\n",
      " |  \n",
      " |      .. versionadded:: 0.12\n",
      " |  bounding_box : openmc.BoundingBox\n",
      " |      Axis-aligned bounding box of the cell\n",
      " |  \n",
      " |  Method resolution order:\n",
      " |      Cell\n",
      " |      openmc.mixin.IDManagerMixin\n",
      " |      builtins.object\n",
      " |  \n",
      " |  Methods defined here:\n",
      " |  \n",
      " |  __contains__(self, point)\n",
      " |  \n",
      " |  __init__(self, cell_id=None, name='', fill=None, region=None)\n",
      " |      Initialize self.  See help(type(self)) for accurate signature.\n",
      " |  \n",
      " |  __repr__(self)\n",
      " |      Return repr(self).\n",
      " |  \n",
      " |  add_volume_information(self, volume_calc)\n",
      " |      Add volume information to a cell.\n",
      " |      \n",
      " |      Parameters\n",
      " |      ----------\n",
      " |      volume_calc : openmc.VolumeCalculation\n",
      " |          Results from a stochastic volume calculation\n",
      " |  \n",
      " |  clone(self, clone_materials=True, clone_regions=True, memo=None)\n",
      " |      Create a copy of this cell with a new unique ID, and clones\n",
      " |      the cell's region and fill.\n",
      " |      \n",
      " |      Parameters\n",
      " |      ----------\n",
      " |      clone_materials : bool\n",
      " |          Whether to create separate copies of the materials filling cells\n",
      " |          contained in this cell, or the material filling this cell.\n",
      " |      clone_regions : bool\n",
      " |          Whether to create separate copies of the regions bounding cells\n",
      " |          contained in this cell, and the region bounding this cell.\n",
      " |      memo : dict or None\n",
      " |          A nested dictionary of previously cloned objects. This parameter\n",
      " |          is used internally and should not be specified by the user.\n",
      " |      \n",
      " |      Returns\n",
      " |      -------\n",
      " |      clone : openmc.Cell\n",
      " |          The clone of this cell\n",
      " |  \n",
      " |  create_xml_subelement(self, xml_element, memo=None)\n",
      " |      Add the cell's xml representation to an incoming xml element\n",
      " |      \n",
      " |      Parameters\n",
      " |      ----------\n",
      " |      xml_element : lxml.etree._Element\n",
      " |          XML element to be added to\n",
      " |      \n",
      " |      memo : set or None\n",
      " |          A set of object IDs representing geometry entities already\n",
      " |          written to ``xml_element``. This parameter is used internally\n",
      " |          and should not be specified by users.\n",
      " |      \n",
      " |      Returns\n",
      " |      -------\n",
      " |      None\n",
      " |  \n",
      " |  get_all_cells(self, memo=None)\n",
      " |      Return all cells that are contained within this one if it is filled with a\n",
      " |      universe or lattice\n",
      " |      \n",
      " |      Returns\n",
      " |      -------\n",
      " |      cells : collections.orderedDict\n",
      " |          Dictionary whose keys are cell IDs and values are :class:`Cell`\n",
      " |          instances\n",
      " |  \n",
      " |  get_all_materials(self, memo=None)\n",
      " |      Return all materials that are contained within the cell\n",
      " |      \n",
      " |      Returns\n",
      " |      -------\n",
      " |      materials : collections.OrderedDict\n",
      " |          Dictionary whose keys are material IDs and values are\n",
      " |          :class:`Material` instances\n",
      " |  \n",
      " |  get_all_universes(self)\n",
      " |      Return all universes that are contained within this one if any of\n",
      " |      its cells are filled with a universe or lattice.\n",
      " |      \n",
      " |      Returns\n",
      " |      -------\n",
      " |      universes : collections.OrderedDict\n",
      " |          Dictionary whose keys are universe IDs and values are\n",
      " |          :class:`Universe` instances\n",
      " |  \n",
      " |  get_nuclide_densities(self)\n",
      " |      Return all nuclides contained in the cell and their densities\n",
      " |      \n",
      " |      Returns\n",
      " |      -------\n",
      " |      nuclides : collections.OrderedDict\n",
      " |          Dictionary whose keys are nuclide names and values are 2-tuples of\n",
      " |          (nuclide, density)\n",
      " |  \n",
      " |  get_nuclides(self)\n",
      " |      Returns all nuclides in the cell\n",
      " |      \n",
      " |      Returns\n",
      " |      -------\n",
      " |      nuclides : list of str\n",
      " |          List of nuclide names\n",
      " |  \n",
      " |  ----------------------------------------------------------------------\n",
      " |  Class methods defined here:\n",
      " |  \n",
      " |  from_xml_element(elem, surfaces, materials, get_universe) from builtins.type\n",
      " |      Generate cell from XML element\n",
      " |      \n",
      " |      Parameters\n",
      " |      ----------\n",
      " |      elem : lxml.etree._Element\n",
      " |          `<cell>` element\n",
      " |      surfaces : dict\n",
      " |          Dictionary mapping surface IDs to :class:`openmc.Surface` instances\n",
      " |      materials : dict\n",
      " |          Dictionary mapping material ID strings to :class:`openmc.Material`\n",
      " |          instances (defined in :math:`openmc.Geometry.from_xml`)\n",
      " |      get_universe : function\n",
      " |          Function returning universe (defined in\n",
      " |          :meth:`openmc.Geometry.from_xml`)\n",
      " |      \n",
      " |      Returns\n",
      " |      -------\n",
      " |      openmc.Cell\n",
      " |          Cell instance\n",
      " |  \n",
      " |  ----------------------------------------------------------------------\n",
      " |  Readonly properties defined here:\n",
      " |  \n",
      " |  atoms\n",
      " |  \n",
      " |  bounding_box\n",
      " |  \n",
      " |  fill_type\n",
      " |  \n",
      " |  num_instances\n",
      " |  \n",
      " |  paths\n",
      " |  \n",
      " |  rotation_matrix\n",
      " |  \n",
      " |  ----------------------------------------------------------------------\n",
      " |  Data descriptors defined here:\n",
      " |  \n",
      " |  fill\n",
      " |  \n",
      " |  name\n",
      " |  \n",
      " |  region\n",
      " |  \n",
      " |  rotation\n",
      " |  \n",
      " |  temperature\n",
      " |  \n",
      " |  translation\n",
      " |  \n",
      " |  volume\n",
      " |  \n",
      " |  ----------------------------------------------------------------------\n",
      " |  Data and other attributes defined here:\n",
      " |  \n",
      " |  next_id = 3\n",
      " |  \n",
      " |  used_ids = {1, 2, 3}\n",
      " |  \n",
      " |  ----------------------------------------------------------------------\n",
      " |  Data descriptors inherited from openmc.mixin.IDManagerMixin:\n",
      " |  \n",
      " |  __dict__\n",
      " |      dictionary for instance variables (if defined)\n",
      " |  \n",
      " |  __weakref__\n",
      " |      list of weak references to the object (if defined)\n",
      " |  \n",
      " |  id\n",
      "\n"
     ]
    }
   ],
   "source": [
    "help(openmc.Cell)"
   ]
  },
  {
   "cell_type": "markdown",
   "id": "920085d7-2266-49d5-83fd-5fbe76831c54",
   "metadata": {},
   "source": [
    "Attributes which have a default value will appear as `<attribute>=<the default value>` in the class/function definition. For classes, all of the member functions you can access will then be defined further down, with their associated documentation. To see documentation for just one specific function, you can use syntax like:"
   ]
  },
  {
   "cell_type": "code",
   "execution_count": 6,
   "id": "160049db-1fdc-4b92-9488-613dd976ed03",
   "metadata": {},
   "outputs": [
    {
     "name": "stdout",
     "output_type": "stream",
     "text": [
      "Help on method from_xml_element in module openmc.cell:\n",
      "\n",
      "from_xml_element(elem, surfaces, materials, get_universe) method of builtins.type instance\n",
      "    Generate cell from XML element\n",
      "    \n",
      "    Parameters\n",
      "    ----------\n",
      "    elem : lxml.etree._Element\n",
      "        `<cell>` element\n",
      "    surfaces : dict\n",
      "        Dictionary mapping surface IDs to :class:`openmc.Surface` instances\n",
      "    materials : dict\n",
      "        Dictionary mapping material ID strings to :class:`openmc.Material`\n",
      "        instances (defined in :math:`openmc.Geometry.from_xml`)\n",
      "    get_universe : function\n",
      "        Function returning universe (defined in\n",
      "        :meth:`openmc.Geometry.from_xml`)\n",
      "    \n",
      "    Returns\n",
      "    -------\n",
      "    openmc.Cell\n",
      "        Cell instance\n",
      "\n"
     ]
    }
   ],
   "source": [
    "my_cell = openmc.Cell()\n",
    "help(my_cell.from_xml_element)"
   ]
  },
  {
   "cell_type": "markdown",
   "id": "b32b84f7-1892-4302-b58b-d823a4be9820",
   "metadata": {},
   "source": [
    "You can also query the type of a particular object using `type`. Note that we can also display the attributes for a particular object using `print`."
   ]
  },
  {
   "cell_type": "code",
   "execution_count": 7,
   "id": "a86f40fb-ee47-448e-87a2-b199df72eb94",
   "metadata": {},
   "outputs": [
    {
     "name": "stdout",
     "output_type": "stream",
     "text": [
      "Cell\n",
      "\tID             =\t4\n",
      "\tName           =\t\n",
      "\tFill           =\tNone\n",
      "\tRegion         =\tNone\n",
      "\tRotation       =\tNone\n",
      "\tTranslation    =\tNone\n",
      "\tVolume         =\tNone\n",
      "\n"
     ]
    }
   ],
   "source": [
    "type(my_cell)\n",
    "print(my_cell)"
   ]
  },
  {
   "cell_type": "markdown",
   "id": "d1f297c8-6e30-4dc8-b5ff-9833793646e7",
   "metadata": {},
   "source": [
    "## Defining Materials\n",
    "\n",
    "Materials in OpenMC are defined as a set of nuclides with specified atom/weight fractions. To begin, we will create a material by making an instance of the `Material` class. In OpenMC, many objects, including materials, are identified by a \"unique ID\" that is simply just a positive integer. These IDs are used when exporting XML files that the solver reads in. They also appear in the output and can be used for identification. Since an integer ID is not very useful by itself, you can also give a material a `name` as well."
   ]
  },
  {
   "cell_type": "code",
   "execution_count": 8,
   "id": "fb3950ac-6c9c-420a-8d33-a272771d5b9f",
   "metadata": {},
   "outputs": [
    {
     "name": "stdout",
     "output_type": "stream",
     "text": [
      "Material\n",
      "\tID             =\t1\n",
      "\tName           =\tuo2\n",
      "\tTemperature    =\tNone\n",
      "\tDensity        =\tNone [sum]\n",
      "\tVolume         =\tNone [cm^3]\n",
      "\tS(a,b) Tables  \n",
      "\tNuclides       \n",
      "\n"
     ]
    }
   ],
   "source": [
    "uo2 = openmc.Material(1, \"uo2\")\n",
    "print(uo2)                      "
   ]
  },
  {
   "cell_type": "markdown",
   "id": "0b758190-1223-41b6-b47a-10cf5a20502c",
   "metadata": {},
   "source": [
    "If you don't give an ID, one will be automatically generated for you:"
   ]
  },
  {
   "cell_type": "code",
   "execution_count": 9,
   "id": "52335709-77f2-4079-98db-3eef2e0134b5",
   "metadata": {},
   "outputs": [
    {
     "name": "stdout",
     "output_type": "stream",
     "text": [
      "Material\n",
      "\tID             =\t2\n",
      "\tName           =\t\n",
      "\tTemperature    =\tNone\n",
      "\tDensity        =\tNone [sum]\n",
      "\tVolume         =\tNone [cm^3]\n",
      "\tS(a,b) Tables  \n",
      "\tNuclides       \n",
      "\n"
     ]
    }
   ],
   "source": [
    "mat = openmc.Material()\n",
    "print(mat)"
   ]
  },
  {
   "cell_type": "markdown",
   "id": "fb6be1c5-f556-4fc3-b458-c724c3f7f902",
   "metadata": {},
   "source": [
    "We see that an ID of 2 was automatically assigned. Let's now move on to adding nuclides to our `uo2` material. The `Material` object has a method `add_nuclide()` whose first argument is the name of the nuclide and second argument is the atom or weight fraction."
   ]
  },
  {
   "cell_type": "code",
   "execution_count": 10,
   "id": "ec4ab716-9f75-47c7-8f8b-a00ad6fe742e",
   "metadata": {},
   "outputs": [
    {
     "name": "stdout",
     "output_type": "stream",
     "text": [
      "Help on method add_nuclide in module openmc.material:\n",
      "\n",
      "add_nuclide(nuclide: 'str', percent: 'float', percent_type: 'str' = 'ao') method of openmc.material.Material instance\n",
      "    Add a nuclide to the material\n",
      "    \n",
      "    Parameters\n",
      "    ----------\n",
      "    nuclide : str\n",
      "        Nuclide to add, e.g., 'Mo95'\n",
      "    percent : float\n",
      "        Atom or weight percent\n",
      "    percent_type : {'ao', 'wo'}\n",
      "        'ao' for atom percent and 'wo' for weight percent\n",
      "\n"
     ]
    }
   ],
   "source": [
    "help(uo2.add_nuclide)"
   ]
  },
  {
   "cell_type": "markdown",
   "id": "400730d6-439b-4a27-a701-02cea3c2e248",
   "metadata": {},
   "source": [
    "We see that by default it assumes we want an atom fraction."
   ]
  },
  {
   "cell_type": "code",
   "execution_count": 11,
   "id": "e60728fd-4b9d-48bc-983c-8743a2233a4a",
   "metadata": {},
   "outputs": [],
   "source": [
    "uo2.add_nuclide('U235', 1.49981E-02)\n",
    "uo2.add_nuclide('U238', 8.26381E-03) \n",
    "uo2.add_nuclide('O16', 4.69512E-02)"
   ]
  },
  {
   "cell_type": "markdown",
   "id": "9c7b6a11-f282-4876-96bd-6eec8a63e11f",
   "metadata": {},
   "source": [
    "Now we need to assign a total density to the material. We'll use the `set_density` for this."
   ]
  },
  {
   "cell_type": "code",
   "execution_count": 12,
   "id": "7cdf5ebf-3f73-4de9-9d38-f94022d97874",
   "metadata": {},
   "outputs": [],
   "source": [
    "uo2.set_density('atom/b-cm', density=7.02131E-02)"
   ]
  },
  {
   "cell_type": "markdown",
   "id": "1ff83a98-bd6f-46be-ab79-1d1069b03e5b",
   "metadata": {},
   "source": [
    "You may sometimes be given a material specification where all the nuclide densities are in units of atom/b-cm. In this case, you just want the density to be the sum of the constituents. In that case, you can simply run `mat.set_density('sum')`.\n",
    "\n",
    "With UO2 finished, let's now create materials for the clad and coolant. Note the use of `add_element()` for zirconium."
   ]
  },
  {
   "cell_type": "code",
   "execution_count": 13,
   "id": "640ea0fd-768e-4da2-9635-c93f033576d3",
   "metadata": {},
   "outputs": [],
   "source": [
    "steel = openmc.Material(name='SS')\n",
    "steel.set_density('atom/b-cm', 0.49843E-02)\n",
    "steel.add_element('Fe', 0.995)\n",
    "steel.add_element('C', 0.005)"
   ]
  },
  {
   "cell_type": "markdown",
   "id": "79200544-6932-4ca1-9e60-ccb28c01c8bc",
   "metadata": {},
   "source": [
    "### Element Expansion\n",
    "\n",
    "Did you notice something really cool that happened to our Fe and C elements? OpenMC automatically turned it into a list of nuclides when it exported it! The way this feature works is as follows:\n",
    "\n",
    "- First, it checks whether `Materials.cross_sections` has been set, indicating the path to a `cross_sections.xml` file.\n",
    "- If `Materials.cross_sections` isn't set, it looks for the `OPENMC_CROSS_SECTIONS` environment variable.\n",
    "- If either of these is found, it scans the file to see what nuclides are actually available and will expand elements accordingly."
   ]
  },
  {
   "cell_type": "code",
   "execution_count": 14,
   "id": "38f37e78-ebf4-4b23-b160-7d8e8bd65acd",
   "metadata": {},
   "outputs": [],
   "source": [
    "air = openmc.Material(name='air')\n",
    "air.set_density('sum')\n",
    "air.add_element('O', 1.0E-11)\n",
    "\n",
    "sodium = openmc.Material(name='Na')\n",
    "sodium.set_density('sum')\n",
    "sodium.add_nuclide('Na23', 2.33599E-02)"
   ]
  },
  {
   "cell_type": "markdown",
   "id": "57b0b3e5-c25a-421f-9f30-40c25bb76fd5",
   "metadata": {},
   "source": [
    "---\n",
    "## An aside on S($\\alpha$, $\\beta$) tables\n",
    "\n",
    "For systems with a significant thermal component to the neutron flux, it is important to augment the free atom cross sections we've used up to this point when possible. This can be done by using an $S(\\alpha,\\beta)$ table so that the bound atom cross section is used at thermal energies. To do this, there's an `add_s_alpha_beta()` method. Note the use of the GND-style name \"c_H_in_H2O\".\n",
    "\n",
    "```python\n",
    "water.add_s_alpha_beta('c_H_in_H2O')\n",
    "```\n",
    "\n",
    "---"
   ]
  },
  {
   "cell_type": "markdown",
   "id": "4fcebbf4-d648-45a9-8b47-9c192ac21aca",
   "metadata": {},
   "source": [
    "When we go to run the transport solver in OpenMC, it is going to look for a `materials.xml` file. Thus far, we have only created objects in memory. To actually create a `materials.xml` file, we need to instantiate a `Materials` collection and export it to XML."
   ]
  },
  {
   "cell_type": "code",
   "execution_count": 15,
   "id": "fdc71795-b040-474e-a5ee-ba7d1b255387",
   "metadata": {},
   "outputs": [],
   "source": [
    "materials = openmc.Materials([uo2, steel, air])"
   ]
  },
  {
   "cell_type": "markdown",
   "id": "1b56df00-a34c-4121-b7c1-eea3bc23671a",
   "metadata": {},
   "source": [
    "Note that `Materials` is actually a subclass of Python's built-in `list`, so we can use methods like `append()`, `insert()`, `pop()`, etc."
   ]
  },
  {
   "cell_type": "code",
   "execution_count": 16,
   "id": "103d5c39-0583-4951-8151-75dcafd10739",
   "metadata": {},
   "outputs": [
    {
     "data": {
      "text/plain": [
       "True"
      ]
     },
     "execution_count": 16,
     "metadata": {},
     "output_type": "execute_result"
    }
   ],
   "source": [
    "materials = openmc.Materials()\n",
    "materials.append(sodium)\n",
    "materials += [uo2, steel, air]\n",
    "isinstance(materials, list)"
   ]
  },
  {
   "cell_type": "markdown",
   "id": "bb4fd6d4-caea-4a61-8280-b2474c864fca",
   "metadata": {},
   "source": [
    "Finally, we can create the XML file with the `export_to_xml()` method. In a Jupyter notebook, we can run a shell command by putting `!` before it, so in this case we are going to display the `materials.xml` file that we created."
   ]
  },
  {
   "cell_type": "code",
   "execution_count": 17,
   "id": "245e5171-26ca-4b2e-8c2a-25b1e6514577",
   "metadata": {},
   "outputs": [
    {
     "name": "stdout",
     "output_type": "stream",
     "text": [
      "<?xml version='1.0' encoding='utf-8'?>\n",
      "<materials>\n",
      "  <material depletable=\"true\" id=\"1\" name=\"uo2\">\n",
      "    <density units=\"atom/b-cm\" value=\"0.0702131\"/>\n",
      "    <nuclide ao=\"0.0149981\" name=\"U235\"/>\n",
      "    <nuclide ao=\"0.00826381\" name=\"U238\"/>\n",
      "    <nuclide ao=\"0.0469512\" name=\"O16\"/>\n",
      "  </material>\n",
      "  <material id=\"3\" name=\"SS\">\n",
      "    <density units=\"atom/b-cm\" value=\"0.0049843\"/>\n",
      "    <nuclide ao=\"0.05815775\" name=\"Fe54\"/>\n",
      "    <nuclide ao=\"0.9129523\" name=\"Fe56\"/>\n",
      "    <nuclide ao=\"0.02108405\" name=\"Fe57\"/>\n",
      "    <nuclide ao=\"0.0028059\" name=\"Fe58\"/>\n",
      "    <nuclide ao=\"0.005\" name=\"C0\"/>\n",
      "  </material>\n",
      "  <material id=\"4\" name=\"air\">\n",
      "    <density units=\"sum\"/>\n",
      "    <nuclide ao=\"9.996209999999999e-12\" name=\"O16\"/>\n",
      "    <nuclide ao=\"3.79e-15\" name=\"O17\"/>\n",
      "  </material>\n",
      "  <material id=\"5\" name=\"Na\">\n",
      "    <density units=\"sum\"/>\n",
      "    <nuclide ao=\"0.0233599\" name=\"Na23\"/>\n",
      "  </material>\n",
      "</materials>\n"
     ]
    }
   ],
   "source": [
    "materials.export_to_xml()\n",
    "!cat materials.xml"
   ]
  },
  {
   "cell_type": "markdown",
   "id": "e65e8532-510d-4a71-94a6-12fbeb8287c1",
   "metadata": {},
   "source": [
    "We see that now O16 and O17 were automatically added. O18 is missing because our cross sections file (which is based on ENDF/B-VII.1) doesn't have O18. If OpenMC didn't know about the cross sections file, it would have assumed that all isotopes exist."
   ]
  },
  {
   "cell_type": "markdown",
   "id": "66feda56-9b5f-417e-b4e4-0ec47e322fb9",
   "metadata": {},
   "source": [
    "### The `cross_sections.xml` file\n",
    "\n",
    "The `cross_sections.xml` tells OpenMC where it can find nuclide cross sections and $S(\\alpha,\\beta)$ tables. It serves the same purpose as MCNP's `xsdir` file and Serpent's `xsdata` file. As we mentioned, this can be set either by the `OPENMC_CROSS_SECTIONS` environment variable or the `Materials.cross_sections` attribute.\n",
    "\n",
    "Let's have a look at what's inside this file:"
   ]
  },
  {
   "cell_type": "code",
   "execution_count": 18,
   "id": "d50a8422-7a29-4727-b65e-93ae12adba61",
   "metadata": {},
   "outputs": [
    {
     "name": "stdout",
     "output_type": "stream",
     "text": [
      "<?xml version='1.0' encoding='utf-8'?>\n",
      "<cross_sections>\n",
      "  <library materials=\"Ac225\" path=\"Ac225.h5\" type=\"neutron\" />\n",
      "  <library materials=\"Ac226\" path=\"Ac226.h5\" type=\"neutron\" />\n",
      "  <library materials=\"Ac227\" path=\"Ac227.h5\" type=\"neutron\" />\n",
      "  <library materials=\"Ag107\" path=\"Ag107.h5\" type=\"neutron\" />\n",
      "  <library materials=\"Ag109\" path=\"Ag109.h5\" type=\"neutron\" />\n",
      "  <library materials=\"Ag110_m1\" path=\"Ag110_m1.h5\" type=\"neutron\" />\n",
      "  <library materials=\"Ag111\" path=\"Ag111.h5\" type=\"neutron\" />\n",
      "  <library materials=\"Al27\" path=\"Al27.h5\" type=\"neutron\" />\n",
      "    ...\n",
      "  <library materials=\"Cf253\" path=\"wmp/098253.h5\" type=\"wmp\" />\n",
      "  <library materials=\"Cf254\" path=\"wmp/098254.h5\" type=\"wmp\" />\n",
      "  <library materials=\"Es251\" path=\"wmp/099251.h5\" type=\"wmp\" />\n",
      "  <library materials=\"Es252\" path=\"wmp/099252.h5\" type=\"wmp\" />\n",
      "  <library materials=\"Es253\" path=\"wmp/099253.h5\" type=\"wmp\" />\n",
      "  <library materials=\"Es254\" path=\"wmp/099254.h5\" type=\"wmp\" />\n",
      "  <library materials=\"Es254_m1\" path=\"wmp/099254m1.h5\" type=\"wmp\" />\n",
      "  <library materials=\"Es255\" path=\"wmp/099255.h5\" type=\"wmp\" />\n",
      "  <library materials=\"Fm255\" path=\"wmp/100255.h5\" type=\"wmp\" />\n",
      "</cross_sections>\n"
     ]
    }
   ],
   "source": [
    "!cat $OPENMC_CROSS_SECTIONS | head -n 10\n",
    "print('    ...')\n",
    "!cat $OPENMC_CROSS_SECTIONS | tail -n 10"
   ]
  },
  {
   "cell_type": "markdown",
   "id": "94a4c113-2a43-4845-a9d1-46816b8e7a27",
   "metadata": {},
   "source": [
    "The cross section dataset used by OpenMC can also be configured using the `openmc.config` property of the `openmc` module. Setting this property inside a Python interpreter session is equivalent to updating the cross sections environment variable discussed above."
   ]
  },
  {
   "cell_type": "code",
   "execution_count": 19,
   "id": "8dfaf793-32c4-4b28-927d-1c146c55eccd",
   "metadata": {},
   "outputs": [],
   "source": [
    "# openmc.config['cross_sections'] = /path/to/my/xs/data/cross_sections.xml"
   ]
  },
  {
   "cell_type": "markdown",
   "id": "7c4bcae5-a336-4883-80bf-b4cd47171fa7",
   "metadata": {},
   "source": [
    "### Enrichment\n",
    "\n",
    "Note that the `add_element()` method has a special argument `enrichment` that can be used for Uranium. For example, if we know that we want to create 3% enriched UO2, the following would work:"
   ]
  },
  {
   "cell_type": "code",
   "execution_count": 20,
   "id": "0a114bf3-c43f-40c3-9a7b-2b5e8a7863bc",
   "metadata": {},
   "outputs": [
    {
     "name": "stdout",
     "output_type": "stream",
     "text": [
      "Material\n",
      "\tID             =\t6\n",
      "\tName           =\t\n",
      "\tTemperature    =\tNone\n",
      "\tDensity        =\t10.0 [g/cc]\n",
      "\tVolume         =\tNone [cm^3]\n",
      "\tS(a,b) Tables  \n",
      "\tNuclides       \n",
      "\tU234           =\t0.0002714687807976247 [ao]\n",
      "\tU235           =\t0.030371951808732825 [ao]\n",
      "\tU238           =\t0.9692174612830511 [ao]\n",
      "\tU236           =\t0.00013911812741848606 [ao]\n",
      "\tO16            =\t1.999242     [ao]\n",
      "\tO17            =\t0.000758     [ao]\n",
      "\n"
     ]
    }
   ],
   "source": [
    "uo2_three = openmc.Material()\n",
    "uo2_three.add_element('U', 1.0, enrichment=3.0)\n",
    "uo2_three.add_element('O', 2.0)\n",
    "uo2_three.set_density('g/cc', 10.0)\n",
    "print(uo2_three)"
   ]
  },
  {
   "cell_type": "markdown",
   "id": "29f9d2be-6f78-4f14-90bb-28dc5fdebbd4",
   "metadata": {},
   "source": [
    "---"
   ]
  },
  {
   "cell_type": "markdown",
   "id": "85b0c3be-0866-4ef2-b32b-ea968244fedc",
   "metadata": {},
   "source": [
    "## Defining Geometry\n",
    "\n",
    "At this point, we have three materials defined, exported to XML, and ready to be used in our model. To finish our model, we need to define the geometric arrangement of materials. OpenMC represents physical volumes using constructive solid geometry (CSG), also known as combinatorial geometry. The object that allows us to assign a material to a region of space is called a `Cell` (same concept in MCNP, for those familiar). There are four major stages in building a cell:\n",
    "\n",
    "#### Surfaces\n",
    "In order to define a region that we can assign to a cell, we must first define surfaces which bound the region. A *surface* is a locus of zeros of a function of Cartesian coordinates $x$, $y$, and $z$, e.g.\n",
    "\n",
    "- A plane perpendicular to the x axis: $x - x_0 = 0$\n",
    "- A cylinder parallel to the z axis: $(x - x_0)^2 + (y - y_0)^2 - R^2 = 0$\n",
    "- A sphere: $(x - x_0)^2 + (y - y_0)^2 + (z - z_0)^2 - R^2 = 0$\n",
    "\n",
    "Between those three classes of surfaces (planes, cylinders, spheres), one can construct a wide variety of models. It is also possible to define cones and general second-order surfaces.\n",
    "\n",
    "#### Half-Spaces\n",
    "Note that defining a surface is not sufficient to specify a volume -- in order to define an actual volume, one must reference the half-space of a surface. A surface *half-space* is the region whose points satisfy a positive or negative inequality of the surface equation. For example, for a sphere of radius one centered at the origin, the surface equation is $f(x,y,z) = x^2 + y^2 + z^2 - 1 = 0$. Thus, we say that the negative half-space of the sphere, is defined as the collection of points satisfying $f(x,y,z) < 0$, which one can reason is the inside of the sphere. Conversely, the positive half-space of the sphere would correspond to all points outside of the sphere.\n",
    "\n",
    "#### Regions\n",
    "A region is then a combination (or just one) half-space.\n",
    "\n",
    "#### Fills\n",
    "Finally, a cell is complete once we have defined what is _filling_ the cell, which may be one of:\n",
    "\n",
    "- material\n",
    "- nothing (`None`), or vacuum/void\n",
    "- universe\n",
    "- lattice"
   ]
  },
  {
   "cell_type": "code",
   "execution_count": 21,
   "id": "13ef2f4a-282f-4f0d-8d3f-c882fb354615",
   "metadata": {},
   "outputs": [],
   "source": [
    "sphere = openmc.Sphere(r=1.0, boundary_type='transmission')"
   ]
  },
  {
   "cell_type": "markdown",
   "id": "e915259c-13d9-4169-8850-a6db98ce93f0",
   "metadata": {},
   "source": [
    "Note that by default the sphere is centered at the origin so we didn't have to supply `x0`, `y0`, or `z0` arguments. Strictly speaking, we could have omitted `r` as well since it defaults to one. To get the negative or positive half-space, we simply need to apply the `-` or `+` unary operators, respectively.\n",
    "\n",
    "(NOTE: Those unary operators are defined by special methods: `__pos__` and `__neg__` in this case)."
   ]
  },
  {
   "cell_type": "code",
   "execution_count": 22,
   "id": "f31fa3f7-cce9-4fbf-92a6-e7791dcf46b6",
   "metadata": {},
   "outputs": [
    {
     "data": {
      "text/plain": [
       "openmc.surface.Halfspace"
      ]
     },
     "execution_count": 22,
     "metadata": {},
     "output_type": "execute_result"
    }
   ],
   "source": [
    "inside_sphere = -sphere\n",
    "outside_sphere = +sphere\n",
    "type(inside_sphere)"
   ]
  },
  {
   "cell_type": "markdown",
   "id": "7ff5d01e-c958-48b1-a95e-c8f6cacaff06",
   "metadata": {},
   "source": [
    "Now let's see if `inside_sphere` actually contains points inside the sphere:"
   ]
  },
  {
   "cell_type": "code",
   "execution_count": 23,
   "id": "d3cabd36-e79b-4143-a955-d34dfe1c8330",
   "metadata": {},
   "outputs": [
    {
     "name": "stdout",
     "output_type": "stream",
     "text": [
      "True False\n",
      "False True\n"
     ]
    }
   ],
   "source": [
    "print((0,0,0) in inside_sphere, (0,0,2) in inside_sphere)\n",
    "print((0,0,0) in outside_sphere, (0,0,2) in outside_sphere)"
   ]
  },
  {
   "cell_type": "markdown",
   "id": "b630b160-60d7-4250-a7cc-508548ddb57a",
   "metadata": {},
   "source": [
    "Everything works as expected! Now that we understand how to create half-spaces, we can create more complex volumes by combining half-spaces using Boolean operators: `&` (intersection), `|` (union), and `~` (complement):\n",
    "\n",
    "- `&`: logical AND\n",
    "- `|`: logical OR\n",
    "- `~`: logical NOT\n",
    "\n",
    "For example, let's say we want to define a region that is the top part of the sphere (all points inside the sphere that have $z > 0$."
   ]
  },
  {
   "cell_type": "code",
   "execution_count": 24,
   "id": "922e3d33-ab17-4086-a576-1384d2747e44",
   "metadata": {},
   "outputs": [
    {
     "data": {
      "text/plain": [
       "openmc.region.Intersection"
      ]
     },
     "execution_count": 24,
     "metadata": {},
     "output_type": "execute_result"
    }
   ],
   "source": [
    "z_plane = openmc.ZPlane(0)\n",
    "northern_hemisphere = -sphere & +z_plane\n",
    "type(northern_hemisphere)"
   ]
  },
  {
   "cell_type": "markdown",
   "id": "c01ea08f-ac50-486d-b8f9-4c3c82e82943",
   "metadata": {},
   "source": [
    "For many regions, OpenMC can automatically determine a bounding box. To get the bounding box, we use the `bounding_box` property of a region, which returns a tuple of the lower-left and upper-right Cartesian coordinates for the bounding box:"
   ]
  },
  {
   "cell_type": "code",
   "execution_count": 25,
   "id": "13d7df23-9cb5-49ae-8f43-32012fa90a72",
   "metadata": {},
   "outputs": [
    {
     "data": {
      "text/plain": [
       "BoundingBox(lower_left=(-1.0, -1.0, 0.0), upper_right=(1.0, 1.0, 1.0))"
      ]
     },
     "execution_count": 25,
     "metadata": {},
     "output_type": "execute_result"
    }
   ],
   "source": [
    "northern_hemisphere.bounding_box"
   ]
  },
  {
   "cell_type": "markdown",
   "id": "ada93a32-5ddf-44eb-b508-9d8dd4723a15",
   "metadata": {},
   "source": [
    "Now that we see how to create volumes, we can use them to create a cell."
   ]
  },
  {
   "cell_type": "code",
   "execution_count": 26,
   "id": "1b5f8eec-0ace-479f-801d-ff3b4ff2f87e",
   "metadata": {},
   "outputs": [],
   "source": [
    "cell = openmc.Cell()\n",
    "cell.region = northern_hemisphere\n",
    "\n",
    "# or...\n",
    "cell = openmc.Cell(region=northern_hemisphere)"
   ]
  },
  {
   "cell_type": "markdown",
   "id": "ccde801f-0dd4-4341-afb4-c74ead263d24",
   "metadata": {},
   "source": [
    "By default, the cell is not filled by any material (void). In order to assign a material, we set the `fill` property of a `Cell`."
   ]
  },
  {
   "cell_type": "code",
   "execution_count": 27,
   "id": "6e6f6c22-9310-4802-ada5-a73abcb19541",
   "metadata": {},
   "outputs": [],
   "source": [
    "cell.fill = steel"
   ]
  },
  {
   "cell_type": "markdown",
   "id": "d734c146-a2ee-462f-8314-eefa46a607e8",
   "metadata": {},
   "source": [
    "The full [list of available surfaces](https://docs.openmc.org/en/stable/pythonapi/base.html#building-geometry) is as follows.\n",
    "\n",
    "Planes:\n",
    "\n",
    "- `openmc.Plane` — An arbitrary plane of the form $Ax + By + Cz = D$\n",
    "- `openmc.XPlane` — A plane perpendicular to the x axis of the form $x - x_0 = 0$\n",
    "- `openmc.YPlane` — A plane perpendicular to the y axis of the form $y - y_0 = 0$\n",
    "- `openmc.ZPlane` — A plane perpendicular to the z axis of the form $z - z_0 = 0$\n",
    "\n",
    "Quadrics:\n",
    "\n",
    "- `openmc.XCylinder` — An infinite cylinder whose length is parallel to the x-axis of the form $(y - y_0)^2 + (z - z_0)^2 = r^2$\n",
    "- `openmc.YCylinder` — An infinite cylinder whose length is parallel to the x-axis of the form $(x - x_0)^2 + (z - z_0)^2 = r^2$\n",
    "- `openmc.ZCylinder` — An infinite cylinder whose length is parallel to the x-axis of the form $(x - x_0)^2 + (y - y_0)^2 = r^2$\n",
    "- `openmc.Sphere` — A sphere of the form $(x - x_0)^2 + (y - y_0)^2 + (z - z_0)^2 = r^2$\n",
    "- `openmc.XCone` — A cone parallel to the x-axis of the form $(y - y_0)^2 + (z - z_0)^2 = r^2 (x - x_0)^2$\n",
    "- `openmc.YCone` — A cone parallel to the y-axis of the form $(x - x_0)^2 + (z - z_0)^2 = r^2 (y - y_0)^2$\n",
    "- `openmc.ZCone` — A cone parallel to the z-axis of the form $(x - x_0)^2 + (y - y_0)^2 = r^2 (z - z_0)^2$\n",
    "- `openmc.Quadric` — A generic quadric surface\n",
    "\n",
    "Torii:\n",
    "\n",
    "- `openmc.XTorus` — A torus of the form $(x - x_0)^2/B^2 + (\\sqrt{(y - y_0)^2 + (z - z_0)^2} - A)^2/C^2 - 1 = 0$\n",
    "- `openmc.YTorus` — A torus of the form $(y - y_0)^2/B^2 + (\\sqrt{(x - x_0)^2 + (z - z_0)^2} - A)^2/C^2 - 1 = 0$\n",
    "- `openmc.ZTorus` — A torus of the form $(z - z_0)^2/B^2 + (\\sqrt{(x - x_0)^2 + (y - y_0)^2} - A)^2/C^2 - 1 = 0$"
   ]
  },
  {
   "cell_type": "markdown",
   "id": "da426015-7eec-4ab9-8d47-e2926704633a",
   "metadata": {},
   "source": [
    "### Boundary Conditions\n",
    "\n",
    "When you create a surface, by default particles that pass through the surface will consider it to be transmissive, i.e. they pass through the surface freely. To specify boundary conditions, you simply need to set the `Surface.boundary_type` to one of:\n",
    "\n",
    "- `vacuum`\n",
    "- `reflective`\n",
    "- `periodic` (either rotational or translational)\n",
    "- `white`"
   ]
  },
  {
   "cell_type": "code",
   "execution_count": 28,
   "id": "ca86f0d6-fa2b-42ba-b56a-2b683ba09fff",
   "metadata": {},
   "outputs": [],
   "source": [
    "sphere.boundary_type = 'vacuum'"
   ]
  },
  {
   "cell_type": "markdown",
   "id": "1af95209-5de3-4899-aff8-a0c75b2dbd5e",
   "metadata": {},
   "source": [
    "### Universes and in-line plotting"
   ]
  },
  {
   "cell_type": "markdown",
   "id": "4ee8e5bc-dccc-4dcc-9ad5-8e12055679c8",
   "metadata": {},
   "source": [
    "A collection of cells is known as a universe (again, this will be familiar to MCNP/Serpent users) and can be used as a repeatable unit when creating a model. Although we don't need it yet, the benefit of creating a universe is that we can visualize our geometry while we're creating it."
   ]
  },
  {
   "cell_type": "code",
   "execution_count": 29,
   "id": "e2a046fb-a70c-4417-b984-a6f3430050e1",
   "metadata": {},
   "outputs": [],
   "source": [
    "universe = openmc.Universe()\n",
    "universe.add_cell(cell)\n",
    "\n",
    "# this also works\n",
    "universe = openmc.Universe(cells=[cell])"
   ]
  },
  {
   "cell_type": "markdown",
   "id": "d058f7cf-887c-458a-a6b3-0c46aa40a217",
   "metadata": {},
   "source": [
    "The `Universe` object has a `plot` method that will display our the universe as current constructed:"
   ]
  },
  {
   "cell_type": "code",
   "execution_count": 30,
   "id": "775dafc4-1a62-4e92-8628-a608ea4ac3ed",
   "metadata": {},
   "outputs": [
    {
     "data": {
      "text/plain": [
       "<matplotlib.image.AxesImage at 0x150109e70>"
      ]
     },
     "execution_count": 30,
     "metadata": {},
     "output_type": "execute_result"
    },
    {
     "data": {
      "image/png": "[encoded data removed]",
      "text/plain": [
       "<Figure size 258.065x259.74 with 1 Axes>"
      ]
     },
     "metadata": {},
     "output_type": "display_data"
    }
   ],
   "source": [
    "universe.plot(width=(2.0, 2.0))"
   ]
  },
  {
   "cell_type": "markdown",
   "id": "9e966c31-65e0-42e1-8d06-23c06cf63280",
   "metadata": {},
   "source": [
    "By default, the plot will appear in the $x$-$y$ plane. We can change that with the `basis` argument."
   ]
  },
  {
   "cell_type": "code",
   "execution_count": 31,
   "id": "17e93858-059b-4e7d-a8a2-1e5355526e1d",
   "metadata": {},
   "outputs": [
    {
     "data": {
      "text/plain": [
       "<matplotlib.image.AxesImage at 0x1501fd3f0>"
      ]
     },
     "execution_count": 31,
     "metadata": {},
     "output_type": "execute_result"
    },
    {
     "data": {
      "image/png": "[encoded data removed]",
      "text/plain": [
       "<Figure size 258.065x259.74 with 1 Axes>"
      ]
     },
     "metadata": {},
     "output_type": "display_data"
    }
   ],
   "source": [
    "universe.plot(width=(2.0, 2.0), basis='xz')"
   ]
  },
  {
   "cell_type": "markdown",
   "id": "ea046942-af74-4e7c-9529-6a031a79be0f",
   "metadata": {},
   "source": [
    "If we have particular fondness for, say, fuchsia, we can tell the `plot()` method to make our cell that color."
   ]
  },
  {
   "cell_type": "code",
   "execution_count": 32,
   "id": "c09987c7-ebde-4a08-a6fb-9981bc5a4f0b",
   "metadata": {},
   "outputs": [
    {
     "data": {
      "text/plain": [
       "<matplotlib.image.AxesImage at 0x1502673d0>"
      ]
     },
     "execution_count": 32,
     "metadata": {},
     "output_type": "execute_result"
    },
    {
     "data": {
      "image/png": "[encoded data removed]",
      "text/plain": [
       "<Figure size 258.065x259.74 with 1 Axes>"
      ]
     },
     "metadata": {},
     "output_type": "display_data"
    }
   ],
   "source": [
    "universe.plot(width=(2.0, 2.0), basis='xz',\n",
    "              colors={cell: 'fuchsia'})"
   ]
  },
  {
   "cell_type": "code",
   "execution_count": 33,
   "id": "60680540-b29a-42fe-a0ff-e18eb5e33fd8",
   "metadata": {},
   "outputs": [
    {
     "data": {
      "text/plain": [
       "<matplotlib.image.AxesImage at 0x1502f6260>"
      ]
     },
     "execution_count": 33,
     "metadata": {},
     "output_type": "execute_result"
    },
    {
     "data": {
      "image/png": "[encoded data removed]",
      "text/plain": [
       "<Figure size 258.065x259.74 with 1 Axes>"
      ]
     },
     "metadata": {},
     "output_type": "display_data"
    }
   ],
   "source": [
    "universe.plot(width=(2.0, 2.0), \n",
    "              basis='xz',\n",
    "              color_by='material',\n",
    "              colors={steel: 'grey'},\n",
    "              legend=True)"
   ]
  },
  {
   "cell_type": "markdown",
   "id": "a14a88d8-af4c-4ea6-903b-b52b4d294ed5",
   "metadata": {},
   "source": [
    "### Pin cell geometry\n",
    "\n",
    "We now have enough knowledge to create our pin-cell. For CEFR, we need four surfaces to define the fuel and clad:\n",
    "\n",
    "1. The inner surface of the fuel hole -- a cylinder parallel to the z axis\n",
    "2. The outer surface of the fuel -- same as above\n",
    "3. The inner surface of the clad -- same as above\n",
    "4. The outer surface of the clad -- same as above\n",
    "\n",
    "These four surfaces will all be instances of `openmc.ZCylinder`, each with a different radius according to the specification."
   ]
  },
  {
   "cell_type": "code",
   "execution_count": 34,
   "id": "09db4ecc-4b7f-4004-939c-ca012ca7a6d7",
   "metadata": {},
   "outputs": [],
   "source": [
    "fuel_hole_radius = openmc.ZCylinder(r=0.08020)\n",
    "fuel_outer_radius = openmc.ZCylinder(r=0.25565)\n",
    "clad_inner_radius = openmc.ZCylinder(r=0.27112)\n",
    "clad_outer_radius = openmc.ZCylinder(r=0.30499)"
   ]
  },
  {
   "cell_type": "code",
   "execution_count": 35,
   "id": "a78678e7-a936-42eb-8097-779b1b63beda",
   "metadata": {},
   "outputs": [],
   "source": [
    "hole = -fuel_hole_radius\n",
    "fuel_region = +fuel_hole_radius & -fuel_outer_radius\n",
    "gap_region = +fuel_outer_radius & -clad_inner_radius\n",
    "clad_region = +clad_inner_radius & -clad_outer_radius"
   ]
  },
  {
   "cell_type": "code",
   "execution_count": 36,
   "id": "9561b13e-5145-4777-91ba-9fa382ac2789",
   "metadata": {},
   "outputs": [],
   "source": [
    "fuel_hole = openmc.Cell(name='fuel hole')\n",
    "fuel_hole.fill = air\n",
    "fuel_hole.region = hole\n",
    "\n",
    "fuel = openmc.Cell(name='fuel')\n",
    "fuel.fill = uo2\n",
    "fuel.region = fuel_region\n",
    "\n",
    "gap = openmc.Cell(name='air gap')\n",
    "gap.fill = air\n",
    "gap.region = gap_region\n",
    "\n",
    "clad = openmc.Cell(name='clad')\n",
    "clad.fill = steel\n",
    "clad.region = clad_region"
   ]
  },
  {
   "cell_type": "markdown",
   "id": "68f2773b-2422-451b-a144-e103c54bffa3",
   "metadata": {},
   "source": [
    "Finally, we need to handle the coolant outside of our fuel pin. To do this, we create x- and y-planes that bound the geometry."
   ]
  },
  {
   "cell_type": "code",
   "execution_count": 37,
   "id": "8e89fb33-6388-4551-a93c-7e4b6b16ac4d",
   "metadata": {},
   "outputs": [],
   "source": [
    "pitch = 0.695\n",
    "left = openmc.XPlane(-pitch/2, boundary_type='reflective')\n",
    "right = openmc.XPlane(pitch/2, boundary_type='reflective')\n",
    "bottom = openmc.YPlane(-pitch/2, boundary_type='reflective')\n",
    "top = openmc.YPlane(pitch/2, boundary_type='reflective')"
   ]
  },
  {
   "cell_type": "markdown",
   "id": "c21ab607-ca9f-428d-86e6-59795611e4c7",
   "metadata": {},
   "source": [
    "The sodium region is going to be everything outside of the clad outer radius and within the box formed as the intersection of four half-spaces."
   ]
  },
  {
   "cell_type": "code",
   "execution_count": 38,
   "id": "e41f2f88-6478-48ca-b3d5-94d44ba85724",
   "metadata": {},
   "outputs": [],
   "source": [
    "sodium_region = +left & -right & +bottom & -top & +clad_outer_radius\n",
    "\n",
    "coolant = openmc.Cell(name='coolant')\n",
    "coolant.fill = sodium\n",
    "coolant.region = sodium_region"
   ]
  },
  {
   "cell_type": "markdown",
   "id": "6e7c740f-bed5-49e2-80f6-3c1ea0e3f57a",
   "metadata": {},
   "source": [
    "The final step is to assign the cells we created to a universe and tell OpenMC that this universe is the \"root\" universe in our geometry. The `Geometry` is the final object that is actually exported to XML."
   ]
  },
  {
   "cell_type": "code",
   "execution_count": 39,
   "id": "1411e891-6540-4b3e-bf91-db6db5493304",
   "metadata": {},
   "outputs": [
    {
     "name": "stdout",
     "output_type": "stream",
     "text": [
      "<?xml version='1.0' encoding='UTF-8'?>\n",
      "<geometry>\n",
      "  <cell id=\"7\" material=\"4\" name=\"fuel hole\" region=\"-3\" universe=\"3\"/>\n",
      "  <cell id=\"8\" material=\"1\" name=\"fuel\" region=\"3 -4\" universe=\"3\"/>\n",
      "  <cell id=\"9\" material=\"4\" name=\"air gap\" region=\"4 -5\" universe=\"3\"/>\n",
      "  <cell id=\"10\" material=\"3\" name=\"clad\" region=\"5 -6\" universe=\"3\"/>\n",
      "  <cell id=\"11\" material=\"5\" name=\"coolant\" region=\"7 -8 9 -10 6\" universe=\"3\"/>\n",
      "  <surface coeffs=\"0.0 0.0 0.0802\" id=\"3\" type=\"z-cylinder\"/>\n",
      "  <surface coeffs=\"0.0 0.0 0.25565\" id=\"4\" type=\"z-cylinder\"/>\n",
      "  <surface coeffs=\"0.0 0.0 0.27112\" id=\"5\" type=\"z-cylinder\"/>\n",
      "  <surface coeffs=\"0.0 0.0 0.30499\" id=\"6\" type=\"z-cylinder\"/>\n",
      "  <surface boundary=\"reflective\" coeffs=\"-0.3475\" id=\"7\" type=\"x-plane\"/>\n",
      "  <surface boundary=\"reflective\" coeffs=\"0.3475\" id=\"8\" type=\"x-plane\"/>\n",
      "  <surface boundary=\"reflective\" coeffs=\"-0.3475\" id=\"9\" type=\"y-plane\"/>\n",
      "  <surface boundary=\"reflective\" coeffs=\"0.3475\" id=\"10\" type=\"y-plane\"/>\n",
      "</geometry>\n"
     ]
    }
   ],
   "source": [
    "root_universe = openmc.Universe(cells=(fuel_hole, fuel, gap, clad, coolant))\n",
    "\n",
    "geometry = openmc.Geometry(root_universe)\n",
    "geometry.export_to_xml()\n",
    "!cat geometry.xml"
   ]
  },
  {
   "cell_type": "markdown",
   "id": "4ad9256d-5ea3-49cd-8a6b-86303e1d873d",
   "metadata": {},
   "source": [
    "## Starting source and settings\n",
    "\n",
    "The Python API has a module `openmc.stats` with various univariate and multivariate probability distributions. We can use these distributions to create a starting source using the `openmc.Source` object. One can independently specify the spatial distribution (`space`), the angular distribution (`angle`), the energy distribution (`energy`), and the time distribution (`time`). For this example, we'll only specify the spatial distribution as a single point."
   ]
  },
  {
   "cell_type": "code",
   "execution_count": 40,
   "id": "44d349e2-fee9-4569-a0ff-f45c253e3380",
   "metadata": {},
   "outputs": [
    {
     "name": "stderr",
     "output_type": "stream",
     "text": [
      "/Users/pshriwise/soft/openmc/openmc/source.py:388: FutureWarning: This class is deprecated in favor of 'IndependentSource'\n",
      "  warnings.warn(\"This class is deprecated in favor of 'IndependentSource'\", FutureWarning)\n"
     ]
    }
   ],
   "source": [
    "# Create a point source\n",
    "point = openmc.stats.Point((0, 0.1, 0))\n",
    "source = openmc.Source(space=point)"
   ]
  },
  {
   "cell_type": "markdown",
   "id": "96277744-e66f-42f9-9a3c-6bb841b61d8e",
   "metadata": {},
   "source": [
    "Now let's create a `Settings` object and give it the source we created along with specifying how many batches and particles we want to run."
   ]
  },
  {
   "cell_type": "code",
   "execution_count": 41,
   "id": "a71cfea1-a5d8-4bf5-a7ec-cc63520535e7",
   "metadata": {},
   "outputs": [],
   "source": [
    "settings = openmc.Settings()\n",
    "settings.source = source\n",
    "settings.batches = 50\n",
    "settings.inactive = 5\n",
    "settings.particles = 1000"
   ]
  },
  {
   "cell_type": "code",
   "execution_count": 42,
   "id": "08813c7a-5de5-465a-a3b6-1871b527aab2",
   "metadata": {},
   "outputs": [
    {
     "name": "stdout",
     "output_type": "stream",
     "text": [
      "<?xml version='1.0' encoding='UTF-8'?>\n",
      "<settings>\n",
      "  <run_mode>eigenvalue</run_mode>\n",
      "  <particles>1000</particles>\n",
      "  <batches>100</batches>\n",
      "  <inactive>10</inactive>\n",
      "  <source particle=\"neutron\" strength=\"1.0\" type=\"independent\">\n",
      "    <space type=\"point\">\n",
      "      <parameters>0 0.1 0</parameters>\n",
      "    </space>\n",
      "  </source>\n",
      "</settings>\n"
     ]
    }
   ],
   "source": [
    "settings.export_to_xml()\n",
    "!cat settings.xml"
   ]
  },
  {
   "cell_type": "markdown",
   "id": "35308369-64da-4d69-b6ea-ad9dc0da6fd0",
   "metadata": {},
   "source": [
    "---"
   ]
  },
  {
   "cell_type": "markdown",
   "id": "77906082-02cf-4417-a398-d21af3f4d7cd",
   "metadata": {},
   "source": [
    "## Running OpenMC\n",
    "\n",
    "Running OpenMC from Python can be done using the `openmc.run()` function. This function allows you to set the number of MPI processes and OpenMP threads, if need be."
   ]
  },
  {
   "cell_type": "code",
   "execution_count": 43,
   "id": "dbdda15f-1d42-4511-b7d7-d46d25ac4be9",
   "metadata": {
    "scrolled": true
   },
   "outputs": [
    {
     "name": "stdout",
     "output_type": "stream",
     "text": [
      "                                %%%%%%%%%%%%%%%\n",
      "                           %%%%%%%%%%%%%%%%%%%%%%%%\n",
      "                        %%%%%%%%%%%%%%%%%%%%%%%%%%%%%%\n",
      "                      %%%%%%%%%%%%%%%%%%%%%%%%%%%%%%%%%%\n",
      "                    %%%%%%%%%%%%%%%%%%%%%%%%%%%%%%%%%%%%%%\n",
      "                   %%%%%%%%%%%%%%%%%%%%%%%%%%%%%%%%%%%%%%%%\n",
      "                                    %%%%%%%%%%%%%%%%%%%%%%%%\n",
      "                                     %%%%%%%%%%%%%%%%%%%%%%%%\n",
      "                 ###############      %%%%%%%%%%%%%%%%%%%%%%%%\n",
      "                ##################     %%%%%%%%%%%%%%%%%%%%%%%\n",
      "                ###################     %%%%%%%%%%%%%%%%%%%%%%%\n",
      "                ####################     %%%%%%%%%%%%%%%%%%%%%%\n",
      "                #####################     %%%%%%%%%%%%%%%%%%%%%\n",
      "                ######################     %%%%%%%%%%%%%%%%%%%%\n",
      "                #######################     %%%%%%%%%%%%%%%%%%\n",
      "                 #######################     %%%%%%%%%%%%%%%%%\n",
      "                 ######################     %%%%%%%%%%%%%%%%%\n",
      "                  ####################     %%%%%%%%%%%%%%%%%\n",
      "                    #################     %%%%%%%%%%%%%%%%%\n",
      "                     ###############     %%%%%%%%%%%%%%%%\n",
      "                       ############     %%%%%%%%%%%%%%%\n",
      "                          ########     %%%%%%%%%%%%%%\n",
      "                                      %%%%%%%%%%%\n",
      "\n",
      "                 | The OpenMC Monte Carlo Code\n",
      "       Copyright | 2011-2023 MIT, UChicago Argonne LLC, and contributors\n",
      "         License | https://docs.openmc.org/en/latest/license.html\n",
      "         Version | 0.13.4-dev\n",
      "        Git SHA1 | 922b3f9de6ccf3eb1e61171c3b48d51b62875884\n",
      "       Date/Time | 2023-08-06 00:55:39\n",
      "\n",
      " Reading model XML file './model.xml' ...\n",
      " WARNING: Other XML file input(s) are present. These files may be ignored in\n",
      "          favor of the ./model.xml file.\n",
      " Reading cross sections XML file...\n",
      " Reading U235 from /Users/pshriwise/data/xs/openmc/nndc_hdf5/U235.h5\n",
      " Reading U238 from /Users/pshriwise/data/xs/openmc/nndc_hdf5/U238.h5\n",
      " Reading O16 from /Users/pshriwise/data/xs/openmc/nndc_hdf5/O16.h5\n",
      " Reading Fe54 from /Users/pshriwise/data/xs/openmc/nndc_hdf5/Fe54.h5\n",
      " Reading Fe56 from /Users/pshriwise/data/xs/openmc/nndc_hdf5/Fe56.h5\n",
      " Reading Fe57 from /Users/pshriwise/data/xs/openmc/nndc_hdf5/Fe57.h5\n",
      " Reading Fe58 from /Users/pshriwise/data/xs/openmc/nndc_hdf5/Fe58.h5\n",
      " Reading C0 from /Users/pshriwise/data/xs/openmc/nndc_hdf5/C0.h5\n",
      " Reading O17 from /Users/pshriwise/data/xs/openmc/nndc_hdf5/O17.h5\n",
      " Reading Na23 from /Users/pshriwise/data/xs/openmc/nndc_hdf5/Na23.h5\n",
      " Minimum neutron data temperature: 294 K\n",
      " Maximum neutron data temperature: 294 K\n",
      " Preparing distributed cell instances...\n",
      " Reading plot XML file...\n",
      " Writing summary.h5 file...\n",
      " Maximum neutron transport energy: 20000000 eV for U235\n",
      " Initializing source particles...\n",
      "\n",
      " ====================>     K EIGENVALUE SIMULATION     <====================\n",
      "\n",
      "  Bat./Gen.      k            Average k\n",
      "  =========   ========   ====================\n",
      "        1/1    2.03935\n",
      "        2/1    1.96504\n",
      "        3/1    2.01414\n",
      "        4/1    2.01600\n",
      "        5/1    2.00721\n",
      "        6/1    2.04568\n",
      "        7/1    1.93190\n",
      "        8/1    2.00309\n",
      "        9/1    1.99800\n",
      "       10/1    1.98717\n",
      "       11/1    2.02412\n",
      "       12/1    2.03194    2.02803 +/- 0.00391\n",
      "       13/1    2.05259    2.03622 +/- 0.00849\n",
      "       14/1    1.97432    2.02074 +/- 0.01660\n",
      "       15/1    1.98061    2.01272 +/- 0.01516\n",
      "       16/1    1.98051    2.00735 +/- 0.01349\n",
      "       17/1    2.08593    2.01857 +/- 0.01600\n",
      "       18/1    1.91486    2.00561 +/- 0.01897\n",
      "       19/1    2.01036    2.00614 +/- 0.01674\n",
      "       20/1    2.07045    2.01257 +/- 0.01630\n",
      "       21/1    2.06274    2.01713 +/- 0.01543\n",
      "       22/1    2.02312    2.01763 +/- 0.01410\n",
      "       23/1    2.01827    2.01768 +/- 0.01297\n",
      "       24/1    1.86801    2.00699 +/- 0.01607\n",
      "       25/1    2.06526    2.01087 +/- 0.01546\n",
      "       26/1    2.04224    2.01283 +/- 0.01459\n",
      "       27/1    2.03910    2.01438 +/- 0.01380\n",
      "       28/1    1.99287    2.01318 +/- 0.01306\n",
      "       29/1    1.97972    2.01142 +/- 0.01248\n",
      "       30/1    1.93179    2.00744 +/- 0.01249\n",
      "       31/1    1.91753    2.00316 +/- 0.01263\n",
      "       32/1    1.99294    2.00270 +/- 0.01205\n",
      "       33/1    2.10192    2.00701 +/- 0.01230\n",
      "       34/1    2.02364    2.00770 +/- 0.01179\n",
      "       35/1    1.98397    2.00675 +/- 0.01135\n",
      "       36/1    2.04939    2.00839 +/- 0.01103\n",
      "       37/1    1.96450    2.00677 +/- 0.01074\n",
      "       38/1    1.96783    2.00538 +/- 0.01044\n",
      "       39/1    1.93211    2.00285 +/- 0.01038\n",
      "       40/1    2.03879    2.00405 +/- 0.01010\n",
      "       41/1    1.96566    2.00281 +/- 0.00985\n",
      "       42/1    2.05317    2.00438 +/- 0.00967\n",
      "       43/1    2.01232    2.00462 +/- 0.00937\n",
      "       44/1    2.06475    2.00639 +/- 0.00926\n",
      "       45/1    1.95938    2.00505 +/- 0.00909\n",
      "       46/1    1.98592    2.00452 +/- 0.00885\n",
      "       47/1    2.02886    2.00518 +/- 0.00864\n",
      "       48/1    2.01230    2.00536 +/- 0.00841\n",
      "       49/1    2.02554    2.00588 +/- 0.00821\n",
      "       50/1    1.95139    2.00452 +/- 0.00811\n",
      "       51/1    1.95179    2.00323 +/- 0.00802\n",
      "       52/1    1.88408    2.00039 +/- 0.00832\n",
      "       53/1    1.95413    1.99932 +/- 0.00820\n",
      "       54/1    1.91487    1.99740 +/- 0.00824\n",
      "       55/1    2.06496    1.99890 +/- 0.00819\n",
      "       56/1    1.93807    1.99758 +/- 0.00812\n",
      "       57/1    2.00534    1.99774 +/- 0.00794\n",
      "       58/1    2.09829    1.99984 +/- 0.00805\n",
      "       59/1    1.96159    1.99906 +/- 0.00793\n",
      "       60/1    2.02322    1.99954 +/- 0.00778\n",
      "       61/1    2.02348    2.00001 +/- 0.00764\n",
      "       62/1    1.97078    1.99945 +/- 0.00751\n",
      "       63/1    1.95572    1.99862 +/- 0.00742\n",
      "       64/1    1.98027    1.99828 +/- 0.00729\n",
      "       65/1    2.00382    1.99838 +/- 0.00715\n",
      "       66/1    1.97740    1.99801 +/- 0.00703\n",
      "       67/1    2.01624    1.99833 +/- 0.00692\n",
      "       68/1    2.02402    1.99877 +/- 0.00681\n",
      "       69/1    1.96988    1.99828 +/- 0.00671\n",
      "       70/1    2.03362    1.99887 +/- 0.00663\n",
      "       71/1    2.04084    1.99956 +/- 0.00655\n",
      "       72/1    2.06453    2.00061 +/- 0.00653\n",
      "       73/1    2.02675    2.00102 +/- 0.00644\n",
      "       74/1    2.03858    2.00161 +/- 0.00637\n",
      "       75/1    1.96551    2.00105 +/- 0.00629\n",
      "       76/1    1.98557    2.00082 +/- 0.00620\n",
      "       77/1    2.02385    2.00116 +/- 0.00612\n",
      "       78/1    1.99726    2.00111 +/- 0.00603\n",
      "       79/1    2.02429    2.00144 +/- 0.00595\n",
      "       80/1    1.95396    2.00076 +/- 0.00590\n",
      "       81/1    1.99329    2.00066 +/- 0.00582\n",
      "       82/1    1.98915    2.00050 +/- 0.00574\n",
      "       83/1    2.05882    2.00130 +/- 0.00572\n",
      "       84/1    1.99375    2.00119 +/- 0.00564\n",
      "       85/1    1.96555    2.00072 +/- 0.00558\n",
      "       86/1    2.01288    2.00088 +/- 0.00551\n",
      "       87/1    2.01867    2.00111 +/- 0.00545\n",
      "       88/1    2.03763    2.00158 +/- 0.00540\n",
      "       89/1    2.02395    2.00186 +/- 0.00533\n",
      "       90/1    2.01772    2.00206 +/- 0.00527\n",
      "       91/1    2.02320    2.00232 +/- 0.00521\n",
      "       92/1    2.03205    2.00268 +/- 0.00516\n",
      "       93/1    2.00240    2.00268 +/- 0.00510\n",
      "       94/1    2.03569    2.00307 +/- 0.00505\n",
      "       95/1    2.10305    2.00425 +/- 0.00513\n",
      "       96/1    2.11044    2.00548 +/- 0.00522\n",
      "       97/1    1.95225    2.00487 +/- 0.00519\n",
      "       98/1    2.12682    2.00626 +/- 0.00532\n",
      "       99/1    1.99737    2.00616 +/- 0.00526\n",
      "      100/1    1.93217    2.00534 +/- 0.00526\n",
      " Creating state point statepoint.100.h5...\n",
      "\n",
      " =======================>     TIMING STATISTICS     <=======================\n",
      "\n",
      " Total time for initialization     = 2.4564e+00 seconds\n",
      "   Reading cross sections          = 2.4392e+00 seconds\n",
      " Total time in simulation          = 6.2341e+01 seconds\n",
      "   Time in transport only          = 6.2329e+01 seconds\n",
      "   Time in inactive batches        = 6.2057e+00 seconds\n",
      "   Time in active batches          = 5.6135e+01 seconds\n",
      "   Time synchronizing fission bank = 5.8669e-03 seconds\n",
      "     Sampling source sites         = 5.6644e-03 seconds\n",
      "     SEND/RECV source sites        = 1.7191e-04 seconds\n",
      "   Time accumulating tallies       = 6.5752e-05 seconds\n",
      "   Time writing statepoints        = 1.0071e-03 seconds\n",
      " Total time for finalization       = 1.4580e-06 seconds\n",
      " Total time elapsed                = 6.4805e+01 seconds\n",
      " Calculation Rate (inactive)       = 1611.42 particles/second\n",
      " Calculation Rate (active)         = 1603.27 particles/second\n",
      "\n",
      " ============================>     RESULTS     <============================\n",
      "\n",
      " k-effective (Collision)     = 2.00634 +/- 0.00514\n",
      " k-effective (Track-length)  = 2.00534 +/- 0.00526\n",
      " k-effective (Absorption)    = 2.00912 +/- 0.00182\n",
      " Combined k-effective        = 2.00871 +/- 0.00161\n",
      " Leakage Fraction            = 0.00000 +/- 0.00000\n",
      "\n"
     ]
    }
   ],
   "source": [
    "openmc.run()"
   ]
  },
  {
   "cell_type": "markdown",
   "id": "3ba48093-1af6-48ce-824f-d8ea127b8a12",
   "metadata": {},
   "source": [
    "Great! OpenMC already told us our k-effective."
   ]
  },
  {
   "cell_type": "markdown",
   "id": "877de87c-03fd-4231-840f-ca036ecfe771",
   "metadata": {},
   "source": [
    "## Geometry plotting\n",
    "\n",
    "We saw before that we could call the `Universe.plot()` method to show a universe while we were creating our geometry. There is also a built-in plotter in the codebase that is much faster than the Python plotter and has more options. The interface looks somewhat similar to the `Universe.plot()` method. Instead though, we create `Plot` instances, assign them to a `Plots` collection, export it to XML, and then run OpenMC in geometry plotting mode. As an example, let's specify that we want the plot to be colored by material (rather than by cell) and we assign yellow to fuel and blue to water."
   ]
  },
  {
   "cell_type": "code",
   "execution_count": 44,
   "id": "d33096de-f24f-475f-b4be-efad6781f80e",
   "metadata": {},
   "outputs": [],
   "source": [
    "plot = openmc.Plot()\n",
    "plot.filename = 'pinplot'\n",
    "plot.width = (pitch, pitch)\n",
    "plot.pixels = (200, 200)\n",
    "plot.color_by = 'material'\n",
    "plot.colors = {uo2: 'yellow', sodium: 'blue'}"
   ]
  },
  {
   "cell_type": "markdown",
   "id": "132e781a-b80e-4df5-88c4-eddc61101e4a",
   "metadata": {},
   "source": [
    "With our plot created, we need to add it to a `Plots` collection which can be exported to XML."
   ]
  },
  {
   "cell_type": "code",
   "execution_count": 45,
   "id": "1dc7a142-69bb-4ce2-945e-ac524af13c88",
   "metadata": {},
   "outputs": [
    {
     "name": "stdout",
     "output_type": "stream",
     "text": [
      "<?xml version='1.0' encoding='UTF-8'?>\n",
      "<plots>\n",
      "  <plot basis=\"xy\" color_by=\"material\" filename=\"pinplot\" id=\"5\" type=\"slice\">\n",
      "    <pixels>200 200</pixels>\n",
      "    <origin>0.0 0.0 0.0</origin>\n",
      "    <width>0.695 0.695</width>\n",
      "    <color id=\"1\" rgb=\"255 255 0\"/>\n",
      "    <color id=\"5\" rgb=\"0 0 255\"/>\n",
      "  </plot>\n",
      "</plots>\n"
     ]
    }
   ],
   "source": [
    "plots = openmc.Plots([plot])\n",
    "plots.export_to_xml()\n",
    "!cat plots.xml"
   ]
  },
  {
   "cell_type": "code",
   "execution_count": 46,
   "id": "56d073d7-6b62-4e62-ba3c-910520775bee",
   "metadata": {},
   "outputs": [
    {
     "name": "stdout",
     "output_type": "stream",
     "text": [
      "                                %%%%%%%%%%%%%%%\n",
      "                           %%%%%%%%%%%%%%%%%%%%%%%%\n",
      "                        %%%%%%%%%%%%%%%%%%%%%%%%%%%%%%\n",
      "                      %%%%%%%%%%%%%%%%%%%%%%%%%%%%%%%%%%\n",
      "                    %%%%%%%%%%%%%%%%%%%%%%%%%%%%%%%%%%%%%%\n",
      "                   %%%%%%%%%%%%%%%%%%%%%%%%%%%%%%%%%%%%%%%%\n",
      "                                    %%%%%%%%%%%%%%%%%%%%%%%%\n",
      "                                     %%%%%%%%%%%%%%%%%%%%%%%%\n",
      "                 ###############      %%%%%%%%%%%%%%%%%%%%%%%%\n",
      "                ##################     %%%%%%%%%%%%%%%%%%%%%%%\n",
      "                ###################     %%%%%%%%%%%%%%%%%%%%%%%\n",
      "                ####################     %%%%%%%%%%%%%%%%%%%%%%\n",
      "                #####################     %%%%%%%%%%%%%%%%%%%%%\n",
      "                ######################     %%%%%%%%%%%%%%%%%%%%\n",
      "                #######################     %%%%%%%%%%%%%%%%%%\n",
      "                 #######################     %%%%%%%%%%%%%%%%%\n",
      "                 ######################     %%%%%%%%%%%%%%%%%\n",
      "                  ####################     %%%%%%%%%%%%%%%%%\n",
      "                    #################     %%%%%%%%%%%%%%%%%\n",
      "                     ###############     %%%%%%%%%%%%%%%%\n",
      "                       ############     %%%%%%%%%%%%%%%\n",
      "                          ########     %%%%%%%%%%%%%%\n",
      "                                      %%%%%%%%%%%\n",
      "\n",
      "                 | The OpenMC Monte Carlo Code\n",
      "       Copyright | 2011-2023 MIT, UChicago Argonne LLC, and contributors\n",
      "         License | https://docs.openmc.org/en/latest/license.html\n",
      "         Version | 0.13.4-dev\n",
      "        Git SHA1 | 922b3f9de6ccf3eb1e61171c3b48d51b62875884\n",
      "       Date/Time | 2023-08-06 00:56:44\n",
      "\n",
      " Reading model XML file './model.xml' ...\n",
      " WARNING: Other XML file input(s) are present. These files may be ignored in\n",
      "          favor of the ./model.xml file.\n",
      " Reading cross sections XML file...\n",
      " Preparing distributed cell instances...\n",
      " Reading plot XML file...\n",
      "\n",
      " =======================>     PLOTTING SUMMARY     <========================\n",
      "\n",
      "Plot ID: 5\n",
      "Plot file: pinplot.png\n",
      "Universe depth: -1\n",
      "Plot Type: Slice\n",
      "Origin: 0 0 0\n",
      "Width: 0.695 0.695\n",
      "Coloring: Materials\n",
      "Basis: XY\n",
      "Pixels: 200 200\n",
      "\n",
      " Processing plot 5: pinplot.png...\n"
     ]
    }
   ],
   "source": [
    "openmc.plot_geometry()"
   ]
  },
  {
   "cell_type": "markdown",
   "id": "df1bd125-ab83-41d2-ad1e-4a67778fa7dd",
   "metadata": {},
   "source": [
    "Now, we can use functionality from IPython to display the `.png` image inline in our notebook:"
   ]
  },
  {
   "cell_type": "code",
   "execution_count": 47,
   "id": "193d0f91-7f29-4298-9e86-5aa1e004d735",
   "metadata": {},
   "outputs": [
    {
     "data": {
      "image/png": "[encoded data removed]",
      "text/plain": [
       "<IPython.core.display.Image object>"
      ]
     },
     "execution_count": 47,
     "metadata": {},
     "output_type": "execute_result"
    }
   ],
   "source": [
    "from IPython.display import Image\n",
    "Image(\"pinplot.png\")"
   ]
  },
  {
   "cell_type": "markdown",
   "id": "467c3cd0-a78e-4906-a914-32ef73784468",
   "metadata": {},
   "source": [
    "OpenMC also provides us with a method on the `Plot` class that simplifies the workflow."
   ]
  },
  {
   "cell_type": "code",
   "execution_count": 48,
   "id": "797f6691-b74e-447d-bcf9-63e9429a847a",
   "metadata": {},
   "outputs": [
    {
     "data": {
      "image/png": "[encoded data removed]",
      "text/plain": [
       "<IPython.core.display.Image object>"
      ]
     },
     "execution_count": 48,
     "metadata": {},
     "output_type": "execute_result"
    }
   ],
   "source": [
    "plot.to_ipython_image()"
   ]
  },
  {
   "cell_type": "markdown",
   "id": "e98df967-d742-4e6c-8dca-dcdf17032aa4",
   "metadata": {},
   "source": [
    "## `Model` class\n",
    "\n",
    "So far, we've seen that to create and simulate a model, we had to create an instance of `Geometry`, `Materials`, and `Settings` and call the `export_to_xml` method on each of them. OpenMC also provides a `Model` class that aggregates these classes together an provides a single `export_to_xml` method that will export all files."
   ]
  },
  {
   "cell_type": "code",
   "execution_count": 49,
   "id": "f08c99e5-efa3-4b67-84f9-463260174187",
   "metadata": {},
   "outputs": [],
   "source": [
    "# Combine the three classes into a single model\n",
    "model = openmc.Model()\n",
    "model.geometry = geometry\n",
    "model.materials = materials\n",
    "model.settings = settings\n",
    "\n",
    "# Export all at once\n",
    "model.export_to_xml()"
   ]
  },
  {
   "cell_type": "markdown",
   "id": "f6d525a5-fe63-4082-8832-60b549ffb61f",
   "metadata": {},
   "source": [
    "The `Model` class also has `run` method that will both export single XML file (`model.xml`) *and* run a simulation, returning the name of the last statepoint file that was written:\n",
    "\n",
    "**Note: If both separate XML inputs (`materials.xml`, `geometry.xml`, `settings.xml`, ...) and a `model.xml` file are both present in OpenMC's run directory, the `model.xml` fill will be used instead of the separate XML inputs.**"
   ]
  },
  {
   "cell_type": "code",
   "execution_count": 50,
   "id": "c27926f2-6fdc-4d4f-8c66-8b48fdbe913b",
   "metadata": {},
   "outputs": [
    {
     "name": "stdout",
     "output_type": "stream",
     "text": [
      "                                %%%%%%%%%%%%%%%\n",
      "                           %%%%%%%%%%%%%%%%%%%%%%%%\n",
      "                        %%%%%%%%%%%%%%%%%%%%%%%%%%%%%%\n",
      "                      %%%%%%%%%%%%%%%%%%%%%%%%%%%%%%%%%%\n",
      "                    %%%%%%%%%%%%%%%%%%%%%%%%%%%%%%%%%%%%%%\n",
      "                   %%%%%%%%%%%%%%%%%%%%%%%%%%%%%%%%%%%%%%%%\n",
      "                                    %%%%%%%%%%%%%%%%%%%%%%%%\n",
      "                                     %%%%%%%%%%%%%%%%%%%%%%%%\n",
      "                 ###############      %%%%%%%%%%%%%%%%%%%%%%%%\n",
      "                ##################     %%%%%%%%%%%%%%%%%%%%%%%\n",
      "                ###################     %%%%%%%%%%%%%%%%%%%%%%%\n",
      "                ####################     %%%%%%%%%%%%%%%%%%%%%%\n",
      "                #####################     %%%%%%%%%%%%%%%%%%%%%\n",
      "                ######################     %%%%%%%%%%%%%%%%%%%%\n",
      "                #######################     %%%%%%%%%%%%%%%%%%\n",
      "                 #######################     %%%%%%%%%%%%%%%%%\n",
      "                 ######################     %%%%%%%%%%%%%%%%%\n",
      "                  ####################     %%%%%%%%%%%%%%%%%\n",
      "                    #################     %%%%%%%%%%%%%%%%%\n",
      "                     ###############     %%%%%%%%%%%%%%%%\n",
      "                       ############     %%%%%%%%%%%%%%%\n",
      "                          ########     %%%%%%%%%%%%%%\n",
      "                                      %%%%%%%%%%%\n",
      "\n",
      "                 | The OpenMC Monte Carlo Code\n",
      "       Copyright | 2011-2023 MIT, UChicago Argonne LLC, and contributors\n",
      "         License | https://docs.openmc.org/en/latest/license.html\n",
      "         Version | 0.13.4-dev\n",
      "        Git SHA1 | 922b3f9de6ccf3eb1e61171c3b48d51b62875884\n",
      "       Date/Time | 2023-08-06 00:56:44\n",
      "\n",
      " Reading model XML file './model.xml' ...\n",
      " WARNING: Other XML file input(s) are present. These files may be ignored in\n",
      "          favor of the ./model.xml file.\n",
      " Reading cross sections XML file...\n",
      " Reading U235 from /Users/pshriwise/data/xs/openmc/nndc_hdf5/U235.h5\n",
      " Reading U238 from /Users/pshriwise/data/xs/openmc/nndc_hdf5/U238.h5\n",
      " Reading O16 from /Users/pshriwise/data/xs/openmc/nndc_hdf5/O16.h5\n",
      " Reading Fe54 from /Users/pshriwise/data/xs/openmc/nndc_hdf5/Fe54.h5\n",
      " Reading Fe56 from /Users/pshriwise/data/xs/openmc/nndc_hdf5/Fe56.h5\n",
      " Reading Fe57 from /Users/pshriwise/data/xs/openmc/nndc_hdf5/Fe57.h5\n",
      " Reading Fe58 from /Users/pshriwise/data/xs/openmc/nndc_hdf5/Fe58.h5\n",
      " Reading C0 from /Users/pshriwise/data/xs/openmc/nndc_hdf5/C0.h5\n",
      " Reading O17 from /Users/pshriwise/data/xs/openmc/nndc_hdf5/O17.h5\n",
      " Reading Na23 from /Users/pshriwise/data/xs/openmc/nndc_hdf5/Na23.h5\n",
      " Minimum neutron data temperature: 294 K\n",
      " Maximum neutron data temperature: 294 K\n",
      " Preparing distributed cell instances...\n",
      " Reading plot XML file...\n",
      " Writing summary.h5 file...\n",
      " Maximum neutron transport energy: 20000000 eV for U235\n",
      " Initializing source particles...\n",
      "\n",
      " ====================>     K EIGENVALUE SIMULATION     <====================\n",
      "\n",
      "  Bat./Gen.      k            Average k\n",
      "  =========   ========   ====================\n",
      "        1/1    2.03935\n",
      "        2/1    1.96504\n",
      "        3/1    2.01414\n",
      "        4/1    2.01600\n",
      "        5/1    2.00721\n",
      "        6/1    2.04568\n",
      "        7/1    1.93190\n",
      "        8/1    2.00309\n",
      "        9/1    1.99800\n",
      "       10/1    1.98717\n",
      "       11/1    2.02412\n",
      "       12/1    2.03194    2.02803 +/- 0.00391\n",
      "       13/1    2.05259    2.03622 +/- 0.00849\n",
      "       14/1    1.97432    2.02074 +/- 0.01660\n",
      "       15/1    1.98061    2.01272 +/- 0.01516\n",
      "       16/1    1.98051    2.00735 +/- 0.01349\n",
      "       17/1    2.08593    2.01857 +/- 0.01600\n",
      "       18/1    1.91486    2.00561 +/- 0.01897\n",
      "       19/1    2.01036    2.00614 +/- 0.01674\n",
      "       20/1    2.07045    2.01257 +/- 0.01630\n",
      "       21/1    2.06274    2.01713 +/- 0.01543\n",
      "       22/1    2.02312    2.01763 +/- 0.01410\n",
      "       23/1    2.01827    2.01768 +/- 0.01297\n",
      "       24/1    1.86801    2.00699 +/- 0.01607\n",
      "       25/1    2.06526    2.01087 +/- 0.01546\n",
      "       26/1    2.04224    2.01283 +/- 0.01459\n",
      "       27/1    2.03910    2.01438 +/- 0.01380\n",
      "       28/1    1.99287    2.01318 +/- 0.01306\n",
      "       29/1    1.97972    2.01142 +/- 0.01248\n",
      "       30/1    1.93179    2.00744 +/- 0.01249\n",
      "       31/1    1.91753    2.00316 +/- 0.01263\n",
      "       32/1    1.99294    2.00270 +/- 0.01205\n",
      "       33/1    2.10192    2.00701 +/- 0.01230\n",
      "       34/1    2.02364    2.00770 +/- 0.01179\n",
      "       35/1    1.98397    2.00675 +/- 0.01135\n",
      "       36/1    2.04939    2.00839 +/- 0.01103\n",
      "       37/1    1.96450    2.00677 +/- 0.01074\n",
      "       38/1    1.96783    2.00538 +/- 0.01044\n",
      "       39/1    1.93211    2.00285 +/- 0.01038\n",
      "       40/1    2.03879    2.00405 +/- 0.01010\n",
      "       41/1    1.96566    2.00281 +/- 0.00985\n",
      "       42/1    2.05317    2.00438 +/- 0.00967\n",
      "       43/1    2.01232    2.00462 +/- 0.00937\n",
      "       44/1    2.06475    2.00639 +/- 0.00926\n",
      "       45/1    1.95938    2.00505 +/- 0.00909\n",
      "       46/1    1.98592    2.00452 +/- 0.00885\n",
      "       47/1    2.02886    2.00518 +/- 0.00864\n",
      "       48/1    2.01230    2.00536 +/- 0.00841\n",
      "       49/1    2.02554    2.00588 +/- 0.00821\n",
      "       50/1    1.95139    2.00452 +/- 0.00811\n",
      "       51/1    1.95179    2.00323 +/- 0.00802\n",
      "       52/1    1.88408    2.00039 +/- 0.00832\n",
      "       53/1    1.95413    1.99932 +/- 0.00820\n",
      "       54/1    1.91487    1.99740 +/- 0.00824\n",
      "       55/1    2.06496    1.99890 +/- 0.00819\n",
      "       56/1    1.93807    1.99758 +/- 0.00812\n",
      "       57/1    2.00534    1.99774 +/- 0.00794\n",
      "       58/1    2.09829    1.99984 +/- 0.00805\n",
      "       59/1    1.96159    1.99906 +/- 0.00793\n",
      "       60/1    2.02322    1.99954 +/- 0.00778\n",
      "       61/1    2.02348    2.00001 +/- 0.00764\n",
      "       62/1    1.97078    1.99945 +/- 0.00751\n",
      "       63/1    1.95572    1.99862 +/- 0.00742\n",
      "       64/1    1.98027    1.99828 +/- 0.00729\n",
      "       65/1    2.00382    1.99838 +/- 0.00715\n",
      "       66/1    1.97740    1.99801 +/- 0.00703\n",
      "       67/1    2.01624    1.99833 +/- 0.00692\n",
      "       68/1    2.02402    1.99877 +/- 0.00681\n",
      "       69/1    1.96988    1.99828 +/- 0.00671\n",
      "       70/1    2.03362    1.99887 +/- 0.00663\n",
      "       71/1    2.04084    1.99956 +/- 0.00655\n",
      "       72/1    2.06453    2.00061 +/- 0.00653\n",
      "       73/1    2.02675    2.00102 +/- 0.00644\n",
      "       74/1    2.03858    2.00161 +/- 0.00637\n",
      "       75/1    1.96551    2.00105 +/- 0.00629\n",
      "       76/1    1.98557    2.00082 +/- 0.00620\n",
      "       77/1    2.02385    2.00116 +/- 0.00612\n",
      "       78/1    1.99726    2.00111 +/- 0.00603\n",
      "       79/1    2.02429    2.00144 +/- 0.00595\n",
      "       80/1    1.95396    2.00076 +/- 0.00590\n",
      "       81/1    1.99329    2.00066 +/- 0.00582\n",
      "       82/1    1.98915    2.00050 +/- 0.00574\n",
      "       83/1    2.05882    2.00130 +/- 0.00572\n",
      "       84/1    1.99375    2.00119 +/- 0.00564\n",
      "       85/1    1.96555    2.00072 +/- 0.00558\n",
      "       86/1    2.01288    2.00088 +/- 0.00551\n",
      "       87/1    2.01867    2.00111 +/- 0.00545\n",
      "       88/1    2.03763    2.00158 +/- 0.00540\n",
      "       89/1    2.02395    2.00186 +/- 0.00533\n",
      "       90/1    2.01772    2.00206 +/- 0.00527\n",
      "       91/1    2.02320    2.00232 +/- 0.00521\n",
      "       92/1    2.03205    2.00268 +/- 0.00516\n",
      "       93/1    2.00240    2.00268 +/- 0.00510\n",
      "       94/1    2.03569    2.00307 +/- 0.00505\n",
      "       95/1    2.10305    2.00425 +/- 0.00513\n",
      "       96/1    2.11044    2.00548 +/- 0.00522\n",
      "       97/1    1.95225    2.00487 +/- 0.00519\n",
      "       98/1    2.12682    2.00626 +/- 0.00532\n",
      "       99/1    1.99737    2.00616 +/- 0.00526\n",
      "      100/1    1.93217    2.00534 +/- 0.00526\n",
      " Creating state point statepoint.100.h5...\n",
      "\n",
      " =======================>     TIMING STATISTICS     <=======================\n",
      "\n",
      " Total time for initialization     = 2.3701e+00 seconds\n",
      "   Reading cross sections          = 2.3561e+00 seconds\n",
      " Total time in simulation          = 6.2428e+01 seconds\n",
      "   Time in transport only          = 6.2416e+01 seconds\n",
      "   Time in inactive batches        = 6.3096e+00 seconds\n",
      "   Time in active batches          = 5.6119e+01 seconds\n",
      "   Time synchronizing fission bank = 5.9807e-03 seconds\n",
      "     Sampling source sites         = 5.7798e-03 seconds\n",
      "     SEND/RECV source sites        = 1.7142e-04 seconds\n",
      "   Time accumulating tallies       = 6.1082e-05 seconds\n",
      "   Time writing statepoints        = 1.2681e-03 seconds\n",
      " Total time for finalization       = 1.5000e-06 seconds\n",
      " Total time elapsed                = 6.4806e+01 seconds\n",
      " Calculation Rate (inactive)       = 1584.89 particles/second\n",
      " Calculation Rate (active)         = 1603.74 particles/second\n",
      "\n",
      " ============================>     RESULTS     <============================\n",
      "\n",
      " k-effective (Collision)     = 2.00634 +/- 0.00514\n",
      " k-effective (Track-length)  = 2.00534 +/- 0.00526\n",
      " k-effective (Absorption)    = 2.00912 +/- 0.00182\n",
      " Combined k-effective        = 2.00871 +/- 0.00161\n",
      " Leakage Fraction            = 0.00000 +/- 0.00000\n",
      "\n"
     ]
    },
    {
     "data": {
      "text/plain": [
       "PosixPath('/Users/pshriwise/repos/ictp-workshop23-openmc/notebooks/openmc_tutorial/statepoint.100.h5')"
      ]
     },
     "execution_count": 50,
     "metadata": {},
     "output_type": "execute_result"
    }
   ],
   "source": [
    "model.run()"
   ]
  },
  {
   "cell_type": "markdown",
   "id": "eaacd3ac-4c13-4bcd-a06c-70ad56b63f8b",
   "metadata": {},
   "source": [
    "As we'll see later, the `Model` class has other useful features and can be very useful for postprocessing work."
   ]
  },
  {
   "cell_type": "markdown",
   "id": "856a3443-3605-416e-8216-09f574a70db8",
   "metadata": {},
   "source": [
    "---"
   ]
  },
  {
   "cell_type": "markdown",
   "id": "5ae2241e-7272-485b-b3b8-95fb48ee2edf",
   "metadata": {},
   "source": [
    "# OpenMC Tallies"
   ]
  },
  {
   "cell_type": "markdown",
   "id": "96c50839-f62b-43b2-9c34-7af7a51f6423",
   "metadata": {},
   "source": [
    "**Learning Objectives:**\n",
    "\n",
    "  - Understand application of filters and scores to create tallies\n",
    "  - Apply tallies to an OpenMC simulation\n",
    "  - Extract information from OpenMC statepoint files\n",
    "  - Understand tally units and normalization\n",
    "  - Plot tally results"
   ]
  },
  {
   "cell_type": "markdown",
   "id": "079fb3ee-dd13-4fdc-96a7-ccb88db6caf8",
   "metadata": {},
   "source": [
    "In this section, we'll be looking at how to extract custom information from an OpenMC simulation in what is known as a tally. A tally accumulates statistical information during the simulation about particles when they eneter regions of phase space specified on the tally. The limits of these regions are set by filters applied to the tally. Scores and nuclides can also be applied to tallies to indicate what type of information is kept about the particle (e.g. reaction types, flux, heat, etc.)."
   ]
  },
  {
   "cell_type": "markdown",
   "id": "17638a7c-e919-4f5c-ad28-1758a5f9ada7",
   "metadata": {},
   "source": [
    "Any tally in OpenMC can be described with the following form:\n",
    "\n",
    "$$ \n",
    " X = \\underbrace{\\int d\\mathbf{r} \\int d\\mathbf{\\Omega} \\int\n",
    "    dE}_{\\text{filters}} \\underbrace{f(\\mathbf{r}, \\mathbf{\\Omega},\n",
    "    E)}_{\\text{scores}} \\psi (\\mathbf{r}, \\mathbf{\\Omega}, E)\n",
    "$$\n",
    "\n",
    "where filters set the limits of the integrals and the scoring function is convolved with particle information (e.g. reaction type, current material, etc.)."
   ]
  },
  {
   "cell_type": "markdown",
   "id": "1935048f-4a6e-4af8-a507-6fabe92f6d9b",
   "metadata": {},
   "source": [
    "First, we'll import a few additional packages to help manage data and visualize results."
   ]
  },
  {
   "cell_type": "code",
   "execution_count": 52,
   "id": "5566e11f-ec81-4977-b171-99147d0307ad",
   "metadata": {},
   "outputs": [],
   "source": [
    "import numpy as np\n",
    "from matplotlib import pyplot as plt"
   ]
  },
  {
   "cell_type": "markdown",
   "id": "8653bdb0-9456-4fd7-94f8-4f9fb6e827d4",
   "metadata": {},
   "source": [
    "We'll continue to work with the CEFR pincell model we've developed thus far. Let's explore that model further."
   ]
  },
  {
   "cell_type": "code",
   "execution_count": 53,
   "id": "e289f238-2d52-4cbe-8bbd-d59de647e4ab",
   "metadata": {},
   "outputs": [
    {
     "data": {
      "text/plain": [
       "Universe\n",
       "\tID             =\t3\n",
       "\tName           =\t\n",
       "\tGeom           =\tCSG\n",
       "\tCells          =\t[7, 8, 9, 10, 11]"
      ]
     },
     "execution_count": 53,
     "metadata": {},
     "output_type": "execute_result"
    }
   ],
   "source": [
    "model.geometry.root_universe"
   ]
  },
  {
   "cell_type": "code",
   "execution_count": 54,
   "id": "ab8655ae-9db5-4594-aef7-d2df6df6fd2c",
   "metadata": {},
   "outputs": [
    {
     "data": {
      "text/plain": [
       "OrderedDict([(4,\n",
       "              Material\n",
       "              \tID             =\t4\n",
       "              \tName           =\tair\n",
       "              \tTemperature    =\tNone\n",
       "              \tDensity        =\tNone [sum]\n",
       "              \tVolume         =\tNone [cm^3]\n",
       "              \tS(a,b) Tables  \n",
       "              \tNuclides       \n",
       "              \tO16            =\t9.996209999999999e-12 [ao]\n",
       "              \tO17            =\t3.79e-15     [ao]),\n",
       "             (1,\n",
       "              Material\n",
       "              \tID             =\t1\n",
       "              \tName           =\tuo2\n",
       "              \tTemperature    =\tNone\n",
       "              \tDensity        =\t0.0702131 [atom/b-cm]\n",
       "              \tVolume         =\tNone [cm^3]\n",
       "              \tS(a,b) Tables  \n",
       "              \tNuclides       \n",
       "              \tU235           =\t0.0149981    [ao]\n",
       "              \tU238           =\t0.00826381   [ao]\n",
       "              \tO16            =\t0.0469512    [ao]),\n",
       "             (3,\n",
       "              Material\n",
       "              \tID             =\t3\n",
       "              \tName           =\tSS\n",
       "              \tTemperature    =\tNone\n",
       "              \tDensity        =\t0.0049843 [atom/b-cm]\n",
       "              \tVolume         =\tNone [cm^3]\n",
       "              \tS(a,b) Tables  \n",
       "              \tNuclides       \n",
       "              \tFe54           =\t0.05815775   [ao]\n",
       "              \tFe56           =\t0.9129523    [ao]\n",
       "              \tFe57           =\t0.02108405   [ao]\n",
       "              \tFe58           =\t0.0028059    [ao]\n",
       "              \tC0             =\t0.005        [ao]),\n",
       "             (5,\n",
       "              Material\n",
       "              \tID             =\t5\n",
       "              \tName           =\tNa\n",
       "              \tTemperature    =\tNone\n",
       "              \tDensity        =\tNone [sum]\n",
       "              \tVolume         =\tNone [cm^3]\n",
       "              \tS(a,b) Tables  \n",
       "              \tNuclides       \n",
       "              \tNa23           =\t0.0233599    [ao])])"
      ]
     },
     "execution_count": 54,
     "metadata": {},
     "output_type": "execute_result"
    }
   ],
   "source": [
    "model.geometry.get_all_materials()"
   ]
  },
  {
   "cell_type": "code",
   "execution_count": 55,
   "id": "29d1ed15-ea53-4c4b-9e88-1707ed4b0d52",
   "metadata": {},
   "outputs": [
    {
     "data": {
      "text/plain": [
       "[]"
      ]
     },
     "execution_count": 55,
     "metadata": {},
     "output_type": "execute_result"
    }
   ],
   "source": [
    "model.tallies"
   ]
  },
  {
   "cell_type": "markdown",
   "id": "42ad4cc8-3260-4037-a3cc-d8a045e8af9e",
   "metadata": {},
   "source": [
    "In this exercise we'll be adding tallies to perform a few different tasks:\n",
    "\n",
    "\n",
    "  **1. Determine the energy and heat produced per fission** \\\n",
    "  **2. Plot the flux spectrum of the pincell** \\\n",
    "  **3. Plot reaction types based on material**\n",
    "  \n",
    "To do this we'll use a variety of different filters applied to different tallies. "
   ]
  },
  {
   "cell_type": "markdown",
   "id": "97edb404-462d-4683-b4d4-4966b9461479",
   "metadata": {},
   "source": [
    "First, to determine the recoverable energy produced per fission we'll create a tally without filters to gather information on the fission reaction rate (\"`fission`\") and recoverable fission energy (\"`kappa-fission`\"). Because we want this information talllied throughout the model, a \"global\" tally, no filters need to be applied.\n",
    "\n"
   ]
  },
  {
   "cell_type": "markdown",
   "id": "756c12af-7898-49d9-8048-99fbc4df5725",
   "metadata": {},
   "source": [
    "<div class=\"alert alert-block alert-info\">\n",
    "A full list of scores and their meanings can be found <a href=https://docs.openmc.org/en/stable/usersguide/tallies.html#scores >here</a>.\n",
    "</div>"
   ]
  },
  {
   "cell_type": "markdown",
   "id": "2deed201-881e-4189-9a28-2436ad551467",
   "metadata": {},
   "source": [
    "## Task 1: Energy released per fission"
   ]
  },
  {
   "cell_type": "code",
   "execution_count": 56,
   "id": "2afeb9a7-c94b-4c0d-afa1-f334537f4bd5",
   "metadata": {},
   "outputs": [
    {
     "name": "stdout",
     "output_type": "stream",
     "text": [
      "Tally\n",
      "\tID             =\t1\n",
      "\tName           =\t\n",
      "\tFilters        =\t\n",
      "\tNuclides       =\t\n",
      "\tScores         =\t['fission', 'kappa-fission']\n",
      "\tEstimator      =\tNone\n",
      "\tMultiply dens. =\tTrue\n"
     ]
    }
   ],
   "source": [
    "fission_tally = openmc.Tally()\n",
    "fission_tally.scores = ['fission', 'kappa-fission']\n",
    "print(fission_tally)"
   ]
  },
  {
   "cell_type": "markdown",
   "id": "87f39814-257c-40d2-bcff-c24de5b44a79",
   "metadata": {},
   "source": [
    "Similar to the `openmc.Materials` object, the `openmc.Tallies` object is a sub-class of Python's built-in `list` and is used to collect tallies for appliction to the model."
   ]
  },
  {
   "cell_type": "code",
   "execution_count": 57,
   "id": "509c2769-1f16-4d93-9496-6c800be76b20",
   "metadata": {},
   "outputs": [],
   "source": [
    "model.tallies = openmc.Tallies([fission_tally])"
   ]
  },
  {
   "cell_type": "code",
   "execution_count": 58,
   "id": "937c13cf-8370-422a-9467-f67d1a951992",
   "metadata": {},
   "outputs": [
    {
     "name": "stdout",
     "output_type": "stream",
     "text": [
      "                                %%%%%%%%%%%%%%%\n",
      "                           %%%%%%%%%%%%%%%%%%%%%%%%\n",
      "                        %%%%%%%%%%%%%%%%%%%%%%%%%%%%%%\n",
      "                      %%%%%%%%%%%%%%%%%%%%%%%%%%%%%%%%%%\n",
      "                    %%%%%%%%%%%%%%%%%%%%%%%%%%%%%%%%%%%%%%\n",
      "                   %%%%%%%%%%%%%%%%%%%%%%%%%%%%%%%%%%%%%%%%\n",
      "                                    %%%%%%%%%%%%%%%%%%%%%%%%\n",
      "                                     %%%%%%%%%%%%%%%%%%%%%%%%\n",
      "                 ###############      %%%%%%%%%%%%%%%%%%%%%%%%\n",
      "                ##################     %%%%%%%%%%%%%%%%%%%%%%%\n",
      "                ###################     %%%%%%%%%%%%%%%%%%%%%%%\n",
      "                ####################     %%%%%%%%%%%%%%%%%%%%%%\n",
      "                #####################     %%%%%%%%%%%%%%%%%%%%%\n",
      "                ######################     %%%%%%%%%%%%%%%%%%%%\n",
      "                #######################     %%%%%%%%%%%%%%%%%%\n",
      "                 #######################     %%%%%%%%%%%%%%%%%\n",
      "                 ######################     %%%%%%%%%%%%%%%%%\n",
      "                  ####################     %%%%%%%%%%%%%%%%%\n",
      "                    #################     %%%%%%%%%%%%%%%%%\n",
      "                     ###############     %%%%%%%%%%%%%%%%\n",
      "                       ############     %%%%%%%%%%%%%%%\n",
      "                          ########     %%%%%%%%%%%%%%\n",
      "                                      %%%%%%%%%%%\n",
      "\n",
      "                 | The OpenMC Monte Carlo Code\n",
      "       Copyright | 2011-2023 MIT, UChicago Argonne LLC, and contributors\n",
      "         License | https://docs.openmc.org/en/latest/license.html\n",
      "         Version | 0.13.4-dev\n",
      "        Git SHA1 | 922b3f9de6ccf3eb1e61171c3b48d51b62875884\n",
      "       Date/Time | 2023-08-06 01:30:01\n",
      "\n",
      " Reading model XML file './model.xml' ...\n",
      " WARNING: Other XML file input(s) are present. These files may be ignored in\n",
      "          favor of the ./model.xml file.\n",
      " Reading cross sections XML file...\n",
      " Reading U235 from /Users/pshriwise/data/xs/openmc/nndc_hdf5/U235.h5\n",
      " Reading U238 from /Users/pshriwise/data/xs/openmc/nndc_hdf5/U238.h5\n",
      " Reading O16 from /Users/pshriwise/data/xs/openmc/nndc_hdf5/O16.h5\n",
      " Reading Fe54 from /Users/pshriwise/data/xs/openmc/nndc_hdf5/Fe54.h5\n",
      " Reading Fe56 from /Users/pshriwise/data/xs/openmc/nndc_hdf5/Fe56.h5\n",
      " Reading Fe57 from /Users/pshriwise/data/xs/openmc/nndc_hdf5/Fe57.h5\n",
      " Reading Fe58 from /Users/pshriwise/data/xs/openmc/nndc_hdf5/Fe58.h5\n",
      " Reading C0 from /Users/pshriwise/data/xs/openmc/nndc_hdf5/C0.h5\n",
      " Reading O17 from /Users/pshriwise/data/xs/openmc/nndc_hdf5/O17.h5\n",
      " Reading Na23 from /Users/pshriwise/data/xs/openmc/nndc_hdf5/Na23.h5\n",
      " Minimum neutron data temperature: 294 K\n",
      " Maximum neutron data temperature: 294 K\n",
      " Preparing distributed cell instances...\n",
      " Reading plot XML file...\n",
      " Writing summary.h5 file...\n",
      " Maximum neutron transport energy: 20000000 eV for U235\n",
      " Initializing source particles...\n",
      "\n",
      " ====================>     K EIGENVALUE SIMULATION     <====================\n",
      "\n",
      "  Bat./Gen.      k            Average k\n",
      "  =========   ========   ====================\n",
      "        1/1    2.03935\n",
      "        2/1    1.96504\n",
      "        3/1    2.01414\n",
      "        4/1    2.01600\n",
      "        5/1    2.00721\n",
      "        6/1    2.04568\n",
      "        7/1    1.93190\n",
      "        8/1    2.00309\n",
      "        9/1    1.99800\n",
      "       10/1    1.98717\n",
      "       11/1    2.02412\n",
      "       12/1    2.03194    2.02803 +/- 0.00391\n",
      "       13/1    2.05259    2.03622 +/- 0.00849\n",
      "       14/1    1.97432    2.02074 +/- 0.01660\n",
      "       15/1    1.98061    2.01272 +/- 0.01516\n",
      "       16/1    1.98051    2.00735 +/- 0.01349\n",
      "       17/1    2.08593    2.01857 +/- 0.01600\n",
      "       18/1    1.91486    2.00561 +/- 0.01897\n",
      "       19/1    2.01036    2.00614 +/- 0.01674\n",
      "       20/1    2.07045    2.01257 +/- 0.01630\n",
      "       21/1    2.06274    2.01713 +/- 0.01543\n",
      "       22/1    2.02312    2.01763 +/- 0.01410\n",
      "       23/1    2.01827    2.01768 +/- 0.01297\n",
      "       24/1    1.86801    2.00699 +/- 0.01607\n",
      "       25/1    2.06526    2.01087 +/- 0.01546\n",
      "       26/1    2.04224    2.01283 +/- 0.01459\n",
      "       27/1    2.03910    2.01438 +/- 0.01380\n",
      "       28/1    1.99287    2.01318 +/- 0.01306\n",
      "       29/1    1.97972    2.01142 +/- 0.01248\n",
      "       30/1    1.93179    2.00744 +/- 0.01249\n",
      "       31/1    1.91753    2.00316 +/- 0.01263\n",
      "       32/1    1.99294    2.00270 +/- 0.01205\n",
      "       33/1    2.10192    2.00701 +/- 0.01230\n",
      "       34/1    2.02364    2.00770 +/- 0.01179\n",
      "       35/1    1.98397    2.00675 +/- 0.01135\n",
      "       36/1    2.04939    2.00839 +/- 0.01103\n",
      "       37/1    1.96450    2.00677 +/- 0.01074\n",
      "       38/1    1.96783    2.00538 +/- 0.01044\n",
      "       39/1    1.93211    2.00285 +/- 0.01038\n",
      "       40/1    2.03879    2.00405 +/- 0.01010\n",
      "       41/1    1.96566    2.00281 +/- 0.00985\n",
      "       42/1    2.05317    2.00438 +/- 0.00967\n",
      "       43/1    2.01232    2.00462 +/- 0.00937\n",
      "       44/1    2.06475    2.00639 +/- 0.00926\n",
      "       45/1    1.95938    2.00505 +/- 0.00909\n",
      "       46/1    1.98592    2.00452 +/- 0.00885\n",
      "       47/1    2.02886    2.00518 +/- 0.00864\n",
      "       48/1    2.01230    2.00536 +/- 0.00841\n",
      "       49/1    2.02554    2.00588 +/- 0.00821\n",
      "       50/1    1.95139    2.00452 +/- 0.00811\n",
      "       51/1    1.95179    2.00323 +/- 0.00802\n",
      "       52/1    1.88408    2.00039 +/- 0.00832\n",
      "       53/1    1.95413    1.99932 +/- 0.00820\n",
      "       54/1    1.91487    1.99740 +/- 0.00824\n",
      "       55/1    2.06496    1.99890 +/- 0.00819\n",
      "       56/1    1.93807    1.99758 +/- 0.00812\n",
      "       57/1    2.00534    1.99774 +/- 0.00794\n",
      "       58/1    2.09829    1.99984 +/- 0.00805\n",
      "       59/1    1.96159    1.99906 +/- 0.00793\n",
      "       60/1    2.02322    1.99954 +/- 0.00778\n",
      "       61/1    2.02348    2.00001 +/- 0.00764\n",
      "       62/1    1.97078    1.99945 +/- 0.00751\n",
      "       63/1    1.95572    1.99862 +/- 0.00742\n",
      "       64/1    1.98027    1.99828 +/- 0.00729\n",
      "       65/1    2.00382    1.99838 +/- 0.00715\n",
      "       66/1    1.97740    1.99801 +/- 0.00703\n",
      "       67/1    2.01624    1.99833 +/- 0.00692\n",
      "       68/1    2.02402    1.99877 +/- 0.00681\n",
      "       69/1    1.96988    1.99828 +/- 0.00671\n",
      "       70/1    2.03362    1.99887 +/- 0.00663\n",
      "       71/1    2.04084    1.99956 +/- 0.00655\n",
      "       72/1    2.06453    2.00061 +/- 0.00653\n",
      "       73/1    2.02675    2.00102 +/- 0.00644\n",
      "       74/1    2.03858    2.00161 +/- 0.00637\n",
      "       75/1    1.96551    2.00105 +/- 0.00629\n",
      "       76/1    1.98557    2.00082 +/- 0.00620\n",
      "       77/1    2.02385    2.00116 +/- 0.00612\n",
      "       78/1    1.99726    2.00111 +/- 0.00603\n",
      "       79/1    2.02429    2.00144 +/- 0.00595\n",
      "       80/1    1.95396    2.00076 +/- 0.00590\n",
      "       81/1    1.99329    2.00066 +/- 0.00582\n",
      "       82/1    1.98915    2.00050 +/- 0.00574\n",
      "       83/1    2.05882    2.00130 +/- 0.00572\n",
      "       84/1    1.99375    2.00119 +/- 0.00564\n",
      "       85/1    1.96555    2.00072 +/- 0.00558\n",
      "       86/1    2.01288    2.00088 +/- 0.00551\n",
      "       87/1    2.01867    2.00111 +/- 0.00545\n",
      "       88/1    2.03763    2.00158 +/- 0.00540\n",
      "       89/1    2.02395    2.00186 +/- 0.00533\n",
      "       90/1    2.01772    2.00206 +/- 0.00527\n",
      "       91/1    2.02320    2.00232 +/- 0.00521\n",
      "       92/1    2.03205    2.00268 +/- 0.00516\n",
      "       93/1    2.00240    2.00268 +/- 0.00510\n",
      "       94/1    2.03569    2.00307 +/- 0.00505\n",
      "       95/1    2.10305    2.00425 +/- 0.00513\n",
      "       96/1    2.11044    2.00548 +/- 0.00522\n",
      "       97/1    1.95225    2.00487 +/- 0.00519\n",
      "       98/1    2.12682    2.00626 +/- 0.00532\n",
      "       99/1    1.99737    2.00616 +/- 0.00526\n",
      "      100/1    1.93217    2.00534 +/- 0.00526\n",
      " Creating state point statepoint.100.h5...\n",
      "\n",
      " =======================>     TIMING STATISTICS     <=======================\n",
      "\n",
      " Total time for initialization     = 2.5379e+00 seconds\n",
      "   Reading cross sections          = 2.4925e+00 seconds\n",
      " Total time in simulation          = 7.4980e+01 seconds\n",
      "   Time in transport only          = 7.4967e+01 seconds\n",
      "   Time in inactive batches        = 6.1625e+00 seconds\n",
      "   Time in active batches          = 6.8817e+01 seconds\n",
      "   Time synchronizing fission bank = 5.9875e-03 seconds\n",
      "     Sampling source sites         = 5.7902e-03 seconds\n",
      "     SEND/RECV source sites        = 1.6716e-04 seconds\n",
      "   Time accumulating tallies       = 1.2533e-04 seconds\n",
      "   Time writing statepoints        = 1.3815e-03 seconds\n",
      " Total time for finalization       = 1.0792e-04 seconds\n",
      " Total time elapsed                = 7.7525e+01 seconds\n",
      " Calculation Rate (inactive)       = 1622.73 particles/second\n",
      " Calculation Rate (active)         = 1307.81 particles/second\n",
      "\n",
      " ============================>     RESULTS     <============================\n",
      "\n",
      " k-effective (Collision)     = 2.00634 +/- 0.00514\n",
      " k-effective (Track-length)  = 2.00534 +/- 0.00526\n",
      " k-effective (Absorption)    = 2.00912 +/- 0.00182\n",
      " Combined k-effective        = 2.00871 +/- 0.00161\n",
      " Leakage Fraction            = 0.00000 +/- 0.00000\n",
      "\n"
     ]
    }
   ],
   "source": [
    "statepoint = model.run()"
   ]
  },
  {
   "cell_type": "markdown",
   "id": "b4c5744f-781d-41ab-bdc2-592af80837bd",
   "metadata": {},
   "source": [
    "If we list our current directory, we see that several new files have been created as a result of this run: `summary.h5`, `tallies.out`, and `statepoint.50.h5`. The summary file contains information about the simulation's setup (geometry, materials, meshes, etc.) in an HDF5 format. The `tallies.out` file contains a text output of all user-specified tallies for the simulation."
   ]
  },
  {
   "cell_type": "code",
   "execution_count": 60,
   "id": "a01b3201-b703-4093-ba65-f961953f28e4",
   "metadata": {},
   "outputs": [
    {
     "name": "stdout",
     "output_type": "stream",
     "text": [
      " ============================>     TALLY 1     <============================\n",
      "\n",
      " Total Material\n",
      "   Fission Rate                         0.796748 +/- 0.00213604\n",
      "   Kappa-Fission Rate                   1.5422e+08 +/- 413297\n"
     ]
    }
   ],
   "source": [
    "!cat tallies.out"
   ]
  },
  {
   "cell_type": "markdown",
   "id": "61c132dd-46c7-4452-af39-8b8a37ec31ba",
   "metadata": {},
   "source": [
    "This can be useful to quickly look at simple tally results, but isn't a great format to post-process simulation data. For that we'll look to the statepoint file."
   ]
  },
  {
   "cell_type": "code",
   "execution_count": 61,
   "id": "186a9079-cfae-4f9d-9d69-e8e063b22dbd",
   "metadata": {},
   "outputs": [
    {
     "name": "stdout",
     "output_type": "stream",
     "text": [
      "geometry.xml          particle_1_3.h5       pinplot.png\n",
      "materials.xml         particle_1_4.h5       plots.xml\n",
      "model.xml             particle_1_5.h5       settings.xml\n",
      "openmc_tutorial.ipynb particle_1_6.h5       statepoint.100.h5\n",
      "particle_1_10.h5      particle_1_7.h5       summary.h5\n",
      "particle_1_11.h5      particle_1_8.h5       tallies.out\n",
      "particle_1_2.h5       particle_1_9.h5\n",
      "Statepoint: /Users/pshriwise/repos/ictp-workshop23-openmc/notebooks/openmc_tutorial/statepoint.100.h5\n"
     ]
    }
   ],
   "source": [
    "!ls\n",
    "print(f'Statepoint: {statepoint}')"
   ]
  },
  {
   "cell_type": "markdown",
   "id": "084e771a-4f43-456c-8c76-74cfb3ee08a1",
   "metadata": {},
   "source": [
    "To extract information from the statepoint file we'll create an `openmc.StatePoint` object. The `statepoint.get_tally` function will search for tallies by scores, filters, nuclides, ids, and return the closest match. Exact matches can be speficied as well."
   ]
  },
  {
   "cell_type": "code",
   "execution_count": 63,
   "id": "4cccc8b0-9dab-48ba-9e9c-0d47365c441d",
   "metadata": {
    "tags": []
   },
   "outputs": [],
   "source": [
    "with openmc.StatePoint(statepoint) as sp:\n",
    "    tally_by_scores = sp.get_tally(scores=['fission', 'kappa-fission'])\n",
    "    tally_by_id = sp.get_tally(id=fission_tally.id)"
   ]
  },
  {
   "cell_type": "markdown",
   "id": "40a25dc0-1ea6-4d9f-a3c6-752040a0045b",
   "metadata": {},
   "source": [
    "If we print the tally objects returned, we see that they indeed match the tally specification we generated above."
   ]
  },
  {
   "cell_type": "code",
   "execution_count": 64,
   "id": "966b2af8-e01d-4433-83e3-25b3ed7f7ebf",
   "metadata": {},
   "outputs": [
    {
     "name": "stdout",
     "output_type": "stream",
     "text": [
      "Tally\n",
      "\tID             =\t1\n",
      "\tName           =\t\n",
      "\tFilters        =\t\n",
      "\tNuclides       =\ttotal\n",
      "\tScores         =\t['fission', 'kappa-fission']\n",
      "\tEstimator      =\ttracklength\n",
      "\tMultiply dens. =\tTrue\n",
      "Tally\n",
      "\tID             =\t1\n",
      "\tName           =\t\n",
      "\tFilters        =\t\n",
      "\tNuclides       =\ttotal\n",
      "\tScores         =\t['fission', 'kappa-fission']\n",
      "\tEstimator      =\ttracklength\n",
      "\tMultiply dens. =\tTrue\n"
     ]
    }
   ],
   "source": [
    "print(tally_by_scores)\n",
    "print(tally_by_id)\n",
    "# shorten variable name f\n",
    "tally = tally_by_id "
   ]
  },
  {
   "cell_type": "markdown",
   "id": "01680e7c-d6aa-4f45-9ac9-258452dc8362",
   "metadata": {
    "tags": []
   },
   "source": [
    "<div class=\"alert alert-block alert-info\">\n",
    "<b>A quick aside on how statepoint objects interact with summary files:</b>\n",
    "\n",
    "\n",
    "The `openmc.statepoint` object will read information from the `summary.h5` file if one is present, keeping that file open in the Python interpreter. The open `summary.h5` file can interfere with the initialization of subsequent OpenMC simulations. It is recommended that information be extracted from statepoints within a [context manager](https://book.pythontips.com/en/latest/context_managers.html) as we do here. Alternatively, making sure to call the `openmc.StatePoint.close` method will work also. For more details please look to the [relevant section in the user's guide](https://docs.openmc.org/en/stable/usersguide/troubleshoot.html#runtimeerror-failed-to-open-hdf5-file-with-mode-w-summary-h5).   \n",
    "</div>\n",
    "\n"
   ]
  },
  {
   "cell_type": "markdown",
   "id": "9e8422e5-b42d-41f9-95a8-675cb55ec418",
   "metadata": {},
   "source": [
    "To compute the energy released per fission event, we can simply take the tallied energy released per fission and divide it by the fission rate."
   ]
  },
  {
   "cell_type": "code",
   "execution_count": 65,
   "id": "5fcae6a5-6040-4477-8b33-8fc0ebc6cd9e",
   "metadata": {},
   "outputs": [
    {
     "name": "stdout",
     "output_type": "stream",
     "text": [
      "(1, 1, 2)\n"
     ]
    }
   ],
   "source": [
    "f = tally.get_values(scores=['fission', 'kappa-fission'])\n",
    "print(f.shape)"
   ]
  },
  {
   "cell_type": "code",
   "execution_count": 68,
   "id": "64997d2d-2dad-4ab6-a825-e60c78d46542",
   "metadata": {},
   "outputs": [
    {
     "data": {
      "text/plain": [
       "\u001b[0;31mSignature:\u001b[0m\n",
       "\u001b[0mopenmc\u001b[0m\u001b[0;34m.\u001b[0m\u001b[0mTally\u001b[0m\u001b[0;34m.\u001b[0m\u001b[0mget_values\u001b[0m\u001b[0;34m(\u001b[0m\u001b[0;34m\u001b[0m\n",
       "\u001b[0;34m\u001b[0m    \u001b[0mself\u001b[0m\u001b[0;34m,\u001b[0m\u001b[0;34m\u001b[0m\n",
       "\u001b[0;34m\u001b[0m    \u001b[0mscores\u001b[0m\u001b[0;34m=\u001b[0m\u001b[0;34m[\u001b[0m\u001b[0;34m]\u001b[0m\u001b[0;34m,\u001b[0m\u001b[0;34m\u001b[0m\n",
       "\u001b[0;34m\u001b[0m    \u001b[0mfilters\u001b[0m\u001b[0;34m=\u001b[0m\u001b[0;34m[\u001b[0m\u001b[0;34m]\u001b[0m\u001b[0;34m,\u001b[0m\u001b[0;34m\u001b[0m\n",
       "\u001b[0;34m\u001b[0m    \u001b[0mfilter_bins\u001b[0m\u001b[0;34m=\u001b[0m\u001b[0;34m[\u001b[0m\u001b[0;34m]\u001b[0m\u001b[0;34m,\u001b[0m\u001b[0;34m\u001b[0m\n",
       "\u001b[0;34m\u001b[0m    \u001b[0mnuclides\u001b[0m\u001b[0;34m=\u001b[0m\u001b[0;34m[\u001b[0m\u001b[0;34m]\u001b[0m\u001b[0;34m,\u001b[0m\u001b[0;34m\u001b[0m\n",
       "\u001b[0;34m\u001b[0m    \u001b[0mvalue\u001b[0m\u001b[0;34m=\u001b[0m\u001b[0;34m'mean'\u001b[0m\u001b[0;34m,\u001b[0m\u001b[0;34m\u001b[0m\n",
       "\u001b[0;34m\u001b[0m\u001b[0;34m)\u001b[0m\u001b[0;34m\u001b[0m\u001b[0;34m\u001b[0m\u001b[0m\n",
       "\u001b[0;31mDocstring:\u001b[0m\n",
       "Returns one or more tallied values given a list of scores, filters,\n",
       "filter bins and nuclides.\n",
       "\n",
       "This method constructs a 3D NumPy array for the requested Tally data\n",
       "indexed by filter bin, nuclide bin, and score index. The method will\n",
       "order the data in the array as specified in the parameter lists.\n",
       "\n",
       "Parameters\n",
       "----------\n",
       "scores : list of str\n",
       "    A list of one or more score strings\n",
       "    (e.g., ['absorption', 'nu-fission']; default is [])\n",
       "filters : Iterable of openmc.FilterMeta\n",
       "    An iterable of filter types\n",
       "    (e.g., [MeshFilter, EnergyFilter]; default is [])\n",
       "filter_bins : list of Iterables\n",
       "    A list of tuples of filter bins corresponding to the filter_types\n",
       "    parameter (e.g., [(1,), ((0., 0.625e-6),)]; default is []). Each\n",
       "    tuple contains bins for the corresponding filter type in the filters\n",
       "    parameter. Each bins is the integer ID for 'material', 'surface',\n",
       "    'cell', 'cellborn', and 'universe' Filters. Each bin is an integer\n",
       "    for the cell instance ID for 'distribcell' Filters. Each bin is a\n",
       "    2-tuple of floats for 'energy' and 'energyout' filters corresponding\n",
       "    to the energy boundaries of the bin of interest. The bin is an\n",
       "    (x,y,z) 3-tuple for 'mesh' filters corresponding to the mesh cell\n",
       "    of interest. The order of the bins in the list must correspond to\n",
       "    the filter_types parameter.\n",
       "nuclides : list of str\n",
       "    A list of nuclide name strings\n",
       "    (e.g., ['U235', 'U238']; default is [])\n",
       "value : str\n",
       "    A string for the type of value to return  - 'mean' (default),\n",
       "    'std_dev', 'rel_err', 'sum', or 'sum_sq' are accepted\n",
       "\n",
       "Returns\n",
       "-------\n",
       "float or numpy.ndarray\n",
       "    A scalar or NumPy array of the Tally data indexed in the order\n",
       "    each filter, nuclide and score is listed in the parameters.\n",
       "\n",
       "Raises\n",
       "------\n",
       "ValueError\n",
       "    When this method is called before the Tally is populated with data,\n",
       "    or the input parameters do not correspond to the Tally's attributes,\n",
       "    e.g., if the score(s) do not match those in the Tally.\n",
       "\u001b[0;31mFile:\u001b[0m      ~/soft/openmc/openmc/tallies.py\n",
       "\u001b[0;31mType:\u001b[0m      function"
      ]
     },
     "metadata": {},
     "output_type": "display_data"
    }
   ],
   "source": [
    "openmc.Tally.get_values?"
   ]
  },
  {
   "cell_type": "markdown",
   "id": "7563089a-a924-48b6-ba94-30e0b7ed20cf",
   "metadata": {},
   "source": [
    "The array of results returned from the `Tally.get_values` method returns an array with 3 dimensions: one for filter bins, one for nuclides, and one for the scores requested."
   ]
  },
  {
   "cell_type": "code",
   "execution_count": 69,
   "id": "8adb218e-26d1-4011-8e51-789842f53478",
   "metadata": {},
   "outputs": [
    {
     "name": "stdout",
     "output_type": "stream",
     "text": [
      "Help on function get_values in module openmc.tallies:\n",
      "\n",
      "get_values(self, scores=[], filters=[], filter_bins=[], nuclides=[], value='mean')\n",
      "    Returns one or more tallied values given a list of scores, filters,\n",
      "    filter bins and nuclides.\n",
      "    \n",
      "    This method constructs a 3D NumPy array for the requested Tally data\n",
      "    indexed by filter bin, nuclide bin, and score index. The method will\n",
      "    order the data in the array as specified in the parameter lists.\n",
      "    \n",
      "    Parameters\n",
      "    ----------\n",
      "    scores : list of str\n",
      "        A list of one or more score strings\n",
      "        (e.g., ['absorption', 'nu-fission']; default is [])\n",
      "    filters : Iterable of openmc.FilterMeta\n",
      "        An iterable of filter types\n",
      "        (e.g., [MeshFilter, EnergyFilter]; default is [])\n",
      "    filter_bins : list of Iterables\n",
      "        A list of tuples of filter bins corresponding to the filter_types\n",
      "        parameter (e.g., [(1,), ((0., 0.625e-6),)]; default is []). Each\n",
      "        tuple contains bins for the corresponding filter type in the filters\n",
      "        parameter. Each bins is the integer ID for 'material', 'surface',\n",
      "        'cell', 'cellborn', and 'universe' Filters. Each bin is an integer\n",
      "        for the cell instance ID for 'distribcell' Filters. Each bin is a\n",
      "        2-tuple of floats for 'energy' and 'energyout' filters corresponding\n",
      "        to the energy boundaries of the bin of interest. The bin is an\n",
      "        (x,y,z) 3-tuple for 'mesh' filters corresponding to the mesh cell\n",
      "        of interest. The order of the bins in the list must correspond to\n",
      "        the filter_types parameter.\n",
      "    nuclides : list of str\n",
      "        A list of nuclide name strings\n",
      "        (e.g., ['U235', 'U238']; default is [])\n",
      "    value : str\n",
      "        A string for the type of value to return  - 'mean' (default),\n",
      "        'std_dev', 'rel_err', 'sum', or 'sum_sq' are accepted\n",
      "    \n",
      "    Returns\n",
      "    -------\n",
      "    float or numpy.ndarray\n",
      "        A scalar or NumPy array of the Tally data indexed in the order\n",
      "        each filter, nuclide and score is listed in the parameters.\n",
      "    \n",
      "    Raises\n",
      "    ------\n",
      "    ValueError\n",
      "        When this method is called before the Tally is populated with data,\n",
      "        or the input parameters do not correspond to the Tally's attributes,\n",
      "        e.g., if the score(s) do not match those in the Tally.\n",
      "\n"
     ]
    }
   ],
   "source": [
    "help(openmc.Tally.get_values)"
   ]
  },
  {
   "cell_type": "code",
   "execution_count": 70,
   "id": "d636ff87-6fb9-44cf-a669-2e8eb9b94a5e",
   "metadata": {},
   "outputs": [
    {
     "name": "stdout",
     "output_type": "stream",
     "text": [
      "MeV per fission: 193.56\n"
     ]
    }
   ],
   "source": [
    "fission_rate = tally.get_values(scores=['fission']).flatten()[0]\n",
    "kappa_fission = tally.get_values(scores=['kappa-fission']).flatten()[0]\n",
    "ev_per_fission = kappa_fission / fission_rate\n",
    "mev_per_fission = ev_per_fission * 1e-6\n",
    "print(f'MeV per fission: {mev_per_fission:.2f}')"
   ]
  },
  {
   "cell_type": "markdown",
   "id": "2e2ebdb6-d4d0-48ee-8c5a-502cae0ad20f",
   "metadata": {},
   "source": [
    "For a water reactor with U235 as the only fissioning isotope this is about what we would expect: ~193-194 MeV! Okay, on to some new tallies with filters.\n",
    "\n",
    "As with most values coming out of an MC code, the tally values in the statepoint file are per source-particle. In this case, these units cancel out, but this will not be the case in our next example."
   ]
  },
  {
   "cell_type": "markdown",
   "id": "db92b393-1417-48a1-bb51-4f87dd7f3c28",
   "metadata": {},
   "source": [
    "---"
   ]
  },
  {
   "cell_type": "markdown",
   "id": "5fe0f7f9-6e08-4f57-977b-16e1f8221b50",
   "metadata": {},
   "source": [
    "## Task 2: Plot the neutron flux spectrum\n"
   ]
  },
  {
   "cell_type": "markdown",
   "id": "cd46ea8f-7073-4e1e-a9a7-06e30e219b53",
   "metadata": {},
   "source": [
    "To perform this task, we'll be applying a tally with an energy filter and a score. OpenMC's data module contains different group structures. For this problem we'll use the CASMO-70 group structure. An energy filter can easily be created from a pre-defined group structure in OpenMC as follows:"
   ]
  },
  {
   "cell_type": "code",
   "execution_count": 76,
   "id": "f223a61b-6f27-4640-a966-ebf7c78a4f09",
   "metadata": {},
   "outputs": [
    {
     "data": {
      "text/plain": [
       "dict_keys(['CASMO-2', 'CASMO-4', 'CASMO-8', 'CASMO-16', 'CASMO-25', 'CASMO-40', 'VITAMIN-J-42', 'SCALE-44', 'MPACT-51', 'MPACT-60', 'MPACT-69', 'CASMO-70', 'XMAS-172', 'VITAMIN-J-175', 'SCALE-252', 'TRIPOLI-315', 'SHEM-361', 'CCFE-709', 'UKAEA-1102', 'ECCO-1968'])"
      ]
     },
     "execution_count": 76,
     "metadata": {},
     "output_type": "execute_result"
    }
   ],
   "source": [
    "# note to self: add the ANL fast reactor group structures\n",
    "openmc.mgxs.GROUP_STRUCTURES.keys()"
   ]
  },
  {
   "cell_type": "code",
   "execution_count": 73,
   "id": "60d1e302-80e9-4f36-b51b-c410e73f1987",
   "metadata": {},
   "outputs": [
    {
     "data": {
      "text/plain": [
       "70"
      ]
     },
     "execution_count": 73,
     "metadata": {},
     "output_type": "execute_result"
    }
   ],
   "source": [
    "energy_filter = openmc.EnergyFilter.from_group_structure('CASMO-70')\n",
    "len(energy_filter.bins)"
   ]
  },
  {
   "cell_type": "code",
   "execution_count": 77,
   "id": "a650e4f0-9d8a-4e25-aef7-9e1e68608f7d",
   "metadata": {},
   "outputs": [
    {
     "name": "stdout",
     "output_type": "stream",
     "text": [
      "Tally\n",
      "\tID             =\t3\n",
      "\tName           =\t\n",
      "\tFilters        =\tEnergyFilter\n",
      "\tNuclides       =\t\n",
      "\tScores         =\t['flux']\n",
      "\tEstimator      =\tNone\n",
      "\tMultiply dens. =\tTrue\n"
     ]
    }
   ],
   "source": [
    "spectrum_tally = openmc.Tally()\n",
    "spectrum_tally.filters = [energy_filter]\n",
    "spectrum_tally.scores = ['flux']\n",
    "print(spectrum_tally)"
   ]
  },
  {
   "cell_type": "markdown",
   "id": "84eed2e3-bb18-49ce-b174-e714e003a612",
   "metadata": {},
   "source": [
    "Now we'll apply this tally and re-run the problem"
   ]
  },
  {
   "cell_type": "code",
   "execution_count": 80,
   "id": "adeebfee-5a7b-41fd-80f9-09219d3b2217",
   "metadata": {},
   "outputs": [
    {
     "name": "stdout",
     "output_type": "stream",
     "text": [
      "                                %%%%%%%%%%%%%%%\n",
      "                           %%%%%%%%%%%%%%%%%%%%%%%%\n",
      "                        %%%%%%%%%%%%%%%%%%%%%%%%%%%%%%\n",
      "                      %%%%%%%%%%%%%%%%%%%%%%%%%%%%%%%%%%\n",
      "                    %%%%%%%%%%%%%%%%%%%%%%%%%%%%%%%%%%%%%%\n",
      "                   %%%%%%%%%%%%%%%%%%%%%%%%%%%%%%%%%%%%%%%%\n",
      "                                    %%%%%%%%%%%%%%%%%%%%%%%%\n",
      "                                     %%%%%%%%%%%%%%%%%%%%%%%%\n",
      "                 ###############      %%%%%%%%%%%%%%%%%%%%%%%%\n",
      "                ##################     %%%%%%%%%%%%%%%%%%%%%%%\n",
      "                ###################     %%%%%%%%%%%%%%%%%%%%%%%\n",
      "                ####################     %%%%%%%%%%%%%%%%%%%%%%\n",
      "                #####################     %%%%%%%%%%%%%%%%%%%%%\n",
      "                ######################     %%%%%%%%%%%%%%%%%%%%\n",
      "                #######################     %%%%%%%%%%%%%%%%%%\n",
      "                 #######################     %%%%%%%%%%%%%%%%%\n",
      "                 ######################     %%%%%%%%%%%%%%%%%\n",
      "                  ####################     %%%%%%%%%%%%%%%%%\n",
      "                    #################     %%%%%%%%%%%%%%%%%\n",
      "                     ###############     %%%%%%%%%%%%%%%%\n",
      "                       ############     %%%%%%%%%%%%%%%\n",
      "                          ########     %%%%%%%%%%%%%%\n",
      "                                      %%%%%%%%%%%\n",
      "\n",
      "                 | The OpenMC Monte Carlo Code\n",
      "       Copyright | 2011-2023 MIT, UChicago Argonne LLC, and contributors\n",
      "         License | https://docs.openmc.org/en/latest/license.html\n",
      "         Version | 0.13.4-dev\n",
      "        Git SHA1 | 922b3f9de6ccf3eb1e61171c3b48d51b62875884\n",
      "       Date/Time | 2023-08-06 01:38:32\n",
      "\n",
      " Reading model XML file './model.xml' ...\n",
      " WARNING: Other XML file input(s) are present. These files may be ignored in\n",
      "          favor of the ./model.xml file.\n",
      " Reading cross sections XML file...\n",
      " Reading U235 from /Users/pshriwise/data/xs/openmc/nndc_hdf5/U235.h5\n",
      " Reading U238 from /Users/pshriwise/data/xs/openmc/nndc_hdf5/U238.h5\n",
      " Reading O16 from /Users/pshriwise/data/xs/openmc/nndc_hdf5/O16.h5\n",
      " Reading Fe54 from /Users/pshriwise/data/xs/openmc/nndc_hdf5/Fe54.h5\n",
      " Reading Fe56 from /Users/pshriwise/data/xs/openmc/nndc_hdf5/Fe56.h5\n",
      " Reading Fe57 from /Users/pshriwise/data/xs/openmc/nndc_hdf5/Fe57.h5\n",
      " Reading Fe58 from /Users/pshriwise/data/xs/openmc/nndc_hdf5/Fe58.h5\n",
      " Reading C0 from /Users/pshriwise/data/xs/openmc/nndc_hdf5/C0.h5\n",
      " Reading O17 from /Users/pshriwise/data/xs/openmc/nndc_hdf5/O17.h5\n",
      " Reading Na23 from /Users/pshriwise/data/xs/openmc/nndc_hdf5/Na23.h5\n",
      " Minimum neutron data temperature: 294 K\n",
      " Maximum neutron data temperature: 294 K\n",
      " Preparing distributed cell instances...\n",
      " Reading plot XML file...\n",
      " Writing summary.h5 file...\n",
      " Maximum neutron transport energy: 20000000 eV for U235\n",
      " Initializing source particles...\n",
      "\n",
      " ====================>     K EIGENVALUE SIMULATION     <====================\n",
      "\n",
      "  Bat./Gen.      k            Average k\n",
      "  =========   ========   ====================\n",
      "        1/1    2.03935\n",
      "        2/1    1.96504\n",
      "        3/1    2.01414\n",
      "        4/1    2.01600\n",
      "        5/1    2.00721\n",
      "        6/1    2.04568\n",
      "        7/1    1.93190\n",
      "        8/1    2.00309\n",
      "        9/1    1.99800\n",
      "       10/1    1.98717\n",
      "       11/1    2.02412\n",
      "       12/1    2.03194    2.02803 +/- 0.00391\n",
      "       13/1    2.05259    2.03622 +/- 0.00849\n",
      "       14/1    1.97432    2.02074 +/- 0.01660\n",
      "       15/1    1.98061    2.01272 +/- 0.01516\n",
      "       16/1    1.98051    2.00735 +/- 0.01349\n",
      "       17/1    2.08593    2.01857 +/- 0.01600\n",
      "       18/1    1.91486    2.00561 +/- 0.01897\n",
      "       19/1    2.01036    2.00614 +/- 0.01674\n",
      "       20/1    2.07045    2.01257 +/- 0.01630\n",
      "       21/1    2.06274    2.01713 +/- 0.01543\n",
      "       22/1    2.02312    2.01763 +/- 0.01410\n",
      "       23/1    2.01827    2.01768 +/- 0.01297\n",
      "       24/1    1.86801    2.00699 +/- 0.01607\n",
      "       25/1    2.06526    2.01087 +/- 0.01546\n",
      "       26/1    2.04224    2.01283 +/- 0.01459\n",
      "       27/1    2.03910    2.01438 +/- 0.01380\n",
      "       28/1    1.99287    2.01318 +/- 0.01306\n",
      "       29/1    1.97972    2.01142 +/- 0.01248\n",
      "       30/1    1.93179    2.00744 +/- 0.01249\n",
      "       31/1    1.91753    2.00316 +/- 0.01263\n",
      "       32/1    1.99294    2.00270 +/- 0.01205\n",
      "       33/1    2.10192    2.00701 +/- 0.01230\n",
      "       34/1    2.02364    2.00770 +/- 0.01179\n",
      "       35/1    1.98397    2.00675 +/- 0.01135\n",
      "       36/1    2.04939    2.00839 +/- 0.01103\n",
      "       37/1    1.96450    2.00677 +/- 0.01074\n",
      "       38/1    1.96783    2.00538 +/- 0.01044\n",
      "       39/1    1.93211    2.00285 +/- 0.01038\n",
      "       40/1    2.03879    2.00405 +/- 0.01010\n",
      "       41/1    1.96566    2.00281 +/- 0.00985\n",
      "       42/1    2.05317    2.00438 +/- 0.00967\n",
      "       43/1    2.01232    2.00462 +/- 0.00937\n",
      "       44/1    2.06475    2.00639 +/- 0.00926\n",
      "       45/1    1.95938    2.00505 +/- 0.00909\n",
      "       46/1    1.98592    2.00452 +/- 0.00885\n",
      "       47/1    2.02886    2.00518 +/- 0.00864\n",
      "       48/1    2.01230    2.00536 +/- 0.00841\n",
      "       49/1    2.02554    2.00588 +/- 0.00821\n",
      "       50/1    1.95139    2.00452 +/- 0.00811\n",
      "       51/1    1.95179    2.00323 +/- 0.00802\n",
      "       52/1    1.88408    2.00039 +/- 0.00832\n",
      "       53/1    1.95413    1.99932 +/- 0.00820\n",
      "       54/1    1.91487    1.99740 +/- 0.00824\n",
      "       55/1    2.06496    1.99890 +/- 0.00819\n",
      "       56/1    1.93807    1.99758 +/- 0.00812\n",
      "       57/1    2.00534    1.99774 +/- 0.00794\n",
      "       58/1    2.09829    1.99984 +/- 0.00805\n",
      "       59/1    1.96159    1.99906 +/- 0.00793\n",
      "       60/1    2.02322    1.99954 +/- 0.00778\n",
      "       61/1    2.02348    2.00001 +/- 0.00764\n",
      "       62/1    1.97078    1.99945 +/- 0.00751\n",
      "       63/1    1.95572    1.99862 +/- 0.00742\n",
      "       64/1    1.98027    1.99828 +/- 0.00729\n",
      "       65/1    2.00382    1.99838 +/- 0.00715\n",
      "       66/1    1.97740    1.99801 +/- 0.00703\n",
      "       67/1    2.01624    1.99833 +/- 0.00692\n",
      "       68/1    2.02402    1.99877 +/- 0.00681\n",
      "       69/1    1.96988    1.99828 +/- 0.00671\n",
      "       70/1    2.03362    1.99887 +/- 0.00663\n",
      "       71/1    2.04084    1.99956 +/- 0.00655\n",
      "       72/1    2.06453    2.00061 +/- 0.00653\n",
      "       73/1    2.02675    2.00102 +/- 0.00644\n",
      "       74/1    2.03858    2.00161 +/- 0.00637\n",
      "       75/1    1.96551    2.00105 +/- 0.00629\n",
      "       76/1    1.98557    2.00082 +/- 0.00620\n",
      "       77/1    2.02385    2.00116 +/- 0.00612\n",
      "       78/1    1.99726    2.00111 +/- 0.00603\n",
      "       79/1    2.02429    2.00144 +/- 0.00595\n",
      "       80/1    1.95396    2.00076 +/- 0.00590\n",
      "       81/1    1.99329    2.00066 +/- 0.00582\n",
      "       82/1    1.98915    2.00050 +/- 0.00574\n",
      "       83/1    2.05882    2.00130 +/- 0.00572\n",
      "       84/1    1.99375    2.00119 +/- 0.00564\n",
      "       85/1    1.96555    2.00072 +/- 0.00558\n",
      "       86/1    2.01288    2.00088 +/- 0.00551\n",
      "       87/1    2.01867    2.00111 +/- 0.00545\n",
      "       88/1    2.03763    2.00158 +/- 0.00540\n",
      "       89/1    2.02395    2.00186 +/- 0.00533\n",
      "       90/1    2.01772    2.00206 +/- 0.00527\n",
      "       91/1    2.02320    2.00232 +/- 0.00521\n",
      "       92/1    2.03205    2.00268 +/- 0.00516\n",
      "       93/1    2.00240    2.00268 +/- 0.00510\n",
      "       94/1    2.03569    2.00307 +/- 0.00505\n",
      "       95/1    2.10305    2.00425 +/- 0.00513\n",
      "       96/1    2.11044    2.00548 +/- 0.00522\n",
      "       97/1    1.95225    2.00487 +/- 0.00519\n",
      "       98/1    2.12682    2.00626 +/- 0.00532\n",
      "       99/1    1.99737    2.00616 +/- 0.00526\n",
      "      100/1    1.93217    2.00534 +/- 0.00526\n",
      " Creating state point statepoint.100.h5...\n",
      "\n",
      " =======================>     TIMING STATISTICS     <=======================\n",
      "\n",
      " Total time for initialization     = 2.4912e+00 seconds\n",
      "   Reading cross sections          = 2.4677e+00 seconds\n",
      " Total time in simulation          = 9.4531e+01 seconds\n",
      "   Time in transport only          = 9.4516e+01 seconds\n",
      "   Time in inactive batches        = 6.1959e+00 seconds\n",
      "   Time in active batches          = 8.8335e+01 seconds\n",
      "   Time synchronizing fission bank = 6.1074e-03 seconds\n",
      "     Sampling source sites         = 5.9096e-03 seconds\n",
      "     SEND/RECV source sites        = 1.6792e-04 seconds\n",
      "   Time accumulating tallies       = 7.9150e-04 seconds\n",
      "   Time writing statepoints        = 1.5102e-03 seconds\n",
      " Total time for finalization       = 4.8137e-04 seconds\n",
      " Total time elapsed                = 9.7030e+01 seconds\n",
      " Calculation Rate (inactive)       = 1613.98 particles/second\n",
      " Calculation Rate (active)         = 1018.85 particles/second\n",
      "\n",
      " ============================>     RESULTS     <============================\n",
      "\n",
      " k-effective (Collision)     = 2.00634 +/- 0.00514\n",
      " k-effective (Track-length)  = 2.00534 +/- 0.00526\n",
      " k-effective (Absorption)    = 2.00912 +/- 0.00182\n",
      " Combined k-effective        = 2.00871 +/- 0.00161\n",
      " Leakage Fraction            = 0.00000 +/- 0.00000\n",
      "\n"
     ]
    }
   ],
   "source": [
    "model.tallies = [spectrum_tally]\n",
    "statepoint = model.run()"
   ]
  },
  {
   "cell_type": "code",
   "execution_count": 81,
   "id": "ffe7663e-4108-4c51-b2fe-c0459d612887",
   "metadata": {},
   "outputs": [],
   "source": [
    "with openmc.StatePoint(statepoint) as sp:\n",
    "    tally = sp.get_tally(id=spectrum_tally.id)\n",
    "    sp.get_tally(scores=['flux'])\n",
    "    sp.get_tally(filters=spectrum_tally.filters)"
   ]
  },
  {
   "cell_type": "code",
   "execution_count": 82,
   "id": "ca6d1260-b670-43b5-bab4-6b2438641a44",
   "metadata": {},
   "outputs": [],
   "source": [
    "spectrum = tally.mean"
   ]
  },
  {
   "cell_type": "markdown",
   "id": "32e3864d-cbec-4dc7-b97e-991908548880",
   "metadata": {},
   "source": [
    "Now to plot the spectrum"
   ]
  },
  {
   "cell_type": "code",
   "execution_count": 83,
   "id": "1386d254-6afa-4f3a-982b-5f2a703b43ff",
   "metadata": {},
   "outputs": [
    {
     "name": "stderr",
     "output_type": "stream",
     "text": [
      "/Users/pshriwise/soft/openmc/openmc/filter.py:1388: RuntimeWarning: divide by zero encountered in divide\n",
      "  return np.log10(self.bins[:, 1]/self.bins[:, 0])\n"
     ]
    },
    {
     "data": {
      "image/png": "[encoded data removed]",
      "text/plain": [
       "<Figure size 1600x900 with 1 Axes>"
      ]
     },
     "metadata": {},
     "output_type": "display_data"
    }
   ],
   "source": [
    "plt.figure(figsize=(16, 9))\n",
    "\n",
    "bin_boundaries = energy_filter.lethargy_bin_width\n",
    "\n",
    "plt.step(np.unique(energy_filter.bins)[:-1], spectrum.flatten() / bin_boundaries)\n",
    "plt.xscale('log')\n",
    "plt.rcParams['text.usetex'] = False\n",
    "plt.xlabel(r'Energy (eV)')\n",
    "plt.ylabel(r'Flux ($\\frac{particle-cm}{source-particle}$)')\n",
    "plt.show()"
   ]
  },
  {
   "cell_type": "markdown",
   "id": "b99d47d4-0ae6-40f4-ab66-1bd6efa29f0f",
   "metadata": {},
   "source": [
    "## Normalizing Tallies"
   ]
  },
  {
   "cell_type": "markdown",
   "id": "d7ce43d7-4358-4e56-8394-03f9df1adf0e",
   "metadata": {},
   "source": [
    "Note that the units of flux in the above plot are in $\\frac{particle-cm}{source-particle}$. As is the case with many values tallied by Monte Carlo codes, the value of the flux does not account for volume and is in terms of the number of source particles emitted. To generate this same plot in terms of absolute flux units ($\\frac{particle}{cm^{2}-s}$) we'll need to normalize this tally by:\n",
    "\n",
    "  - the volume of the region the tally covers\n",
    "  - the number of source particle emitted\n",
    "\n",
    "In this case, the volume of the region is the volume of the entire pincell. Because we're working with a 2-D model, we'll get units that give us the flux per unit length of the pincell in the axial direction. For simplicity, we'll assume that our pincell is 1 cm in height to make life easier. OpenMC's geometry object allows for computation of a bounding box for geometries like this that will help make this more straight forward."
   ]
  },
  {
   "cell_type": "code",
   "execution_count": 88,
   "id": "5c480475-3361-4a95-b3af-941c0d2f228e",
   "metadata": {},
   "outputs": [
    {
     "name": "stdout",
     "output_type": "stream",
     "text": [
      "[-0.3475 -0.3475    -inf] [0.3475 0.3475    inf]\n",
      "Model volume: 0.4830249999999999 cm^3\n"
     ]
    }
   ],
   "source": [
    "# get bounding box\n",
    "lower_left, upper_right = model.geometry.bounding_box\n",
    "print(lower_left, upper_right)\n",
    "lower_left[-1] = 0.0\n",
    "upper_right[-1] = 1.0\n",
    "# compute volume\n",
    "volume = np.prod(upper_right - lower_left)\n",
    "print(f'Model volume: {volume} cm^3')"
   ]
  },
  {
   "cell_type": "markdown",
   "id": "ac50e797-098f-430b-8b93-a43164ee12af",
   "metadata": {},
   "source": [
    "Determining the number of source particles per second is more complicated, however. This means computing the eV/source particle due to fission. To get the source rate, we'll need the following pieces of information:\n",
    "\n",
    "  1. the total power produced in the tally region (known a priori)\n",
    "  2. the heat produced by fission power, per source particle\n",
    "  \n",
    " To get this information we'll need to construct another tally to get additional information from the simulation."
   ]
  },
  {
   "cell_type": "code",
   "execution_count": 90,
   "id": "006eae79-8b5b-4a30-84a1-4806ec75da65",
   "metadata": {},
   "outputs": [],
   "source": [
    "pincell_power = 65E6 / 79 / 61 / 200 # [W/cm]\n",
    "source_tally = openmc.Tally()\n",
    "source_tally.scores = ['kappa-fission']\n",
    "model.tallies = [source_tally]\n",
    "model.export_to_xml()"
   ]
  },
  {
   "cell_type": "code",
   "execution_count": 91,
   "id": "1bef173a-cf81-4753-8746-7d82bd67a045",
   "metadata": {},
   "outputs": [],
   "source": [
    "sp_file = model.run(output=False)"
   ]
  },
  {
   "cell_type": "code",
   "execution_count": 94,
   "id": "4b3e42d7-f35e-45e3-99ff-0171033a08ce",
   "metadata": {},
   "outputs": [],
   "source": [
    "with openmc.StatePoint(sp_file) as sp:\n",
    "    source_tally_out = sp.get_tally(id=source_tally.id)\n",
    "    heating = source_tally_out.get_values(scores=['kappa-fission']).flatten()[0]"
   ]
  },
  {
   "cell_type": "markdown",
   "id": "0330130f-af46-4158-a750-13d8be2b91ad",
   "metadata": {},
   "source": [
    "The combination of the following tally values and power provide us with the source normalization needed as follows:\n",
    "\n",
    "\n",
    "$$ \\text{neutron source} [\\frac{n}{s}] = \\frac{1}{\\text{heat per fission} [\\frac{eV}{source}]} [\\frac{source}{eV}]\\times \\frac{1}{1.6\\times 10^{-19}} [\\frac{eV}{J}] \\times \\text{power} [\\frac{J}{s}]$$ "
   ]
  },
  {
   "cell_type": "code",
   "execution_count": 95,
   "id": "c0216191-0507-45cc-9bae-7e15d957c436",
   "metadata": {},
   "outputs": [
    {
     "name": "stdout",
     "output_type": "stream",
     "text": [
      "Neutron source: 2.73e+12 n/s\n"
     ]
    }
   ],
   "source": [
    "J_to_eV = 1 / 1.6e-19\n",
    "neutron_source = pincell_power * J_to_eV * (1 / heating)\n",
    "print(f'Neutron source: {neutron_source:.2e} n/s')"
   ]
  },
  {
   "cell_type": "markdown",
   "id": "2f3aa839-02b6-4f62-8e2d-fc85a2890b7e",
   "metadata": {},
   "source": [
    "We can now use this information to normalize our flux values and reproduce our plot in more standard units."
   ]
  },
  {
   "cell_type": "code",
   "execution_count": 96,
   "id": "eb75ee1c-d9b4-4cb2-87db-741a5f8924fc",
   "metadata": {},
   "outputs": [],
   "source": [
    "normalized_spectrum = neutron_source * spectrum.flatten() / volume"
   ]
  },
  {
   "cell_type": "code",
   "execution_count": 97,
   "id": "b8757683-6221-4a6a-91b4-8424c36f304b",
   "metadata": {},
   "outputs": [
    {
     "data": {
      "image/png": "[encoded data removed]",
      "text/plain": [
       "<Figure size 640x480 with 1 Axes>"
      ]
     },
     "metadata": {},
     "output_type": "display_data"
    }
   ],
   "source": [
    "#plt.figure(figsize=(16, 9))\n",
    "plt.step(np.unique(energy_filter.bins)[:-1], normalized_spectrum / bin_boundaries)\n",
    "plt.xscale('log')\n",
    "plt.rcParams['text.usetex'] = False\n",
    "plt.xlabel(r'Energy (eV)')\n",
    "plt.ylabel(r'Flux ($\\frac{particle}{cm^{-2} s}$)')\n",
    "plt.show()"
   ]
  },
  {
   "cell_type": "markdown",
   "id": "631eec61-2ebe-42bc-b96d-d0cc7e28c437",
   "metadata": {},
   "source": [
    "---"
   ]
  },
  {
   "cell_type": "markdown",
   "id": "6b2d29eb-3cf3-4b6e-87ab-dc7e8b76c93b",
   "metadata": {},
   "source": [
    "## Task 3: Reaction Types by Material"
   ]
  },
  {
   "cell_type": "markdown",
   "id": "2630c1c7-1957-45f4-8af9-89cbd5be30a8",
   "metadata": {},
   "source": [
    "Looking at the different reaction types by material will require a material filter and the set of reaction types we want to score. For this example, we'll be scoring absorption, scattering and fission in each material.\n",
    "\n",
    "To start, we'll create a material filter."
   ]
  },
  {
   "cell_type": "code",
   "execution_count": 99,
   "id": "75d27798-d147-415f-93b3-8a4fcbee8a20",
   "metadata": {},
   "outputs": [
    {
     "data": {
      "text/plain": [
       "[Material\n",
       " \tID             =\t5\n",
       " \tName           =\tNa\n",
       " \tTemperature    =\tNone\n",
       " \tDensity        =\tNone [sum]\n",
       " \tVolume         =\tNone [cm^3]\n",
       " \tS(a,b) Tables  \n",
       " \tNuclides       \n",
       " \tNa23           =\t0.0233599    [ao],\n",
       " Material\n",
       " \tID             =\t1\n",
       " \tName           =\tuo2\n",
       " \tTemperature    =\tNone\n",
       " \tDensity        =\t0.0702131 [atom/b-cm]\n",
       " \tVolume         =\tNone [cm^3]\n",
       " \tS(a,b) Tables  \n",
       " \tNuclides       \n",
       " \tU235           =\t0.0149981    [ao]\n",
       " \tU238           =\t0.00826381   [ao]\n",
       " \tO16            =\t0.0469512    [ao],\n",
       " Material\n",
       " \tID             =\t3\n",
       " \tName           =\tSS\n",
       " \tTemperature    =\tNone\n",
       " \tDensity        =\t0.0049843 [atom/b-cm]\n",
       " \tVolume         =\tNone [cm^3]\n",
       " \tS(a,b) Tables  \n",
       " \tNuclides       \n",
       " \tFe54           =\t0.05815775   [ao]\n",
       " \tFe56           =\t0.9129523    [ao]\n",
       " \tFe57           =\t0.02108405   [ao]\n",
       " \tFe58           =\t0.0028059    [ao]\n",
       " \tC0             =\t0.005        [ao],\n",
       " Material\n",
       " \tID             =\t4\n",
       " \tName           =\tair\n",
       " \tTemperature    =\tNone\n",
       " \tDensity        =\tNone [sum]\n",
       " \tVolume         =\tNone [cm^3]\n",
       " \tS(a,b) Tables  \n",
       " \tNuclides       \n",
       " \tO16            =\t9.996209999999999e-12 [ao]\n",
       " \tO17            =\t3.79e-15     [ao]]"
      ]
     },
     "execution_count": 99,
     "metadata": {},
     "output_type": "execute_result"
    }
   ],
   "source": [
    "model.materials"
   ]
  },
  {
   "cell_type": "code",
   "execution_count": 101,
   "id": "6758fe7c-1313-4e1c-8863-fdc68241ed63",
   "metadata": {},
   "outputs": [],
   "source": [
    "material_filter = openmc.MaterialFilter(model.materials)"
   ]
  },
  {
   "cell_type": "code",
   "execution_count": 102,
   "id": "e7504716-e755-4180-acf2-0e9ec4971cfd",
   "metadata": {},
   "outputs": [],
   "source": [
    "material_tally = openmc.Tally()\n",
    "material_tally.filters = [material_filter]\n",
    "material_tally.scores = ['absorption', 'scatter', 'fission']"
   ]
  },
  {
   "cell_type": "code",
   "execution_count": 104,
   "id": "5981911b-504f-45b3-8cdf-fc89504d4e63",
   "metadata": {},
   "outputs": [],
   "source": [
    "model.tallies = [material_tally]"
   ]
  },
  {
   "cell_type": "code",
   "execution_count": 106,
   "id": "3940c3a5-2638-4498-94ba-7ccec1c003f7",
   "metadata": {},
   "outputs": [
    {
     "name": "stdout",
     "output_type": "stream",
     "text": [
      "                                %%%%%%%%%%%%%%%\n",
      "                           %%%%%%%%%%%%%%%%%%%%%%%%\n",
      "                        %%%%%%%%%%%%%%%%%%%%%%%%%%%%%%\n",
      "                      %%%%%%%%%%%%%%%%%%%%%%%%%%%%%%%%%%\n",
      "                    %%%%%%%%%%%%%%%%%%%%%%%%%%%%%%%%%%%%%%\n",
      "                   %%%%%%%%%%%%%%%%%%%%%%%%%%%%%%%%%%%%%%%%\n",
      "                                    %%%%%%%%%%%%%%%%%%%%%%%%\n",
      "                                     %%%%%%%%%%%%%%%%%%%%%%%%\n",
      "                 ###############      %%%%%%%%%%%%%%%%%%%%%%%%\n",
      "                ##################     %%%%%%%%%%%%%%%%%%%%%%%\n",
      "                ###################     %%%%%%%%%%%%%%%%%%%%%%%\n",
      "                ####################     %%%%%%%%%%%%%%%%%%%%%%\n",
      "                #####################     %%%%%%%%%%%%%%%%%%%%%\n",
      "                ######################     %%%%%%%%%%%%%%%%%%%%\n",
      "                #######################     %%%%%%%%%%%%%%%%%%\n",
      "                 #######################     %%%%%%%%%%%%%%%%%\n",
      "                 ######################     %%%%%%%%%%%%%%%%%\n",
      "                  ####################     %%%%%%%%%%%%%%%%%\n",
      "                    #################     %%%%%%%%%%%%%%%%%\n",
      "                     ###############     %%%%%%%%%%%%%%%%\n",
      "                       ############     %%%%%%%%%%%%%%%\n",
      "                          ########     %%%%%%%%%%%%%%\n",
      "                                      %%%%%%%%%%%\n",
      "\n",
      "                 | The OpenMC Monte Carlo Code\n",
      "       Copyright | 2011-2023 MIT, UChicago Argonne LLC, and contributors\n",
      "         License | https://docs.openmc.org/en/latest/license.html\n",
      "         Version | 0.13.4-dev\n",
      "        Git SHA1 | 922b3f9de6ccf3eb1e61171c3b48d51b62875884\n",
      "       Date/Time | 2023-08-06 01:51:17\n",
      "\n",
      " Reading model XML file './model.xml' ...\n",
      " WARNING: Other XML file input(s) are present. These files may be ignored in\n",
      "          favor of the ./model.xml file.\n",
      " Reading cross sections XML file...\n",
      " Reading U235 from /Users/pshriwise/data/xs/openmc/nndc_hdf5/U235.h5\n",
      " Reading U238 from /Users/pshriwise/data/xs/openmc/nndc_hdf5/U238.h5\n",
      " Reading O16 from /Users/pshriwise/data/xs/openmc/nndc_hdf5/O16.h5\n",
      " Reading Fe54 from /Users/pshriwise/data/xs/openmc/nndc_hdf5/Fe54.h5\n",
      " Reading Fe56 from /Users/pshriwise/data/xs/openmc/nndc_hdf5/Fe56.h5\n",
      " Reading Fe57 from /Users/pshriwise/data/xs/openmc/nndc_hdf5/Fe57.h5\n",
      " Reading Fe58 from /Users/pshriwise/data/xs/openmc/nndc_hdf5/Fe58.h5\n",
      " Reading C0 from /Users/pshriwise/data/xs/openmc/nndc_hdf5/C0.h5\n",
      " Reading O17 from /Users/pshriwise/data/xs/openmc/nndc_hdf5/O17.h5\n",
      " Reading Na23 from /Users/pshriwise/data/xs/openmc/nndc_hdf5/Na23.h5\n",
      " Minimum neutron data temperature: 294 K\n",
      " Maximum neutron data temperature: 294 K\n",
      " Preparing distributed cell instances...\n",
      " Reading plot XML file...\n",
      " Writing summary.h5 file...\n",
      " Maximum neutron transport energy: 20000000 eV for U235\n",
      " Initializing source particles...\n",
      "\n",
      " ====================>     K EIGENVALUE SIMULATION     <====================\n",
      "\n",
      "  Bat./Gen.      k            Average k\n",
      "  =========   ========   ====================\n",
      "        1/1    2.03935\n",
      "        2/1    1.96504\n",
      "        3/1    2.01414\n",
      "        4/1    2.01600\n",
      "        5/1    2.00721\n",
      "        6/1    2.04568\n",
      "        7/1    1.93190\n",
      "        8/1    2.00309\n",
      "        9/1    1.99800\n",
      "       10/1    1.98717\n",
      "       11/1    2.02412\n",
      "       12/1    2.03194    2.02803 +/- 0.00391\n",
      "       13/1    2.05259    2.03622 +/- 0.00849\n",
      "       14/1    1.97432    2.02074 +/- 0.01660\n",
      "       15/1    1.98061    2.01272 +/- 0.01516\n",
      "       16/1    1.98051    2.00735 +/- 0.01349\n",
      "       17/1    2.08593    2.01857 +/- 0.01600\n",
      "       18/1    1.91486    2.00561 +/- 0.01897\n",
      "       19/1    2.01036    2.00614 +/- 0.01674\n",
      "       20/1    2.07045    2.01257 +/- 0.01630\n",
      "       21/1    2.06274    2.01713 +/- 0.01543\n",
      "       22/1    2.02312    2.01763 +/- 0.01410\n",
      "       23/1    2.01827    2.01768 +/- 0.01297\n",
      "       24/1    1.86801    2.00699 +/- 0.01607\n",
      "       25/1    2.06526    2.01087 +/- 0.01546\n",
      "       26/1    2.04224    2.01283 +/- 0.01459\n",
      "       27/1    2.03910    2.01438 +/- 0.01380\n",
      "       28/1    1.99287    2.01318 +/- 0.01306\n",
      "       29/1    1.97972    2.01142 +/- 0.01248\n",
      "       30/1    1.93179    2.00744 +/- 0.01249\n",
      "       31/1    1.91753    2.00316 +/- 0.01263\n",
      "       32/1    1.99294    2.00270 +/- 0.01205\n",
      "       33/1    2.10192    2.00701 +/- 0.01230\n",
      "       34/1    2.02364    2.00770 +/- 0.01179\n",
      "       35/1    1.98397    2.00675 +/- 0.01135\n",
      "       36/1    2.04939    2.00839 +/- 0.01103\n",
      "       37/1    1.96450    2.00677 +/- 0.01074\n",
      "       38/1    1.96783    2.00538 +/- 0.01044\n",
      "       39/1    1.93211    2.00285 +/- 0.01038\n",
      "       40/1    2.03879    2.00405 +/- 0.01010\n",
      "       41/1    1.96566    2.00281 +/- 0.00985\n",
      "       42/1    2.05317    2.00438 +/- 0.00967\n",
      "       43/1    2.01232    2.00462 +/- 0.00937\n",
      "       44/1    2.06475    2.00639 +/- 0.00926\n",
      "       45/1    1.95938    2.00505 +/- 0.00909\n",
      "       46/1    1.98592    2.00452 +/- 0.00885\n",
      "       47/1    2.02886    2.00518 +/- 0.00864\n",
      "       48/1    2.01230    2.00536 +/- 0.00841\n",
      "       49/1    2.02554    2.00588 +/- 0.00821\n",
      "       50/1    1.95139    2.00452 +/- 0.00811\n",
      "       51/1    1.95179    2.00323 +/- 0.00802\n",
      "       52/1    1.88408    2.00039 +/- 0.00832\n",
      "       53/1    1.95413    1.99932 +/- 0.00820\n",
      "       54/1    1.91487    1.99740 +/- 0.00824\n",
      "       55/1    2.06496    1.99890 +/- 0.00819\n",
      "       56/1    1.93807    1.99758 +/- 0.00812\n",
      "       57/1    2.00534    1.99774 +/- 0.00794\n",
      "       58/1    2.09829    1.99984 +/- 0.00805\n",
      "       59/1    1.96159    1.99906 +/- 0.00793\n",
      "       60/1    2.02322    1.99954 +/- 0.00778\n",
      "       61/1    2.02348    2.00001 +/- 0.00764\n",
      "       62/1    1.97078    1.99945 +/- 0.00751\n",
      "       63/1    1.95572    1.99862 +/- 0.00742\n",
      "       64/1    1.98027    1.99828 +/- 0.00729\n",
      "       65/1    2.00382    1.99838 +/- 0.00715\n",
      "       66/1    1.97740    1.99801 +/- 0.00703\n",
      "       67/1    2.01624    1.99833 +/- 0.00692\n",
      "       68/1    2.02402    1.99877 +/- 0.00681\n",
      "       69/1    1.96988    1.99828 +/- 0.00671\n",
      "       70/1    2.03362    1.99887 +/- 0.00663\n",
      "       71/1    2.04084    1.99956 +/- 0.00655\n",
      "       72/1    2.06453    2.00061 +/- 0.00653\n",
      "       73/1    2.02675    2.00102 +/- 0.00644\n",
      "       74/1    2.03858    2.00161 +/- 0.00637\n",
      "       75/1    1.96551    2.00105 +/- 0.00629\n",
      "       76/1    1.98557    2.00082 +/- 0.00620\n",
      "       77/1    2.02385    2.00116 +/- 0.00612\n",
      "       78/1    1.99726    2.00111 +/- 0.00603\n",
      "       79/1    2.02429    2.00144 +/- 0.00595\n",
      "       80/1    1.95396    2.00076 +/- 0.00590\n",
      "       81/1    1.99329    2.00066 +/- 0.00582\n",
      "       82/1    1.98915    2.00050 +/- 0.00574\n",
      "       83/1    2.05882    2.00130 +/- 0.00572\n",
      "       84/1    1.99375    2.00119 +/- 0.00564\n",
      "       85/1    1.96555    2.00072 +/- 0.00558\n",
      "       86/1    2.01288    2.00088 +/- 0.00551\n",
      "       87/1    2.01867    2.00111 +/- 0.00545\n",
      "       88/1    2.03763    2.00158 +/- 0.00540\n",
      "       89/1    2.02395    2.00186 +/- 0.00533\n",
      "       90/1    2.01772    2.00206 +/- 0.00527\n",
      "       91/1    2.02320    2.00232 +/- 0.00521\n",
      "       92/1    2.03205    2.00268 +/- 0.00516\n",
      "       93/1    2.00240    2.00268 +/- 0.00510\n",
      "       94/1    2.03569    2.00307 +/- 0.00505\n",
      "       95/1    2.10305    2.00425 +/- 0.00513\n",
      "       96/1    2.11044    2.00548 +/- 0.00522\n",
      "       97/1    1.95225    2.00487 +/- 0.00519\n",
      "       98/1    2.12682    2.00626 +/- 0.00532\n",
      "       99/1    1.99737    2.00616 +/- 0.00526\n",
      "      100/1    1.93217    2.00534 +/- 0.00526\n",
      " Creating state point statepoint.100.h5...\n",
      "\n",
      " =======================>     TIMING STATISTICS     <=======================\n",
      "\n",
      " Total time for initialization     = 2.3865e+00 seconds\n",
      "   Reading cross sections          = 2.3718e+00 seconds\n",
      " Total time in simulation          = 9.3107e+01 seconds\n",
      "   Time in transport only          = 9.3093e+01 seconds\n",
      "   Time in inactive batches        = 6.3215e+00 seconds\n",
      "   Time in active batches          = 8.6785e+01 seconds\n",
      "   Time synchronizing fission bank = 5.9693e-03 seconds\n",
      "     Sampling source sites         = 5.7723e-03 seconds\n",
      "     SEND/RECV source sites        = 1.6721e-04 seconds\n",
      "   Time accumulating tallies       = 2.0996e-04 seconds\n",
      "   Time writing statepoints        = 1.4621e-03 seconds\n",
      " Total time for finalization       = 1.5875e-04 seconds\n",
      " Total time elapsed                = 9.5501e+01 seconds\n",
      " Calculation Rate (inactive)       = 1581.91 particles/second\n",
      " Calculation Rate (active)         = 1037.04 particles/second\n",
      "\n",
      " ============================>     RESULTS     <============================\n",
      "\n",
      " k-effective (Collision)     = 2.00634 +/- 0.00514\n",
      " k-effective (Track-length)  = 2.00534 +/- 0.00526\n",
      " k-effective (Absorption)    = 2.00912 +/- 0.00182\n",
      " Combined k-effective        = 2.00871 +/- 0.00161\n",
      " Leakage Fraction            = 0.00000 +/- 0.00000\n",
      "\n"
     ]
    }
   ],
   "source": [
    "statepoint = model.run()"
   ]
  },
  {
   "cell_type": "markdown",
   "id": "24c45ea6-dc6c-4bc0-bbd9-9b29f8754389",
   "metadata": {},
   "source": [
    "Now we'll gather information from the statepoint file about each score we applied to the tally. With multiple scores and materials, we'll use a Pandas data frame to view the results in a more coherent manner."
   ]
  },
  {
   "cell_type": "code",
   "execution_count": 107,
   "id": "7b5c06b0-ed01-47a0-8164-1ff577d1d932",
   "metadata": {},
   "outputs": [],
   "source": [
    "with openmc.StatePoint(statepoint) as sp:\n",
    "    tally = list(sp.tallies.values())[0]\n",
    "    absorption = tally.get_values(scores=['absorption']).flatten()\n",
    "    scatter = tally.get_values(scores=['scatter']).flatten()\n",
    "    fission = tally.get_values(scores=['fission']).flatten()\n",
    "    df = tally.get_pandas_dataframe()"
   ]
  },
  {
   "cell_type": "markdown",
   "id": "159a649f-13ea-4ba7-ac0f-a4d6a02af4e7",
   "metadata": {},
   "source": [
    "Each score has three values -- one for each material in the model."
   ]
  },
  {
   "cell_type": "code",
   "execution_count": 108,
   "id": "543c4f4a-0c2d-4b4f-94d3-5d729e2db0fc",
   "metadata": {},
   "outputs": [
    {
     "data": {
      "text/html": [
       "<div>\n",
       "<style scoped>\n",
       "    .dataframe tbody tr th:only-of-type {\n",
       "        vertical-align: middle;\n",
       "    }\n",
       "\n",
       "    .dataframe tbody tr th {\n",
       "        vertical-align: top;\n",
       "    }\n",
       "\n",
       "    .dataframe thead th {\n",
       "        text-align: right;\n",
       "    }\n",
       "</style>\n",
       "<table border=\"1\" class=\"dataframe\">\n",
       "  <thead>\n",
       "    <tr style=\"text-align: right;\">\n",
       "      <th></th>\n",
       "      <th>material</th>\n",
       "      <th>nuclide</th>\n",
       "      <th>score</th>\n",
       "      <th>mean</th>\n",
       "      <th>std. dev.</th>\n",
       "    </tr>\n",
       "  </thead>\n",
       "  <tbody>\n",
       "    <tr>\n",
       "      <th>0</th>\n",
       "      <td>5</td>\n",
       "      <td>total</td>\n",
       "      <td>absorption</td>\n",
       "      <td>9.329960e-04</td>\n",
       "      <td>1.849567e-05</td>\n",
       "    </tr>\n",
       "    <tr>\n",
       "      <th>1</th>\n",
       "      <td>5</td>\n",
       "      <td>total</td>\n",
       "      <td>scatter</td>\n",
       "      <td>3.332351e+00</td>\n",
       "      <td>9.166539e-03</td>\n",
       "    </tr>\n",
       "    <tr>\n",
       "      <th>2</th>\n",
       "      <td>5</td>\n",
       "      <td>total</td>\n",
       "      <td>fission</td>\n",
       "      <td>0.000000e+00</td>\n",
       "      <td>0.000000e+00</td>\n",
       "    </tr>\n",
       "    <tr>\n",
       "      <th>3</th>\n",
       "      <td>1</td>\n",
       "      <td>total</td>\n",
       "      <td>absorption</td>\n",
       "      <td>9.992015e-01</td>\n",
       "      <td>2.859915e-03</td>\n",
       "    </tr>\n",
       "    <tr>\n",
       "      <th>4</th>\n",
       "      <td>1</td>\n",
       "      <td>total</td>\n",
       "      <td>scatter</td>\n",
       "      <td>1.320636e+01</td>\n",
       "      <td>3.527460e-02</td>\n",
       "    </tr>\n",
       "    <tr>\n",
       "      <th>5</th>\n",
       "      <td>1</td>\n",
       "      <td>total</td>\n",
       "      <td>fission</td>\n",
       "      <td>7.967484e-01</td>\n",
       "      <td>2.136042e-03</td>\n",
       "    </tr>\n",
       "    <tr>\n",
       "      <th>6</th>\n",
       "      <td>3</td>\n",
       "      <td>total</td>\n",
       "      <td>absorption</td>\n",
       "      <td>4.680577e-04</td>\n",
       "      <td>4.979745e-06</td>\n",
       "    </tr>\n",
       "    <tr>\n",
       "      <th>7</th>\n",
       "      <td>3</td>\n",
       "      <td>total</td>\n",
       "      <td>scatter</td>\n",
       "      <td>2.475459e-01</td>\n",
       "      <td>8.771682e-04</td>\n",
       "    </tr>\n",
       "    <tr>\n",
       "      <th>8</th>\n",
       "      <td>3</td>\n",
       "      <td>total</td>\n",
       "      <td>fission</td>\n",
       "      <td>0.000000e+00</td>\n",
       "      <td>0.000000e+00</td>\n",
       "    </tr>\n",
       "    <tr>\n",
       "      <th>9</th>\n",
       "      <td>4</td>\n",
       "      <td>total</td>\n",
       "      <td>absorption</td>\n",
       "      <td>1.881508e-13</td>\n",
       "      <td>3.105425e-15</td>\n",
       "    </tr>\n",
       "    <tr>\n",
       "      <th>10</th>\n",
       "      <td>4</td>\n",
       "      <td>total</td>\n",
       "      <td>scatter</td>\n",
       "      <td>3.135075e-10</td>\n",
       "      <td>8.613224e-13</td>\n",
       "    </tr>\n",
       "    <tr>\n",
       "      <th>11</th>\n",
       "      <td>4</td>\n",
       "      <td>total</td>\n",
       "      <td>fission</td>\n",
       "      <td>0.000000e+00</td>\n",
       "      <td>0.000000e+00</td>\n",
       "    </tr>\n",
       "  </tbody>\n",
       "</table>\n",
       "</div>"
      ],
      "text/plain": [
       "    material nuclide       score     mean  std. dev.\n",
       "0          5   total  absorption 9.33e-04   1.85e-05\n",
       "1          5   total     scatter 3.33e+00   9.17e-03\n",
       "2          5   total     fission 0.00e+00   0.00e+00\n",
       "3          1   total  absorption 9.99e-01   2.86e-03\n",
       "4          1   total     scatter 1.32e+01   3.53e-02\n",
       "5          1   total     fission 7.97e-01   2.14e-03\n",
       "6          3   total  absorption 4.68e-04   4.98e-06\n",
       "7          3   total     scatter 2.48e-01   8.77e-04\n",
       "8          3   total     fission 0.00e+00   0.00e+00\n",
       "9          4   total  absorption 1.88e-13   3.11e-15\n",
       "10         4   total     scatter 3.14e-10   8.61e-13\n",
       "11         4   total     fission 0.00e+00   0.00e+00"
      ]
     },
     "execution_count": 108,
     "metadata": {},
     "output_type": "execute_result"
    }
   ],
   "source": [
    "df"
   ]
  },
  {
   "cell_type": "markdown",
   "id": "37be1638-d09e-4625-a9c2-40b6a5c813c7",
   "metadata": {},
   "source": [
    "First, we'll add a new column to the data frame with normalized results."
   ]
  },
  {
   "cell_type": "code",
   "execution_count": 109,
   "id": "049f3d30-7fb6-40aa-a3ea-c830167903c6",
   "metadata": {},
   "outputs": [
    {
     "data": {
      "text/html": [
       "<div>\n",
       "<style scoped>\n",
       "    .dataframe tbody tr th:only-of-type {\n",
       "        vertical-align: middle;\n",
       "    }\n",
       "\n",
       "    .dataframe tbody tr th {\n",
       "        vertical-align: top;\n",
       "    }\n",
       "\n",
       "    .dataframe thead th {\n",
       "        text-align: right;\n",
       "    }\n",
       "</style>\n",
       "<table border=\"1\" class=\"dataframe\">\n",
       "  <thead>\n",
       "    <tr style=\"text-align: right;\">\n",
       "      <th></th>\n",
       "      <th>material</th>\n",
       "      <th>nuclide</th>\n",
       "      <th>score</th>\n",
       "      <th>mean</th>\n",
       "      <th>std. dev.</th>\n",
       "      <th>normalized-mean (rxn/s)</th>\n",
       "    </tr>\n",
       "  </thead>\n",
       "  <tbody>\n",
       "    <tr>\n",
       "      <th>0</th>\n",
       "      <td>5</td>\n",
       "      <td>total</td>\n",
       "      <td>absorption</td>\n",
       "      <td>9.329960e-04</td>\n",
       "      <td>1.849567e-05</td>\n",
       "      <td>2.550036e+09</td>\n",
       "    </tr>\n",
       "    <tr>\n",
       "      <th>1</th>\n",
       "      <td>5</td>\n",
       "      <td>total</td>\n",
       "      <td>scatter</td>\n",
       "      <td>3.332351e+00</td>\n",
       "      <td>9.166539e-03</td>\n",
       "      <td>9.107879e+12</td>\n",
       "    </tr>\n",
       "    <tr>\n",
       "      <th>2</th>\n",
       "      <td>5</td>\n",
       "      <td>total</td>\n",
       "      <td>fission</td>\n",
       "      <td>0.000000e+00</td>\n",
       "      <td>0.000000e+00</td>\n",
       "      <td>0.000000e+00</td>\n",
       "    </tr>\n",
       "    <tr>\n",
       "      <th>3</th>\n",
       "      <td>1</td>\n",
       "      <td>total</td>\n",
       "      <td>absorption</td>\n",
       "      <td>9.992015e-01</td>\n",
       "      <td>2.859915e-03</td>\n",
       "      <td>2.730987e+12</td>\n",
       "    </tr>\n",
       "    <tr>\n",
       "      <th>4</th>\n",
       "      <td>1</td>\n",
       "      <td>total</td>\n",
       "      <td>scatter</td>\n",
       "      <td>1.320636e+01</td>\n",
       "      <td>3.527460e-02</td>\n",
       "      <td>3.609522e+13</td>\n",
       "    </tr>\n",
       "    <tr>\n",
       "      <th>5</th>\n",
       "      <td>1</td>\n",
       "      <td>total</td>\n",
       "      <td>fission</td>\n",
       "      <td>7.967484e-01</td>\n",
       "      <td>2.136042e-03</td>\n",
       "      <td>2.177648e+12</td>\n",
       "    </tr>\n",
       "    <tr>\n",
       "      <th>6</th>\n",
       "      <td>3</td>\n",
       "      <td>total</td>\n",
       "      <td>absorption</td>\n",
       "      <td>4.680577e-04</td>\n",
       "      <td>4.979745e-06</td>\n",
       "      <td>1.279281e+09</td>\n",
       "    </tr>\n",
       "    <tr>\n",
       "      <th>7</th>\n",
       "      <td>3</td>\n",
       "      <td>total</td>\n",
       "      <td>scatter</td>\n",
       "      <td>2.475459e-01</td>\n",
       "      <td>8.771682e-04</td>\n",
       "      <td>6.765848e+11</td>\n",
       "    </tr>\n",
       "    <tr>\n",
       "      <th>8</th>\n",
       "      <td>3</td>\n",
       "      <td>total</td>\n",
       "      <td>fission</td>\n",
       "      <td>0.000000e+00</td>\n",
       "      <td>0.000000e+00</td>\n",
       "      <td>0.000000e+00</td>\n",
       "    </tr>\n",
       "    <tr>\n",
       "      <th>9</th>\n",
       "      <td>4</td>\n",
       "      <td>total</td>\n",
       "      <td>absorption</td>\n",
       "      <td>1.881508e-13</td>\n",
       "      <td>3.105425e-15</td>\n",
       "      <td>5.142481e-01</td>\n",
       "    </tr>\n",
       "    <tr>\n",
       "      <th>10</th>\n",
       "      <td>4</td>\n",
       "      <td>total</td>\n",
       "      <td>scatter</td>\n",
       "      <td>3.135075e-10</td>\n",
       "      <td>8.613224e-13</td>\n",
       "      <td>8.568690e+02</td>\n",
       "    </tr>\n",
       "    <tr>\n",
       "      <th>11</th>\n",
       "      <td>4</td>\n",
       "      <td>total</td>\n",
       "      <td>fission</td>\n",
       "      <td>0.000000e+00</td>\n",
       "      <td>0.000000e+00</td>\n",
       "      <td>0.000000e+00</td>\n",
       "    </tr>\n",
       "  </tbody>\n",
       "</table>\n",
       "</div>"
      ],
      "text/plain": [
       "    material nuclide       score     mean  std. dev.  normalized-mean (rxn/s)\n",
       "0          5   total  absorption 9.33e-04   1.85e-05                 2.55e+09\n",
       "1          5   total     scatter 3.33e+00   9.17e-03                 9.11e+12\n",
       "2          5   total     fission 0.00e+00   0.00e+00                 0.00e+00\n",
       "3          1   total  absorption 9.99e-01   2.86e-03                 2.73e+12\n",
       "4          1   total     scatter 1.32e+01   3.53e-02                 3.61e+13\n",
       "5          1   total     fission 7.97e-01   2.14e-03                 2.18e+12\n",
       "6          3   total  absorption 4.68e-04   4.98e-06                 1.28e+09\n",
       "7          3   total     scatter 2.48e-01   8.77e-04                 6.77e+11\n",
       "8          3   total     fission 0.00e+00   0.00e+00                 0.00e+00\n",
       "9          4   total  absorption 1.88e-13   3.11e-15                 5.14e-01\n",
       "10         4   total     scatter 3.14e-10   8.61e-13                 8.57e+02\n",
       "11         4   total     fission 0.00e+00   0.00e+00                 0.00e+00"
      ]
     },
     "execution_count": 109,
     "metadata": {},
     "output_type": "execute_result"
    }
   ],
   "source": [
    "df['normalized-mean (rxn/s)'] = neutron_source * df['mean']\n",
    "df"
   ]
  },
  {
   "cell_type": "markdown",
   "id": "dad16d92-4c2c-48da-8e0a-dd0f1d3e83ae",
   "metadata": {},
   "source": [
    "We'll add a new entry in the dataframe for our material names to make plotting easier."
   ]
  },
  {
   "cell_type": "code",
   "execution_count": 111,
   "id": "9848a428-1358-457b-ac5d-8703474cd5e9",
   "metadata": {},
   "outputs": [
    {
     "data": {
      "text/html": [
       "<div>\n",
       "<style scoped>\n",
       "    .dataframe tbody tr th:only-of-type {\n",
       "        vertical-align: middle;\n",
       "    }\n",
       "\n",
       "    .dataframe tbody tr th {\n",
       "        vertical-align: top;\n",
       "    }\n",
       "\n",
       "    .dataframe thead th {\n",
       "        text-align: right;\n",
       "    }\n",
       "</style>\n",
       "<table border=\"1\" class=\"dataframe\">\n",
       "  <thead>\n",
       "    <tr style=\"text-align: right;\">\n",
       "      <th></th>\n",
       "      <th>material</th>\n",
       "      <th>nuclide</th>\n",
       "      <th>score</th>\n",
       "      <th>mean</th>\n",
       "      <th>std. dev.</th>\n",
       "      <th>normalized-mean (rxn/s)</th>\n",
       "      <th>mat_name</th>\n",
       "    </tr>\n",
       "  </thead>\n",
       "  <tbody>\n",
       "    <tr>\n",
       "      <th>0</th>\n",
       "      <td>5</td>\n",
       "      <td>total</td>\n",
       "      <td>absorption</td>\n",
       "      <td>9.329960e-04</td>\n",
       "      <td>1.849567e-05</td>\n",
       "      <td>2.550036e+09</td>\n",
       "      <td>Na</td>\n",
       "    </tr>\n",
       "    <tr>\n",
       "      <th>1</th>\n",
       "      <td>5</td>\n",
       "      <td>total</td>\n",
       "      <td>scatter</td>\n",
       "      <td>3.332351e+00</td>\n",
       "      <td>9.166539e-03</td>\n",
       "      <td>9.107879e+12</td>\n",
       "      <td>Na</td>\n",
       "    </tr>\n",
       "    <tr>\n",
       "      <th>2</th>\n",
       "      <td>5</td>\n",
       "      <td>total</td>\n",
       "      <td>fission</td>\n",
       "      <td>0.000000e+00</td>\n",
       "      <td>0.000000e+00</td>\n",
       "      <td>0.000000e+00</td>\n",
       "      <td>Na</td>\n",
       "    </tr>\n",
       "    <tr>\n",
       "      <th>3</th>\n",
       "      <td>1</td>\n",
       "      <td>total</td>\n",
       "      <td>absorption</td>\n",
       "      <td>9.992015e-01</td>\n",
       "      <td>2.859915e-03</td>\n",
       "      <td>2.730987e+12</td>\n",
       "      <td>uo2</td>\n",
       "    </tr>\n",
       "    <tr>\n",
       "      <th>4</th>\n",
       "      <td>1</td>\n",
       "      <td>total</td>\n",
       "      <td>scatter</td>\n",
       "      <td>1.320636e+01</td>\n",
       "      <td>3.527460e-02</td>\n",
       "      <td>3.609522e+13</td>\n",
       "      <td>uo2</td>\n",
       "    </tr>\n",
       "    <tr>\n",
       "      <th>5</th>\n",
       "      <td>1</td>\n",
       "      <td>total</td>\n",
       "      <td>fission</td>\n",
       "      <td>7.967484e-01</td>\n",
       "      <td>2.136042e-03</td>\n",
       "      <td>2.177648e+12</td>\n",
       "      <td>uo2</td>\n",
       "    </tr>\n",
       "    <tr>\n",
       "      <th>6</th>\n",
       "      <td>3</td>\n",
       "      <td>total</td>\n",
       "      <td>absorption</td>\n",
       "      <td>4.680577e-04</td>\n",
       "      <td>4.979745e-06</td>\n",
       "      <td>1.279281e+09</td>\n",
       "      <td>SS</td>\n",
       "    </tr>\n",
       "    <tr>\n",
       "      <th>7</th>\n",
       "      <td>3</td>\n",
       "      <td>total</td>\n",
       "      <td>scatter</td>\n",
       "      <td>2.475459e-01</td>\n",
       "      <td>8.771682e-04</td>\n",
       "      <td>6.765848e+11</td>\n",
       "      <td>SS</td>\n",
       "    </tr>\n",
       "    <tr>\n",
       "      <th>8</th>\n",
       "      <td>3</td>\n",
       "      <td>total</td>\n",
       "      <td>fission</td>\n",
       "      <td>0.000000e+00</td>\n",
       "      <td>0.000000e+00</td>\n",
       "      <td>0.000000e+00</td>\n",
       "      <td>SS</td>\n",
       "    </tr>\n",
       "    <tr>\n",
       "      <th>9</th>\n",
       "      <td>4</td>\n",
       "      <td>total</td>\n",
       "      <td>absorption</td>\n",
       "      <td>1.881508e-13</td>\n",
       "      <td>3.105425e-15</td>\n",
       "      <td>5.142481e-01</td>\n",
       "      <td>air</td>\n",
       "    </tr>\n",
       "    <tr>\n",
       "      <th>10</th>\n",
       "      <td>4</td>\n",
       "      <td>total</td>\n",
       "      <td>scatter</td>\n",
       "      <td>3.135075e-10</td>\n",
       "      <td>8.613224e-13</td>\n",
       "      <td>8.568690e+02</td>\n",
       "      <td>air</td>\n",
       "    </tr>\n",
       "    <tr>\n",
       "      <th>11</th>\n",
       "      <td>4</td>\n",
       "      <td>total</td>\n",
       "      <td>fission</td>\n",
       "      <td>0.000000e+00</td>\n",
       "      <td>0.000000e+00</td>\n",
       "      <td>0.000000e+00</td>\n",
       "      <td>air</td>\n",
       "    </tr>\n",
       "  </tbody>\n",
       "</table>\n",
       "</div>"
      ],
      "text/plain": [
       "    material nuclide       score     mean  std. dev.  normalized-mean (rxn/s)  \\\n",
       "0          5   total  absorption 9.33e-04   1.85e-05                 2.55e+09   \n",
       "1          5   total     scatter 3.33e+00   9.17e-03                 9.11e+12   \n",
       "2          5   total     fission 0.00e+00   0.00e+00                 0.00e+00   \n",
       "3          1   total  absorption 9.99e-01   2.86e-03                 2.73e+12   \n",
       "4          1   total     scatter 1.32e+01   3.53e-02                 3.61e+13   \n",
       "5          1   total     fission 7.97e-01   2.14e-03                 2.18e+12   \n",
       "6          3   total  absorption 4.68e-04   4.98e-06                 1.28e+09   \n",
       "7          3   total     scatter 2.48e-01   8.77e-04                 6.77e+11   \n",
       "8          3   total     fission 0.00e+00   0.00e+00                 0.00e+00   \n",
       "9          4   total  absorption 1.88e-13   3.11e-15                 5.14e-01   \n",
       "10         4   total     scatter 3.14e-10   8.61e-13                 8.57e+02   \n",
       "11         4   total     fission 0.00e+00   0.00e+00                 0.00e+00   \n",
       "\n",
       "   mat_name  \n",
       "0        Na  \n",
       "1        Na  \n",
       "2        Na  \n",
       "3       uo2  \n",
       "4       uo2  \n",
       "5       uo2  \n",
       "6        SS  \n",
       "7        SS  \n",
       "8        SS  \n",
       "9       air  \n",
       "10      air  \n",
       "11      air  "
      ]
     },
     "execution_count": 111,
     "metadata": {},
     "output_type": "execute_result"
    }
   ],
   "source": [
    "# get all materials from the geometry\n",
    "materials = model.geometry.get_all_materials()\n",
    "\n",
    "# set names based on matching material IDs\n",
    "for mat_id, material in materials.items():\n",
    "    df.loc[df['material'] == mat_id, 'mat_name'] = material.name\n",
    "df"
   ]
  },
  {
   "cell_type": "code",
   "execution_count": 112,
   "id": "d51a36d6-7633-469f-a671-c2ed423e6fc2",
   "metadata": {},
   "outputs": [
    {
     "data": {
      "text/plain": [
       "collections.OrderedDict"
      ]
     },
     "execution_count": 112,
     "metadata": {},
     "output_type": "execute_result"
    }
   ],
   "source": [
    "type(materials)"
   ]
  },
  {
   "cell_type": "code",
   "execution_count": 113,
   "id": "b436370d-f61e-4593-8a8f-fbde4a266824",
   "metadata": {},
   "outputs": [
    {
     "data": {
      "text/html": [
       "<div>\n",
       "<style scoped>\n",
       "    .dataframe tbody tr th:only-of-type {\n",
       "        vertical-align: middle;\n",
       "    }\n",
       "\n",
       "    .dataframe tbody tr th {\n",
       "        vertical-align: top;\n",
       "    }\n",
       "\n",
       "    .dataframe thead th {\n",
       "        text-align: right;\n",
       "    }\n",
       "</style>\n",
       "<table border=\"1\" class=\"dataframe\">\n",
       "  <thead>\n",
       "    <tr style=\"text-align: right;\">\n",
       "      <th></th>\n",
       "      <th>material</th>\n",
       "      <th>nuclide</th>\n",
       "      <th>score</th>\n",
       "      <th>mean</th>\n",
       "      <th>std. dev.</th>\n",
       "      <th>normalized-mean (rxn/s)</th>\n",
       "      <th>mat_name</th>\n",
       "    </tr>\n",
       "  </thead>\n",
       "  <tbody>\n",
       "    <tr>\n",
       "      <th>2</th>\n",
       "      <td>5</td>\n",
       "      <td>total</td>\n",
       "      <td>fission</td>\n",
       "      <td>0.000000</td>\n",
       "      <td>0.000000</td>\n",
       "      <td>0.000000e+00</td>\n",
       "      <td>Na</td>\n",
       "    </tr>\n",
       "    <tr>\n",
       "      <th>5</th>\n",
       "      <td>1</td>\n",
       "      <td>total</td>\n",
       "      <td>fission</td>\n",
       "      <td>0.796748</td>\n",
       "      <td>0.002136</td>\n",
       "      <td>2.177648e+12</td>\n",
       "      <td>uo2</td>\n",
       "    </tr>\n",
       "    <tr>\n",
       "      <th>8</th>\n",
       "      <td>3</td>\n",
       "      <td>total</td>\n",
       "      <td>fission</td>\n",
       "      <td>0.000000</td>\n",
       "      <td>0.000000</td>\n",
       "      <td>0.000000e+00</td>\n",
       "      <td>SS</td>\n",
       "    </tr>\n",
       "    <tr>\n",
       "      <th>11</th>\n",
       "      <td>4</td>\n",
       "      <td>total</td>\n",
       "      <td>fission</td>\n",
       "      <td>0.000000</td>\n",
       "      <td>0.000000</td>\n",
       "      <td>0.000000e+00</td>\n",
       "      <td>air</td>\n",
       "    </tr>\n",
       "  </tbody>\n",
       "</table>\n",
       "</div>"
      ],
      "text/plain": [
       "    material nuclide    score      mean  std. dev.  normalized-mean (rxn/s)  \\\n",
       "2          5   total  fission  0.000000   0.000000             0.000000e+00   \n",
       "5          1   total  fission  0.796748   0.002136             2.177648e+12   \n",
       "8          3   total  fission  0.000000   0.000000             0.000000e+00   \n",
       "11         4   total  fission  0.000000   0.000000             0.000000e+00   \n",
       "\n",
       "   mat_name  \n",
       "2        Na  \n",
       "5       uo2  \n",
       "8        SS  \n",
       "11      air  "
      ]
     },
     "execution_count": 113,
     "metadata": {},
     "output_type": "execute_result"
    }
   ],
   "source": [
    "fission_df = df[df['score'] == 'fission']\n",
    "fission_df"
   ]
  },
  {
   "cell_type": "code",
   "execution_count": 116,
   "id": "9677d445-cde3-44e6-ae7d-38f797dbd777",
   "metadata": {},
   "outputs": [
    {
     "data": {
      "image/png": "[encoded data removed]",
      "text/plain": [
       "<Figure size 640x480 with 1 Axes>"
      ]
     },
     "metadata": {},
     "output_type": "display_data"
    }
   ],
   "source": [
    "fission_df.plot('mat_name', 'normalized-mean (rxn/s)', kind='bar', ylabel='fissions / s')\n",
    "_ = plt.xticks(rotation=30, ha='right')"
   ]
  },
  {
   "cell_type": "code",
   "execution_count": 117,
   "id": "ec993c5f-08f6-4874-a454-2a8a45b311c7",
   "metadata": {},
   "outputs": [
    {
     "data": {
      "image/png": "[encoded data removed]",
      "text/plain": [
       "<Figure size 640x480 with 1 Axes>"
      ]
     },
     "metadata": {},
     "output_type": "display_data"
    },
    {
     "data": {
      "image/png": "[encoded data removed]",
      "text/plain": [
       "<Figure size 640x480 with 1 Axes>"
      ]
     },
     "metadata": {},
     "output_type": "display_data"
    }
   ],
   "source": [
    "scatter_df = df[df['score'] == 'scatter']\n",
    "scatter_df.plot('mat_name', 'mean', kind='bar', ylabel='scatters / s')\n",
    "_ = plt.xticks(rotation=30, ha='right')\n",
    "\n",
    "absorption_df = df[df['score'] == 'absorption']\n",
    "absorption_df.plot('mat_name', 'mean', kind='bar', ylabel='absorptions / s')\n",
    "_ = plt.xticks(rotation=30, ha='right')"
   ]
  },
  {
   "cell_type": "markdown",
   "id": "fcc9de35-ad94-4344-a0c3-b8ecccf5da5c",
   "metadata": {},
   "source": [
    "---"
   ]
  },
  {
   "cell_type": "markdown",
   "id": "2abb7ee1-ecbb-484d-984a-7a19d5a7cc4b",
   "metadata": {},
   "source": [
    "# Universes\n",
    "\n",
    "A universe is a collection of cells that can be used as a repeatable unit in the geometry. At a minimum, there must be one \"root\" universe (say, named `root`), which gets passed to `openmc.Geometry(root)`. But you can also use universes to repeat a collection of cells multiple times throughout a geometry. Here, we will explore some basic features of universes.\n",
    "\n",
    "We'll start by making a universe which looks similar to the pincell we built earlier - say, a cylinder of UO2 enclosed by an infinite region of water. First, we set up our materials and create our geometry."
   ]
  },
  {
   "cell_type": "markdown",
   "id": "14d5fa36-7449-47b2-9352-217c120ade4b",
   "metadata": {},
   "source": [
    "First, let's make a simplified pincell model to explore how universes work."
   ]
  },
  {
   "cell_type": "code",
   "execution_count": 118,
   "id": "0164d0ac-8796-41b5-ad43-b8d4d67b4c03",
   "metadata": {},
   "outputs": [],
   "source": [
    "pin_surface = openmc.ZCylinder(x0=0.0, y0=0.0, r=1.0)\n",
    "inside_pin = -pin_surface\n",
    "\n",
    "pin_cell = openmc.Cell(region=inside_pin, fill=uo2)\n",
    "outside_cell = openmc.Cell(region=~inside_pin, fill=sodium)"
   ]
  },
  {
   "cell_type": "code",
   "execution_count": 119,
   "id": "4a59b4ff-f0e5-4e2c-83b9-7ba746f84eab",
   "metadata": {},
   "outputs": [],
   "source": [
    "universe = openmc.Universe()\n",
    "universe.add_cells([pin_cell, outside_cell])"
   ]
  },
  {
   "cell_type": "markdown",
   "id": "8e6bb4b6-56fc-479c-97a4-511ff6541228",
   "metadata": {},
   "source": [
    "We have created a universe containing a pin, enclosed in an infinite medium of water. Now let's suppose that I want to fill this universe into an enclosing cell, a cylinder of radius 5 cm. Let's first create this cylinder, and then we will fill it with our `universe`."
   ]
  },
  {
   "cell_type": "code",
   "execution_count": 120,
   "id": "80fbe58e-f657-4950-ae0f-5e78d5a321e7",
   "metadata": {},
   "outputs": [],
   "source": [
    "big_cylinder = openmc.ZCylinder(x0=0.0, y0=0.0,r=5.0)\n",
    "big_cell = openmc.Cell()\n",
    "big_cell.region = -big_cylinder\n",
    "big_cell.fill = universe"
   ]
  },
  {
   "cell_type": "markdown",
   "id": "062777d8-3d0b-4ebb-972b-f58045d89f30",
   "metadata": {},
   "source": [
    "Let's take a look at our geometry. In order to visualize at this stage, we need to create a universe from our `big_cell`."
   ]
  },
  {
   "cell_type": "code",
   "execution_count": 121,
   "id": "64f8ca52-95b3-4001-aa5c-bfab3ce6f16a",
   "metadata": {},
   "outputs": [
    {
     "name": "stderr",
     "output_type": "stream",
     "text": [
      "/Users/pshriwise/soft/openmc/openmc/bounding_box.py:50: RuntimeWarning: invalid value encountered in add\n",
      "  return (self[0] + self[1]) / 2\n"
     ]
    },
    {
     "data": {
      "text/plain": [
       "<matplotlib.image.AxesImage at 0x15568dcf0>"
      ]
     },
     "execution_count": 121,
     "metadata": {},
     "output_type": "execute_result"
    },
    {
     "data": {
      "image/png": "[encoded data removed]",
      "text/plain": [
       "<Figure size 258.065x259.74 with 1 Axes>"
      ]
     },
     "metadata": {},
     "output_type": "display_data"
    }
   ],
   "source": [
    "big_universe = openmc.Universe(cells=[big_cell])\n",
    "\n",
    "big_universe.plot(width=(10.0, 10.0))"
   ]
  },
  {
   "cell_type": "markdown",
   "id": "8256ba98-f7d1-489d-8459-50240a7c9d5b",
   "metadata": {},
   "source": [
    "We can see that our `big_cell`, the large cylinder, has been filled with the `universe` we declared earlier. Let's increase the complexity a bit to understand how this filling works. What if the cylinder of UO2 in our `universe` is not located at the origin, but is instead shifted to a different position?"
   ]
  },
  {
   "cell_type": "code",
   "execution_count": 122,
   "id": "cc321205-2b8d-4579-8327-25db8f894d93",
   "metadata": {},
   "outputs": [
    {
     "name": "stderr",
     "output_type": "stream",
     "text": [
      "/Users/pshriwise/soft/openmc/openmc/bounding_box.py:50: RuntimeWarning: invalid value encountered in add\n",
      "  return (self[0] + self[1]) / 2\n"
     ]
    },
    {
     "data": {
      "text/plain": [
       "<matplotlib.image.AxesImage at 0x1556f9420>"
      ]
     },
     "execution_count": 122,
     "metadata": {},
     "output_type": "execute_result"
    },
    {
     "data": {
      "image/png": "[encoded data removed]",
      "text/plain": [
       "<Figure size 258.065x259.74 with 1 Axes>"
      ]
     },
     "metadata": {},
     "output_type": "display_data"
    }
   ],
   "source": [
    "pin_surface.x0 = 1.0\n",
    "pin_surface.y0 = 1.5\n",
    "\n",
    "big_universe.plot(width=(10.0, 10.0))"
   ]
  },
  {
   "cell_type": "markdown",
   "id": "cdd198c1-1cc3-4aba-a1b2-4cf5532c2d5c",
   "metadata": {},
   "source": [
    "We see that when we fill a universe inside of another cell, that there's (by default) no transformation of coordinates. You can shift the position of the universe filling a cell with the `Cell.translation` attribute. There are similar adjustments you can make, like rotations."
   ]
  },
  {
   "cell_type": "code",
   "execution_count": 123,
   "id": "8842698b-4d95-4ad8-be11-a9c928c2cca0",
   "metadata": {},
   "outputs": [
    {
     "name": "stderr",
     "output_type": "stream",
     "text": [
      "/Users/pshriwise/soft/openmc/openmc/bounding_box.py:50: RuntimeWarning: invalid value encountered in add\n",
      "  return (self[0] + self[1]) / 2\n"
     ]
    },
    {
     "data": {
      "text/plain": [
       "<matplotlib.image.AxesImage at 0x155747c10>"
      ]
     },
     "execution_count": 123,
     "metadata": {},
     "output_type": "execute_result"
    },
    {
     "data": {
      "image/png": "[encoded data removed]",
      "text/plain": [
       "<Figure size 258.065x259.74 with 1 Axes>"
      ]
     },
     "metadata": {},
     "output_type": "display_data"
    }
   ],
   "source": [
    "big_cell.translation = [-1.0, 0.0, 0.0]\n",
    "big_universe.plot(width=(10.0, 10.0))"
   ]
  },
  {
   "cell_type": "markdown",
   "id": "b391650f-c531-42ef-b320-a0ea50149961",
   "metadata": {},
   "source": [
    "# Lattices\n",
    "\n",
    "Lattices are a convenient way to (i) repeat a universe multiple times in space, while (ii) automatically translating that universe's origin to different positions in space."
   ]
  },
  {
   "cell_type": "markdown",
   "id": "b400801a-b505-4a37-9442-1490a95fe11b",
   "metadata": {},
   "source": [
    "In this exercise, we'll build two lattices, one rectangular and one hexagonal, using the CEFR pincell."
   ]
  },
  {
   "cell_type": "markdown",
   "id": "c28128f8-9962-4549-81fe-48421f070e00",
   "metadata": {},
   "source": [
    "Later in this example, we will make a bunch of geometry plots.  By default, every region is colored randomly and the results are Now that we know our materials, let's define a \"color specification\" to use when plotting our geometry."
   ]
  },
  {
   "cell_type": "code",
   "execution_count": 223,
   "id": "8f1420f5-92c6-48b8-a535-69e10f78174a",
   "metadata": {
    "tags": []
   },
   "outputs": [],
   "source": [
    "colors = {\n",
    "    sodium: 'lightblue',\n",
    "    steel: 'grey',\n",
    "    air: (249, 249, 249),\n",
    "    uo2: (150, 0, 0)\n",
    "}"
   ]
  },
  {
   "cell_type": "markdown",
   "id": "a0347fb7-b33d-421b-bc7e-6f4c93a7904e",
   "metadata": {},
   "source": [
    "### An alternative approach to building a pincell universe\n",
    "\n",
    "Initally, we built the CEFR pincell model by specifying each surface manually. There are many convenience functions in OpenMC that make this process even easier."
   ]
  },
  {
   "cell_type": "code",
   "execution_count": 224,
   "id": "cd26f46c-d75b-4b99-9e23-10b07f3d281e",
   "metadata": {
    "collapsed": false,
    "jupyter": {
     "outputs_hidden": false
    }
   },
   "outputs": [],
   "source": [
    "# Define materials from inner to outer. If no material is specified (None), that region is treated as vacuum\n",
    "pin_radii = [0.08020, 0.25565, 0.27112, 0.30499] # cm\n",
    "pin_surfaces = [openmc.ZCylinder(r=r) for r in pin_radii]\n",
    "pin_mats = [air, uo2, air, steel, sodium]\n",
    "\n",
    "# Create burnable pin universe given list of surfaces and list of materials\n",
    "pin_universe = openmc.model.pin(pin_surfaces, pin_mats)"
   ]
  },
  {
   "cell_type": "code",
   "execution_count": 225,
   "id": "46a4ac97-5b38-429f-927c-740ad8f9ea18",
   "metadata": {
    "collapsed": false,
    "jupyter": {
     "outputs_hidden": false
    }
   },
   "outputs": [
    {
     "data": {
      "text/plain": [
       "<matplotlib.image.AxesImage at 0x169f22170>"
      ]
     },
     "execution_count": 225,
     "metadata": {},
     "output_type": "execute_result"
    },
    {
     "data": {
      "image/png": "[encoded data removed]",
      "text/plain": [
       "<Figure size 258.065x259.74 with 1 Axes>"
      ]
     },
     "metadata": {},
     "output_type": "display_data"
    }
   ],
   "source": [
    "pin_universe.plot(width=(pitch, pitch), color_by='material', colors=colors, legend=True)"
   ]
  },
  {
   "cell_type": "markdown",
   "id": "88f18c45-2d3f-4dbf-8797-703f64b375f7",
   "metadata": {},
   "source": [
    "---"
   ]
  },
  {
   "cell_type": "markdown",
   "id": "9a8d4935-0e57-469b-8247-7bddda8b50c6",
   "metadata": {},
   "source": [
    "## Lattices in OpenMC\n",
    "\n",
    "OpenMC has `RectLattice` and `HexLattice` objects.  For our fuel assembly, we need to use `RectLattice`. Let's look at a simple one before we do the full assembly.\n",
    "\n",
    "First, we also need to define a universe that is all water."
   ]
  },
  {
   "cell_type": "code",
   "execution_count": 226,
   "id": "1f1b87c8-23dd-4a76-9bd4-1c1d990133fb",
   "metadata": {
    "tags": []
   },
   "outputs": [],
   "source": [
    "air_cell = openmc.Cell(fill=air)\n",
    "inf_air = openmc.Universe(cells=[air_cell])"
   ]
  },
  {
   "cell_type": "markdown",
   "id": "a617b392-24ef-4861-aa0b-0c083ab48c28",
   "metadata": {},
   "source": [
    "When creating a rectangular lattice, we need to define:\n",
    "\n",
    "1. The lower-left coordinates of the lattice (`.lower_left`)\n",
    "2. The size of each lattice element (`.pitch`)\n",
    "3. The 2D arrangement of universes (`.universes`)\n",
    "4. (_optionally_) A universe that is used outside of the defined region (`.outer`)"
   ]
  },
  {
   "cell_type": "code",
   "execution_count": 227,
   "id": "3a374a56-edc9-4e5e-9918-3aa0f45b727e",
   "metadata": {
    "collapsed": false,
    "jupyter": {
     "outputs_hidden": false
    }
   },
   "outputs": [],
   "source": [
    "lattice = openmc.RectLattice()\n",
    "\n",
    "# Define the lower-left coordinates and size of lattice elements\n",
    "pitch = 0.8 # cm\n",
    "lattice.lower_left = (0., 0.)\n",
    "lattice.pitch = (pitch, pitch)\n",
    "\n",
    "# Now we specify what is actually inside the lattice.  This 2D lattice will be a\n",
    "# list of lists like\n",
    "# lattice.universes = [ [a1, a2, ...], [b1, b2, ...], ...]\n",
    "# The inner lists specify columns from left to right.  The outer lists specify\n",
    "# rows from top to bottom.\n",
    "lattice.universes = [\n",
    "    [pin_universe,   inf_air],\n",
    "    [inf_air, pin_universe]\n",
    "]\n"
   ]
  },
  {
   "cell_type": "markdown",
   "id": "69a76ff5-5664-44ab-8cca-49bbc256e514",
   "metadata": {},
   "source": [
    "To plot the lattice, we need to put it in a universe. For this, we'll create a single cell filled with the lattice, and then put that single cell inside a universe to plot:"
   ]
  },
  {
   "cell_type": "code",
   "execution_count": 228,
   "id": "1c659960-1fad-4d48-bca9-5cb444268ec3",
   "metadata": {
    "collapsed": false,
    "jupyter": {
     "outputs_hidden": false
    }
   },
   "outputs": [
    {
     "data": {
      "text/plain": [
       "<matplotlib.image.AxesImage at 0x169ff7a30>"
      ]
     },
     "execution_count": 228,
     "metadata": {},
     "output_type": "execute_result"
    },
    {
     "data": {
      "image/png": "[encoded data removed]",
      "text/plain": [
       "<Figure size 258.065x259.74 with 1 Axes>"
      ]
     },
     "metadata": {},
     "output_type": "display_data"
    }
   ],
   "source": [
    "example_univ = openmc.Universe(cells=[openmc.Cell(fill=lattice)])\n",
    "\n",
    "plot_args = {\n",
    "    'width': (3*pitch, 3*pitch),\n",
    "    'origin': (pitch, pitch, 0),\n",
    "    'color_by': 'material',\n",
    "    'colors': colors\n",
    "}\n",
    "example_univ.plot(**plot_args)"
   ]
  },
  {
   "cell_type": "markdown",
   "id": "a6394c05-f973-4215-8063-37167f3da982",
   "metadata": {},
   "source": [
    "## What exactly does `outer` mean?\n",
    "\n",
    "In the previous section, we set the lattice outer universe to a universe containing a single cell with only water in it. To get a better sense of what the outer universe does, let's change the outer universe to the guide tube universe:"
   ]
  },
  {
   "cell_type": "code",
   "execution_count": 229,
   "id": "b460c1df-89e5-4e0b-b918-c03249682813",
   "metadata": {},
   "outputs": [
    {
     "data": {
      "text/plain": [
       "<matplotlib.image.AxesImage at 0x16a0687f0>"
      ]
     },
     "execution_count": 229,
     "metadata": {},
     "output_type": "execute_result"
    },
    {
     "data": {
      "image/png": "[encoded data removed]",
      "text/plain": [
       "<Figure size 258.065x259.74 with 1 Axes>"
      ]
     },
     "metadata": {},
     "output_type": "display_data"
    }
   ],
   "source": [
    "# We also should specify what is outside of the lattice.  In this case, it is\n",
    "# the infinite water universe.\n",
    "lattice.outer = inf_sodium\n",
    "example_univ.plot(**plot_args)"
   ]
  },
  {
   "cell_type": "markdown",
   "id": "f2552154-5a1b-4d7e-b1f7-54d08ddc3fd0",
   "metadata": {},
   "source": [
    "## Hexagonal Lattices\n",
    "\n",
    "OpenMC also allows you to define hexagonal lattices. They are a little trickier, but as we'll see there are some helper methods that demystify how to assign universes."
   ]
  },
  {
   "cell_type": "code",
   "execution_count": 230,
   "id": "a0e7f0de-539a-408c-bbfc-dd7527c5be0d",
   "metadata": {
    "collapsed": false,
    "jupyter": {
     "outputs_hidden": false
    }
   },
   "outputs": [],
   "source": [
    "hex_lat = openmc.HexLattice()"
   ]
  },
  {
   "cell_type": "markdown",
   "id": "0c2eca35-3d88-41ec-a059-648ff999068d",
   "metadata": {},
   "source": [
    "We need to set the `center` of the lattice, the `pitch`, an `outer` universe (which is applied to all lattice elements outside of those that are defined), and a list of `universes`. Let's start with the easy ones first. Note that for a 2D lattice, we only need to specify a single number for the pitch."
   ]
  },
  {
   "cell_type": "code",
   "execution_count": 231,
   "id": "199f7f96-3452-4975-aed9-f3bb7a502ab6",
   "metadata": {
    "collapsed": false,
    "jupyter": {
     "outputs_hidden": false
    }
   },
   "outputs": [],
   "source": [
    "hex_lat.center = (0., 0.)\n",
    "hex_lat.pitch = [0.695]\n",
    "hex_lat.outer = inf_sodium"
   ]
  },
  {
   "cell_type": "markdown",
   "id": "c57fe51b-440c-4a32-98a2-511544467834",
   "metadata": {},
   "source": [
    "Now we need to set the `universes` property on our lattice. It needs to be set to a list of lists of Universes, where each list of Universes corresponds to a ring of the lattice. The rings are ordered from outermost to innermost, and within each ring the indexing starts at the \"top\". To help visualize the proper indices, we can use the `show_indices()` helper method."
   ]
  },
  {
   "cell_type": "code",
   "execution_count": 232,
   "id": "1d2f26f4-e37d-4d3c-bdfd-f797ac63f057",
   "metadata": {
    "collapsed": false,
    "jupyter": {
     "outputs_hidden": false
    }
   },
   "outputs": [
    {
     "name": "stdout",
     "output_type": "stream",
     "text": [
      "            (0, 0)\n",
      "      (0,11)      (0, 1)\n",
      "(0,10)      (1, 0)      (0, 2)\n",
      "      (1, 5)      (1, 1)\n",
      "(0, 9)      (2, 0)      (0, 3)\n",
      "      (1, 4)      (1, 2)\n",
      "(0, 8)      (1, 3)      (0, 4)\n",
      "      (0, 7)      (0, 5)\n",
      "            (0, 6)\n"
     ]
    }
   ],
   "source": [
    "print(hex_lat.show_indices(num_rings=3))"
   ]
  },
  {
   "cell_type": "markdown",
   "id": "12d3f6a2-4de0-433c-b4d6-dd0014661e2a",
   "metadata": {},
   "source": [
    "Let's setup a hexagonal lattice assembly like the one in the CEFR benchmark model."
   ]
  },
  {
   "cell_type": "code",
   "execution_count": 248,
   "id": "32168d35-fb0c-4d0b-8b40-3f3ecf9f0b25",
   "metadata": {},
   "outputs": [
    {
     "data": {
      "image/png": "[encoded data removed]",
      "text/plain": [
       "<IPython.core.display.Image object>"
      ]
     },
     "execution_count": 248,
     "metadata": {},
     "output_type": "execute_result"
    }
   ],
   "source": [
    "Image('cefr_hex_lattice.png')"
   ]
  },
  {
   "cell_type": "code",
   "execution_count": 234,
   "id": "aaa59f62-5f99-4d77-9a32-566237423d98",
   "metadata": {},
   "outputs": [],
   "source": [
    "lat_universes = []\n",
    "num_rings = 5\n",
    "for i in range(num_rings):\n",
    "    lat_universes.append(max(6*i, 1) * [pin_universe])\n",
    "hex_lat.universes = lat_universes[::-1]"
   ]
  },
  {
   "cell_type": "markdown",
   "id": "64d965f0-0052-4aef-b8fb-0346acaf6213",
   "metadata": {},
   "source": [
    "Now let's put our lattice inside a circular cell."
   ]
  },
  {
   "cell_type": "code",
   "execution_count": 235,
   "id": "5811eeb9-69d2-496a-a9b2-fa121639d8e8",
   "metadata": {},
   "outputs": [],
   "source": [
    "outer_radius = 4.0\n",
    "outer_surface = openmc.ZCylinder(r=outer_radius, boundary_type='vacuum')\n",
    "main_cell = openmc.Cell(fill=hex_lat, region=-outer_surface)\n",
    "root = openmc.Universe(cells=(main_cell,))"
   ]
  },
  {
   "cell_type": "code",
   "execution_count": 236,
   "id": "b63ce3c7-4407-4bcf-a2a9-6bb89aeb51f5",
   "metadata": {
    "collapsed": false,
    "jupyter": {
     "outputs_hidden": false
    }
   },
   "outputs": [
    {
     "name": "stderr",
     "output_type": "stream",
     "text": [
      "/Users/pshriwise/soft/openmc/openmc/bounding_box.py:50: RuntimeWarning: invalid value encountered in add\n",
      "  return (self[0] + self[1]) / 2\n"
     ]
    },
    {
     "data": {
      "text/plain": [
       "<matplotlib.image.AxesImage at 0x16a4e58d0>"
      ]
     },
     "execution_count": 236,
     "metadata": {},
     "output_type": "execute_result"
    },
    {
     "data": {
      "image/png": "[encoded data removed]",
      "text/plain": [
       "<Figure size 387.097x389.61 with 1 Axes>"
      ]
     },
     "metadata": {},
     "output_type": "display_data"
    }
   ],
   "source": [
    "root.plot(width=(2*outer_radius, 2*outer_radius), pixels=(300, 300),\n",
    "          color_by='material', colors=colors, legend=True)"
   ]
  },
  {
   "cell_type": "markdown",
   "id": "a570938c-a9bb-44e1-af8d-7b7a36063641",
   "metadata": {},
   "source": [
    "### Rotating the lattice\n",
    "\n",
    "Now let's say we want our hexagonal lattice orientated such that flat sides are parallel to the y-axis instead of the x-axis. This can be achieved by changing the orientation of the lattice from `'y'` to `'x'`:"
   ]
  },
  {
   "cell_type": "code",
   "execution_count": 237,
   "id": "54cdb723-3dde-4872-ac69-3b9119b0d91c",
   "metadata": {},
   "outputs": [],
   "source": [
    "hex_lat.orientation = 'x'"
   ]
  },
  {
   "cell_type": "markdown",
   "id": "91327cd5-9fa9-4e4a-bd13-909dd334fe94",
   "metadata": {},
   "source": [
    "Again, we can use the `show_indices` method to see the ordering of universes within each ring:"
   ]
  },
  {
   "cell_type": "code",
   "execution_count": 238,
   "id": "f13842ee-3ebe-4aa3-8555-100e1cd8d3b8",
   "metadata": {},
   "outputs": [
    {
     "name": "stdout",
     "output_type": "stream",
     "text": [
      "            (0, 8)      (0, 9)      (0,10)\n",
      "\n",
      "      (0, 7)      (1, 4)      (1, 5)      (0,11)\n",
      "\n",
      "(0, 6)      (1, 3)      (2, 0)      (1, 0)      (0, 0)\n",
      "\n",
      "      (0, 5)      (1, 2)      (1, 1)      (0, 1)\n",
      "\n",
      "            (0, 4)      (0, 3)      (0, 2)\n"
     ]
    }
   ],
   "source": [
    "print(hex_lat.show_indices(3, orientation='x'))"
   ]
  },
  {
   "cell_type": "code",
   "execution_count": 239,
   "id": "e4fe5c31-eb57-43b2-9baa-5d2625772e18",
   "metadata": {
    "collapsed": false,
    "jupyter": {
     "outputs_hidden": false
    }
   },
   "outputs": [
    {
     "name": "stderr",
     "output_type": "stream",
     "text": [
      "/Users/pshriwise/soft/openmc/openmc/bounding_box.py:50: RuntimeWarning: invalid value encountered in add\n",
      "  return (self[0] + self[1]) / 2\n"
     ]
    },
    {
     "data": {
      "text/plain": [
       "<matplotlib.image.AxesImage at 0x16a53cdc0>"
      ]
     },
     "execution_count": 239,
     "metadata": {},
     "output_type": "execute_result"
    },
    {
     "data": {
      "image/png": "[encoded data removed]",
      "text/plain": [
       "<Figure size 387.097x389.61 with 1 Axes>"
      ]
     },
     "metadata": {},
     "output_type": "display_data"
    }
   ],
   "source": [
    "root.plot(width=(2*outer_radius, 2*outer_radius), pixels=(300, 300),\n",
    "          color_by='material', colors=colors)"
   ]
  },
  {
   "cell_type": "markdown",
   "id": "47ff72bc-7844-4b7f-a8d6-2ed52cf37309",
   "metadata": {},
   "source": [
    "### Final Assembly Modeling Steps\n",
    "\n",
    "The circular boundary is nice for some initial visualization, but in reality the CEFR assemblies are bounded by stainless steel ducts. Let's add those to the model now."
   ]
  },
  {
   "cell_type": "markdown",
   "id": "3abb56b2-6474-4b4b-95a7-0101f54345a7",
   "metadata": {},
   "source": [
    "In the image of the CEFR assembly above, the steel duct is a hexagonal shape matching that of the hex lattice boundary. OpenMC has the ability to represent arbitrarily oriented planes to model this duct."
   ]
  },
  {
   "cell_type": "code",
   "execution_count": 240,
   "id": "9b01fccb-7e79-4035-b2c3-f8732201d839",
   "metadata": {},
   "outputs": [
    {
     "name": "stdout",
     "output_type": "stream",
     "text": [
      "Help on class Plane in module openmc.surface:\n",
      "\n",
      "class Plane(PlaneMixin, Surface)\n",
      " |  Plane(a=1.0, b=0.0, c=0.0, d=0.0, *args, **kwargs)\n",
      " |  \n",
      " |  An arbitrary plane of the form :math:`Ax + By + Cz = D`.\n",
      " |  \n",
      " |  Parameters\n",
      " |  ----------\n",
      " |  a : float, optional\n",
      " |      The 'A' parameter for the plane. Defaults to 1.\n",
      " |  b : float, optional\n",
      " |      The 'B' parameter for the plane. Defaults to 0.\n",
      " |  c : float, optional\n",
      " |      The 'C' parameter for the plane. Defaults to 0.\n",
      " |  d : float, optional\n",
      " |      The 'D' parameter for the plane. Defaults to 0.\n",
      " |  boundary_type : {'transmission, 'vacuum', 'reflective', 'periodic', 'white'}, optional\n",
      " |      Boundary condition that defines the behavior for particles hitting the\n",
      " |      surface. Defaults to transmissive boundary condition where particles\n",
      " |      freely pass through the surface.\n",
      " |  name : str, optional\n",
      " |      Name of the plane. If not specified, the name will be the empty string.\n",
      " |  surface_id : int, optional\n",
      " |      Unique identifier for the surface. If not specified, an identifier will\n",
      " |      automatically be assigned.\n",
      " |  \n",
      " |  Attributes\n",
      " |  ----------\n",
      " |  a : float\n",
      " |      The 'A' parameter for the plane\n",
      " |  b : float\n",
      " |      The 'B' parameter for the plane\n",
      " |  c : float\n",
      " |      The 'C' parameter for the plane\n",
      " |  d : float\n",
      " |      The 'D' parameter for the plane\n",
      " |  boundary_type : {'transmission, 'vacuum', 'reflective', 'periodic', 'white'}\n",
      " |      Boundary condition that defines the behavior for particles hitting the\n",
      " |      surface.\n",
      " |  periodic_surface : openmc.Surface\n",
      " |      If a periodic boundary condition is used, the surface with which this\n",
      " |      one is periodic with\n",
      " |  coefficients : dict\n",
      " |      Dictionary of surface coefficients\n",
      " |  id : int\n",
      " |      Unique identifier for the surface\n",
      " |  name : str\n",
      " |      Name of the surface\n",
      " |  type : str\n",
      " |      Type of the surface\n",
      " |  \n",
      " |  Method resolution order:\n",
      " |      Plane\n",
      " |      PlaneMixin\n",
      " |      Surface\n",
      " |      openmc.mixin.IDManagerMixin\n",
      " |      abc.ABC\n",
      " |      builtins.object\n",
      " |  \n",
      " |  Methods defined here:\n",
      " |  \n",
      " |  __init__(self, a=1.0, b=0.0, c=0.0, d=0.0, *args, **kwargs)\n",
      " |      Initialize self.  See help(type(self)) for accurate signature.\n",
      " |  \n",
      " |  ----------------------------------------------------------------------\n",
      " |  Class methods defined here:\n",
      " |  \n",
      " |  __subclasshook__(c) from abc.ABCMeta\n",
      " |      Abstract classes can override this to customize issubclass().\n",
      " |      \n",
      " |      This is invoked early on by abc.ABCMeta.__subclasscheck__().\n",
      " |      It should return True, False or NotImplemented.  If it returns\n",
      " |      NotImplemented, the normal algorithm is used.  Otherwise, it\n",
      " |      overrides the normal algorithm (and the outcome is cached).\n",
      " |  \n",
      " |  from_points(p1, p2, p3, **kwargs) from abc.ABCMeta\n",
      " |      Return a plane given three points that pass through it.\n",
      " |      \n",
      " |      Parameters\n",
      " |      ----------\n",
      " |      p1, p2, p3 : 3-tuples\n",
      " |          Points that pass through the plane\n",
      " |      kwargs : dict\n",
      " |          Keyword arguments passed to the :class:`Plane` constructor\n",
      " |      \n",
      " |      Returns\n",
      " |      -------\n",
      " |      Plane\n",
      " |          Plane that passes through the three points\n",
      " |      \n",
      " |      Raises\n",
      " |      ------\n",
      " |      ValueError\n",
      " |          If all three points lie along a line\n",
      " |  \n",
      " |  ----------------------------------------------------------------------\n",
      " |  Data descriptors defined here:\n",
      " |  \n",
      " |  a\n",
      " |  \n",
      " |  b\n",
      " |  \n",
      " |  c\n",
      " |  \n",
      " |  d\n",
      " |  \n",
      " |  ----------------------------------------------------------------------\n",
      " |  Data and other attributes defined here:\n",
      " |  \n",
      " |  __abstractmethods__ = frozenset()\n",
      " |  \n",
      " |  ----------------------------------------------------------------------\n",
      " |  Methods inherited from PlaneMixin:\n",
      " |  \n",
      " |  bounding_box(self, side)\n",
      " |      Determine an axis-aligned bounding box.\n",
      " |      \n",
      " |      An axis-aligned bounding box for Plane half-spaces is represented by\n",
      " |      its lower-left and upper-right coordinates. If the half-space is\n",
      " |      unbounded in a particular direction, numpy.inf is used to represent\n",
      " |      infinity.\n",
      " |      \n",
      " |      Parameters\n",
      " |      ----------\n",
      " |      side : {'+', '-'}\n",
      " |          Indicates the negative or positive half-space\n",
      " |      \n",
      " |      Returns\n",
      " |      -------\n",
      " |      numpy.ndarray\n",
      " |          Lower-left coordinates of the axis-aligned bounding box for the\n",
      " |          desired half-space\n",
      " |      numpy.ndarray\n",
      " |          Upper-right coordinates of the axis-aligned bounding box for the\n",
      " |          desired half-space\n",
      " |  \n",
      " |  evaluate(self, point)\n",
      " |      Evaluate the surface equation at a given point.\n",
      " |      \n",
      " |      Parameters\n",
      " |      ----------\n",
      " |      point : 3-tuple of float\n",
      " |          The Cartesian coordinates, :math:`(x',y',z')`, at which the surface\n",
      " |          equation should be evaluated.\n",
      " |      \n",
      " |      Returns\n",
      " |      -------\n",
      " |      float\n",
      " |          :math:`Ax' + By' + Cz' - D`\n",
      " |  \n",
      " |  rotate(self, rotation, pivot=(0.0, 0.0, 0.0), order='xyz', inplace=False)\n",
      " |  \n",
      " |  to_xml_element(self)\n",
      " |      Return XML representation of the surface\n",
      " |      \n",
      " |      Returns\n",
      " |      -------\n",
      " |      element : lxml.etree._Element\n",
      " |          XML element containing source data\n",
      " |  \n",
      " |  translate(self, vector, inplace=False)\n",
      " |      Translate surface in given direction\n",
      " |      \n",
      " |      Parameters\n",
      " |      ----------\n",
      " |      vector : iterable of float\n",
      " |          Direction in which surface should be translated\n",
      " |      inplace : bool\n",
      " |          Whether or not to return a new instance of a Plane or to modify the\n",
      " |          coefficients of this plane.\n",
      " |      \n",
      " |      Returns\n",
      " |      -------\n",
      " |      openmc.Plane\n",
      " |          Translated surface\n",
      " |  \n",
      " |  ----------------------------------------------------------------------\n",
      " |  Data descriptors inherited from PlaneMixin:\n",
      " |  \n",
      " |  __dict__\n",
      " |      dictionary for instance variables (if defined)\n",
      " |  \n",
      " |  __weakref__\n",
      " |      list of weak references to the object (if defined)\n",
      " |  \n",
      " |  periodic_surface\n",
      " |  \n",
      " |  ----------------------------------------------------------------------\n",
      " |  Methods inherited from Surface:\n",
      " |  \n",
      " |  __neg__(self)\n",
      " |  \n",
      " |  __pos__(self)\n",
      " |  \n",
      " |  __repr__(self)\n",
      " |      Return repr(self).\n",
      " |  \n",
      " |  clone(self, memo=None)\n",
      " |      Create a copy of this surface with a new unique ID.\n",
      " |      \n",
      " |      Parameters\n",
      " |      ----------\n",
      " |      memo : dict or None\n",
      " |          A nested dictionary of previously cloned objects. This parameter\n",
      " |          is used internally and should not be specified by the user.\n",
      " |      \n",
      " |      Returns\n",
      " |      -------\n",
      " |      clone : openmc.Surface\n",
      " |          The clone of this surface\n",
      " |  \n",
      " |  is_equal(self, other)\n",
      " |      Determine if this Surface is equivalent to another\n",
      " |      \n",
      " |      Parameters\n",
      " |      ----------\n",
      " |      other : instance of openmc.Surface\n",
      " |          Instance of openmc.Surface that should be compared to the current\n",
      " |          surface\n",
      " |  \n",
      " |  normalize(self, coeffs=None)\n",
      " |      Normalize coefficients by first nonzero value\n",
      " |      \n",
      " |      .. versionadded:: 0.12\n",
      " |      \n",
      " |      Parameters\n",
      " |      ----------\n",
      " |      coeffs : tuple, optional\n",
      " |          Tuple of surface coefficients to normalize. Defaults to None. If no\n",
      " |          coefficients are supplied then the coefficients will be taken from\n",
      " |          the current Surface.\n",
      " |      \n",
      " |      Returns\n",
      " |      -------\n",
      " |      tuple of normalized coefficients\n",
      " |  \n",
      " |  ----------------------------------------------------------------------\n",
      " |  Static methods inherited from Surface:\n",
      " |  \n",
      " |  from_hdf5(group)\n",
      " |      Create surface from HDF5 group\n",
      " |      \n",
      " |      Parameters\n",
      " |      ----------\n",
      " |      group : h5py.Group\n",
      " |          Group in HDF5 file\n",
      " |      \n",
      " |      Returns\n",
      " |      -------\n",
      " |      openmc.Surface\n",
      " |          Instance of surface subclass\n",
      " |  \n",
      " |  from_xml_element(elem)\n",
      " |      Generate surface from an XML element\n",
      " |      \n",
      " |      Parameters\n",
      " |      ----------\n",
      " |      elem : lxml.etree._Element\n",
      " |          XML element\n",
      " |      \n",
      " |      Returns\n",
      " |      -------\n",
      " |      openmc.Surface\n",
      " |          Instance of a surface subclass\n",
      " |  \n",
      " |  ----------------------------------------------------------------------\n",
      " |  Readonly properties inherited from Surface:\n",
      " |  \n",
      " |  coefficients\n",
      " |  \n",
      " |  type\n",
      " |  \n",
      " |  ----------------------------------------------------------------------\n",
      " |  Data descriptors inherited from Surface:\n",
      " |  \n",
      " |  boundary_type\n",
      " |  \n",
      " |  name\n",
      " |  \n",
      " |  ----------------------------------------------------------------------\n",
      " |  Data and other attributes inherited from Surface:\n",
      " |  \n",
      " |  next_id = 206\n",
      " |  \n",
      " |  used_ids = {1, 2, 3, 4, 5, 6, ...}\n",
      " |  \n",
      " |  ----------------------------------------------------------------------\n",
      " |  Data descriptors inherited from openmc.mixin.IDManagerMixin:\n",
      " |  \n",
      " |  id\n",
      "\n"
     ]
    }
   ],
   "source": [
    "help(openmc.Plane)"
   ]
  },
  {
   "cell_type": "markdown",
   "id": "3125b0c3-3833-49e1-a924-e6b96ccc903f",
   "metadata": {},
   "source": [
    "However, a hexagonal shape is a common feature in reactor design and as such there is a convenience function in OpenMC for generating a hexagonal prism region."
   ]
  },
  {
   "cell_type": "code",
   "execution_count": 241,
   "id": "be37792c-0f99-430e-bb43-e4de287b0dfd",
   "metadata": {},
   "outputs": [
    {
     "name": "stdout",
     "output_type": "stream",
     "text": [
      "Help on function hexagonal_prism in module openmc.model.funcs:\n",
      "\n",
      "hexagonal_prism(edge_length=1.0, orientation='y', origin=(0.0, 0.0), boundary_type='transmission', corner_radius=0.0)\n",
      "    Create a hexagon region from six surface planes.\n",
      "    \n",
      "    .. versionchanged:: 0.11\n",
      "        This function was renamed from `get_hexagonal_prism` to\n",
      "        `hexagonal_prism`.\n",
      "    \n",
      "    Parameters\n",
      "    ----------\n",
      "    edge_length : float\n",
      "        Length of a side of the hexagon in cm\n",
      "    orientation : {'x', 'y'}\n",
      "        An 'x' orientation means that two sides of the hexagon are parallel to\n",
      "        the x-axis and a 'y' orientation means that two sides of the hexagon are\n",
      "        parallel to the y-axis.\n",
      "    origin: Iterable of two floats\n",
      "        Origin of the prism. Defaults to (0., 0.).\n",
      "    boundary_type : {'transmission, 'vacuum', 'reflective', 'periodic'}\n",
      "        Boundary condition that defines the behavior for particles hitting the\n",
      "        surfaces comprising the hexagonal prism (default is 'transmission').\n",
      "    corner_radius: float\n",
      "        Prism corner radius in units of cm. Defaults to 0.\n",
      "    \n",
      "    Returns\n",
      "    -------\n",
      "    openmc.Region\n",
      "        The inside of a hexagonal prism\n",
      "\n"
     ]
    }
   ],
   "source": [
    "help(openmc.hexagonal_prism)"
   ]
  },
  {
   "cell_type": "code",
   "execution_count": 242,
   "id": "2908b692-38aa-49c8-8589-1ba31c88a070",
   "metadata": {},
   "outputs": [],
   "source": [
    "inner_duct = openmc.hexagonal_prism(orientation='x', edge_length= 3.281335614) # pitch=2.84172, Wrapper tube inner flat-to-flat/2 (cm) \n",
    "outer_duct = openmc.hexagonal_prism(orientation='x', edge_length= 3.420465482) # pitch=2.96221, Wrapper tube outer flat-to-flat/2 (cm) \n",
    "assembly_boundary = openmc.hexagonal_prism(orientation='x', edge_length= 3.536385869, boundary_type='reflective') # pitch=3.06260, S/A Pitch          flat-to-flat/2 (cm)\n",
    "\n",
    "lattice_cell = openmc.Cell(fill=hex_lat, region=inner_duct)\n",
    "\n",
    "assembly_universe = openmc.Universe()\n",
    "assembly_universe.add_cell(lattice_cell)"
   ]
  },
  {
   "cell_type": "code",
   "execution_count": 243,
   "id": "2abce50f-f799-4a22-b184-e27be0ee3b0d",
   "metadata": {},
   "outputs": [
    {
     "data": {
      "text/plain": [
       "<matplotlib.image.AxesImage at 0x16a0bba60>"
      ]
     },
     "execution_count": 243,
     "metadata": {},
     "output_type": "execute_result"
    },
    {
     "data": {
      "image/png": "[encoded data removed]",
      "text/plain": [
       "<Figure size 387.097x389.61 with 1 Axes>"
      ]
     },
     "metadata": {},
     "output_type": "display_data"
    }
   ],
   "source": [
    "assembly_universe.plot(width=(2*outer_radius, 2*outer_radius), pixels=(300, 300),\n",
    "                       color_by='material', colors=colors, legend=True)"
   ]
  },
  {
   "cell_type": "markdown",
   "id": "19783b9b-2474-44be-8a01-f521c0210f2f",
   "metadata": {},
   "source": [
    "Now we can create the external duct and outer cells"
   ]
  },
  {
   "cell_type": "code",
   "execution_count": 244,
   "id": "70e436b0-b102-4f6a-bf71-c8c9f9729340",
   "metadata": {},
   "outputs": [],
   "source": [
    "duct_cell = openmc.Cell(fill=steel, region=~inner_duct & outer_duct)\n",
    "assembly_universe.add_cell(duct_cell)"
   ]
  },
  {
   "cell_type": "code",
   "execution_count": 245,
   "id": "c1559258-4cac-4c94-8b3e-51839413aa40",
   "metadata": {},
   "outputs": [
    {
     "data": {
      "text/plain": [
       "<matplotlib.image.AxesImage at 0x16a13ba30>"
      ]
     },
     "execution_count": 245,
     "metadata": {},
     "output_type": "execute_result"
    },
    {
     "data": {
      "image/png": "[encoded data removed]",
      "text/plain": [
       "<Figure size 387.097x389.61 with 1 Axes>"
      ]
     },
     "metadata": {},
     "output_type": "display_data"
    }
   ],
   "source": [
    "assembly_universe.plot(width=(2*outer_radius, 2*outer_radius), pixels=(300, 300),\n",
    "                       color_by='material', colors=colors, legend=True)"
   ]
  },
  {
   "cell_type": "markdown",
   "id": "c4bdaeef-691a-4242-8a17-895b92a66fad",
   "metadata": {},
   "source": [
    "Finally, we need an outer cell representing the space between assembly ducts."
   ]
  },
  {
   "cell_type": "code",
   "execution_count": 246,
   "id": "db006dce-6636-4960-be85-87ebafcee3b2",
   "metadata": {},
   "outputs": [],
   "source": [
    "outer_cell = openmc.Cell(region=~outer_duct & assembly_boundary, fill=sodium)\n",
    "assembly_universe.add_cell(outer_cell)"
   ]
  },
  {
   "cell_type": "code",
   "execution_count": 247,
   "id": "9c986117-b926-4948-9a95-b419a07681d7",
   "metadata": {},
   "outputs": [
    {
     "data": {
      "text/plain": [
       "<matplotlib.image.AxesImage at 0x16a1b7400>"
      ]
     },
     "execution_count": 247,
     "metadata": {},
     "output_type": "execute_result"
    },
    {
     "data": {
      "image/png": "[encoded data removed]",
      "text/plain": [
       "<Figure size 1290.32x1298.7 with 1 Axes>"
      ]
     },
     "metadata": {},
     "output_type": "display_data"
    }
   ],
   "source": [
    "assembly_universe.plot(width=(2*outer_radius, 2*outer_radius), pixels=(1000, 1000),\n",
    "                       color_by='material', colors=colors, legend=True)"
   ]
  }
 ],
 "metadata": {
  "kernelspec": {
   "display_name": "Python 3 (ipykernel)",
   "language": "python",
   "name": "python3"
  },
  "language_info": {
   "codemirror_mode": {
    "name": "ipython",
    "version": 3
   },
   "file_extension": ".py",
   "mimetype": "text/x-python",
   "name": "python",
   "nbconvert_exporter": "python",
   "pygments_lexer": "ipython3",
   "version": "3.10.1"
  }
 },
 "nbformat": 4,
 "nbformat_minor": 5
}
